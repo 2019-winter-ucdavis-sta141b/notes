{
 "cells": [
  {
   "cell_type": "markdown",
   "metadata": {},
   "source": [
    "# STA 141B Lecture 7\n",
    "\n",
    "The class website is <https://github.com/2019-winter-ucdavis-sta141b/notes>\n",
    "\n",
    "### Announcements\n",
    "\n",
    "* Link for project repos was posted last week\n",
    "\n",
    "### Topics\n",
    "\n",
    "* Web APIs\n",
    "* The __requests__ package\n",
    "\n",
    "### Data Sets\n",
    "\n",
    "* [Star Wars API](https://swapi.co/documentation)\n",
    "* [iTunes Search API](https://affiliate.itunes.apple.com/resources/documentation/itunes-store-web-service-search-api/)\n",
    "\n",
    "\n",
    "### References\n",
    "\n",
    "* [__requests__ documentation](http://docs.python-requests.org/en/master/)\n",
    "* Python for Data Analysis, Ch. 6\n",
    "\n",
    "[PDSH]: https://jakevdp.github.io/PythonDataScienceHandbook/\n",
    "[ProGit]: https://git-scm.com/book/"
   ]
  },
  {
   "cell_type": "markdown",
   "metadata": {},
   "source": [
    "## Update Pandas to 0.24.0"
   ]
  },
  {
   "cell_type": "markdown",
   "metadata": {},
   "source": [
    "* Windows: in Anaconda Prompt, run `conda update pandas`\n",
    "* MacOS: in Terminal, run `conda update pandas`\n",
    "* Linux (or people without Anaconda): in shell, run `pip install --upgrade pandas`\n",
    "\n",
    "More info about what's new [here](http://pandas.pydata.org/pandas-docs/stable/whatsnew/v0.24.0.html)."
   ]
  },
  {
   "cell_type": "markdown",
   "metadata": {},
   "source": [
    "## Setting with Copy\n",
    "\n",
    "When you use Pandas, you might see a `SettingWithCopyError`."
   ]
  },
  {
   "cell_type": "code",
   "execution_count": 2,
   "metadata": {},
   "outputs": [
    {
     "data": {
      "text/html": [
       "<div>\n",
       "<style scoped>\n",
       "    .dataframe tbody tr th:only-of-type {\n",
       "        vertical-align: middle;\n",
       "    }\n",
       "\n",
       "    .dataframe tbody tr th {\n",
       "        vertical-align: top;\n",
       "    }\n",
       "\n",
       "    .dataframe thead th {\n",
       "        text-align: right;\n",
       "    }\n",
       "</style>\n",
       "<table border=\"1\" class=\"dataframe\">\n",
       "  <thead>\n",
       "    <tr style=\"text-align: right;\">\n",
       "      <th></th>\n",
       "      <th>x</th>\n",
       "      <th>y</th>\n",
       "    </tr>\n",
       "  </thead>\n",
       "  <tbody>\n",
       "    <tr>\n",
       "      <th>0</th>\n",
       "      <td>0</td>\n",
       "      <td>A</td>\n",
       "    </tr>\n",
       "    <tr>\n",
       "      <th>1</th>\n",
       "      <td>1</td>\n",
       "      <td>B</td>\n",
       "    </tr>\n",
       "    <tr>\n",
       "      <th>2</th>\n",
       "      <td>2</td>\n",
       "      <td>C</td>\n",
       "    </tr>\n",
       "  </tbody>\n",
       "</table>\n",
       "</div>"
      ],
      "text/plain": [
       "   x  y\n",
       "0  0  A\n",
       "1  1  B\n",
       "2  2  C"
      ]
     },
     "execution_count": 2,
     "metadata": {},
     "output_type": "execute_result"
    }
   ],
   "source": [
    "import pandas as pd\n",
    "\n",
    "df = pd.DataFrame({\"x\": [0, 1, 2], \"y\": [\"A\", \"B\", \"C\"]})\n",
    "df"
   ]
  },
  {
   "cell_type": "code",
   "execution_count": 4,
   "metadata": {},
   "outputs": [
    {
     "data": {
      "text/plain": [
       "0    0\n",
       "1    1\n",
       "2    2\n",
       "Name: x, dtype: int64"
      ]
     },
     "execution_count": 4,
     "metadata": {},
     "output_type": "execute_result"
    }
   ],
   "source": [
    "x = df[\"x\"]\n",
    "x"
   ]
  },
  {
   "cell_type": "code",
   "execution_count": 5,
   "metadata": {},
   "outputs": [
    {
     "name": "stderr",
     "output_type": "stream",
     "text": [
      "/usr/lib/python3.7/site-packages/ipykernel_launcher.py:1: SettingWithCopyWarning: \n",
      "A value is trying to be set on a copy of a slice from a DataFrame\n",
      "\n",
      "See the caveats in the documentation: http://pandas.pydata.org/pandas-docs/stable/indexing.html#indexing-view-versus-copy\n",
      "  \"\"\"Entry point for launching an IPython kernel.\n"
     ]
    }
   ],
   "source": [
    "x[0] = 1"
   ]
  },
  {
   "cell_type": "markdown",
   "metadata": {},
   "source": [
    "The error means that you've indexed a data frame in a way that might make a copy, and then assigned something to that copy. Pandas sometimes makes copies and sometimes makes references -- there is no guarantee!\n",
    "\n",
    "Two different ways to make sure your code does what you want:\n",
    "* Assign the modified copy back into the original data. This doesn't get rid of the warning, but ensures your code does what you meant.\n",
    "* Assign directly into the original, by using `.loc` or `.iloc`. This does get rid of the warning."
   ]
  },
  {
   "cell_type": "code",
   "execution_count": 6,
   "metadata": {},
   "outputs": [
    {
     "data": {
      "text/html": [
       "<div>\n",
       "<style scoped>\n",
       "    .dataframe tbody tr th:only-of-type {\n",
       "        vertical-align: middle;\n",
       "    }\n",
       "\n",
       "    .dataframe tbody tr th {\n",
       "        vertical-align: top;\n",
       "    }\n",
       "\n",
       "    .dataframe thead th {\n",
       "        text-align: right;\n",
       "    }\n",
       "</style>\n",
       "<table border=\"1\" class=\"dataframe\">\n",
       "  <thead>\n",
       "    <tr style=\"text-align: right;\">\n",
       "      <th></th>\n",
       "      <th>x</th>\n",
       "      <th>y</th>\n",
       "    </tr>\n",
       "  </thead>\n",
       "  <tbody>\n",
       "    <tr>\n",
       "      <th>0</th>\n",
       "      <td>1</td>\n",
       "      <td>A</td>\n",
       "    </tr>\n",
       "    <tr>\n",
       "      <th>1</th>\n",
       "      <td>1</td>\n",
       "      <td>B</td>\n",
       "    </tr>\n",
       "    <tr>\n",
       "      <th>2</th>\n",
       "      <td>2</td>\n",
       "      <td>C</td>\n",
       "    </tr>\n",
       "  </tbody>\n",
       "</table>\n",
       "</div>"
      ],
      "text/plain": [
       "   x  y\n",
       "0  1  A\n",
       "1  1  B\n",
       "2  2  C"
      ]
     },
     "execution_count": 6,
     "metadata": {},
     "output_type": "execute_result"
    }
   ],
   "source": [
    "# Assign modified copy\n",
    "df[\"x\"] = x"
   ]
  },
  {
   "cell_type": "code",
   "execution_count": null,
   "metadata": {},
   "outputs": [],
   "source": [
    "# Assign with .loc[] instead\n",
    "df.loc[0, \"x\"] = 1 # No warning!"
   ]
  },
  {
   "cell_type": "markdown",
   "metadata": {},
   "source": [
    "## Example Questions\n",
    "\n",
    "1. Which Star Wars movie has the most planets in it? What are the names of the planets in each movie?\n",
    "2. Can we estimate how many remixes there are of PSY's Gangnam Style?"
   ]
  },
  {
   "cell_type": "markdown",
   "metadata": {},
   "source": [
    "## Getting Data from the Web\n",
    "\n",
    "Three ways you can get data from the web, from most to least convenient:\n",
    "\n",
    "1. Direct download or \"data dump\"\n",
    "2. API\n",
    "3. Scraping\n",
    "\n",
    "Always look for a direct download first!"
   ]
  },
  {
   "cell_type": "markdown",
   "metadata": {},
   "source": [
    "## Web APIs\n",
    "\n",
    "An _application programming interface_ (API) is a collection of functions and data structures for communicating with other software. For instance, whenever you use a Python package, you're using the API created by the package's developers.\n",
    "\n",
    "Websites sometimes provide an API so that programmers can access content without web scraping.\n",
    "\n",
    "So how can we call a function in a web API?"
   ]
  },
  {
   "cell_type": "markdown",
   "metadata": {},
   "source": [
    "### Hypertext Transfer Protocol\n",
    "\n",
    "The hypertext transfer protocol (HTTP) is a set of rules for communicating over the internet.\n",
    "\n",
    "For example, your web browser uses HTTP every time you visit a web page. The browser makes a _request_ to the server for the page, and if nothing goes wrong, the server _responds_ with the page. If you have Firefox or Chrome, you can inspect these requests with your browser's web developer tools (`Ctrl-I`).\n",
    "\n",
    "Several [different kinds of HTTP requests](https://en.wikipedia.org/wiki/Hypertext_Transfer_Protocol#Request_methods) are possible. Think of these as the different \"verbs\" you can use when communicating in HTTP.\n",
    "\n",
    "Many protocols exist for communicating over the internet. For instance, you may have heard of _file transfer protocol_ (FTP) for transferring files, or _simple mail transfer protocol_ (SMTP) for sending/receiving email. However, web APIs almost always use HTTP."
   ]
  },
  {
   "cell_type": "markdown",
   "metadata": {},
   "source": [
    "### Representational State Transfer\n",
    "\n",
    "The most popular kind of web API is a _representational state transfer_ (REST) API. In a REST API:\n",
    "   \n",
    "* Each function has a different URL, sometimes called an _endpoint_.\n",
    "* The server handles separate function calls independently of each other.\n",
    "\n",
    "We can use the [Star Wars API](https://swapi.co/) to answer our first example question. One of the endpoints in the Star Wars API is `https://swapi.co/api/`. This endpoint returns a list of all other endpoints in the API.\n",
    "\n",
    "When you first use a web API, check the documentation to find out what the endpoints are and what kind of HTTP requests to use. If the documentation doesn't mention what kind of HTTP request to use, then GET is usually the right choice."
   ]
  },
  {
   "cell_type": "markdown",
   "metadata": {},
   "source": [
    "### Making Requests\n",
    "\n",
    "Python's __requests__ package provides functions for making HTTP requests and is [well-documented](http://docs.python-requests.org/en/master/).\n",
    "\n",
    "Let's use the endpoint we learned from the Star Wars API."
   ]
  },
  {
   "cell_type": "code",
   "execution_count": 7,
   "metadata": {},
   "outputs": [],
   "source": [
    "import requests"
   ]
  },
  {
   "cell_type": "code",
   "execution_count": 24,
   "metadata": {},
   "outputs": [
    {
     "data": {
      "text/plain": [
       "<Response [200]>"
      ]
     },
     "execution_count": 24,
     "metadata": {},
     "output_type": "execute_result"
    }
   ],
   "source": [
    "response = requests.get(\"https://swapi.co/api/\")\n",
    "response"
   ]
  },
  {
   "cell_type": "markdown",
   "metadata": {},
   "source": [
    "A response to an HTTP request always includes a status code that summarizes whether the request was successful. Wikipedia has a full [list of HTTP status codes](https://en.wikipedia.org/wiki/List_of_HTTP_status_codes). Generally,\n",
    "\n",
    "* 200-299: Your request succeeded.\n",
    "* 300-399: You need to take further action to complete the request.\n",
    "* 400-499: Your request wasn't valid (you made a mistake). You've probably seen 404 before!\n",
    "* 500-599: Your request failed (the server made a mistake).\n",
    "\n",
    "You can have __requests__ check the status for you with the `.raise_for_status()` method:"
   ]
  },
  {
   "cell_type": "code",
   "execution_count": 14,
   "metadata": {},
   "outputs": [],
   "source": [
    "response.raise_for_status()"
   ]
  },
  {
   "cell_type": "markdown",
   "metadata": {},
   "source": [
    "Once you have the response, now what? Where's the data?\n",
    "\n",
    "Different web APIs use different formats. Again, see the documentation. Two common formats are:\n",
    "\n",
    "* _JavaScript Object Notation_ (JSON): JSON looks and works a lot like Python lists and dictionaries. Lists are surrounded with `[ ]`, and dictionaries are surrounded with `{ }`. There are many Python libraries for reading JSON into lists and dictionaries. Jupyter notebooks are an example of a file in JSON format.\n",
    "\n",
    "* _eXtensible Markup Language_ (XML): XML uses \"tags\" denoted by `< >` to mark up sections of text. We'll learn more about XML when we learn about web scraping, since XML is very similar to hypertext markup language (HTML), the language used to build web pages.\n",
    "\n",
    "The Star Wars API returns data in JSON format.\n",
    "\n",
    "We can inspect the raw content (bytes) of a response with the `.content` attribute. If we know the response is in a text format, we can use `.text` to see the content as an ordinary Python string."
   ]
  },
  {
   "cell_type": "code",
   "execution_count": 16,
   "metadata": {},
   "outputs": [
    {
     "data": {
      "text/plain": [
       "'{\"people\":\"https://swapi.co/api/people/\",\"planets\":\"https://swapi.co/api/planets/\",\"films\":\"https://swapi.co/api/films/\",\"species\":\"https://swapi.co/api/species/\",\"vehicles\":\"https://swapi.co/api/vehicles/\",\"starships\":\"https://swapi.co/api/starships/\"}'"
      ]
     },
     "execution_count": 16,
     "metadata": {},
     "output_type": "execute_result"
    }
   ],
   "source": [
    "response.text"
   ]
  },
  {
   "cell_type": "markdown",
   "metadata": {},
   "source": [
    "Since the response we got is in JSON format, we'd like to convert the string to lists and dictionaries. The __requests__ package provides a method `.json()` to do this."
   ]
  },
  {
   "cell_type": "code",
   "execution_count": 19,
   "metadata": {},
   "outputs": [
    {
     "data": {
      "text/plain": [
       "{'people': 'https://swapi.co/api/people/',\n",
       " 'planets': 'https://swapi.co/api/planets/',\n",
       " 'films': 'https://swapi.co/api/films/',\n",
       " 'species': 'https://swapi.co/api/species/',\n",
       " 'vehicles': 'https://swapi.co/api/vehicles/',\n",
       " 'starships': 'https://swapi.co/api/starships/'}"
      ]
     },
     "execution_count": 19,
     "metadata": {},
     "output_type": "execute_result"
    }
   ],
   "source": [
    "result = response.json()\n",
    "result"
   ]
  },
  {
   "cell_type": "code",
   "execution_count": 20,
   "metadata": {},
   "outputs": [
    {
     "data": {
      "text/plain": [
       "'https://swapi.co/api/films/'"
      ]
     },
     "execution_count": 20,
     "metadata": {},
     "output_type": "execute_result"
    }
   ],
   "source": [
    "result[\"films\"]"
   ]
  },
  {
   "cell_type": "markdown",
   "metadata": {},
   "source": [
    "### Being Polite\n",
    "\n",
    "Making an HTTP request is not free! It has a real cost in CPU time and also cash. Server administrators will not appreciate it if you make too many requests or make requests too quickly. So:\n",
    "\n",
    "* Use `time.sleep()` to slow down any requests you make in a loop. Aim for no more than 20-30 requests per second.\n",
    "* Install and use the __requests_cache__ package to avoid downloading extra data when you make the same request twice.\n",
    "\n",
    "Failing to be polite can get you banned from websites!"
   ]
  },
  {
   "cell_type": "code",
   "execution_count": 23,
   "metadata": {},
   "outputs": [],
   "source": [
    "import requests_cache # conda install -c conda-forge requests-cache\n",
    "\n",
    "requests_cache.install_cache(\"my_cache\")"
   ]
  },
  {
   "cell_type": "markdown",
   "metadata": {},
   "source": [
    "### Answering Example Question 1"
   ]
  },
  {
   "cell_type": "code",
   "execution_count": 85,
   "metadata": {
    "scrolled": true
   },
   "outputs": [
    {
     "data": {
      "text/plain": [
       "{'count': 7,\n",
       " 'next': None,\n",
       " 'previous': None,\n",
       " 'results': [{'title': 'A New Hope',\n",
       "   'episode_id': 4,\n",
       "   'opening_crawl': \"It is a period of civil war.\\r\\nRebel spaceships, striking\\r\\nfrom a hidden base, have won\\r\\ntheir first victory against\\r\\nthe evil Galactic Empire.\\r\\n\\r\\nDuring the battle, Rebel\\r\\nspies managed to steal secret\\r\\nplans to the Empire's\\r\\nultimate weapon, the DEATH\\r\\nSTAR, an armored space\\r\\nstation with enough power\\r\\nto destroy an entire planet.\\r\\n\\r\\nPursued by the Empire's\\r\\nsinister agents, Princess\\r\\nLeia races home aboard her\\r\\nstarship, custodian of the\\r\\nstolen plans that can save her\\r\\npeople and restore\\r\\nfreedom to the galaxy....\",\n",
       "   'director': 'George Lucas',\n",
       "   'producer': 'Gary Kurtz, Rick McCallum',\n",
       "   'release_date': '1977-05-25',\n",
       "   'characters': ['https://swapi.co/api/people/1/',\n",
       "    'https://swapi.co/api/people/2/',\n",
       "    'https://swapi.co/api/people/3/',\n",
       "    'https://swapi.co/api/people/4/',\n",
       "    'https://swapi.co/api/people/5/',\n",
       "    'https://swapi.co/api/people/6/',\n",
       "    'https://swapi.co/api/people/7/',\n",
       "    'https://swapi.co/api/people/8/',\n",
       "    'https://swapi.co/api/people/9/',\n",
       "    'https://swapi.co/api/people/10/',\n",
       "    'https://swapi.co/api/people/12/',\n",
       "    'https://swapi.co/api/people/13/',\n",
       "    'https://swapi.co/api/people/14/',\n",
       "    'https://swapi.co/api/people/15/',\n",
       "    'https://swapi.co/api/people/16/',\n",
       "    'https://swapi.co/api/people/18/',\n",
       "    'https://swapi.co/api/people/19/',\n",
       "    'https://swapi.co/api/people/81/'],\n",
       "   'planets': ['https://swapi.co/api/planets/2/',\n",
       "    'https://swapi.co/api/planets/3/',\n",
       "    'https://swapi.co/api/planets/1/'],\n",
       "   'starships': ['https://swapi.co/api/starships/2/',\n",
       "    'https://swapi.co/api/starships/3/',\n",
       "    'https://swapi.co/api/starships/5/',\n",
       "    'https://swapi.co/api/starships/9/',\n",
       "    'https://swapi.co/api/starships/10/',\n",
       "    'https://swapi.co/api/starships/11/',\n",
       "    'https://swapi.co/api/starships/12/',\n",
       "    'https://swapi.co/api/starships/13/'],\n",
       "   'vehicles': ['https://swapi.co/api/vehicles/4/',\n",
       "    'https://swapi.co/api/vehicles/6/',\n",
       "    'https://swapi.co/api/vehicles/7/',\n",
       "    'https://swapi.co/api/vehicles/8/'],\n",
       "   'species': ['https://swapi.co/api/species/5/',\n",
       "    'https://swapi.co/api/species/3/',\n",
       "    'https://swapi.co/api/species/2/',\n",
       "    'https://swapi.co/api/species/1/',\n",
       "    'https://swapi.co/api/species/4/'],\n",
       "   'created': '2014-12-10T14:23:31.880000Z',\n",
       "   'edited': '2015-04-11T09:46:52.774897Z',\n",
       "   'url': 'https://swapi.co/api/films/1/'},\n",
       "  {'title': 'Attack of the Clones',\n",
       "   'episode_id': 2,\n",
       "   'opening_crawl': 'There is unrest in the Galactic\\r\\nSenate. Several thousand solar\\r\\nsystems have declared their\\r\\nintentions to leave the Republic.\\r\\n\\r\\nThis separatist movement,\\r\\nunder the leadership of the\\r\\nmysterious Count Dooku, has\\r\\nmade it difficult for the limited\\r\\nnumber of Jedi Knights to maintain \\r\\npeace and order in the galaxy.\\r\\n\\r\\nSenator Amidala, the former\\r\\nQueen of Naboo, is returning\\r\\nto the Galactic Senate to vote\\r\\non the critical issue of creating\\r\\nan ARMY OF THE REPUBLIC\\r\\nto assist the overwhelmed\\r\\nJedi....',\n",
       "   'director': 'George Lucas',\n",
       "   'producer': 'Rick McCallum',\n",
       "   'release_date': '2002-05-16',\n",
       "   'characters': ['https://swapi.co/api/people/2/',\n",
       "    'https://swapi.co/api/people/3/',\n",
       "    'https://swapi.co/api/people/6/',\n",
       "    'https://swapi.co/api/people/7/',\n",
       "    'https://swapi.co/api/people/10/',\n",
       "    'https://swapi.co/api/people/11/',\n",
       "    'https://swapi.co/api/people/20/',\n",
       "    'https://swapi.co/api/people/21/',\n",
       "    'https://swapi.co/api/people/22/',\n",
       "    'https://swapi.co/api/people/33/',\n",
       "    'https://swapi.co/api/people/36/',\n",
       "    'https://swapi.co/api/people/40/',\n",
       "    'https://swapi.co/api/people/43/',\n",
       "    'https://swapi.co/api/people/46/',\n",
       "    'https://swapi.co/api/people/51/',\n",
       "    'https://swapi.co/api/people/52/',\n",
       "    'https://swapi.co/api/people/53/',\n",
       "    'https://swapi.co/api/people/58/',\n",
       "    'https://swapi.co/api/people/59/',\n",
       "    'https://swapi.co/api/people/60/',\n",
       "    'https://swapi.co/api/people/61/',\n",
       "    'https://swapi.co/api/people/62/',\n",
       "    'https://swapi.co/api/people/63/',\n",
       "    'https://swapi.co/api/people/64/',\n",
       "    'https://swapi.co/api/people/65/',\n",
       "    'https://swapi.co/api/people/66/',\n",
       "    'https://swapi.co/api/people/67/',\n",
       "    'https://swapi.co/api/people/68/',\n",
       "    'https://swapi.co/api/people/69/',\n",
       "    'https://swapi.co/api/people/70/',\n",
       "    'https://swapi.co/api/people/71/',\n",
       "    'https://swapi.co/api/people/72/',\n",
       "    'https://swapi.co/api/people/73/',\n",
       "    'https://swapi.co/api/people/74/',\n",
       "    'https://swapi.co/api/people/75/',\n",
       "    'https://swapi.co/api/people/76/',\n",
       "    'https://swapi.co/api/people/77/',\n",
       "    'https://swapi.co/api/people/78/',\n",
       "    'https://swapi.co/api/people/82/',\n",
       "    'https://swapi.co/api/people/35/'],\n",
       "   'planets': ['https://swapi.co/api/planets/8/',\n",
       "    'https://swapi.co/api/planets/9/',\n",
       "    'https://swapi.co/api/planets/10/',\n",
       "    'https://swapi.co/api/planets/11/',\n",
       "    'https://swapi.co/api/planets/1/'],\n",
       "   'starships': ['https://swapi.co/api/starships/21/',\n",
       "    'https://swapi.co/api/starships/39/',\n",
       "    'https://swapi.co/api/starships/43/',\n",
       "    'https://swapi.co/api/starships/47/',\n",
       "    'https://swapi.co/api/starships/48/',\n",
       "    'https://swapi.co/api/starships/49/',\n",
       "    'https://swapi.co/api/starships/32/',\n",
       "    'https://swapi.co/api/starships/52/',\n",
       "    'https://swapi.co/api/starships/58/'],\n",
       "   'vehicles': ['https://swapi.co/api/vehicles/4/',\n",
       "    'https://swapi.co/api/vehicles/44/',\n",
       "    'https://swapi.co/api/vehicles/45/',\n",
       "    'https://swapi.co/api/vehicles/46/',\n",
       "    'https://swapi.co/api/vehicles/50/',\n",
       "    'https://swapi.co/api/vehicles/51/',\n",
       "    'https://swapi.co/api/vehicles/53/',\n",
       "    'https://swapi.co/api/vehicles/54/',\n",
       "    'https://swapi.co/api/vehicles/55/',\n",
       "    'https://swapi.co/api/vehicles/56/',\n",
       "    'https://swapi.co/api/vehicles/57/'],\n",
       "   'species': ['https://swapi.co/api/species/32/',\n",
       "    'https://swapi.co/api/species/33/',\n",
       "    'https://swapi.co/api/species/2/',\n",
       "    'https://swapi.co/api/species/35/',\n",
       "    'https://swapi.co/api/species/6/',\n",
       "    'https://swapi.co/api/species/1/',\n",
       "    'https://swapi.co/api/species/12/',\n",
       "    'https://swapi.co/api/species/34/',\n",
       "    'https://swapi.co/api/species/13/',\n",
       "    'https://swapi.co/api/species/15/',\n",
       "    'https://swapi.co/api/species/28/',\n",
       "    'https://swapi.co/api/species/29/',\n",
       "    'https://swapi.co/api/species/30/',\n",
       "    'https://swapi.co/api/species/31/'],\n",
       "   'created': '2014-12-20T10:57:57.886000Z',\n",
       "   'edited': '2015-04-11T09:45:01.623982Z',\n",
       "   'url': 'https://swapi.co/api/films/5/'},\n",
       "  {'title': 'The Phantom Menace',\n",
       "   'episode_id': 1,\n",
       "   'opening_crawl': 'Turmoil has engulfed the\\r\\nGalactic Republic. The taxation\\r\\nof trade routes to outlying star\\r\\nsystems is in dispute.\\r\\n\\r\\nHoping to resolve the matter\\r\\nwith a blockade of deadly\\r\\nbattleships, the greedy Trade\\r\\nFederation has stopped all\\r\\nshipping to the small planet\\r\\nof Naboo.\\r\\n\\r\\nWhile the Congress of the\\r\\nRepublic endlessly debates\\r\\nthis alarming chain of events,\\r\\nthe Supreme Chancellor has\\r\\nsecretly dispatched two Jedi\\r\\nKnights, the guardians of\\r\\npeace and justice in the\\r\\ngalaxy, to settle the conflict....',\n",
       "   'director': 'George Lucas',\n",
       "   'producer': 'Rick McCallum',\n",
       "   'release_date': '1999-05-19',\n",
       "   'characters': ['https://swapi.co/api/people/2/',\n",
       "    'https://swapi.co/api/people/3/',\n",
       "    'https://swapi.co/api/people/10/',\n",
       "    'https://swapi.co/api/people/11/',\n",
       "    'https://swapi.co/api/people/16/',\n",
       "    'https://swapi.co/api/people/20/',\n",
       "    'https://swapi.co/api/people/21/',\n",
       "    'https://swapi.co/api/people/32/',\n",
       "    'https://swapi.co/api/people/33/',\n",
       "    'https://swapi.co/api/people/34/',\n",
       "    'https://swapi.co/api/people/36/',\n",
       "    'https://swapi.co/api/people/37/',\n",
       "    'https://swapi.co/api/people/38/',\n",
       "    'https://swapi.co/api/people/39/',\n",
       "    'https://swapi.co/api/people/40/',\n",
       "    'https://swapi.co/api/people/41/',\n",
       "    'https://swapi.co/api/people/42/',\n",
       "    'https://swapi.co/api/people/43/',\n",
       "    'https://swapi.co/api/people/44/',\n",
       "    'https://swapi.co/api/people/46/',\n",
       "    'https://swapi.co/api/people/48/',\n",
       "    'https://swapi.co/api/people/49/',\n",
       "    'https://swapi.co/api/people/50/',\n",
       "    'https://swapi.co/api/people/51/',\n",
       "    'https://swapi.co/api/people/52/',\n",
       "    'https://swapi.co/api/people/53/',\n",
       "    'https://swapi.co/api/people/54/',\n",
       "    'https://swapi.co/api/people/55/',\n",
       "    'https://swapi.co/api/people/56/',\n",
       "    'https://swapi.co/api/people/57/',\n",
       "    'https://swapi.co/api/people/58/',\n",
       "    'https://swapi.co/api/people/59/',\n",
       "    'https://swapi.co/api/people/47/',\n",
       "    'https://swapi.co/api/people/35/'],\n",
       "   'planets': ['https://swapi.co/api/planets/8/',\n",
       "    'https://swapi.co/api/planets/9/',\n",
       "    'https://swapi.co/api/planets/1/'],\n",
       "   'starships': ['https://swapi.co/api/starships/40/',\n",
       "    'https://swapi.co/api/starships/41/',\n",
       "    'https://swapi.co/api/starships/31/',\n",
       "    'https://swapi.co/api/starships/32/',\n",
       "    'https://swapi.co/api/starships/39/'],\n",
       "   'vehicles': ['https://swapi.co/api/vehicles/33/',\n",
       "    'https://swapi.co/api/vehicles/34/',\n",
       "    'https://swapi.co/api/vehicles/35/',\n",
       "    'https://swapi.co/api/vehicles/36/',\n",
       "    'https://swapi.co/api/vehicles/37/',\n",
       "    'https://swapi.co/api/vehicles/38/',\n",
       "    'https://swapi.co/api/vehicles/42/'],\n",
       "   'species': ['https://swapi.co/api/species/1/',\n",
       "    'https://swapi.co/api/species/2/',\n",
       "    'https://swapi.co/api/species/6/',\n",
       "    'https://swapi.co/api/species/11/',\n",
       "    'https://swapi.co/api/species/12/',\n",
       "    'https://swapi.co/api/species/13/',\n",
       "    'https://swapi.co/api/species/14/',\n",
       "    'https://swapi.co/api/species/15/',\n",
       "    'https://swapi.co/api/species/16/',\n",
       "    'https://swapi.co/api/species/17/',\n",
       "    'https://swapi.co/api/species/18/',\n",
       "    'https://swapi.co/api/species/19/',\n",
       "    'https://swapi.co/api/species/20/',\n",
       "    'https://swapi.co/api/species/21/',\n",
       "    'https://swapi.co/api/species/22/',\n",
       "    'https://swapi.co/api/species/23/',\n",
       "    'https://swapi.co/api/species/24/',\n",
       "    'https://swapi.co/api/species/25/',\n",
       "    'https://swapi.co/api/species/26/',\n",
       "    'https://swapi.co/api/species/27/'],\n",
       "   'created': '2014-12-19T16:52:55.740000Z',\n",
       "   'edited': '2015-04-11T09:45:18.689301Z',\n",
       "   'url': 'https://swapi.co/api/films/4/'},\n",
       "  {'title': 'Revenge of the Sith',\n",
       "   'episode_id': 3,\n",
       "   'opening_crawl': 'War! The Republic is crumbling\\r\\nunder attacks by the ruthless\\r\\nSith Lord, Count Dooku.\\r\\nThere are heroes on both sides.\\r\\nEvil is everywhere.\\r\\n\\r\\nIn a stunning move, the\\r\\nfiendish droid leader, General\\r\\nGrievous, has swept into the\\r\\nRepublic capital and kidnapped\\r\\nChancellor Palpatine, leader of\\r\\nthe Galactic Senate.\\r\\n\\r\\nAs the Separatist Droid Army\\r\\nattempts to flee the besieged\\r\\ncapital with their valuable\\r\\nhostage, two Jedi Knights lead a\\r\\ndesperate mission to rescue the\\r\\ncaptive Chancellor....',\n",
       "   'director': 'George Lucas',\n",
       "   'producer': 'Rick McCallum',\n",
       "   'release_date': '2005-05-19',\n",
       "   'characters': ['https://swapi.co/api/people/1/',\n",
       "    'https://swapi.co/api/people/2/',\n",
       "    'https://swapi.co/api/people/3/',\n",
       "    'https://swapi.co/api/people/4/',\n",
       "    'https://swapi.co/api/people/5/',\n",
       "    'https://swapi.co/api/people/6/',\n",
       "    'https://swapi.co/api/people/7/',\n",
       "    'https://swapi.co/api/people/10/',\n",
       "    'https://swapi.co/api/people/11/',\n",
       "    'https://swapi.co/api/people/12/',\n",
       "    'https://swapi.co/api/people/13/',\n",
       "    'https://swapi.co/api/people/20/',\n",
       "    'https://swapi.co/api/people/21/',\n",
       "    'https://swapi.co/api/people/33/',\n",
       "    'https://swapi.co/api/people/46/',\n",
       "    'https://swapi.co/api/people/51/',\n",
       "    'https://swapi.co/api/people/52/',\n",
       "    'https://swapi.co/api/people/53/',\n",
       "    'https://swapi.co/api/people/54/',\n",
       "    'https://swapi.co/api/people/55/',\n",
       "    'https://swapi.co/api/people/56/',\n",
       "    'https://swapi.co/api/people/58/',\n",
       "    'https://swapi.co/api/people/63/',\n",
       "    'https://swapi.co/api/people/64/',\n",
       "    'https://swapi.co/api/people/67/',\n",
       "    'https://swapi.co/api/people/68/',\n",
       "    'https://swapi.co/api/people/75/',\n",
       "    'https://swapi.co/api/people/78/',\n",
       "    'https://swapi.co/api/people/79/',\n",
       "    'https://swapi.co/api/people/80/',\n",
       "    'https://swapi.co/api/people/81/',\n",
       "    'https://swapi.co/api/people/82/',\n",
       "    'https://swapi.co/api/people/83/',\n",
       "    'https://swapi.co/api/people/35/'],\n",
       "   'planets': ['https://swapi.co/api/planets/2/',\n",
       "    'https://swapi.co/api/planets/5/',\n",
       "    'https://swapi.co/api/planets/8/',\n",
       "    'https://swapi.co/api/planets/9/',\n",
       "    'https://swapi.co/api/planets/12/',\n",
       "    'https://swapi.co/api/planets/13/',\n",
       "    'https://swapi.co/api/planets/14/',\n",
       "    'https://swapi.co/api/planets/15/',\n",
       "    'https://swapi.co/api/planets/16/',\n",
       "    'https://swapi.co/api/planets/17/',\n",
       "    'https://swapi.co/api/planets/18/',\n",
       "    'https://swapi.co/api/planets/19/',\n",
       "    'https://swapi.co/api/planets/1/'],\n",
       "   'starships': ['https://swapi.co/api/starships/48/',\n",
       "    'https://swapi.co/api/starships/59/',\n",
       "    'https://swapi.co/api/starships/61/',\n",
       "    'https://swapi.co/api/starships/32/',\n",
       "    'https://swapi.co/api/starships/63/',\n",
       "    'https://swapi.co/api/starships/64/',\n",
       "    'https://swapi.co/api/starships/65/',\n",
       "    'https://swapi.co/api/starships/66/',\n",
       "    'https://swapi.co/api/starships/74/',\n",
       "    'https://swapi.co/api/starships/75/',\n",
       "    'https://swapi.co/api/starships/2/',\n",
       "    'https://swapi.co/api/starships/68/'],\n",
       "   'vehicles': ['https://swapi.co/api/vehicles/33/',\n",
       "    'https://swapi.co/api/vehicles/50/',\n",
       "    'https://swapi.co/api/vehicles/53/',\n",
       "    'https://swapi.co/api/vehicles/56/',\n",
       "    'https://swapi.co/api/vehicles/60/',\n",
       "    'https://swapi.co/api/vehicles/62/',\n",
       "    'https://swapi.co/api/vehicles/67/',\n",
       "    'https://swapi.co/api/vehicles/69/',\n",
       "    'https://swapi.co/api/vehicles/70/',\n",
       "    'https://swapi.co/api/vehicles/71/',\n",
       "    'https://swapi.co/api/vehicles/72/',\n",
       "    'https://swapi.co/api/vehicles/73/',\n",
       "    'https://swapi.co/api/vehicles/76/'],\n",
       "   'species': ['https://swapi.co/api/species/19/',\n",
       "    'https://swapi.co/api/species/33/',\n",
       "    'https://swapi.co/api/species/2/',\n",
       "    'https://swapi.co/api/species/3/',\n",
       "    'https://swapi.co/api/species/36/',\n",
       "    'https://swapi.co/api/species/37/',\n",
       "    'https://swapi.co/api/species/6/',\n",
       "    'https://swapi.co/api/species/1/',\n",
       "    'https://swapi.co/api/species/34/',\n",
       "    'https://swapi.co/api/species/15/',\n",
       "    'https://swapi.co/api/species/35/',\n",
       "    'https://swapi.co/api/species/20/',\n",
       "    'https://swapi.co/api/species/23/',\n",
       "    'https://swapi.co/api/species/24/',\n",
       "    'https://swapi.co/api/species/25/',\n",
       "    'https://swapi.co/api/species/26/',\n",
       "    'https://swapi.co/api/species/27/',\n",
       "    'https://swapi.co/api/species/28/',\n",
       "    'https://swapi.co/api/species/29/',\n",
       "    'https://swapi.co/api/species/30/'],\n",
       "   'created': '2014-12-20T18:49:38.403000Z',\n",
       "   'edited': '2015-04-11T09:45:44.862122Z',\n",
       "   'url': 'https://swapi.co/api/films/6/'},\n",
       "  {'title': 'Return of the Jedi',\n",
       "   'episode_id': 6,\n",
       "   'opening_crawl': 'Luke Skywalker has returned to\\r\\nhis home planet of Tatooine in\\r\\nan attempt to rescue his\\r\\nfriend Han Solo from the\\r\\nclutches of the vile gangster\\r\\nJabba the Hutt.\\r\\n\\r\\nLittle does Luke know that the\\r\\nGALACTIC EMPIRE has secretly\\r\\nbegun construction on a new\\r\\narmored space station even\\r\\nmore powerful than the first\\r\\ndreaded Death Star.\\r\\n\\r\\nWhen completed, this ultimate\\r\\nweapon will spell certain doom\\r\\nfor the small band of rebels\\r\\nstruggling to restore freedom\\r\\nto the galaxy...',\n",
       "   'director': 'Richard Marquand',\n",
       "   'producer': 'Howard G. Kazanjian, George Lucas, Rick McCallum',\n",
       "   'release_date': '1983-05-25',\n",
       "   'characters': ['https://swapi.co/api/people/1/',\n",
       "    'https://swapi.co/api/people/2/',\n",
       "    'https://swapi.co/api/people/3/',\n",
       "    'https://swapi.co/api/people/4/',\n",
       "    'https://swapi.co/api/people/5/',\n",
       "    'https://swapi.co/api/people/10/',\n",
       "    'https://swapi.co/api/people/13/',\n",
       "    'https://swapi.co/api/people/14/',\n",
       "    'https://swapi.co/api/people/16/',\n",
       "    'https://swapi.co/api/people/18/',\n",
       "    'https://swapi.co/api/people/20/',\n",
       "    'https://swapi.co/api/people/21/',\n",
       "    'https://swapi.co/api/people/22/',\n",
       "    'https://swapi.co/api/people/25/',\n",
       "    'https://swapi.co/api/people/27/',\n",
       "    'https://swapi.co/api/people/28/',\n",
       "    'https://swapi.co/api/people/29/',\n",
       "    'https://swapi.co/api/people/30/',\n",
       "    'https://swapi.co/api/people/31/',\n",
       "    'https://swapi.co/api/people/45/'],\n",
       "   'planets': ['https://swapi.co/api/planets/5/',\n",
       "    'https://swapi.co/api/planets/7/',\n",
       "    'https://swapi.co/api/planets/8/',\n",
       "    'https://swapi.co/api/planets/9/',\n",
       "    'https://swapi.co/api/planets/1/'],\n",
       "   'starships': ['https://swapi.co/api/starships/15/',\n",
       "    'https://swapi.co/api/starships/10/',\n",
       "    'https://swapi.co/api/starships/11/',\n",
       "    'https://swapi.co/api/starships/12/',\n",
       "    'https://swapi.co/api/starships/22/',\n",
       "    'https://swapi.co/api/starships/23/',\n",
       "    'https://swapi.co/api/starships/27/',\n",
       "    'https://swapi.co/api/starships/28/',\n",
       "    'https://swapi.co/api/starships/29/',\n",
       "    'https://swapi.co/api/starships/3/',\n",
       "    'https://swapi.co/api/starships/17/',\n",
       "    'https://swapi.co/api/starships/2/'],\n",
       "   'vehicles': ['https://swapi.co/api/vehicles/8/',\n",
       "    'https://swapi.co/api/vehicles/16/',\n",
       "    'https://swapi.co/api/vehicles/18/',\n",
       "    'https://swapi.co/api/vehicles/19/',\n",
       "    'https://swapi.co/api/vehicles/24/',\n",
       "    'https://swapi.co/api/vehicles/25/',\n",
       "    'https://swapi.co/api/vehicles/26/',\n",
       "    'https://swapi.co/api/vehicles/30/'],\n",
       "   'species': ['https://swapi.co/api/species/1/',\n",
       "    'https://swapi.co/api/species/2/',\n",
       "    'https://swapi.co/api/species/3/',\n",
       "    'https://swapi.co/api/species/5/',\n",
       "    'https://swapi.co/api/species/6/',\n",
       "    'https://swapi.co/api/species/8/',\n",
       "    'https://swapi.co/api/species/9/',\n",
       "    'https://swapi.co/api/species/10/',\n",
       "    'https://swapi.co/api/species/15/'],\n",
       "   'created': '2014-12-18T10:39:33.255000Z',\n",
       "   'edited': '2015-04-11T09:46:05.220365Z',\n",
       "   'url': 'https://swapi.co/api/films/3/'},\n",
       "  {'title': 'The Empire Strikes Back',\n",
       "   'episode_id': 5,\n",
       "   'opening_crawl': 'It is a dark time for the\\r\\nRebellion. Although the Death\\r\\nStar has been destroyed,\\r\\nImperial troops have driven the\\r\\nRebel forces from their hidden\\r\\nbase and pursued them across\\r\\nthe galaxy.\\r\\n\\r\\nEvading the dreaded Imperial\\r\\nStarfleet, a group of freedom\\r\\nfighters led by Luke Skywalker\\r\\nhas established a new secret\\r\\nbase on the remote ice world\\r\\nof Hoth.\\r\\n\\r\\nThe evil lord Darth Vader,\\r\\nobsessed with finding young\\r\\nSkywalker, has dispatched\\r\\nthousands of remote probes into\\r\\nthe far reaches of space....',\n",
       "   'director': 'Irvin Kershner',\n",
       "   'producer': 'Gary Kurtz, Rick McCallum',\n",
       "   'release_date': '1980-05-17',\n",
       "   'characters': ['https://swapi.co/api/people/1/',\n",
       "    'https://swapi.co/api/people/2/',\n",
       "    'https://swapi.co/api/people/3/',\n",
       "    'https://swapi.co/api/people/4/',\n",
       "    'https://swapi.co/api/people/5/',\n",
       "    'https://swapi.co/api/people/10/',\n",
       "    'https://swapi.co/api/people/13/',\n",
       "    'https://swapi.co/api/people/14/',\n",
       "    'https://swapi.co/api/people/18/',\n",
       "    'https://swapi.co/api/people/20/',\n",
       "    'https://swapi.co/api/people/21/',\n",
       "    'https://swapi.co/api/people/22/',\n",
       "    'https://swapi.co/api/people/23/',\n",
       "    'https://swapi.co/api/people/24/',\n",
       "    'https://swapi.co/api/people/25/',\n",
       "    'https://swapi.co/api/people/26/'],\n",
       "   'planets': ['https://swapi.co/api/planets/4/',\n",
       "    'https://swapi.co/api/planets/5/',\n",
       "    'https://swapi.co/api/planets/6/',\n",
       "    'https://swapi.co/api/planets/27/'],\n",
       "   'starships': ['https://swapi.co/api/starships/15/',\n",
       "    'https://swapi.co/api/starships/10/',\n",
       "    'https://swapi.co/api/starships/11/',\n",
       "    'https://swapi.co/api/starships/12/',\n",
       "    'https://swapi.co/api/starships/21/',\n",
       "    'https://swapi.co/api/starships/22/',\n",
       "    'https://swapi.co/api/starships/23/',\n",
       "    'https://swapi.co/api/starships/3/',\n",
       "    'https://swapi.co/api/starships/17/'],\n",
       "   'vehicles': ['https://swapi.co/api/vehicles/8/',\n",
       "    'https://swapi.co/api/vehicles/14/',\n",
       "    'https://swapi.co/api/vehicles/16/',\n",
       "    'https://swapi.co/api/vehicles/18/',\n",
       "    'https://swapi.co/api/vehicles/19/',\n",
       "    'https://swapi.co/api/vehicles/20/'],\n",
       "   'species': ['https://swapi.co/api/species/6/',\n",
       "    'https://swapi.co/api/species/7/',\n",
       "    'https://swapi.co/api/species/3/',\n",
       "    'https://swapi.co/api/species/2/',\n",
       "    'https://swapi.co/api/species/1/'],\n",
       "   'created': '2014-12-12T11:26:24.656000Z',\n",
       "   'edited': '2017-04-19T10:57:29.544256Z',\n",
       "   'url': 'https://swapi.co/api/films/2/'},\n",
       "  {'title': 'The Force Awakens',\n",
       "   'episode_id': 7,\n",
       "   'opening_crawl': \"Luke Skywalker has vanished.\\r\\nIn his absence, the sinister\\r\\nFIRST ORDER has risen from\\r\\nthe ashes of the Empire\\r\\nand will not rest until\\r\\nSkywalker, the last Jedi,\\r\\nhas been destroyed.\\r\\n \\r\\nWith the support of the\\r\\nREPUBLIC, General Leia Organa\\r\\nleads a brave RESISTANCE.\\r\\nShe is desperate to find her\\r\\nbrother Luke and gain his\\r\\nhelp in restoring peace and\\r\\njustice to the galaxy.\\r\\n \\r\\nLeia has sent her most daring\\r\\npilot on a secret mission\\r\\nto Jakku, where an old ally\\r\\nhas discovered a clue to\\r\\nLuke's whereabouts....\",\n",
       "   'director': 'J. J. Abrams',\n",
       "   'producer': 'Kathleen Kennedy, J. J. Abrams, Bryan Burk',\n",
       "   'release_date': '2015-12-11',\n",
       "   'characters': ['https://swapi.co/api/people/1/',\n",
       "    'https://swapi.co/api/people/3/',\n",
       "    'https://swapi.co/api/people/5/',\n",
       "    'https://swapi.co/api/people/13/',\n",
       "    'https://swapi.co/api/people/14/',\n",
       "    'https://swapi.co/api/people/27/',\n",
       "    'https://swapi.co/api/people/84/',\n",
       "    'https://swapi.co/api/people/85/',\n",
       "    'https://swapi.co/api/people/86/',\n",
       "    'https://swapi.co/api/people/87/',\n",
       "    'https://swapi.co/api/people/88/'],\n",
       "   'planets': ['https://swapi.co/api/planets/61/'],\n",
       "   'starships': ['https://swapi.co/api/starships/77/',\n",
       "    'https://swapi.co/api/starships/10/'],\n",
       "   'vehicles': [],\n",
       "   'species': ['https://swapi.co/api/species/3/',\n",
       "    'https://swapi.co/api/species/2/',\n",
       "    'https://swapi.co/api/species/1/'],\n",
       "   'created': '2015-04-17T06:51:30.504780Z',\n",
       "   'edited': '2015-12-17T14:31:47.617768Z',\n",
       "   'url': 'https://swapi.co/api/films/7/'}]}"
      ]
     },
     "execution_count": 85,
     "metadata": {},
     "output_type": "execute_result"
    }
   ],
   "source": [
    "response = requests.get('https://swapi.co/api/films/')\n",
    "response.raise_for_status()\n",
    "result = response.json()\n",
    "result"
   ]
  },
  {
   "cell_type": "code",
   "execution_count": 78,
   "metadata": {},
   "outputs": [
    {
     "data": {
      "text/plain": [
       "dict_keys(['count', 'next', 'previous', 'results'])"
      ]
     },
     "execution_count": 78,
     "metadata": {},
     "output_type": "execute_result"
    }
   ],
   "source": [
    "result.keys()"
   ]
  },
  {
   "cell_type": "code",
   "execution_count": 79,
   "metadata": {},
   "outputs": [],
   "source": [
    "result[\"next\"]"
   ]
  },
  {
   "cell_type": "code",
   "execution_count": 86,
   "metadata": {},
   "outputs": [],
   "source": [
    "import pandas as pd\n",
    "\n",
    "result_df = pd.DataFrame(result[\"results\"])"
   ]
  },
  {
   "cell_type": "code",
   "execution_count": 87,
   "metadata": {},
   "outputs": [
    {
     "data": {
      "text/plain": [
       "Index(['characters', 'created', 'director', 'edited', 'episode_id',\n",
       "       'opening_crawl', 'planets', 'producer', 'release_date', 'species',\n",
       "       'starships', 'title', 'url', 'vehicles'],\n",
       "      dtype='object')"
      ]
     },
     "execution_count": 87,
     "metadata": {},
     "output_type": "execute_result"
    }
   ],
   "source": [
    "result_df.columns"
   ]
  },
  {
   "cell_type": "code",
   "execution_count": 88,
   "metadata": {},
   "outputs": [
    {
     "data": {
      "text/html": [
       "<div>\n",
       "<style scoped>\n",
       "    .dataframe tbody tr th:only-of-type {\n",
       "        vertical-align: middle;\n",
       "    }\n",
       "\n",
       "    .dataframe tbody tr th {\n",
       "        vertical-align: top;\n",
       "    }\n",
       "\n",
       "    .dataframe thead th {\n",
       "        text-align: right;\n",
       "    }\n",
       "</style>\n",
       "<table border=\"1\" class=\"dataframe\">\n",
       "  <thead>\n",
       "    <tr style=\"text-align: right;\">\n",
       "      <th></th>\n",
       "      <th>planets</th>\n",
       "    </tr>\n",
       "    <tr>\n",
       "      <th>title</th>\n",
       "      <th></th>\n",
       "    </tr>\n",
       "  </thead>\n",
       "  <tbody>\n",
       "    <tr>\n",
       "      <th>A New Hope</th>\n",
       "      <td>[https://swapi.co/api/planets/2/, https://swap...</td>\n",
       "    </tr>\n",
       "    <tr>\n",
       "      <th>Attack of the Clones</th>\n",
       "      <td>[https://swapi.co/api/planets/8/, https://swap...</td>\n",
       "    </tr>\n",
       "    <tr>\n",
       "      <th>The Phantom Menace</th>\n",
       "      <td>[https://swapi.co/api/planets/8/, https://swap...</td>\n",
       "    </tr>\n",
       "    <tr>\n",
       "      <th>Revenge of the Sith</th>\n",
       "      <td>[https://swapi.co/api/planets/2/, https://swap...</td>\n",
       "    </tr>\n",
       "    <tr>\n",
       "      <th>Return of the Jedi</th>\n",
       "      <td>[https://swapi.co/api/planets/5/, https://swap...</td>\n",
       "    </tr>\n",
       "    <tr>\n",
       "      <th>The Empire Strikes Back</th>\n",
       "      <td>[https://swapi.co/api/planets/4/, https://swap...</td>\n",
       "    </tr>\n",
       "    <tr>\n",
       "      <th>The Force Awakens</th>\n",
       "      <td>[https://swapi.co/api/planets/61/]</td>\n",
       "    </tr>\n",
       "  </tbody>\n",
       "</table>\n",
       "</div>"
      ],
      "text/plain": [
       "                                                                   planets\n",
       "title                                                                     \n",
       "A New Hope               [https://swapi.co/api/planets/2/, https://swap...\n",
       "Attack of the Clones     [https://swapi.co/api/planets/8/, https://swap...\n",
       "The Phantom Menace       [https://swapi.co/api/planets/8/, https://swap...\n",
       "Revenge of the Sith      [https://swapi.co/api/planets/2/, https://swap...\n",
       "Return of the Jedi       [https://swapi.co/api/planets/5/, https://swap...\n",
       "The Empire Strikes Back  [https://swapi.co/api/planets/4/, https://swap...\n",
       "The Force Awakens                       [https://swapi.co/api/planets/61/]"
      ]
     },
     "execution_count": 88,
     "metadata": {},
     "output_type": "execute_result"
    }
   ],
   "source": [
    "result_df = result_df[[\"planets\", \"title\"]]\n",
    "\n",
    "result_df = result_df.set_index(\"title\")\n",
    "\n",
    "# Turn the last column remaining into a series\n",
    "result_s = result_df.squeeze()\n",
    "result_df"
   ]
  },
  {
   "cell_type": "code",
   "execution_count": 89,
   "metadata": {},
   "outputs": [
    {
     "data": {
      "text/plain": [
       "title\n",
       "A New Hope                  3\n",
       "Attack of the Clones        5\n",
       "The Phantom Menace          3\n",
       "Revenge of the Sith        13\n",
       "Return of the Jedi          5\n",
       "The Empire Strikes Back     4\n",
       "The Force Awakens           1\n",
       "Name: planets, dtype: int64"
      ]
     },
     "execution_count": 89,
     "metadata": {},
     "output_type": "execute_result"
    }
   ],
   "source": [
    "# Could also do this with a list comprehension\n",
    "result_s.apply(len)"
   ]
  },
  {
   "cell_type": "code",
   "execution_count": 49,
   "metadata": {},
   "outputs": [],
   "source": [
    "%matplotlib inline"
   ]
  },
  {
   "cell_type": "code",
   "execution_count": 92,
   "metadata": {},
   "outputs": [
    {
     "data": {
      "text/plain": [
       "[Text(0, 0, 'A New Hope'),\n",
       " Text(0, 0, 'Attack of the Clones'),\n",
       " Text(0, 0, 'The Phantom Menace'),\n",
       " Text(0, 0, 'Revenge of the Sith'),\n",
       " Text(0, 0, 'Return of the Jedi'),\n",
       " Text(0, 0, 'The Empire Strikes Back'),\n",
       " Text(0, 0, 'The Force Awakens')]"
      ]
     },
     "execution_count": 92,
     "metadata": {},
     "output_type": "execute_result"
    },
    {
     "data": {
      "image/png": "[encoded data removed]",
      "text/plain": [
       "<Figure size 432x288 with 1 Axes>"
      ]
     },
     "metadata": {
      "needs_background": "light"
     },
     "output_type": "display_data"
    }
   ],
   "source": [
    "import seaborn as sns\n",
    "\n",
    "result_plot = result_s.apply(len).reset_index()\n",
    "ax = sns.barplot(x = \"title\", y = \"planets\", data = result_plot)\n",
    "ax.set_xticklabels(ax.get_xticklabels(), rotation = 35)\n",
    "# Could also set `ha = \"right\"` to make labels line up with ticks"
   ]
  },
  {
   "cell_type": "code",
   "execution_count": 62,
   "metadata": {},
   "outputs": [],
   "source": [
    "response = requests.get('https://swapi.co/api/films/')\n",
    "response.raise_for_status()\n",
    "result = response.json()\n",
    "result = pd.DataFrame(result[\"results\"])\n",
    "result = result[[\"title\", \"planets\"]].set_index(\"title\").squeeze()"
   ]
  },
  {
   "cell_type": "code",
   "execution_count": 63,
   "metadata": {},
   "outputs": [
    {
     "data": {
      "text/plain": [
       "title\n",
       "A New Hope                 [https://swapi.co/api/planets/2/, https://swap...\n",
       "Attack of the Clones       [https://swapi.co/api/planets/8/, https://swap...\n",
       "The Phantom Menace         [https://swapi.co/api/planets/8/, https://swap...\n",
       "Revenge of the Sith        [https://swapi.co/api/planets/2/, https://swap...\n",
       "Return of the Jedi         [https://swapi.co/api/planets/5/, https://swap...\n",
       "The Empire Strikes Back    [https://swapi.co/api/planets/4/, https://swap...\n",
       "The Force Awakens                         [https://swapi.co/api/planets/61/]\n",
       "Name: planets, dtype: object"
      ]
     },
     "execution_count": 63,
     "metadata": {},
     "output_type": "execute_result"
    }
   ],
   "source": [
    "result"
   ]
  },
  {
   "cell_type": "code",
   "execution_count": 73,
   "metadata": {},
   "outputs": [
    {
     "data": {
      "text/plain": [
       "['Alderaan', 'Yavin IV', 'Tatooine']"
      ]
     },
     "execution_count": 73,
     "metadata": {},
     "output_type": "execute_result"
    }
   ],
   "source": [
    "# We need to .apply() a function to each element to get the list of planet names\n",
    "import time\n",
    "\n",
    "# We need to write the function that gets the planet names for one element\n",
    "# planets_ep = result[0]\n",
    "# planets_ep\n",
    "\n",
    "def get_planets(planets_ep):\n",
    "    planets = []\n",
    "    for e in planets_ep:\n",
    "        # You can use %timeit to time code in Jupyter notebooks\n",
    "        #e = planets_ep[0]\n",
    "        response = requests.get(e)\n",
    "        response.raise_for_status()\n",
    "        planets.append(response.json()[\"name\"])\n",
    "        time.sleep(0.1) # aim not to make more than 20-30 requests / sec\n",
    "    \n",
    "    return planets\n",
    "    \n",
    "get_planets(result[0])"
   ]
  },
  {
   "cell_type": "code",
   "execution_count": 74,
   "metadata": {},
   "outputs": [
    {
     "data": {
      "text/plain": [
       "title\n",
       "A New Hope                                    [Alderaan, Yavin IV, Tatooine]\n",
       "Attack of the Clones          [Naboo, Coruscant, Kamino, Geonosis, Tatooine]\n",
       "The Phantom Menace                              [Naboo, Coruscant, Tatooine]\n",
       "Revenge of the Sith        [Alderaan, Dagobah, Naboo, Coruscant, Utapau, ...\n",
       "Return of the Jedi              [Dagobah, Endor, Naboo, Coruscant, Tatooine]\n",
       "The Empire Strikes Back                 [Hoth, Dagobah, Bespin, Ord Mantell]\n",
       "The Force Awakens                                                    [Jakku]\n",
       "Name: planets, dtype: object"
      ]
     },
     "execution_count": 74,
     "metadata": {},
     "output_type": "execute_result"
    }
   ],
   "source": [
    "result.apply(get_planets)"
   ]
  },
  {
   "cell_type": "markdown",
   "metadata": {},
   "source": [
    "### Query Strings\n",
    "\n",
    "Most of the functions we use have parameters, and you can pass arguments for those parameters when you call a function.\n",
    "\n",
    "Endpoints in REST APIs work the same way, but the syntax is different. You can pass arguments by adding `?PARAMETER=ARGUMENT` to the end of the URL. Parameter and argument pairs are separated by `&`. This syntax is called a _query string_.\n",
    "\n",
    "For instance, Apple provides a web API for the iTunes store, with [documentation](https://affiliate.itunes.apple.com/resources/documentation/itunes-store-web-service-search-api/). We can use this to try to answer our second example question.\n",
    "\n",
    "The search endpoint is `https://itunes.apple.com/search`, and the documentation lists several parameters. We can use __requests__ to build the query string automatically."
   ]
  },
  {
   "cell_type": "code",
   "execution_count": 75,
   "metadata": {},
   "outputs": [],
   "source": [
    "response = requests.get(\"https://itunes.apple.com/search\", params = {\n",
    "        \"term\": \"Gangnam Style\",\n",
    "        \"country\": \"US\"\n",
    "    })\n",
    "response.raise_for_status()"
   ]
  },
  {
   "cell_type": "markdown",
   "metadata": {},
   "source": [
    "Every response has a `.url` attribute that shows the URL used for the request."
   ]
  },
  {
   "cell_type": "code",
   "execution_count": 76,
   "metadata": {},
   "outputs": [
    {
     "data": {
      "text/plain": [
       "'https://itunes.apple.com/search?country=US&term=Gangnam+Style'"
      ]
     },
     "execution_count": 76,
     "metadata": {},
     "output_type": "execute_result"
    }
   ],
   "source": [
    "response.url"
   ]
  }
 ],
 "metadata": {
  "kernelspec": {
   "display_name": "Python 3",
   "language": "python",
   "name": "python3"
  },
  "language_info": {
   "codemirror_mode": {
    "name": "ipython",
    "version": 3
   },
   "file_extension": ".py",
   "mimetype": "text/x-python",
   "name": "python",
   "nbconvert_exporter": "python",
   "pygments_lexer": "ipython3",
   "version": "3.7.1"
  }
 },
 "nbformat": 4,
 "nbformat_minor": 2
}
