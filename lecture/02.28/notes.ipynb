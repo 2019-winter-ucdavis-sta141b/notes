{
 "cells": [
  {
   "cell_type": "markdown",
   "metadata": {},
   "source": [
    "# STA 141B Lecture 16\n",
    "\n",
    "The class website is <https://github.com/2019-winter-ucdavis-sta141b/notes>\n",
    "\n",
    "### Announcements\n",
    "\n",
    "\n",
    "### Topics\n",
    "\n",
    "* Presentation skills\n",
    "* A few more SQL examples\n",
    "* Intro to interactive visualizations\n",
    "\n",
    "### Datasets\n",
    "\n",
    "* The [Stock Market Database](http://anson.ucdavis.edu/~clarkf/sql/stocks.sqlite)\n",
    "* The Gapminder Dataset (included in this repository)\n",
    "* The [Yolo County Restaurants Dataset](http://anson.ucdavis.edu/~nulle/yolo_food.feather)\n",
    "\n",
    "### References\n",
    "\n",
    "* SQL\n",
    "    + [W3 Schools SQL Tutorial](https://www.w3schools.com/sql/)\n",
    "    + [SQL Cheatsheet](http://anson.ucdavis.edu/~clarkf/sql/sql_cheatsheet.pdf)\n",
    "* JavaScript (for web visualizations)\n",
    "    + [Learn X in Y Minutes, X = JavaScript][js-intro] -- a brief intro\n",
    "    + [MDN JavaScript Guide][js-guide] -- a detailed guide\n",
    "    + [MDN Learning Materials][web-intro] -- more information about web development\n",
    "\n",
    "[PDSH]: https://jakevdp.github.io/PythonDataScienceHandbook/\n",
    "[ProGit]: https://git-scm.com/book/\n",
    "[nlpp]: https://www.nltk.org/book/\n",
    "[atap]: https://search.library.ucdavis.edu/primo-explore/fulldisplay?docid=01UCD_ALMA51320822340003126&context=L&vid=01UCD_V1&search_scope=everything_scope&tab=default_tab&lang=en_US\n",
    "[js-intro]: https://learnxinyminutes.com/docs/javascript/\n",
    "[js-guide]: https://developer.mozilla.org/en-US/docs/Web/JavaScript/Guide\n",
    "[web-intro]: https://developer.mozilla.org/en-US/docs/Learn"
   ]
  },
  {
   "cell_type": "code",
   "execution_count": null,
   "metadata": {},
   "outputs": [],
   "source": [
    "# NEW PACKAGES\n",
    "import bokeh.io       # conda install bokeh\n",
    "import imageio        # conda install -c conda-forge imageio\n",
    "import folium         # conda install -c conda-forge folium\n",
    "# For feather files:  # conda install -c conda-forge pyarrow\n",
    "\n",
    "# DATA SCIENCE TOOLKIT\n",
    "import matplotlib.pyplot as plt\n",
    "import numpy as np\n",
    "import pandas as pd\n",
    "import seaborn as sns\n",
    "\n",
    "%matplotlib inline\n",
    "\n",
    "import sqlite3 as sql"
   ]
  },
  {
   "cell_type": "markdown",
   "metadata": {},
   "source": [
    "# Presentation Skills\n",
    "\n",
    "See the [presentation description](https://github.com/2019-winter-ucdavis-sta141b/notes/blob/master/presentation.md)."
   ]
  },
  {
   "cell_type": "markdown",
   "metadata": {},
   "source": [
    "# SQL Examples\n",
    "\n",
    "The questions below use the [stock market database](http://anson.ucdavis.edu/~clarkf/sql/stocks.sqlite). You can find additional practice problems [here](http://anson.ucdavis.edu/~clarkf/sql/).\n"
   ]
  },
  {
   "cell_type": "markdown",
   "metadata": {},
   "source": [
    "1. Write a query that produces a table with columns for state,  SIC code,  SIC description, and count of companies located in that state with that SIC code."
   ]
  },
  {
   "cell_type": "code",
   "execution_count": null,
   "metadata": {},
   "outputs": [],
   "source": [
    "db = sql.connect(\"../data/stocks.sqlite\")"
   ]
  },
  {
   "cell_type": "code",
   "execution_count": null,
   "metadata": {},
   "outputs": [],
   "source": []
  },
  {
   "cell_type": "markdown",
   "metadata": {},
   "source": [
    "2. Focusing only on 2014 and the daily share prices table, find the names of the companies which had any closing price that exceeded the average closing price of AAPL in 2014."
   ]
  },
  {
   "cell_type": "code",
   "execution_count": null,
   "metadata": {},
   "outputs": [],
   "source": []
  },
  {
   "cell_type": "markdown",
   "metadata": {},
   "source": [
    "3. Did the Brexit vote affect share prices for commercial banks in the United States? How?"
   ]
  },
  {
   "cell_type": "code",
   "execution_count": null,
   "metadata": {},
   "outputs": [],
   "source": []
  },
  {
   "cell_type": "markdown",
   "metadata": {},
   "source": [
    "# Intro to Interactive Visualizations\n",
    "\n",
    "There are a lot of Python packages for visualization:\n",
    "\n",
    "![Python visualization landscape](img/visualization_landscape.png)\n",
    "_Image from [Jake VanderPlas](https://speakerdeck.com/jakevdp/pythons-visualization-landscape-pycon-2017). See [here](https://rougier.github.io/python-visualization-landscape/landscape-colors.html) for a version with links to all of the packages!_"
   ]
  },
  {
   "cell_type": "markdown",
   "metadata": {},
   "source": [
    "When you choose a visualization package, there are three major decisions to make. Consider whether your visualization will:\n",
    "\n",
    "* Be interactive, animated, or static?\n",
    "* Display two dimensions, or three?\n",
    "* Be an image, a video, a web page, or something else?\n",
    "\n",
    "So far we've made visualizations with packages based on __matplotlib__. These tend to be static 2-dimensional images.\n",
    "\n",
    "Now we're going to study how to make other kinds of visualizations."
   ]
  },
  {
   "cell_type": "markdown",
   "metadata": {},
   "source": [
    "## Animated Visualizations\n",
    "\n",
    "__matplotlib__ can also make animated videos. The `matplotlib.animation` submodule ([docs](https://matplotlib.org/api/animation_api.html)) provides support for animation.\n",
    "\n",
    "There are examples online:\n",
    "\n",
    "* [Drawing animated GIFs with matplotlib](https://eli.thegreenplace.net/2016/drawing-animated-gifs-with-matplotlib/)\n",
    "* [How to Create Animated Graphs in Python](https://towardsdatascience.com/how-to-create-animated-graphs-in-python-bb619cc2dec1)\n",
    "* [Animated histogram](https://matplotlib.org/gallery/animation/animated_histogram.html)\n",
    "\n",
    "### Flipbook Strategy\n",
    "\n",
    "There's another simple strategy for making animated visualizations. The strategy is the same as an old-fashioned pen-and-paper flipbook: create lots of still images and flip through them quickly.\n",
    "\n",
    "A good thing about this strategy is that it works with any package that can make static visualizations. The tradeoff is that you have to write code to create the images -- but usually this isn't too hard.\n",
    "\n",
    "To use this strategy, you'll need a Python package that can save animated images. Let's look at an example using the __imageio__ package to save a GIF image. We'll use the Gapminder Dataset, which contains statistics for countries from 1800 to 2015. This dataset is based on data from the [Gapminder Project](https://www.gapminder.org/)."
   ]
  },
  {
   "cell_type": "code",
   "execution_count": null,
   "metadata": {},
   "outputs": [],
   "source": []
  },
  {
   "cell_type": "code",
   "execution_count": null,
   "metadata": {},
   "outputs": [],
   "source": [
    "import imageio    # conda install -c conda-forge imageio\n",
    "\n",
    "\n",
    "def render_frame(year, data):\n",
    "    \"\"\"Render a single frame (plot) in an animated visualization.\n",
    "    \n",
    "    Adapted from: https://ndres.me/post/matplotlib-animated-gifs-easily/\n",
    "    \"\"\"\n",
    "    # Create a matplotlib figure to plot into.\n",
    "    fig = plt.figure(figsize = (10, 5))\n",
    "    \n",
    "    # -------------------- Visualization Code\n",
    "    \n",
    "    # FILL THIS IN\n",
    "    \n",
    "    # -------------------- End Visualization Code\n",
    "\n",
    "    # Draw the figure and then convert it to a Numpy array.\n",
    "    fig.canvas.draw()\n",
    "    image = np.frombuffer(fig.canvas.tostring_rgb(), dtype = \"uint8\")\n",
    "    image = image.reshape(fig.canvas.get_width_height()[::-1] + (3,))\n",
    "    \n",
    "    # Close the matplotlib figure (we're done with it)\n",
    "    plt.close()\n",
    "    return image"
   ]
  },
  {
   "cell_type": "code",
   "execution_count": null,
   "metadata": {},
   "outputs": [],
   "source": [
    "# Save a list of images as a GIF file.\n",
    "imageio.mimsave(\"gapminder.gif\", plots, fps = 3)"
   ]
  },
  {
   "cell_type": "markdown",
   "metadata": {},
   "source": [
    "## Web Visualizations\n",
    "\n",
    "Web browsers are ubiquitous and support interactivity via JavaScript, so the web is an excellent platform for visualizations. Web visualizations are powered by a few important JavaScript libraries:\n",
    "\n",
    "*   __[D3.js][]__: Short for Data-Driven Documents, D3 allows you to bind data\n",
    "    to HTML tags. In other words, you can use data to control the structure and\n",
    "    style of a web page.\n",
    "\n",
    "\n",
    "*   __[Vega][]__ & __[Vega Lite][]__: A visualization grammar (the same idea as\n",
    "    ggplot) built on top of D3. You write a description of what you want in\n",
    "    JSON, and Vega produces a D3 visualization. Vega Lite adds support for\n",
    "    common statistical graphics.\n",
    "\n",
    "\n",
    "*   __[three.js][]__: A 3-dimensional graphics library.\n",
    "\n",
    "\n",
    "*   __[Leaflet][]__: An interactive maps library.\n",
    "\n",
    "There are many more JavaScript libraries, but the ones listed here are the most popular. They also have the best support from Python packages. Packages for creating web visualizations from Python include:\n",
    "\n",
    "Package     | JS Library    | Description\n",
    "----------  | ------------- | -----------\n",
    "[mpld3][]   | [D3.js][]     | Matplotlib-like interface to D3\n",
    "[bqplot][]  | [D3.js][]     | Bloomberg News' interface to D3\n",
    "[plotly][]  | [D3.js][]     | Unified interface for interactive visualization across multiple languages\n",
    "[altair][]  | [Vega Lite][] | Declarative interface to Vega & Vega Lite\n",
    "[bokeh][]   | [BokehJS][]   | Unified interface for interactive visualization across multiple languages\n",
    "[hvPlot][]  | [BokehJS][]   | Pandas-like interface to Bokeh\n",
    "[Toyplot][] | -             | Interactive visualizations for Python\n",
    "[folium][]  | [Leaflet][]   | Interface to Leaflet\n",
    "\n",
    "Also worth mentioning is the [pygal](http://www.pygal.org/en/stable/) package, which produces SVG plots that can be viewed in a web browser but do not require any JavaScript library.\n",
    "\n",
    "[D3.js]: https://d3js.org/\n",
    "[Vega]: https://vega.github.io/vega/\n",
    "[Vega Lite]: https://vega.github.io/vega-lite/\n",
    "[three.js]: https://threejs.org/\n",
    "[BokehJS]: http://bokeh.pydata.org/en/latest/docs/dev_guide/bokehjs.html\n",
    "[Leaflet]: http://leafletjs.com/\n",
    "\n",
    "[mpld3]: http://mpld3.github.io/\n",
    "[altair]: https://altair-viz.github.io/\n",
    "[plotly]: https://plot.ly/python/\n",
    "[bokeh]: http://bokeh.pydata.org/\n",
    "[folium]: https://github.com/python-visualization/folium\n",
    "[hvPlot]: https://hvplot.pyviz.org/\n",
    "[bqplot]: https://github.com/bloomberg/bqplot\n",
    "[Toyplot]: https://toyplot.readthedocs.io/en/stable/"
   ]
  },
  {
   "cell_type": "markdown",
   "metadata": {},
   "source": [
    "### Basic Interactivity\n",
    "\n",
    "Let's start by looking at Bokeh. We'll make a scatter plot with the simplest kind of interactivity: a pan tool and a zoom tool.\n",
    "\n",
    "To display Bokeh plots in a Jupyter notebook, first you must call the setup function `output_notebook()`. You don't have to do this if you're going to save your plots to HTML instead."
   ]
  },
  {
   "cell_type": "code",
   "execution_count": null,
   "metadata": {},
   "outputs": [],
   "source": [
    "bokeh.io.output_notebook()"
   ]
  },
  {
   "cell_type": "markdown",
   "metadata": {},
   "source": [
    "Now we can make a plot. Bokeh's plotting functions work with data frames in [tidy](http://vita.had.co.nz/papers/tidy-data.pdf) form."
   ]
  },
  {
   "cell_type": "code",
   "execution_count": null,
   "metadata": {},
   "outputs": [],
   "source": [
    "from bokeh.plotting import figure, show\n",
    "\n",
    "\n",
    "# Optional: save the plot to a standalone HTML file.\n",
    "#bokeh.io.output_file(\"MY_PLOT.html\")"
   ]
  },
  {
   "cell_type": "markdown",
   "metadata": {},
   "source": [
    "Bokeh is a relatively low-level plotting package. It does not provide built-in functions for many basic statistical plots."
   ]
  },
  {
   "cell_type": "markdown",
   "metadata": {},
   "source": [
    "### Maps\n",
    "\n",
    "Maps are another example of easy interactivity. Here's an example of setting up a map with the __folium__ package:"
   ]
  },
  {
   "cell_type": "code",
   "execution_count": null,
   "metadata": {
    "scrolled": false
   },
   "outputs": [],
   "source": [
    "import folium    # conda install -c conda-forge folium\n",
    "\n",
    "# Make a map.\n",
    "m = folium.Map(location = [45.5236, -122.6750])\n",
    "\n",
    "# Optional: set up a Figure to control the size of the map.\n",
    "fig = folium.Figure(width = 600, height = 200)\n",
    "fig.add_child(m)\n",
    "\n",
    "# Optional: save the map to a standalone HTML file.\n",
    "# fig.save(\"MY_MAP.html\")"
   ]
  },
  {
   "cell_type": "markdown",
   "metadata": {},
   "source": [
    "Let's plot some points on the map. We can use this [Yolo County Restaurants Dataset](http://anson.ucdavis.edu/~nulle/yolo_food.feather).\n",
    "\n",
    "The dataset is in a _feather_ file, a format we haven't seen before. Feather is a format designed to make it easy to transfer data between R and Python. You can find out more [here](https://github.com/wesm/feather). In order to read a feather file, you need the __pyarrow__ package."
   ]
  },
  {
   "cell_type": "code",
   "execution_count": null,
   "metadata": {},
   "outputs": [],
   "source": [
    "# conda install pyarrow -c conda-forge\n",
    "\n",
    "food = pd.read_feather(\"yolo_food.feather\")\n",
    "food.head()"
   ]
  },
  {
   "cell_type": "markdown",
   "metadata": {},
   "source": [
    "Folium doesn't support missing values, so we have to remove the missing values:"
   ]
  },
  {
   "cell_type": "code",
   "execution_count": null,
   "metadata": {},
   "outputs": [],
   "source": []
  },
  {
   "cell_type": "markdown",
   "metadata": {},
   "source": [
    "We can start by making a map as usual. Use the `zoom_start` parameter to adjust the zoom on the map."
   ]
  },
  {
   "cell_type": "code",
   "execution_count": null,
   "metadata": {},
   "outputs": [],
   "source": []
  },
  {
   "cell_type": "markdown",
   "metadata": {},
   "source": [
    "Next, let's add a marker to the map for each restaurant. To do this, we have to iterate over the rows, creating markers and adding them to the map.\n",
    "\n",
    "The function to create a marker is `folium.Marker()`. Markers have an `.add_to()` method to add them to a map."
   ]
  },
  {
   "cell_type": "code",
   "execution_count": null,
   "metadata": {},
   "outputs": [],
   "source": []
  },
  {
   "cell_type": "markdown",
   "metadata": {},
   "source": [
    "Folium can also display boundaries stored in GeoJSON format. See [the documentation](https://python-visualization.github.io/folium/index.html) for more info.\n",
    "\n",
    "You can convert shapefiles to GeoJSON with the __geopandas__ package.\n"
   ]
  },
  {
   "cell_type": "markdown",
   "metadata": {},
   "source": [
    "### How Interactive Visualizations Work\n",
    "\n",
    "In order to make a visualization interactive, you need to run some code when the user clicks on a widget. The code can run _client-side_ on the user's machine, or _server-side_ on your server.\n",
    "\n",
    "All of the examples we've seen so far were of client-side interactivity, and all of them used JavaScript code.\n",
    "\n",
    "For client-side interactivity:\n",
    "\n",
    "* Your code usually must be written in JavaScript. A few years from now, this might not be true anymore.\n",
    "* You can host your visualization on any web server. No special setup is needed.\n",
    "* Your visualization will use the user's CPU and memory.\n",
    "\n",
    "For server-side interactivity:\n",
    "\n",
    "* Your code can be written in any language the server supports. This may require special setup.\n",
    "* Your visualization will use the server's CPU and memory.\n",
    "* You can update the data in real-time.\n",
    "* You can save data submitted by the user.\n",
    "\n",
    "Shiny is a server-side framework for R. There are lots of server-side frameworks for Python. Two of the most popular are [Django][django] and [Flask][flask].\n",
    "\n",
    "[Panel][panel] and [Dash][dash] are relatively new server-side frameworks designed specifically for creating dashboards. These are more like Shiny than the other frameworks are.\n",
    "\n",
    "[django]: https://www.djangoproject.com/\n",
    "[flask]: http://flask.pocoo.org/\n",
    "[panel]: https://panel.pyviz.org/\n",
    "[dash]: https://plot.ly/products/dash/"
   ]
  }
 ],
 "metadata": {
  "kernelspec": {
   "display_name": "Python 3",
   "language": "python",
   "name": "python3"
  },
  "language_info": {
   "codemirror_mode": {
    "name": "ipython",
    "version": 3
   },
   "file_extension": ".py",
   "mimetype": "text/x-python",
   "name": "python",
   "nbconvert_exporter": "python",
   "pygments_lexer": "ipython3",
   "version": "3.7.1"
  }
 },
 "nbformat": 4,
 "nbformat_minor": 2
}
