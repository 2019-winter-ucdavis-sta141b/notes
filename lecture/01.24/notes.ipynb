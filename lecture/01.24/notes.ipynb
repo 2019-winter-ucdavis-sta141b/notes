{
 "cells": [
  {
   "cell_type": "markdown",
   "metadata": {},
   "source": [
    "# STA 141B Lecture 6\n",
    "\n",
    "The class website is <https://github.com/2019-winter-ucdavis-sta141b/notes>\n",
    "\n",
    "### Announcements\n",
    "\n",
    "* Project groups and a link to the project repository will be posted this evening\n",
    "\n",
    "### Topics\n",
    "\n",
    "* Pandas\n",
    "* Static Visualizations\n",
    "    + matplotlib\n",
    "    + plotnine\n",
    "    + seaborn\n",
    "\n",
    "### Data Sets\n",
    "\n",
    "* [Milk Sales Dataset](https://www.ers.usda.gov/webdocs/DataFiles/48685/fluidmilk.xlsx?v=5010.6)\n",
    "* Dogs Dataset (included in the class repo)\n",
    "\n",
    "\n",
    "### References\n",
    "\n",
    "* Python for Data Analysis, Ch. 8, 9\n",
    "* [Python Data Science Handbook][PDSH], Ch. 3, 4\n",
    "\n",
    "[PDSH]: https://jakevdp.github.io/PythonDataScienceHandbook/\n",
    "[ProGit]: https://git-scm.com/book/"
   ]
  },
  {
   "cell_type": "markdown",
   "metadata": {},
   "source": [
    "## More About Packages and Modules\n",
    "\n",
    "Which of the built-in modules are important?\n",
    "\n",
    "Module      | Description\n",
    "----------- | -----------\n",
    "sys         | info about Python (version, etc)\n",
    "pdb         | Python debugger\n",
    "pathlib     | tools for file paths\n",
    "collections | additional data structures\n",
    "string      | string processing\n",
    "re          | regular expressions\n",
    "datetime    | date processing\n",
    "urlparse    | tools for URLs\n",
    "itertools   | tools for iterators\n",
    "functools   | tools for functions\n",
    "\n",
    "Python's built-in `math` and `statistics` modules are missing features we need for serious scientific computing, so we use the \"SciPy Stack\" instead, which includes `numpy`, `scipy`, and `pandas`."
   ]
  },
  {
   "cell_type": "markdown",
   "metadata": {},
   "source": [
    "## Tidying a Dataset\n",
    "\n",
    "Do Americans prefer low fat milk over whole milk?\n",
    "\n",
    "The USDA publishes data about dairy production. We can answer the question with the [Milk Sales Dataset](https://www.ers.usda.gov/webdocs/DataFiles/48685/fluidmilk.xlsx?v=5010.6).\n",
    "\n",
    "Many of Python's visualization packages expect [tidy data](https://vita.had.co.nz/papers/tidy-data.pdf), which means:\n",
    "\n",
    "1. Each feature must have its own column.\n",
    "2. Each observation must have its own row.\n",
    "3. Each value must have its own cell.\n",
    "\n",
    "Let's tidy up the Milk Sales Dataset so we can make a line plot that shows how milk sales have changed over time."
   ]
  },
  {
   "cell_type": "code",
   "execution_count": null,
   "metadata": {},
   "outputs": [],
   "source": [
    "import numpy as np\n",
    "import pandas as pd"
   ]
  },
  {
   "cell_type": "code",
   "execution_count": null,
   "metadata": {},
   "outputs": [],
   "source": []
  },
  {
   "cell_type": "markdown",
   "metadata": {},
   "source": [
    "## Visualization in Python\n",
    "\n",
    "![Python visualization landscape](img/visualization_landscape.png)\n",
    "_Image from [Jake VanderPlas](https://speakerdeck.com/jakevdp/pythons-visualization-landscape-pycon-2017). See [here](https://rougier.github.io/python-visualization-landscape/landscape-colors.html) for a version with links to all of the packages!_\n",
    "\n",
    "Our focus right now is _static_ visualization, where the visualization is a still image. So what packages should you actually use?\n",
    "\n",
    "* __plotnine__ is convenient if you already know ggplot2. It's relatively new, so there are some bugs and missing features.\n",
    "\n",
    "* __seaborn__ is designed specifically for making statistical plots. It's well-documented and stable. Most of the package's functions expect tidy data as input.\n",
    "\n",
    "* __matplotlib__ is useful to know, since many other packages use matplotlib under the hood. That said, using matplotlib alone to create plots is painful; matplotlib is _low-level_, so it's flexible but simple plots may take [5 lines of code or more][ex]. The matplotlib PyPlot tools may be convenient if you already know MATLAB.\n",
    "\n",
    "* __pandas__ provides built-in plotting functions, which can be convenient but are more limited than the packages above. They're also inconsistent about the expected format of the data.\n",
    "\n",
    "We don't have time to exhaustively cover visualization packages for Python. You're welcome to explore other packages while doing the assignments for this class.\n",
    "\n",
    "Later in the quarter, we'll see some of Python's _interactive_ visualization packages.\n",
    "\n",
    "[ex]: https://dsaber.com/2016/10/02/a-dramatic-tour-through-pythons-data-visualization-landscape-including-ggplot-and-altair/"
   ]
  },
  {
   "cell_type": "markdown",
   "metadata": {},
   "source": [
    "## Jupyter and matplotlib\n",
    "\n",
    "Jupyter notebooks can display most static visualizations and some interactive visualizations. If you're going to use visualization packages that depend on matplotlib, it's a good idea to set up your notebook by running:"
   ]
  },
  {
   "cell_type": "code",
   "execution_count": null,
   "metadata": {},
   "outputs": [],
   "source": [
    "# Initialize matplotlib\n",
    "\n",
    "%matplotlib inline\n",
    "\n",
    "import matplotlib.pyplot as plt\n",
    "\n",
    "# We'll see what this code does later on:\n",
    "#plt.rcParams[\"figure.figsize\"] = [10, 8]"
   ]
  },
  {
   "cell_type": "markdown",
   "metadata": {},
   "source": [
    "## Plotting the Milk Dataset with plotnine\n",
    "\n",
    "See the [plotnine documentation](https://plotnine.readthedocs.io/en/latest/)! Also see the [ggplot2 documentation](https://ggplot2.tidyverse.org/reference/) and the [ggplot2 cheatsheet](https://github.com/rstudio/cheatsheets/raw/master/data-visualization-2.1.pdf). If you run into a bug, you may want to check for a work-around on the [plotnine bug tracker](https://github.com/has2k1/plotnine/issues).\n",
    "\n",
    "We can avoid typing `plotnine.` over and over again by importing all of plotnine's objects directly into the global namespace:"
   ]
  },
  {
   "cell_type": "code",
   "execution_count": null,
   "metadata": {},
   "outputs": [],
   "source": [
    "from plotnine import *"
   ]
  },
  {
   "cell_type": "markdown",
   "metadata": {},
   "source": [
    "Importing other packages this way is not recommended, since names of objects in a package may overlap with names of objects you've defined.\n",
    "\n",
    "\n",
    "The syntax of plotnine closely follows the syntax of R's ggplot2. In R, we would write\n",
    "\n",
    "```r\n",
    "ggplot2(milk, aes(x = Year, y = Sales, color = Kind)) + geom_line() \n",
    "```\n",
    "\n",
    "One important difference is that plotnine requires that we quote variable names."
   ]
  },
  {
   "cell_type": "code",
   "execution_count": null,
   "metadata": {},
   "outputs": [],
   "source": []
  },
  {
   "cell_type": "markdown",
   "metadata": {},
   "source": [
    "plotnine includes the familiar `ggsave()` function for saving a visualization to an image file."
   ]
  },
  {
   "cell_type": "markdown",
   "metadata": {},
   "source": [
    "## Plotting the Milk Dataset with seaborn\n",
    "\n",
    "See the [seaborn documentation](https://seaborn.pydata.org/)!"
   ]
  },
  {
   "cell_type": "code",
   "execution_count": null,
   "metadata": {},
   "outputs": [],
   "source": [
    "import seaborn as sns"
   ]
  },
  {
   "cell_type": "code",
   "execution_count": null,
   "metadata": {},
   "outputs": [],
   "source": []
  },
  {
   "cell_type": "markdown",
   "metadata": {},
   "source": [
    "If we want to adjust the size and layout, we have to learn more about matplotlib."
   ]
  },
  {
   "cell_type": "markdown",
   "metadata": {},
   "source": [
    "## The Basics of matplotlib\n",
    "\n",
    "See the [matplotlib documentation](https://matplotlib.org/contents.html)!\n",
    "\n",
    "First, let's change the size of the figures in the notebook. To do that, we need to go back to the code we used to initialize matplotlib, and adjust `rcParams`, matplotlib's default settings.\n",
    "\n",
    "### Jargon\n",
    "\n",
    "The most important thing to know is matplotlib's jargon:\n",
    "\n",
    "* _Figure_: Container for plots.\n",
    "* _Axes_: Container for components of a plot (\"primitives\"). In other words, an axes is a single plot.\n",
    "* _Axis_: Container for components of an axis. An axis is a single axis.\n",
    "* _Tick_: A container for tick marks on an axis.\n",
    "\n",
    "All of the containers and the primitives are called _Artists_.\n",
    "\n",
    "### Saving Figures\n",
    "\n",
    "You can save figures to an image file with the `.savefig()` method.\n",
    "\n",
    "Some plotting functions return an Axes instead of a Figure. You can get the Figure that contains an Axes with the `.get_figure()` method. So to save our seaborn plot:"
   ]
  },
  {
   "cell_type": "code",
   "execution_count": null,
   "metadata": {},
   "outputs": [],
   "source": []
  },
  {
   "cell_type": "markdown",
   "metadata": {},
   "source": [
    "## Comparing Packages\n",
    "\n",
    "Let's use the familiar dogs dataset to further compare the different plotting packages."
   ]
  },
  {
   "cell_type": "code",
   "execution_count": null,
   "metadata": {},
   "outputs": [],
   "source": [
    "dogs = pd.read_csv(\"../../data/dogs_full.csv\")"
   ]
  },
  {
   "cell_type": "markdown",
   "metadata": {},
   "source": [
    "### Dot Plots\n",
    "\n",
    "Plot the number of dogs in each category."
   ]
  },
  {
   "cell_type": "code",
   "execution_count": null,
   "metadata": {},
   "outputs": [],
   "source": [
    "# Plotnine\n",
    "\n",
    "p = ggplot(dogs, aes(x = \"group\")) + geom_point(stat = \"count\")\n",
    "p + labs(title = \"Dog Groups\", x = \"Group\", y = \"Count\")"
   ]
  },
  {
   "cell_type": "code",
   "execution_count": null,
   "metadata": {},
   "outputs": [],
   "source": [
    "# Seaborn\n",
    "counts = dogs[\"group\"].value_counts()\n",
    "# Pandas calls the rownames an \"index\"\n",
    "\n",
    "ax = sns.stripplot(x = counts.index, y = counts)\n",
    "ax.set(title = \"Dog Groups\", xlabel = \"Group\", ylabel = \"Count\")\n",
    "ax.set_xticklabels(ax.get_xticklabels(), rotation = 45)"
   ]
  },
  {
   "cell_type": "code",
   "execution_count": null,
   "metadata": {
    "scrolled": false
   },
   "outputs": [],
   "source": [
    "# Pandas\n",
    "counts = dogs[\"group\"].value_counts()\n",
    "\n",
    "ax = counts.plot(style = \"o\")\n",
    "ax.set(title = \"Dog Groups\", xlabel = \"Group\", ylabel = \"Count\")"
   ]
  },
  {
   "cell_type": "markdown",
   "metadata": {},
   "source": [
    "### Box Plots\n",
    "\n",
    "Plot the distribution of dog longevity, grouped by category."
   ]
  },
  {
   "cell_type": "code",
   "execution_count": null,
   "metadata": {},
   "outputs": [],
   "source": [
    "# Plotnine\n",
    "\n",
    "p = ggplot(dogs, aes(\"group\", \"longevity\")) + geom_boxplot()\n",
    "p + labs(title = \"Dog Longevity\", x = \"Group\", y = \"Years\")"
   ]
  },
  {
   "cell_type": "code",
   "execution_count": null,
   "metadata": {},
   "outputs": [],
   "source": [
    "# Seaborn\n",
    "\n",
    "ax = sns.boxplot(x = \"group\", y = \"longevity\", data = dogs)\n",
    "ax.set(title = \"Dog Longevity\", xlabel = \"Group\", ylabel = \"Years\")\n",
    "ax.set_xticklabels(ax.get_xticklabels(), rotation = 45)"
   ]
  },
  {
   "cell_type": "code",
   "execution_count": null,
   "metadata": {},
   "outputs": [],
   "source": [
    "# Pandas\n",
    "\n",
    "ax = dogs.boxplot(by = \"group\", column = \"longevity\", rot = 45)\n",
    "# Set title and axis labels.\n",
    "ax.set(title = \"Dog Longevity\", xlabel = \"Group\", ylabel = \"Years\")\n",
    "# Hide grouping title Pandas adds.\n",
    "ax.get_figure().suptitle(\"\")"
   ]
  },
  {
   "cell_type": "markdown",
   "metadata": {},
   "source": [
    "### Scatter Plots"
   ]
  },
  {
   "cell_type": "markdown",
   "metadata": {},
   "source": [
    "Plot popularity against datadog score."
   ]
  },
  {
   "cell_type": "code",
   "execution_count": null,
   "metadata": {},
   "outputs": [],
   "source": [
    "# Plotnine\n",
    "\n",
    "p = ggplot(dogs, aes(\"datadog\", \"popularity\")) + geom_point()\n",
    "p + labs(title = \"Best in Show\", x = \"DataDog Score\", y = \"Popularity Rank\")\n",
    "# A bug in the latest version of plotnine prevents this line from working:\n",
    "# p + ylim(95, -5)"
   ]
  },
  {
   "cell_type": "code",
   "execution_count": null,
   "metadata": {},
   "outputs": [],
   "source": [
    "# Seaborn\n",
    "\n",
    "ax = sns.regplot(x = \"datadog\", y = \"popularity\", data = dogs, fit_reg = False)\n",
    "ax.set(title = \"Best in Show\", xlabel = \"DataDog Score\", ylabel = \"Popularity Rank\")\n",
    "ylim = reversed(ax.get_ylim())\n",
    "ax.set_ylim(ylim)"
   ]
  },
  {
   "cell_type": "code",
   "execution_count": null,
   "metadata": {},
   "outputs": [],
   "source": [
    "# Pandas\n",
    "\n",
    "ax = dogs.plot.scatter(x = \"datadog\", y = \"popularity\")\n",
    "ax.set(title = \"Best in Show\", xlabel = \"DataDog Score\", ylabel = \"Popularity Rank\")\n",
    "ylim = reversed(ax.get_ylim())\n",
    "ax.set_ylim(ylim)"
   ]
  }
 ],
 "metadata": {
  "kernelspec": {
   "display_name": "Python 3",
   "language": "python",
   "name": "python3"
  },
  "language_info": {
   "codemirror_mode": {
    "name": "ipython",
    "version": 3
   },
   "file_extension": ".py",
   "mimetype": "text/x-python",
   "name": "python",
   "nbconvert_exporter": "python",
   "pygments_lexer": "ipython3",
   "version": "3.7.1"
  }
 },
 "nbformat": 4,
 "nbformat_minor": 2
}
