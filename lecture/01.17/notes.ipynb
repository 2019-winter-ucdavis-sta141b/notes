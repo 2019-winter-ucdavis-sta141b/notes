{
 "cells": [
  {
   "cell_type": "markdown",
   "metadata": {},
   "source": [
    "# STA 141B Lecture 4\n",
    "\n",
    "The class website is <https://github.com/2019-winter-ucdavis-sta141b/notes>\n",
    "\n",
    "### Announcements\n",
    "\n",
    "* Remember to fill out the GitHub Username and Project Group Form (link on Piazza)!\n",
    "\n",
    "### Topics\n",
    "\n",
    "* Modules and Packages\n",
    "* Iteration\n",
    "    - Loops\n",
    "    - Comprehensions and Generators\n",
    "* NumPy\n",
    "\n",
    "### References\n",
    "\n",
    "* Python for Data Analysis, Ch. 4\n",
    "* [Python Data Science Handbook][PDSH], Ch. 2\n",
    "\n",
    "[PDSH]: https://jakevdp.github.io/PythonDataScienceHandbook/\n",
    "[ProGit]: https://git-scm.com/book/"
   ]
  },
  {
   "cell_type": "markdown",
   "metadata": {},
   "source": [
    "## Shell Commands from Jupyter\n",
    "\n",
    "On MacOS and Linux, you can run shell commands from a Jupyter notebook by putting a `!` in front of the command, in a code cell. On Windows, without additional configuration, most UNIX shell commands won't work if you try to run them from Jupyter.\n",
    "\n",
    "Jupyter runs shell commands in a temporary subshell, so commands like `cd` will not work the way you'd expect.\n",
    "\n",
    "Most of the time, it's easier to just use the shell in a terminal.\n",
    "\n",
    "But as an example, to check the working directory:"
   ]
  },
  {
   "cell_type": "markdown",
   "metadata": {},
   "source": [
    "## Modules\n",
    "\n",
    "A _module_ is a text file that contains Python code, usually a `.py` file.\n",
    "\n",
    "Python's `import` command lets us load code from a module to use in our script or notebook. Note: `import` is like a combination of R's `source()` and `library()` functions.\n",
    "\n",
    "Python provides many built-in modules for common tasks (see [the list][py-modules]). Packages provide even more modules. \n",
    "\n",
    "[py-modules]: https://docs.python.org/3/library/index.html"
   ]
  },
  {
   "cell_type": "markdown",
   "metadata": {},
   "source": [
    "## Iteration\n",
    "\n",
    "The three most important methods to repeat code for identical or similar tasks are:\n",
    "\n",
    "1. Loops (`while` and `for`)\n",
    "2. Comprehensions, Generators, and `map()`\n",
    "3. Vectorization (NumPy arrays and functions)\n",
    "\n",
    "These methods have tradeoffs. In general:\n",
    "\n",
    "* Loops are the most flexible -- particularly `while` loops.\n",
    "* Generators tend to use the least memory.\n",
    "* Vectorization tends to be fastest.\n",
    "\n",
    "There are other methods for iteration, like recursion (more info [here][tp1] and [here][tp2]), but they are not common in statistical computing with Python.\n",
    "\n",
    "[tp1]: http://greenteapress.com/thinkpython2/html/thinkpython2006.html#sec62\n",
    "[tp2]: http://greenteapress.com/thinkpython2/html/thinkpython2007.html#sec74"
   ]
  },
  {
   "cell_type": "markdown",
   "metadata": {},
   "source": [
    "### Loop Tips and Tricks\n",
    "\n",
    "An _iteratable_ object is a object that can be iterated over, element-by-element. Examples: tuples, lists, strings\n",
    "\n",
    "Python's for-loops can automatically get elements from iterable objects."
   ]
  },
  {
   "cell_type": "markdown",
   "metadata": {},
   "source": [
    "The `range()` function returns a sequence of integers."
   ]
  },
  {
   "cell_type": "markdown",
   "metadata": {},
   "source": [
    "You can use `list()` to convert objects like ranges to lists.\n",
    "\n",
    "Generally, you'll only need to do this for visual inspection. You DO NOT need to convert ranges into lists to use them in loops."
   ]
  },
  {
   "cell_type": "markdown",
   "metadata": {},
   "source": [
    "You can make the keys and values in a dictionary iterable with the `.items()` method."
   ]
  },
  {
   "cell_type": "markdown",
   "metadata": {},
   "source": [
    "_Zipping_ two sequences together means combining them into a list of tuples where:\n",
    "\n",
    "* The first element of each tuple is an element from the first sequence.\n",
    "* The second element of each tuple is an element from the second sequence.\n",
    "\n",
    "Usually it only makes sense to zip sequences that are the same length.\n",
    "\n",
    "The `zip()` function zips two or more sequences. Use it to iterate over multiple sequences at the same time."
   ]
  },
  {
   "cell_type": "markdown",
   "metadata": {},
   "source": [
    "The `enumerate()` function zips together index numbers and a sequence. In other words, the function enumerates a sequence."
   ]
  },
  {
   "cell_type": "markdown",
   "metadata": {},
   "source": [
    "### Comprehensions and Generators\n",
    "\n",
    "A _comprehension_ is a Python expression that transforms a sequence, element-by-element. The notation is similar to mathematical set notation:"
   ]
  },
  {
   "cell_type": "markdown",
   "metadata": {},
   "source": [
    "You can include a condition in a comprehension:"
   ]
  },
  {
   "cell_type": "markdown",
   "metadata": {},
   "source": [
    "You can also iterate over subelements.\n",
    "\n",
    "__This is tricky!__ The outermost iterables always come _first_ in the comprehension, which can be counterintuitive."
   ]
  },
  {
   "cell_type": "markdown",
   "metadata": {},
   "source": [
    "A comprehension surrounded by `[ ]` is called a _list comprehension_ and produces a list.\n",
    "\n",
    "A comprehension surrounded by `{ }` (and including `:`) is called a _dictionary comprehension_ and produces a dictionary."
   ]
  },
  {
   "cell_type": "markdown",
   "metadata": {},
   "source": [
    "#### Generator Expressions\n",
    "\n",
    "There's no such thing as a tuple comprehension. Instead, a comprehension surrounded by `( )` is called a _generator expression_."
   ]
  },
  {
   "cell_type": "markdown",
   "metadata": {},
   "source": [
    "A _generator_ is a special kind of iterable which computes its elements on demand. Examples: ranges, generator expressions\n",
    "\n",
    "Generators are especially useful for working with data that are too large to fit in memory. While making a huge list (say $10^9$ elements) might use enough memory to crash Python, making a generator with the same number of elements uses almost no memory.\n",
    "\n",
    "You can become a generator ninja and see several examples that use real data [here][beazley].\n",
    "\n",
    "[beazley]: https://speakerdeck.com/dabeaz/generator-tricks-for-systems-programmers-version-3-dot-0"
   ]
  },
  {
   "cell_type": "markdown",
   "metadata": {},
   "source": [
    "### NumPy\n",
    "\n",
    "NumPy is a Python package that provides tools for numerical computing (the name stands for \"Numerical Python\"). Since we're using Anaconda, NumPy is already installed.\n",
    "\n",
    "NumPy is documented [here](https://docs.scipy.org/doc/numpy/)."
   ]
  },
  {
   "cell_type": "code",
   "execution_count": null,
   "metadata": {},
   "outputs": [],
   "source": [
    "import numpy as np"
   ]
  },
  {
   "cell_type": "markdown",
   "metadata": {},
   "source": [
    "NumPy's core feature is the n-dimensional array, or _ndarray_. NumPy arrays are the basis for almost all of Python's scientific computing packages. They are the Python equivalent of R's built-in vectors.\n",
    "\n",
    "NumPy arrays use reference semantics!"
   ]
  },
  {
   "cell_type": "markdown",
   "metadata": {},
   "source": [
    "#### Creating NumPy Arrays\n",
    "\n",
    "You can create NumPy arrays from lists:"
   ]
  },
  {
   "cell_type": "markdown",
   "metadata": {},
   "source": [
    "You can create multidimensional arrays, like matrices, from nested lists."
   ]
  },
  {
   "cell_type": "markdown",
   "metadata": {},
   "source": [
    "NumPy also provides several helper functions to create arrays. See the documentation or references for a full list.\n",
    "\n",
    "As an example, `np.arange()` is the NumPy equivalent of `range()`."
   ]
  },
  {
   "cell_type": "markdown",
   "metadata": {},
   "source": [
    "#### Inspecting Arrays\n",
    "\n",
    "The array attributes `.shape` and `.size` contain information about the structure of the array."
   ]
  },
  {
   "cell_type": "markdown",
   "metadata": {},
   "source": [
    "The array attribute `.dtype` contains the data type of the array's elements."
   ]
  },
  {
   "cell_type": "markdown",
   "metadata": {},
   "source": [
    "See [here](https://docs.scipy.org/doc/numpy-1.15.0/user/basics.types.html) or [here](https://jakevdp.github.io/PythonDataScienceHandbook/02.01-understanding-data-types.html#NumPy-Standard-Data-Types) for a complete list of NumPy data types."
   ]
  },
  {
   "cell_type": "markdown",
   "metadata": {},
   "source": [
    "#### Vectorization"
   ]
  },
  {
   "cell_type": "markdown",
   "metadata": {},
   "source": [
    "Arithmetic is vectorized for NumPy arrays, which means arithmetic operators are applied element-by-element."
   ]
  },
  {
   "cell_type": "markdown",
   "metadata": {},
   "source": [
    "Many of NumPy's functions are also vectorized. In NumPy jargon, vectorized functions are also called _universal functions_ or _ufuncs_."
   ]
  },
  {
   "cell_type": "markdown",
   "metadata": {},
   "source": [
    "#### Indexing\n",
    "\n",
    "You can subset NumPy arrays with indexes or Boolean arrays. Again, this is similar to R.\n",
    "\n",
    "__Be careful!__ Python uses `and` and `or` to combine conditions, but NumPy uses `&` and `|`."
   ]
  },
  {
   "cell_type": "markdown",
   "metadata": {},
   "source": [
    "In multidimensional arrays, separate indexes for each dimension with commas. The \"bare\" slice `:` selects everything in one dimension.\n",
    "\n",
    "__Be careful!__ When subsetting, remember to use `:` where you would use a blank in R."
   ]
  },
  {
   "cell_type": "markdown",
   "metadata": {},
   "source": [
    "#### What else can NumPy do?\n",
    "\n",
    "NumPy also provides functions for:\n",
    "\n",
    "* Linear algebra (multiplication, transposition, decomposition, ...)\n",
    "* Random number generation\n",
    "* Elementary statistics\n",
    "* Signal processing\n",
    "* And more...\n",
    "\n",
    "There isn't time to cover these in detail in lecture, but you can learn more from the documentation and references.\n"
   ]
  },
  {
   "cell_type": "markdown",
   "metadata": {},
   "source": [
    "#### An Example\n",
    "\n",
    "Consider a circle with radius 1 circumscribed by a square with side length 2.\n",
    "\n",
    "The area of the circle is $\\pi$, so for a uniform distribution on the square, the probability a point will fall in the circle is $\\pi / 4$.\n",
    "\n",
    "We can estimate the probability to estimate $\\pi$."
   ]
  }
 ],
 "metadata": {
  "kernelspec": {
   "display_name": "Python 3",
   "language": "python",
   "name": "python3"
  },
  "language_info": {
   "codemirror_mode": {
    "name": "ipython",
    "version": 3
   },
   "file_extension": ".py",
   "mimetype": "text/x-python",
   "name": "python",
   "nbconvert_exporter": "python",
   "pygments_lexer": "ipython3",
   "version": "3.7.1"
  }
 },
 "nbformat": 4,
 "nbformat_minor": 2
}
