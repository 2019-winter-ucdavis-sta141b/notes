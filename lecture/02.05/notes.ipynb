{
 "cells": [
  {
   "cell_type": "markdown",
   "metadata": {},
   "source": [
    "# STA 141B Lecture 9\n",
    "\n",
    "The class website is <https://github.com/2019-winter-ucdavis-sta141b/notes>\n",
    "\n",
    "### Announcements\n",
    "\n",
    "### Topics\n",
    "\n",
    "* Undocumented APIs\n",
    "* XML and HTML\n",
    "* Web Scraping\n",
    "\n",
    "### Datasets\n",
    "\n",
    "* [Yolo County Health Inspections](https://yoloeco.envisionconnect.com/)\n",
    "* [Wikipedia's List of Largest Cities](https://en.wikipedia.org/wiki/List_of_largest_cities)\n",
    "* [CUESA's Vegetable Seasons Chart](https://cuesa.org/eat-seasonally/charts/vegetables)\n",
    "\n",
    "### References\n",
    "\n",
    "* [__requests__ documentation](http://docs.python-requests.org/en/master/)\n",
    "* [__requests-html__ documentation](https://html.python-requests.org/)\n",
    "* [MDN HTML Reference](https://developer.mozilla.org/en-US/docs/Web/HTML/Element)\n",
    "* [XPath Diner](http://www.topswagcode.com/xpath/) -- an interactive XPath tutorial\n",
    "* [CSS Diner](https://flukeout.github.io/) -- an interactive CSS Selector tutorial\n",
    "* Python for Data Analysis, Ch. 6\n",
    "* Python for Data Analysis, Ch. 7.3 (to review string processing)\n",
    "\n",
    "[PDSH]: https://jakevdp.github.io/PythonDataScienceHandbook/\n",
    "[ProGit]: https://git-scm.com/book/"
   ]
  },
  {
   "cell_type": "markdown",
   "metadata": {},
   "source": [
    "## Getting Data from the Web\n",
    "\n",
    "Revised list of ways you can get data from the web, from most to least convenient:\n",
    "\n",
    "1. Direct download or \"data dump\"\n",
    "2. Python or R package (there are packages for many popular web APIs)\n",
    "3. Documented web API\n",
    "4. Undocumented web API\n",
    "5. Scraping"
   ]
  },
  {
   "cell_type": "markdown",
   "metadata": {},
   "source": [
    "## Undocumented Web APIs\n",
    "\n",
    "Many websites use undocumented web APIs to get data. For example:\n",
    "\n",
    "* [University of California Compensation](https://ucannualwage.ucop.edu/wage/)\n",
    "* [Yolo County Health Inspections](https://yoloeco.envisionconnect.com/)\n",
    "\n",
    "You can identify these websites by looking at requests in your browser's developer tools. In Firefox or Chrome, you can open the developer tools with `ctrl-shift-i`.\n",
    "\n",
    "Requests to web APIs almost always return JSON or XML data. By examining the browser requests, you can work out the endpoints and parameters, allowing you to use the API.\n",
    "\n",
    "**CAUTION:** Web APIs that are undocumented are often undocumented for a reason. Using an undocumented API may make someone angry or get you into legal trouble! Government and quasi-government websites (like the examples above) are probably okay, as long as you cache and rate-limit your requests. For everything else, find for an alternative or get permission first."
   ]
  },
  {
   "cell_type": "markdown",
   "metadata": {},
   "source": [
    "Let's reverse engineer the Yolo County Health Inspections web API so that we can get data about local restaurants."
   ]
  },
  {
   "cell_type": "code",
   "execution_count": 1,
   "metadata": {},
   "outputs": [],
   "source": [
    "import numpy as np\n",
    "import pandas as pd\n",
    "import requests\n",
    "import requests_cache\n",
    "\n",
    "requests_cache.install_cache(\"mycache\")"
   ]
  },
  {
   "cell_type": "code",
   "execution_count": 12,
   "metadata": {},
   "outputs": [
    {
     "data": {
      "text/plain": [
       "[{'FacilityId': 'FA0016377',\n",
       "  'FacilityName': 'YAKITORI YUCHAN',\n",
       "  'Address': '109 E ST ',\n",
       "  'CityStateZip': 'DAVIS CA 95616 ',\n",
       "  'LastScore': 100.0,\n",
       "  'attachmentId': '63958585-5175-4387-a88f-a94200ecc3aa'}]"
      ]
     },
     "execution_count": 12,
     "metadata": {},
     "output_type": "execute_result"
    }
   ],
   "source": [
    "def get_health_info(q):\n",
    "    response = requests.post(\"https://yoloeco.envisionconnect.com/api/pressAgentClient/searchFacilities\", params = {\n",
    "        \"PressAgentOid\": \"c08cb189-894c-4c8c-b595-a5ef010226b4\",\n",
    "    }, json = {\n",
    "        \"FacilityName\": q\n",
    "    })\n",
    "\n",
    "    response.raise_for_status()\n",
    "    #\"FacilityName\": \"pluto's\"\n",
    "\n",
    "    # Different ways to attach data to a POST request:\n",
    "    # With data=, we get a query string\n",
    "    #   FacilityName=pluto's\n",
    "\n",
    "    # With json=, we get a json object\n",
    "\n",
    "    return response.json()\n",
    "\n",
    "get_health_info(\"pluto's\")\n",
    "get_health_info(\"yakitori\")"
   ]
  },
  {
   "cell_type": "markdown",
   "metadata": {},
   "source": [
    "We could reverse engineer other parts of the API to get detailed data about health violations."
   ]
  },
  {
   "cell_type": "markdown",
   "metadata": {},
   "source": [
    "## Web Scraping"
   ]
  },
  {
   "cell_type": "markdown",
   "metadata": {},
   "source": [
    "### What makes a web page?\n",
    "\n",
    "Web pages are written in _hypertext markup language_ (HTML). HTML files (`.htm` or `.html`) are plain text, just like JSON, Python scripts, and R scripts.\n",
    "\n",
    "In HTML, we use _tags_ to create _elements_ of a web page. Elements add formatting and structure to the page.\n",
    "\n",
    "* Tags usually come in pairs: an opening tag and a closing tag.\n",
    "* Tags are written `<NAME>` for opening tags, `</NAME>` for closing tags, and `<NAME />` for singleton tags.\n",
    "* Opening and singleton tags can have _attributes_ that contain additional information. Attributes are written `ATTRIBUTE=VALUE` after the tag name. \n",
    "\n",
    "See [here](https://developer.mozilla.org/en-US/docs/Learn/Getting_started_with_the_web/HTML_basics) for a more detailed explanation, and [here](https://developer.mozilla.org/en-US/docs/Web/HTML/Element) for a list of valid HTML elements.\n",
    "\n",
    "#### Examples\n",
    "\n",
    "As an example:\n",
    "\n",
    "```html\n",
    "<p>This <a href=\"https://www.youtube.com/watch?v=dQw4w9WgXcQ\">page</a> is famous and this <strong>word</strong> is emphasized.</p>\n",
    "```\n",
    "The `p` tag marks a paragraph, the `a` tag marks a link (an _anchor_), and the `strong` tag marks emphasized text.\n",
    "\n",
    "Here's a string that contains HTML for a simple, complete website:"
   ]
  },
  {
   "cell_type": "code",
   "execution_count": 14,
   "metadata": {},
   "outputs": [],
   "source": [
    "page = \"\"\"\n",
    "<html>\n",
    "<head>\n",
    "    <title>This is the Title!</title>\n",
    "</head>\n",
    "\n",
    "<body>\n",
    "    <p>This is a paragraph!</p>\n",
    "    <p id=\"best-paragraph\">This is another paragraph! 🌮</p>\n",
    "    <p>Visit <a href=\"https://pudding.cool/\">The Pudding</a>.</p>\n",
    "    <span>This is a span. It comes with an avocado. 🥑</span>\n",
    "</body>\n",
    "</html>\n",
    "\"\"\""
   ]
  },
  {
   "cell_type": "markdown",
   "metadata": {},
   "source": [
    "_Extensible markup language_ (XML) also uses tags to create elements. We say XML is _extensible_ because you can create your own XML elements (unlike HTML). People typically use XML to describe structure and meaning of data, rather than for formatting.\n",
    "\n",
    "We'll use the same process to extract data from both HTML and XML."
   ]
  },
  {
   "cell_type": "markdown",
   "metadata": {},
   "source": [
    "### Helper Packages\n",
    "\n",
    "A _parser_ converts formatted data into familiar data structures. We've used __requests__' built-in JSON parser, but the package doesn't have a built-in HTML/XML parser. Fortunately, there are many other Python packages for parsing HTML/XML and web scraping.\n",
    "\n",
    "HTML/XML Parsers:\n",
    "* [lxml](https://lxml.de/)\n",
    "* [html5lib](https://github.com/html5lib/html5lib-python)\n",
    "* [beautifulsoup](https://www.crummy.com/software/BeautifulSoup/)\n",
    "* [requests-html](https://html.python-requests.org/)\n",
    "\n",
    "Scraper Frameworks (_convenient after learning the basics with parsers_):\n",
    "* [scrapy](https://scrapy.org/)\n",
    "* [newspaper3k](https://github.com/codelucas/newspaper)\n",
    "\n",
    "Even more [here](https://github.com/lorien/awesome-web-scraping/blob/master/python.md#web-scraping-frameworks).\n",
    "\n",
    "We'll use __lxml__ here, but you're welcome to use other packages on assignments and the project. To install __lxml__ for Anaconda, run `conda install -c anaconda lxml` in a shell."
   ]
  },
  {
   "cell_type": "code",
   "execution_count": 15,
   "metadata": {},
   "outputs": [
    {
     "data": {
      "text/plain": [
       "<Element html at 0x7f860a635048>"
      ]
     },
     "execution_count": 15,
     "metadata": {},
     "output_type": "execute_result"
    }
   ],
   "source": [
    "import lxml.html as lx\n",
    "\n",
    "html = lx.fromstring(page)\n",
    "html"
   ]
  },
  {
   "cell_type": "markdown",
   "metadata": {},
   "source": [
    "### Finding Elements\n",
    "\n",
    "Elements are nested, so an HTML document is like a tree:\n",
    "```\n",
    "html\n",
    "├── head\n",
    "│   └── title\n",
    "└── body\n",
    "    ├── p\n",
    "    ├── p\n",
    "    ├── p\n",
    "    │   └── a\n",
    "    └── span\n",
    "```\n",
    "This is similar to the file system on your computer. The key difference is that elements at the same level can have the same tag name."
   ]
  },
  {
   "cell_type": "markdown",
   "metadata": {},
   "source": [
    "#### XPath\n",
    "\n",
    "The _XML Path Language_ (XPath) lets us write paths to elements. XPath paths look a lot like file paths. XPath is not Python-specific!\n",
    "\n",
    "The `.xpath()` method gets all elements at an XPath path:"
   ]
  },
  {
   "cell_type": "code",
   "execution_count": 16,
   "metadata": {},
   "outputs": [
    {
     "data": {
      "text/plain": [
       "[<Element title at 0x7f8609c4a868>]"
      ]
     },
     "execution_count": 16,
     "metadata": {},
     "output_type": "execute_result"
    }
   ],
   "source": [
    "html.xpath(\"/html/head/title\")"
   ]
  },
  {
   "cell_type": "code",
   "execution_count": 17,
   "metadata": {},
   "outputs": [
    {
     "data": {
      "text/plain": [
       "[<Element p at 0x7f8609c4aa98>,\n",
       " <Element p at 0x7f8609c4aae8>,\n",
       " <Element p at 0x7f8609c4ab38>]"
      ]
     },
     "execution_count": 17,
     "metadata": {},
     "output_type": "execute_result"
    }
   ],
   "source": [
    "html.xpath(\"/html/body/p\")"
   ]
  },
  {
   "cell_type": "markdown",
   "metadata": {},
   "source": [
    "Since there may be more than one element, the method always returns a list.\n",
    "\n",
    "Absolute paths are not robust for scraping. An update to a web page that adds a single tag can break a scraper that uses absolute paths. In XPath, `//` means \"anywhere below\". We'll use `//` often because it's more robust:"
   ]
  },
  {
   "cell_type": "code",
   "execution_count": 20,
   "metadata": {},
   "outputs": [
    {
     "data": {
      "text/plain": [
       "[<Element a at 0x7f8609c4ab88>]"
      ]
     },
     "execution_count": 20,
     "metadata": {},
     "output_type": "execute_result"
    }
   ],
   "source": [
    "html.xpath(\"/html/body//a\")"
   ]
  },
  {
   "cell_type": "markdown",
   "metadata": {},
   "source": [
    "What if we just elements that satisfy a certain condition? In XPath, `[ ]` filters out elements that don't match a condition. For example:"
   ]
  },
  {
   "cell_type": "code",
   "execution_count": 22,
   "metadata": {},
   "outputs": [
    {
     "data": {
      "text/plain": [
       "[<Element p at 0x7f8609c4aae8>]"
      ]
     },
     "execution_count": 22,
     "metadata": {},
     "output_type": "execute_result"
    }
   ],
   "source": [
    "html.xpath(\"//p[@id = 'best-paragraph']\")"
   ]
  },
  {
   "cell_type": "markdown",
   "metadata": {},
   "source": [
    "[XPath Diner](http://www.topswagcode.com/xpath/) is an interactive tutorial that teaches most of the XPath syntax. It takes about 20-60 minutes. Work through it to become an XPath ninja!"
   ]
  },
  {
   "cell_type": "markdown",
   "metadata": {},
   "source": [
    "#### CSS Selectors\n",
    "\n",
    "_Cascading Style Sheets_ (CSS) is another language for formatting elements in an HTML document. CSS provides another way to select elements, called _CSS selectors_.\n",
    "\n",
    "CSS selectors are more concise but less flexible than XPath paths. The `.cssselect()` method gets all elements at a CSS selector:"
   ]
  },
  {
   "cell_type": "code",
   "execution_count": 23,
   "metadata": {},
   "outputs": [
    {
     "data": {
      "text/plain": [
       "[<Element p at 0x7f8609c4aa98>,\n",
       " <Element p at 0x7f8609c4aae8>,\n",
       " <Element p at 0x7f8609c4ab38>]"
      ]
     },
     "execution_count": 23,
     "metadata": {},
     "output_type": "execute_result"
    }
   ],
   "source": [
    "html.cssselect(\"p\")"
   ]
  },
  {
   "cell_type": "markdown",
   "metadata": {},
   "source": [
    "### Extracting Text and Attributes\n",
    "\n",
    "There are two ways to get text from an element:\n",
    "\n",
    "* `.text` gives text inside the element, but not its children\n",
    "* `.text_content()` gives text inside the element and its children, with all tags removed"
   ]
  },
  {
   "cell_type": "code",
   "execution_count": 27,
   "metadata": {},
   "outputs": [
    {
     "data": {
      "text/plain": [
       "'This is another paragraph! 🌮'"
      ]
     },
     "execution_count": 27,
     "metadata": {},
     "output_type": "execute_result"
    }
   ],
   "source": [
    "p = html.xpath(\"//p[@id = 'best-paragraph']\")[0]\n",
    "p.text_content()"
   ]
  },
  {
   "cell_type": "code",
   "execution_count": 28,
   "metadata": {},
   "outputs": [
    {
     "data": {
      "text/plain": [
       "'\\n'"
      ]
     },
     "execution_count": 28,
     "metadata": {},
     "output_type": "execute_result"
    }
   ],
   "source": [
    "html.text"
   ]
  },
  {
   "cell_type": "code",
   "execution_count": 29,
   "metadata": {},
   "outputs": [
    {
     "data": {
      "text/plain": [
       "'\\n\\n    This is the Title!\\n\\n\\n\\n    This is a paragraph!\\n    This is another paragraph! 🌮\\n    Visit The Pudding.\\n    This is a span. It comes with an avocado. 🥑\\n\\n'"
      ]
     },
     "execution_count": 29,
     "metadata": {},
     "output_type": "execute_result"
    }
   ],
   "source": [
    "html.text_content()"
   ]
  },
  {
   "cell_type": "markdown",
   "metadata": {},
   "source": [
    "We can get values from attributes on an element with `.attrib`, which is a dictionary:"
   ]
  },
  {
   "cell_type": "code",
   "execution_count": 32,
   "metadata": {},
   "outputs": [
    {
     "data": {
      "text/plain": [
       "'best-paragraph'"
      ]
     },
     "execution_count": 32,
     "metadata": {},
     "output_type": "execute_result"
    }
   ],
   "source": [
    "p.attrib[\"id\"]"
   ]
  },
  {
   "cell_type": "code",
   "execution_count": 36,
   "metadata": {},
   "outputs": [
    {
     "data": {
      "text/plain": [
       "['https://pudding.cool/']"
      ]
     },
     "execution_count": 36,
     "metadata": {},
     "output_type": "execute_result"
    }
   ],
   "source": [
    "[x.attrib[\"href\"] for x in html.xpath(\"//a\")]"
   ]
  },
  {
   "cell_type": "markdown",
   "metadata": {},
   "source": [
    "### Example: Scraping Tables\n",
    "\n",
    "For data in a `table` element, we can use __Pandas__ instead of writing a scraper.\n",
    "\n",
    "Wikipedia provides lots of useful information in tables. Let's get the Wikipedia list of [the world's largest cities][wiki].\n",
    "\n",
    "[wiki]: https://en.wikipedia.org/wiki/List_of_largest_cities"
   ]
  },
  {
   "cell_type": "code",
   "execution_count": 63,
   "metadata": {},
   "outputs": [
    {
     "data": {
      "text/html": [
       "<div>\n",
       "<style scoped>\n",
       "    .dataframe tbody tr th:only-of-type {\n",
       "        vertical-align: middle;\n",
       "    }\n",
       "\n",
       "    .dataframe tbody tr th {\n",
       "        vertical-align: top;\n",
       "    }\n",
       "\n",
       "    .dataframe thead th {\n",
       "        text-align: right;\n",
       "    }\n",
       "</style>\n",
       "<table border=\"1\" class=\"dataframe\">\n",
       "  <thead>\n",
       "    <tr style=\"text-align: right;\">\n",
       "      <th></th>\n",
       "      <th>City</th>\n",
       "      <th>Nation</th>\n",
       "      <th>City Proper</th>\n",
       "      <th>Metropolitan Area</th>\n",
       "      <th>Urban Area</th>\n",
       "    </tr>\n",
       "  </thead>\n",
       "  <tbody>\n",
       "    <tr>\n",
       "      <th>0</th>\n",
       "      <td>Chongqing</td>\n",
       "      <td>China</td>\n",
       "      <td>30751600.0</td>\n",
       "      <td>17000000.0</td>\n",
       "      <td>8165500.0</td>\n",
       "    </tr>\n",
       "    <tr>\n",
       "      <th>1</th>\n",
       "      <td>Shanghai</td>\n",
       "      <td>China</td>\n",
       "      <td>24256800.0</td>\n",
       "      <td>24750000.0</td>\n",
       "      <td>23416000.0</td>\n",
       "    </tr>\n",
       "    <tr>\n",
       "      <th>2</th>\n",
       "      <td>Beijing</td>\n",
       "      <td>China</td>\n",
       "      <td>21516000.0</td>\n",
       "      <td>24900000.0</td>\n",
       "      <td>21009000.0</td>\n",
       "    </tr>\n",
       "    <tr>\n",
       "      <th>3</th>\n",
       "      <td>Lagos</td>\n",
       "      <td>Nigeria</td>\n",
       "      <td>16060303.0</td>\n",
       "      <td>21000000.0</td>\n",
       "      <td>13123000.0</td>\n",
       "    </tr>\n",
       "    <tr>\n",
       "      <th>4</th>\n",
       "      <td>Dhaka</td>\n",
       "      <td>Bangladesh</td>\n",
       "      <td>14399000.0</td>\n",
       "      <td>20000000.0</td>\n",
       "      <td>19580000.0</td>\n",
       "    </tr>\n",
       "    <tr>\n",
       "      <th>5</th>\n",
       "      <td>Mumbai</td>\n",
       "      <td>India</td>\n",
       "      <td>12478447.0</td>\n",
       "      <td>12771200.0</td>\n",
       "      <td>20748395.0</td>\n",
       "    </tr>\n",
       "    <tr>\n",
       "      <th>6</th>\n",
       "      <td>Chengdu</td>\n",
       "      <td>China</td>\n",
       "      <td>16044700.0</td>\n",
       "      <td>10376000.0</td>\n",
       "      <td>6316922.0</td>\n",
       "    </tr>\n",
       "    <tr>\n",
       "      <th>7</th>\n",
       "      <td>Karachi</td>\n",
       "      <td>Pakistan</td>\n",
       "      <td>14910352.0</td>\n",
       "      <td>NaN</td>\n",
       "      <td>NaN</td>\n",
       "    </tr>\n",
       "    <tr>\n",
       "      <th>8</th>\n",
       "      <td>Guangzhou</td>\n",
       "      <td>China</td>\n",
       "      <td>14043500.0</td>\n",
       "      <td>25000000.0</td>\n",
       "      <td>20800654.0</td>\n",
       "    </tr>\n",
       "    <tr>\n",
       "      <th>9</th>\n",
       "      <td>Istanbul</td>\n",
       "      <td>Turkey</td>\n",
       "      <td>14025000.0</td>\n",
       "      <td>13520000.0</td>\n",
       "      <td>14657000.0</td>\n",
       "    </tr>\n",
       "    <tr>\n",
       "      <th>10</th>\n",
       "      <td>Tokyo</td>\n",
       "      <td>Japan</td>\n",
       "      <td>13839910.0</td>\n",
       "      <td>38140000.0</td>\n",
       "      <td>36923000.0</td>\n",
       "    </tr>\n",
       "    <tr>\n",
       "      <th>11</th>\n",
       "      <td>Tianjin</td>\n",
       "      <td>China</td>\n",
       "      <td>12784000.0</td>\n",
       "      <td>15469500.0</td>\n",
       "      <td>6859779.0</td>\n",
       "    </tr>\n",
       "    <tr>\n",
       "      <th>12</th>\n",
       "      <td>Moscow</td>\n",
       "      <td>Russia</td>\n",
       "      <td>12197596.0</td>\n",
       "      <td>16170000.0</td>\n",
       "      <td>16800000.0</td>\n",
       "    </tr>\n",
       "    <tr>\n",
       "      <th>13</th>\n",
       "      <td>São Paulo</td>\n",
       "      <td>Brazil</td>\n",
       "      <td>12038175.0</td>\n",
       "      <td>21090791.0</td>\n",
       "      <td>36842102.0</td>\n",
       "    </tr>\n",
       "    <tr>\n",
       "      <th>14</th>\n",
       "      <td>Kinshasa</td>\n",
       "      <td>DR Congo</td>\n",
       "      <td>11855000.0</td>\n",
       "      <td>13265000.0</td>\n",
       "      <td>1038195.0</td>\n",
       "    </tr>\n",
       "    <tr>\n",
       "      <th>15</th>\n",
       "      <td>Delhi</td>\n",
       "      <td>India</td>\n",
       "      <td>11034555.0</td>\n",
       "      <td>16314838.0</td>\n",
       "      <td>21753486.0</td>\n",
       "    </tr>\n",
       "    <tr>\n",
       "      <th>16</th>\n",
       "      <td>Baoding</td>\n",
       "      <td>China</td>\n",
       "      <td>11194372.0</td>\n",
       "      <td>2176857.0</td>\n",
       "      <td>NaN</td>\n",
       "    </tr>\n",
       "    <tr>\n",
       "      <th>17</th>\n",
       "      <td>Lahore</td>\n",
       "      <td>Pakistan</td>\n",
       "      <td>11126285.0</td>\n",
       "      <td>13569000.0</td>\n",
       "      <td>10665000.0</td>\n",
       "    </tr>\n",
       "    <tr>\n",
       "      <th>18</th>\n",
       "      <td>Cairo</td>\n",
       "      <td>Egypt</td>\n",
       "      <td>10230350.0</td>\n",
       "      <td>18290000.0</td>\n",
       "      <td>22439541.0</td>\n",
       "    </tr>\n",
       "    <tr>\n",
       "      <th>19</th>\n",
       "      <td>Seoul</td>\n",
       "      <td>Korea, South</td>\n",
       "      <td>10197604.0</td>\n",
       "      <td>12700000.0</td>\n",
       "      <td>25520000.0</td>\n",
       "    </tr>\n",
       "    <tr>\n",
       "      <th>20</th>\n",
       "      <td>Jakarta</td>\n",
       "      <td>Indonesia</td>\n",
       "      <td>10075310.0</td>\n",
       "      <td>30539000.0</td>\n",
       "      <td>30075310.0</td>\n",
       "    </tr>\n",
       "    <tr>\n",
       "      <th>21</th>\n",
       "      <td>Wenzhou</td>\n",
       "      <td>China</td>\n",
       "      <td>9175000.0</td>\n",
       "      <td>9122102.0</td>\n",
       "      <td>6642592.0</td>\n",
       "    </tr>\n",
       "    <tr>\n",
       "      <th>22</th>\n",
       "      <td>Lima</td>\n",
       "      <td>Peru</td>\n",
       "      <td>9174855.0</td>\n",
       "      <td>10750000.0</td>\n",
       "      <td>9886647.0</td>\n",
       "    </tr>\n",
       "    <tr>\n",
       "      <th>23</th>\n",
       "      <td>Mexico City</td>\n",
       "      <td>Mexico</td>\n",
       "      <td>8974724.0</td>\n",
       "      <td>20999000.0</td>\n",
       "      <td>21178959.0</td>\n",
       "    </tr>\n",
       "    <tr>\n",
       "      <th>24</th>\n",
       "      <td>London</td>\n",
       "      <td>United Kingdom</td>\n",
       "      <td>8825001.0</td>\n",
       "      <td>14040163.0</td>\n",
       "      <td>9787426.0</td>\n",
       "    </tr>\n",
       "    <tr>\n",
       "      <th>25</th>\n",
       "      <td>Bangkok</td>\n",
       "      <td>Thailand</td>\n",
       "      <td>8750600.0</td>\n",
       "      <td>15931300.0</td>\n",
       "      <td>15645000.0</td>\n",
       "    </tr>\n",
       "    <tr>\n",
       "      <th>26</th>\n",
       "      <td>Xi'an</td>\n",
       "      <td>China</td>\n",
       "      <td>8705600.0</td>\n",
       "      <td>13569700.0</td>\n",
       "      <td>5206253.0</td>\n",
       "    </tr>\n",
       "    <tr>\n",
       "      <th>27</th>\n",
       "      <td>Chennai</td>\n",
       "      <td>India</td>\n",
       "      <td>4681087.0</td>\n",
       "      <td>NaN</td>\n",
       "      <td>8917749.0</td>\n",
       "    </tr>\n",
       "    <tr>\n",
       "      <th>28</th>\n",
       "      <td>Bangalore</td>\n",
       "      <td>India</td>\n",
       "      <td>8425970.0</td>\n",
       "      <td>NaN</td>\n",
       "      <td>8728906.0</td>\n",
       "    </tr>\n",
       "    <tr>\n",
       "      <th>29</th>\n",
       "      <td>New York City</td>\n",
       "      <td>United States</td>\n",
       "      <td>8622698.0</td>\n",
       "      <td>20153634.0</td>\n",
       "      <td>23689255.0</td>\n",
       "    </tr>\n",
       "    <tr>\n",
       "      <th>...</th>\n",
       "      <td>...</td>\n",
       "      <td>...</td>\n",
       "      <td>...</td>\n",
       "      <td>...</td>\n",
       "      <td>...</td>\n",
       "    </tr>\n",
       "    <tr>\n",
       "      <th>218</th>\n",
       "      <td>Ahvaz</td>\n",
       "      <td>Iran</td>\n",
       "      <td>1184788.0</td>\n",
       "      <td>1260817.0</td>\n",
       "      <td>NaN</td>\n",
       "    </tr>\n",
       "    <tr>\n",
       "      <th>219</th>\n",
       "      <td>Sofia</td>\n",
       "      <td>Bulgaria</td>\n",
       "      <td>1260120.0</td>\n",
       "      <td>1682340.0</td>\n",
       "      <td>1547472.0</td>\n",
       "    </tr>\n",
       "    <tr>\n",
       "      <th>220</th>\n",
       "      <td>Nizhny Novgorod</td>\n",
       "      <td>Russia</td>\n",
       "      <td>1250619.0</td>\n",
       "      <td>NaN</td>\n",
       "      <td>NaN</td>\n",
       "    </tr>\n",
       "    <tr>\n",
       "      <th>221</th>\n",
       "      <td>Abuja</td>\n",
       "      <td>Nigeria</td>\n",
       "      <td>1235880.0</td>\n",
       "      <td>6000000.0</td>\n",
       "      <td>2440000.0</td>\n",
       "    </tr>\n",
       "    <tr>\n",
       "      <th>222</th>\n",
       "      <td>Calgary</td>\n",
       "      <td>Canada</td>\n",
       "      <td>1235171.0</td>\n",
       "      <td>1214839.0</td>\n",
       "      <td>1095404.0</td>\n",
       "    </tr>\n",
       "    <tr>\n",
       "      <th>223</th>\n",
       "      <td>Saitama</td>\n",
       "      <td>Japan</td>\n",
       "      <td>1226656.0</td>\n",
       "      <td>NaN</td>\n",
       "      <td>NaN</td>\n",
       "    </tr>\n",
       "    <tr>\n",
       "      <th>224</th>\n",
       "      <td>Suwon</td>\n",
       "      <td>Korea, South</td>\n",
       "      <td>1202310.0</td>\n",
       "      <td>NaN</td>\n",
       "      <td>NaN</td>\n",
       "    </tr>\n",
       "    <tr>\n",
       "      <th>225</th>\n",
       "      <td>Hiroshima</td>\n",
       "      <td>Japan</td>\n",
       "      <td>1196274.0</td>\n",
       "      <td>NaN</td>\n",
       "      <td>NaN</td>\n",
       "    </tr>\n",
       "    <tr>\n",
       "      <th>226</th>\n",
       "      <td>Rosario</td>\n",
       "      <td>Argentina</td>\n",
       "      <td>1193605.0</td>\n",
       "      <td>1276000.0</td>\n",
       "      <td>NaN</td>\n",
       "    </tr>\n",
       "    <tr>\n",
       "      <th>227</th>\n",
       "      <td>Brisbane</td>\n",
       "      <td>Australia</td>\n",
       "      <td>1180285.0</td>\n",
       "      <td>2360241.0</td>\n",
       "      <td>NaN</td>\n",
       "    </tr>\n",
       "    <tr>\n",
       "      <th>228</th>\n",
       "      <td>Allahabad</td>\n",
       "      <td>India</td>\n",
       "      <td>NaN</td>\n",
       "      <td>1117094.0</td>\n",
       "      <td>NaN</td>\n",
       "    </tr>\n",
       "    <tr>\n",
       "      <th>229</th>\n",
       "      <td>Belgrade</td>\n",
       "      <td>Serbia</td>\n",
       "      <td>1166763.0</td>\n",
       "      <td>1233796.0</td>\n",
       "      <td>1659440.0</td>\n",
       "    </tr>\n",
       "    <tr>\n",
       "      <th>230</th>\n",
       "      <td>Campinas</td>\n",
       "      <td>Brazil</td>\n",
       "      <td>1164098.0</td>\n",
       "      <td>3094181.0</td>\n",
       "      <td>NaN</td>\n",
       "    </tr>\n",
       "    <tr>\n",
       "      <th>231</th>\n",
       "      <td>Ulsan</td>\n",
       "      <td>Korea, South</td>\n",
       "      <td>1163690.0</td>\n",
       "      <td>NaN</td>\n",
       "      <td>NaN</td>\n",
       "    </tr>\n",
       "    <tr>\n",
       "      <th>232</th>\n",
       "      <td>Omsk</td>\n",
       "      <td>Russia</td>\n",
       "      <td>1154116.0</td>\n",
       "      <td>NaN</td>\n",
       "      <td>NaN</td>\n",
       "    </tr>\n",
       "    <tr>\n",
       "      <th>233</th>\n",
       "      <td>Dakar</td>\n",
       "      <td>Senegal</td>\n",
       "      <td>1146053.0</td>\n",
       "      <td>2452656.0</td>\n",
       "      <td>NaN</td>\n",
       "    </tr>\n",
       "    <tr>\n",
       "      <th>234</th>\n",
       "      <td>Abu Dhabi</td>\n",
       "      <td>United Arab Emirates</td>\n",
       "      <td>1145000.0</td>\n",
       "      <td>NaN</td>\n",
       "      <td>NaN</td>\n",
       "    </tr>\n",
       "    <tr>\n",
       "      <th>235</th>\n",
       "      <td>Monterrey</td>\n",
       "      <td>Mexico</td>\n",
       "      <td>1130960.0</td>\n",
       "      <td>4520329.0</td>\n",
       "      <td>NaN</td>\n",
       "    </tr>\n",
       "    <tr>\n",
       "      <th>236</th>\n",
       "      <td>Tripoli</td>\n",
       "      <td>Libya</td>\n",
       "      <td>1126000.0</td>\n",
       "      <td>2267000.0</td>\n",
       "      <td>2325000.0</td>\n",
       "    </tr>\n",
       "    <tr>\n",
       "      <th>237</th>\n",
       "      <td>Rostov-on-Don</td>\n",
       "      <td>Russia</td>\n",
       "      <td>1119900.0</td>\n",
       "      <td>NaN</td>\n",
       "      <td>NaN</td>\n",
       "    </tr>\n",
       "    <tr>\n",
       "      <th>238</th>\n",
       "      <td>T'bilisi</td>\n",
       "      <td>Georgia</td>\n",
       "      <td>1118035.0</td>\n",
       "      <td>1485293.0</td>\n",
       "      <td>NaN</td>\n",
       "    </tr>\n",
       "    <tr>\n",
       "      <th>239</th>\n",
       "      <td>Fez</td>\n",
       "      <td>Morocco</td>\n",
       "      <td>1112072.0</td>\n",
       "      <td>NaN</td>\n",
       "      <td>NaN</td>\n",
       "    </tr>\n",
       "    <tr>\n",
       "      <th>240</th>\n",
       "      <td>Birmingham</td>\n",
       "      <td>United Kingdom</td>\n",
       "      <td>1111300.0</td>\n",
       "      <td>3683000.0</td>\n",
       "      <td>2440986.0</td>\n",
       "    </tr>\n",
       "    <tr>\n",
       "      <th>241</th>\n",
       "      <td>Yerevan</td>\n",
       "      <td>Armenia</td>\n",
       "      <td>1060138.0</td>\n",
       "      <td>NaN</td>\n",
       "      <td>NaN</td>\n",
       "    </tr>\n",
       "    <tr>\n",
       "      <th>242</th>\n",
       "      <td>Cologne</td>\n",
       "      <td>Germany</td>\n",
       "      <td>1057327.0</td>\n",
       "      <td>3573500.0</td>\n",
       "      <td>NaN</td>\n",
       "    </tr>\n",
       "    <tr>\n",
       "      <th>243</th>\n",
       "      <td>Tunis</td>\n",
       "      <td>Tunisia</td>\n",
       "      <td>1056247.0</td>\n",
       "      <td>2643695.0</td>\n",
       "      <td>2294547.0</td>\n",
       "    </tr>\n",
       "    <tr>\n",
       "      <th>244</th>\n",
       "      <td>Bulawayo</td>\n",
       "      <td>Zimbabwe</td>\n",
       "      <td>1050000.0</td>\n",
       "      <td>NaN</td>\n",
       "      <td>1200000.0</td>\n",
       "    </tr>\n",
       "    <tr>\n",
       "      <th>245</th>\n",
       "      <td>Astana</td>\n",
       "      <td>Kazakhstan</td>\n",
       "      <td>1029556.0</td>\n",
       "      <td>1200000.0</td>\n",
       "      <td>NaN</td>\n",
       "    </tr>\n",
       "    <tr>\n",
       "      <th>246</th>\n",
       "      <td>Islamabad</td>\n",
       "      <td>Pakistan</td>\n",
       "      <td>1014825.0</td>\n",
       "      <td>NaN</td>\n",
       "      <td>1829180.0</td>\n",
       "    </tr>\n",
       "    <tr>\n",
       "      <th>247</th>\n",
       "      <td>Cartagena</td>\n",
       "      <td>Colombia</td>\n",
       "      <td>1013389.0</td>\n",
       "      <td>1013389.0</td>\n",
       "      <td>1013389.0</td>\n",
       "    </tr>\n",
       "  </tbody>\n",
       "</table>\n",
       "<p>248 rows × 5 columns</p>\n",
       "</div>"
      ],
      "text/plain": [
       "                City                Nation  City Proper  Metropolitan Area  \\\n",
       "0          Chongqing                 China   30751600.0         17000000.0   \n",
       "1           Shanghai                 China   24256800.0         24750000.0   \n",
       "2            Beijing                 China   21516000.0         24900000.0   \n",
       "3              Lagos               Nigeria   16060303.0         21000000.0   \n",
       "4              Dhaka            Bangladesh   14399000.0         20000000.0   \n",
       "5             Mumbai                 India   12478447.0         12771200.0   \n",
       "6            Chengdu                 China   16044700.0         10376000.0   \n",
       "7            Karachi              Pakistan   14910352.0                NaN   \n",
       "8          Guangzhou                 China   14043500.0         25000000.0   \n",
       "9           Istanbul                Turkey   14025000.0         13520000.0   \n",
       "10             Tokyo                 Japan   13839910.0         38140000.0   \n",
       "11           Tianjin                 China   12784000.0         15469500.0   \n",
       "12            Moscow                Russia   12197596.0         16170000.0   \n",
       "13         São Paulo                Brazil   12038175.0         21090791.0   \n",
       "14          Kinshasa              DR Congo   11855000.0         13265000.0   \n",
       "15             Delhi                 India   11034555.0         16314838.0   \n",
       "16           Baoding                 China   11194372.0          2176857.0   \n",
       "17            Lahore              Pakistan   11126285.0         13569000.0   \n",
       "18             Cairo                 Egypt   10230350.0         18290000.0   \n",
       "19             Seoul          Korea, South   10197604.0         12700000.0   \n",
       "20           Jakarta             Indonesia   10075310.0         30539000.0   \n",
       "21           Wenzhou                 China    9175000.0          9122102.0   \n",
       "22              Lima                  Peru    9174855.0         10750000.0   \n",
       "23       Mexico City                Mexico    8974724.0         20999000.0   \n",
       "24            London        United Kingdom    8825001.0         14040163.0   \n",
       "25           Bangkok              Thailand    8750600.0         15931300.0   \n",
       "26             Xi'an                 China    8705600.0         13569700.0   \n",
       "27           Chennai                 India    4681087.0                NaN   \n",
       "28         Bangalore                 India    8425970.0                NaN   \n",
       "29     New York City         United States    8622698.0         20153634.0   \n",
       "..               ...                   ...          ...                ...   \n",
       "218            Ahvaz                  Iran    1184788.0          1260817.0   \n",
       "219            Sofia              Bulgaria    1260120.0          1682340.0   \n",
       "220  Nizhny Novgorod                Russia    1250619.0                NaN   \n",
       "221            Abuja               Nigeria    1235880.0          6000000.0   \n",
       "222          Calgary                Canada    1235171.0          1214839.0   \n",
       "223          Saitama                 Japan    1226656.0                NaN   \n",
       "224            Suwon          Korea, South    1202310.0                NaN   \n",
       "225        Hiroshima                 Japan    1196274.0                NaN   \n",
       "226          Rosario             Argentina    1193605.0          1276000.0   \n",
       "227         Brisbane             Australia    1180285.0          2360241.0   \n",
       "228        Allahabad                 India          NaN          1117094.0   \n",
       "229         Belgrade                Serbia    1166763.0          1233796.0   \n",
       "230         Campinas                Brazil    1164098.0          3094181.0   \n",
       "231            Ulsan          Korea, South    1163690.0                NaN   \n",
       "232             Omsk                Russia    1154116.0                NaN   \n",
       "233            Dakar               Senegal    1146053.0          2452656.0   \n",
       "234        Abu Dhabi  United Arab Emirates    1145000.0                NaN   \n",
       "235        Monterrey                Mexico    1130960.0          4520329.0   \n",
       "236          Tripoli                 Libya    1126000.0          2267000.0   \n",
       "237    Rostov-on-Don                Russia    1119900.0                NaN   \n",
       "238         T'bilisi               Georgia    1118035.0          1485293.0   \n",
       "239              Fez               Morocco    1112072.0                NaN   \n",
       "240       Birmingham        United Kingdom    1111300.0          3683000.0   \n",
       "241          Yerevan               Armenia    1060138.0                NaN   \n",
       "242          Cologne               Germany    1057327.0          3573500.0   \n",
       "243            Tunis               Tunisia    1056247.0          2643695.0   \n",
       "244         Bulawayo              Zimbabwe    1050000.0                NaN   \n",
       "245           Astana            Kazakhstan    1029556.0          1200000.0   \n",
       "246        Islamabad              Pakistan    1014825.0                NaN   \n",
       "247        Cartagena              Colombia    1013389.0          1013389.0   \n",
       "\n",
       "     Urban Area  \n",
       "0     8165500.0  \n",
       "1    23416000.0  \n",
       "2    21009000.0  \n",
       "3    13123000.0  \n",
       "4    19580000.0  \n",
       "5    20748395.0  \n",
       "6     6316922.0  \n",
       "7           NaN  \n",
       "8    20800654.0  \n",
       "9    14657000.0  \n",
       "10   36923000.0  \n",
       "11    6859779.0  \n",
       "12   16800000.0  \n",
       "13   36842102.0  \n",
       "14    1038195.0  \n",
       "15   21753486.0  \n",
       "16          NaN  \n",
       "17   10665000.0  \n",
       "18   22439541.0  \n",
       "19   25520000.0  \n",
       "20   30075310.0  \n",
       "21    6642592.0  \n",
       "22    9886647.0  \n",
       "23   21178959.0  \n",
       "24    9787426.0  \n",
       "25   15645000.0  \n",
       "26    5206253.0  \n",
       "27    8917749.0  \n",
       "28    8728906.0  \n",
       "29   23689255.0  \n",
       "..          ...  \n",
       "218         NaN  \n",
       "219   1547472.0  \n",
       "220         NaN  \n",
       "221   2440000.0  \n",
       "222   1095404.0  \n",
       "223         NaN  \n",
       "224         NaN  \n",
       "225         NaN  \n",
       "226         NaN  \n",
       "227         NaN  \n",
       "228         NaN  \n",
       "229   1659440.0  \n",
       "230         NaN  \n",
       "231         NaN  \n",
       "232         NaN  \n",
       "233         NaN  \n",
       "234         NaN  \n",
       "235         NaN  \n",
       "236   2325000.0  \n",
       "237         NaN  \n",
       "238         NaN  \n",
       "239         NaN  \n",
       "240   2440986.0  \n",
       "241         NaN  \n",
       "242         NaN  \n",
       "243   2294547.0  \n",
       "244   1200000.0  \n",
       "245         NaN  \n",
       "246   1829180.0  \n",
       "247   1013389.0  \n",
       "\n",
       "[248 rows x 5 columns]"
      ]
     },
     "execution_count": 63,
     "metadata": {},
     "output_type": "execute_result"
    }
   ],
   "source": [
    "# This example shows all of the steps to clean the data.\n",
    "# In lecture we only did lines 4-5.\n",
    "\n",
    "tabs = pd.read_html(\"https://en.wikipedia.org/wiki/List_of_largest_cities\")\n",
    "tbl = tabs[1]\n",
    "\n",
    "def strip_footnote(x):\n",
    "    \"\"\"This function removes bracketed footnotes, such as '[1]'.\"\"\"\n",
    "    if pd.isna(x):\n",
    "        return x\n",
    "    \n",
    "    return x.partition(\"[\")[0]\n",
    "\n",
    "# Combine table headers into one row.\n",
    "cols = list(tbl.columns.get_level_values(0))\n",
    "cols[-3:] = tbl.columns.get_level_values(1)[-3:]\n",
    "tbl.columns = [strip_footnote(c).title() for c in cols]\n",
    "\n",
    "# We don't need the Image column\n",
    "tbl = tbl.drop(columns = \"Image\")\n",
    "\n",
    "# Strip footnotes from the rest of the data\n",
    "tbl = tbl.applymap(strip_footnote)\n",
    "\n",
    "# Convert numeric columns to numeric dtypes\n",
    "cols = tbl.columns[-3:]\n",
    "tbl[cols] = tbl[cols].apply(lambda x: pd.to_numeric(x.str.replace(\",\", \"\")))\n",
    "tbl"
   ]
  },
  {
   "cell_type": "markdown",
   "metadata": {},
   "source": [
    "### Writing Scrapers\n",
    "\n",
    "When the data we want isn't in a `table` element, we have to write our own scraper.\n",
    "\n",
    "The workflow for writing a scraper is the same regardless of the language you use:\n",
    "\n",
    "1. Download pages with an HTTP request (usually `GET`)\n",
    "2. Parse pages to extract text\n",
    "3. Clean up extracted text with string methods or regex\n",
    "4. Save cleaned results"
   ]
  },
  {
   "cell_type": "markdown",
   "metadata": {},
   "source": [
    "### Example: CUESA Vegetable Seasons\n",
    "\n",
    "\n",
    "\n",
    "CUESA (Center for Urban Education about Sustainable Agriculture) provides [a chart](https://cuesa.org/eat-seasonally/charts/vegetables) that shows when vegetables are in season. Let's scrape the chart."
   ]
  },
  {
   "cell_type": "code",
   "execution_count": 45,
   "metadata": {},
   "outputs": [],
   "source": [
    "result = pd.read_html(\"https://cuesa.org/eat-seasonally/charts/vegetables\")"
   ]
  },
  {
   "cell_type": "code",
   "execution_count": 61,
   "metadata": {},
   "outputs": [],
   "source": [
    "# Download the page\n",
    "response = requests.get(\"https://cuesa.org/eat-seasonally/charts/vegetables\")\n",
    "response.raise_for_status()\n",
    "\n",
    "# Parse the HTML\n",
    "html = lx.fromstring(response.text)\n",
    "html\n",
    "\n",
    "# Find the table with the vegetable seasons\n",
    "tab = html.xpath(\"//table\")[0]\n",
    "\n",
    "rows = tab.xpath(\".//tr\")\n",
    "rows = rows[1:]\n",
    "\n",
    "# Extract the header\n",
    "header = rows[0]\n",
    "\n",
    "header = [x.text for x in header.xpath(\".//li\")]\n",
    "\n",
    "# To be continued in the next lecture..."
   ]
  }
 ],
 "metadata": {
  "kernelspec": {
   "display_name": "Python 3",
   "language": "python",
   "name": "python3"
  },
  "language_info": {
   "codemirror_mode": {
    "name": "ipython",
    "version": 3
   },
   "file_extension": ".py",
   "mimetype": "text/x-python",
   "name": "python",
   "nbconvert_exporter": "python",
   "pygments_lexer": "ipython3",
   "version": "3.7.1"
  }
 },
 "nbformat": 4,
 "nbformat_minor": 2
}
