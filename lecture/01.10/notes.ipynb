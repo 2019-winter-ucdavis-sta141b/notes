{
 "cells": [
  {
   "cell_type": "markdown",
   "metadata": {},
   "source": [
    "# STA 141B Lecture 2\n",
    "\n",
    "The class website is <https://github.com/2019-winter-ucdavis-sta141b/notes>\n",
    "\n",
    "## Today's References\n",
    "\n",
    "* Python for Data Analysis, Ch. 1-3\n",
    "* [Python Data Science Handbook][PDSH], Ch. 1\n",
    "* [ProGit][], Ch. 1-2\n",
    "\n",
    "The [Git cheatsheet](https://services.github.com/on-demand/downloads/github-git-cheat-sheet.pdf) is also helpful.\n",
    "\n",
    "[PDSH]: https://jakevdp.github.io/PythonDataScienceHandbook/\n",
    "[ProGit]: https://git-scm.com/book/"
   ]
  },
  {
   "cell_type": "markdown",
   "metadata": {},
   "source": [
    "## Recap\n",
    "\n",
    "In Tuesday's lecture:\n",
    "\n",
    "* Jupyter Notebooks\n",
    "* `print()`\n",
    "* Python data types and `type()`\n",
    "* Variables\n",
    "* `def` to define functions\n",
    "* Getting help with `help()`, `?`, `??`\n",
    "\n",
    "Today:\n",
    "\n",
    "* More about Jupyter\n",
    "* Tuples, lists, and dictionaries\n",
    "* Methods and attributes\n",
    "* Control flow with `if`, `while`, `for`\n",
    "* Modules\n",
    "* git"
   ]
  },
  {
   "cell_type": "markdown",
   "metadata": {},
   "source": [
    "## More about Jupyter\n",
    "\n",
    "Jupyter breaks sections of the notebook into _cells_. You can choose the type of cell in the `Cell -> Cell Type` menu. Use \"Code\" for cells that contain code and \"Markdown\" for cells that contain text or images.\n",
    "\n",
    "Code sells are set up to run Python code. When you open a Jupyter notebook, Jupyter runs a Python session called a _kernel_ in the background. Each time you run a code cell, the code is sent to the kernel, and then the results are printed in the notebook. The kernel maintains state between cells, so code you run in one cell can affect code you run in another cell.\n",
    "\n",
    "__Caution!__ The state of the kernel depends on the order you run cells in, not the order cells appear in the notebook.\n",
    "\n",
    "You can stop or restart the kernel using the `Kernel` menu. This is mostly useful when you want to cancel a computation.\n",
    "\n",
    "Markdown cells allow you to input text and format it using the Markdown language. You can learn more about Markdown [here](https://github.com/adam-p/markdown-here/wiki/Markdown-Cheatsheet)."
   ]
  },
  {
   "cell_type": "markdown",
   "metadata": {},
   "source": [
    "## Python Data Structures\n",
    "\n",
    "_Data structures_ are containers for data. Examples: vectors, lists, data frames\n",
    "\n",
    "We'll use Python's built-in tuple, list, and dictionary data structures a lot.\n",
    "\n",
    "### Tuples\n",
    "\n",
    "A tuple is an ordered collection of values. Think of coordinates. Tuples are _immutable_, which means they can't be changed after they're created."
   ]
  },
  {
   "cell_type": "code",
   "execution_count": 2,
   "metadata": {},
   "outputs": [],
   "source": [
    "# Make a tuple with commas ,\n",
    "x = 1, 3, 5"
   ]
  },
  {
   "cell_type": "code",
   "execution_count": 3,
   "metadata": {},
   "outputs": [],
   "source": [
    "# Use parentheses ( ) for clarity\n",
    "y = (\"hi\", 1, 3.7)"
   ]
  },
  {
   "cell_type": "markdown",
   "metadata": {},
   "source": [
    "Three ways to get elements from a tuple:"
   ]
  },
  {
   "cell_type": "code",
   "execution_count": 5,
   "metadata": {},
   "outputs": [
    {
     "data": {
      "text/plain": [
       "1"
      ]
     },
     "execution_count": 5,
     "metadata": {},
     "output_type": "execute_result"
    }
   ],
   "source": [
    "# 1. Indexing with [ ]. Indexes start from 0, not 1\n",
    "x[0] # first element"
   ]
  },
  {
   "cell_type": "code",
   "execution_count": 7,
   "metadata": {},
   "outputs": [
    {
     "data": {
      "text/plain": [
       "(1, 3)"
      ]
     },
     "execution_count": 7,
     "metadata": {},
     "output_type": "execute_result"
    }
   ],
   "source": [
    "# 2. Slicing with [] and :. A slice a:b gets elements from a to b - 1.\n",
    "x[0:2]"
   ]
  },
  {
   "cell_type": "code",
   "execution_count": 9,
   "metadata": {},
   "outputs": [
    {
     "name": "stdout",
     "output_type": "stream",
     "text": [
      "1\n",
      "3\n",
      "5\n"
     ]
    }
   ],
   "source": [
    "# 3. Unpacking -- assign to a same-shape tuple of variables on the left-hand side\n",
    "u, v, w = x # x is (1, 3, 5)\n",
    "print(u)\n",
    "print(v)\n",
    "print(w)"
   ]
  },
  {
   "cell_type": "code",
   "execution_count": 8,
   "metadata": {},
   "outputs": [
    {
     "ename": "TypeError",
     "evalue": "'tuple' object does not support item assignment",
     "output_type": "error",
     "traceback": [
      "\u001b[0;31m---------------------------------------------------------------------------\u001b[0m",
      "\u001b[0;31mTypeError\u001b[0m                                 Traceback (most recent call last)",
      "\u001b[0;32m<ipython-input-8-80e5a0e8b010>\u001b[0m in \u001b[0;36m<module>\u001b[0;34m\u001b[0m\n\u001b[1;32m      1\u001b[0m \u001b[0;31m# Tuples can't be changed\u001b[0m\u001b[0;34m\u001b[0m\u001b[0;34m\u001b[0m\u001b[0;34m\u001b[0m\u001b[0m\n\u001b[0;32m----> 2\u001b[0;31m \u001b[0mx\u001b[0m\u001b[0;34m[\u001b[0m\u001b[0;36m1\u001b[0m\u001b[0;34m]\u001b[0m \u001b[0;34m=\u001b[0m \u001b[0;36m3\u001b[0m\u001b[0;34m\u001b[0m\u001b[0;34m\u001b[0m\u001b[0m\n\u001b[0m",
      "\u001b[0;31mTypeError\u001b[0m: 'tuple' object does not support item assignment"
     ]
    }
   ],
   "source": [
    "# Tuples can't be changed\n",
    "x[1] = 3"
   ]
  },
  {
   "cell_type": "markdown",
   "metadata": {},
   "source": [
    "### Lists\n",
    "\n",
    "A list is an ordered collection of values. Lists are _mutable_, which means they __can be changed__ after they're created.\n",
    "\n",
    "Lists are less efficient but more flexible than tuples."
   ]
  },
  {
   "cell_type": "code",
   "execution_count": 17,
   "metadata": {},
   "outputs": [],
   "source": [
    "# Make a list with square brackets [ ]\n",
    "x = [1, 3, 5]"
   ]
  },
  {
   "cell_type": "code",
   "execution_count": 11,
   "metadata": {},
   "outputs": [
    {
     "data": {
      "text/plain": [
       "1"
      ]
     },
     "execution_count": 11,
     "metadata": {},
     "output_type": "execute_result"
    }
   ],
   "source": [
    "# Three ways to get elements from a list (same as a tuple):\n",
    "x[0]"
   ]
  },
  {
   "cell_type": "code",
   "execution_count": 12,
   "metadata": {},
   "outputs": [
    {
     "data": {
      "text/plain": [
       "[3, 5]"
      ]
     },
     "execution_count": 12,
     "metadata": {},
     "output_type": "execute_result"
    }
   ],
   "source": [
    "x[1:3]"
   ]
  },
  {
   "cell_type": "code",
   "execution_count": 14,
   "metadata": {},
   "outputs": [
    {
     "name": "stdout",
     "output_type": "stream",
     "text": [
      "1\n",
      "3\n",
      "5\n"
     ]
    }
   ],
   "source": [
    "u, v, w = x\n",
    "print(u)\n",
    "print(v)\n",
    "print(w)"
   ]
  },
  {
   "cell_type": "code",
   "execution_count": 18,
   "metadata": {},
   "outputs": [
    {
     "name": "stdout",
     "output_type": "stream",
     "text": [
      "[1, 5]\n"
     ]
    }
   ],
   "source": [
    "# Delete a list element with del\n",
    "del x[1]\n",
    "print(x)"
   ]
  },
  {
   "cell_type": "markdown",
   "metadata": {},
   "source": [
    "Lists use _reference semantics_, which means that if you assign a list to two different variables, there's still only one list in memory, and both variables refer to it.\n",
    "\n",
    "As a result, changing the list with one variable changes the list for the other variable."
   ]
  },
  {
   "cell_type": "code",
   "execution_count": 19,
   "metadata": {},
   "outputs": [
    {
     "data": {
      "text/plain": [
       "[1, 7, 5]"
      ]
     },
     "execution_count": 19,
     "metadata": {},
     "output_type": "execute_result"
    }
   ],
   "source": [
    "x = [1, 3, 5]\n",
    "y = x\n",
    "y[1] = 7\n",
    "\n",
    "x"
   ]
  },
  {
   "cell_type": "markdown",
   "metadata": {},
   "source": [
    "### Dictionaries\n",
    "\n",
    "A dictionary (or `dict`) is a one-to-one map from _keys_ to _values_. In other words, you use a key to look up a value.\n",
    "\n",
    "Dictionaries are mutable and use reference semantics."
   ]
  },
  {
   "cell_type": "code",
   "execution_count": 29,
   "metadata": {},
   "outputs": [],
   "source": [
    "# Make a dict with curly brackets { } and colons :\n",
    "x = {\"hello\": 1, 3: 5}"
   ]
  },
  {
   "cell_type": "markdown",
   "metadata": {},
   "source": [
    "Two ways to get elements from a dict:"
   ]
  },
  {
   "cell_type": "code",
   "execution_count": 22,
   "metadata": {},
   "outputs": [
    {
     "data": {
      "text/plain": [
       "1"
      ]
     },
     "execution_count": 22,
     "metadata": {},
     "output_type": "execute_result"
    }
   ],
   "source": [
    "# 1. Indexing with [ ]\n",
    "x[\"hello\"]"
   ]
  },
  {
   "cell_type": "code",
   "execution_count": 25,
   "metadata": {},
   "outputs": [
    {
     "data": {
      "text/plain": [
       "1"
      ]
     },
     "execution_count": 25,
     "metadata": {},
     "output_type": "execute_result"
    }
   ],
   "source": [
    "# 2. With the .get() method. We'll learn more about methods below.\n",
    "# The .get() method gets an element OR returns a default value if the key can't be found.\n",
    "\n",
    "x.get(\"hello\", 10) # second argument (10) is default value if key is not in dictionary"
   ]
  },
  {
   "cell_type": "code",
   "execution_count": 26,
   "metadata": {},
   "outputs": [
    {
     "data": {
      "text/plain": [
       "10"
      ]
     },
     "execution_count": 26,
     "metadata": {},
     "output_type": "execute_result"
    }
   ],
   "source": [
    "x.get(\"goodbye\", 10) "
   ]
  },
  {
   "cell_type": "code",
   "execution_count": 27,
   "metadata": {},
   "outputs": [
    {
     "data": {
      "text/plain": [
       "{3: 5}"
      ]
     },
     "execution_count": 27,
     "metadata": {},
     "output_type": "execute_result"
    }
   ],
   "source": [
    "# Can also use del to delete dict elements\n",
    "del x[\"hello\"]\n",
    "x"
   ]
  },
  {
   "cell_type": "markdown",
   "metadata": {},
   "source": [
    "## Methods and Attributes\n",
    "\n",
    "In Python, every number, string, data structure, function, and so on is an _object_. Each object has a type, and may have other objects stored inside.\n",
    "\n",
    "A _method_ is a function stored inside another object. Methods usually affect their object somehow.\n",
    "\n",
    "An _attribute_ is a non-function object stored inside another object."
   ]
  },
  {
   "cell_type": "code",
   "execution_count": null,
   "metadata": {},
   "outputs": [],
   "source": [
    "# Use . to access methods and attributes"
   ]
  },
  {
   "cell_type": "code",
   "execution_count": null,
   "metadata": {},
   "outputs": [],
   "source": [
    "# Use dir() to list methods and attributes"
   ]
  },
  {
   "cell_type": "markdown",
   "metadata": {},
   "source": [
    "For example, we can use the `.copy()` method of lists and dicts to make a copy."
   ]
  },
  {
   "cell_type": "code",
   "execution_count": 31,
   "metadata": {},
   "outputs": [
    {
     "data": {
      "text/plain": [
       "[1, 3, 5]"
      ]
     },
     "execution_count": 31,
     "metadata": {},
     "output_type": "execute_result"
    }
   ],
   "source": [
    "x = [1, 3, 5]\n",
    "y = x.copy()\n",
    "y[1] = 7\n",
    "# Since we made a copy, x is unchanged.\n",
    "x"
   ]
  },
  {
   "cell_type": "markdown",
   "metadata": {},
   "source": [
    "## Control Flow\n",
    "\n",
    "Python's `if` statement allows us to change the behavior of our code depending on whether a condition is met. Conditions must be Boolean expressions (type `bool`).\n",
    "\n",
    "Indentation determines whether code is inside or outside of a control flow statement! Be careful to get it right!"
   ]
  },
  {
   "cell_type": "code",
   "execution_count": 36,
   "metadata": {},
   "outputs": [
    {
     "name": "stdout",
     "output_type": "stream",
     "text": [
      "x is less than or equal to 10\n",
      "This line is indented, so it's inside the if-statement and only runs when x is not greater than 10\n",
      "This line is not indented, so it's outside the if-statement and always runs.\n"
     ]
    }
   ],
   "source": [
    "x = 1\n",
    "if x > 10:\n",
    "    print(\"x is greater than 10\")\n",
    "else:\n",
    "    print(\"x is less than or equal to 10\")\n",
    "    \n",
    "    print(\"This line is indented, so it's inside the if-statement and only runs when x is not greater than 10\")\n",
    "    \n",
    "print(\"This line is not indented, so it's outside the if-statement and always runs.\")"
   ]
  },
  {
   "cell_type": "markdown",
   "metadata": {},
   "source": [
    "Use `elif` to add additional options that also have conditions:"
   ]
  },
  {
   "cell_type": "code",
   "execution_count": 34,
   "metadata": {},
   "outputs": [
    {
     "name": "stdout",
     "output_type": "stream",
     "text": [
      "x is one!\n"
     ]
    }
   ],
   "source": [
    "if x > 10:\n",
    "    print(\"x is greater than 10\")\n",
    "elif x == 1:\n",
    "    print(\"x is one!\")\n",
    "else:\n",
    "    print(\"x is less than or equal to 10, and not 1\")"
   ]
  },
  {
   "cell_type": "markdown",
   "metadata": {},
   "source": [
    "Python's `while` loop allows us to run code repeatedly while some condition is met."
   ]
  },
  {
   "cell_type": "code",
   "execution_count": 37,
   "metadata": {},
   "outputs": [
    {
     "name": "stdout",
     "output_type": "stream",
     "text": [
      "1\n",
      "2\n",
      "3\n",
      "4\n",
      "5\n",
      "6\n",
      "7\n",
      "8\n",
      "9\n",
      "10\n"
     ]
    }
   ],
   "source": [
    "x = 0\n",
    "while (x < 10):\n",
    "    x = x + 1\n",
    "    print(x)"
   ]
  },
  {
   "cell_type": "markdown",
   "metadata": {},
   "source": [
    "Python's `for` loop allows us to iterate over elements of a string, tuple, list, or other object.\n",
    "\n",
    "Objects that can be iterated over are _iterable_. We'll learn more about iterables next week."
   ]
  },
  {
   "cell_type": "code",
   "execution_count": 38,
   "metadata": {},
   "outputs": [
    {
     "name": "stdout",
     "output_type": "stream",
     "text": [
      "1\n",
      "2\n",
      "3\n"
     ]
    }
   ],
   "source": [
    "for i in [1, 2, 3]:\n",
    "    print(i)"
   ]
  },
  {
   "cell_type": "code",
   "execution_count": 50,
   "metadata": {},
   "outputs": [
    {
     "name": "stdout",
     "output_type": "stream",
     "text": [
      "s\n",
      "t\n",
      "a\n",
      " \n",
      "1\n",
      "4\n",
      "1\n",
      "b\n"
     ]
    }
   ],
   "source": [
    "# A weird way to convert to lowercase that shows a non-trivial loop:\n",
    "\n",
    "for letter in 'STA 141B':\n",
    "    # Computers compute on numbers, so each letter is represented by a number in memory.\n",
    "    # ord() gets the number that represents a letter\n",
    "    num = ord(letter)\n",
    "    if 65 <= num <= 90: # A-Z are represented by 65-90\n",
    "        # a-z are represented by 97-122, so a 32 number offset\n",
    "        new_letter = num + 32\n",
    "        # chr() converts a number that represents a letter back to the letter\n",
    "        new_letter = chr(new_letter)\n",
    "    else:\n",
    "        new_letter = letter\n",
    "        \n",
    "    print(new_letter)"
   ]
  },
  {
   "cell_type": "code",
   "execution_count": 52,
   "metadata": {},
   "outputs": [
    {
     "data": {
      "text/plain": [
       "'sta 141b'"
      ]
     },
     "execution_count": 52,
     "metadata": {},
     "output_type": "execute_result"
    }
   ],
   "source": [
    "# In practice, we can just use a built-in method to convert to lowercase\n",
    "'STA 141B'.lower()\n",
    "\n",
    "# Behind the scenes, .lower() is implemented in pretty much the same way as our loop above."
   ]
  },
  {
   "cell_type": "markdown",
   "metadata": {},
   "source": [
    "## Modules\n",
    "\n",
    "A _module_ is a text file that contains Python code, usually a `.py` file.\n",
    "\n",
    "Python's `import` command lets us load code from a module to use in our script or notebook. Note: `import` is like a combination of R's `source()` and `library()` functions.\n",
    "\n",
    "Python provides many built-in modules for common tasks (see [the list][py-modules]). Packages provide even more modules. \n",
    "\n",
    "[py-modules]: https://docs.python.org/3/library/index.html"
   ]
  },
  {
   "cell_type": "code",
   "execution_count": 41,
   "metadata": {},
   "outputs": [
    {
     "data": {
      "text/plain": [
       "3.141592653589793"
      ]
     },
     "execution_count": 41,
     "metadata": {},
     "output_type": "execute_result"
    }
   ],
   "source": [
    "# Use . to access functions and variables in a module\n",
    "import math\n",
    "\n",
    "math.pi"
   ]
  },
  {
   "cell_type": "code",
   "execution_count": 42,
   "metadata": {},
   "outputs": [
    {
     "data": {
      "text/plain": [
       "3.141592653589793"
      ]
     },
     "execution_count": 42,
     "metadata": {},
     "output_type": "execute_result"
    }
   ],
   "source": [
    "# You can give imported modules an alias to cut down on typing\n",
    "import math as m\n",
    "\n",
    "m.pi"
   ]
  },
  {
   "cell_type": "markdown",
   "metadata": {},
   "source": [
    "## Git\n",
    "\n",
    "[git](http://git-scm.com/) is a distributed version control system. Let's break that down:\n",
    "\n",
    "* _Distributed_ means git can share files across multiple computers.\n",
    "* A _version control system_ is a tool to keep track of different versions or drafts of files.\n",
    "\n",
    "With git, you can\n",
    "\n",
    "* Get or send sets of files with a single command.\n",
    "* Back up your work to another computer or server.\n",
    "* Work collaboratively with others (git will help resolve editing conflicts).\n",
    "* Undo changes to files or entire directories.\n",
    "\n",
    "A collection of files tracked by git is called a _repository_ or _repo_. A repo looks like any other directory on your computer, but always contains a hidden `.git` directory to store git tracking info.\n",
    "\n",
    "You've already used a git repo -- the class website.\n",
    "\n",
    "### GitHub\n",
    "\n",
    "The class website is hosted on [GitHub][], an online service for backing up and sharing git repos. You'll need a free GitHub account in order to submit assignments for this class.\n",
    "\n",
    "[GitHub]: https://github.com/"
   ]
  },
  {
   "cell_type": "markdown",
   "metadata": {},
   "source": [
    "### The Shell\n",
    "\n",
    "We'll run git commands in the shell, a text-based program for interacting with computers. Git and the shell are not part of Python or Jupyter. To open a shell window:\n",
    "\n",
    "* On Windows, run \"Git Bash\"\n",
    "* On Mac OS, run \"Terminal\"\n",
    "* On Linux, run your favorite terminal emulator. Mine is `st`.\n",
    "\n",
    "You can use the shell to navigate and modify directories on your computer. Directories are like places, and the shell is always at one directory at a time, called the _working directory_. By default, when you run commands in the shell, they affect the working directory. \n",
    "\n",
    "The essential shell commands for navigation are:\n",
    "\n",
    "* `pwd` to print the working directory path.\n",
    "* `cd PATH` to change the working directory. Replace `PATH` with a path to a directory, or with `..` to go up one directory.\n",
    "* `ls` to list files and directories in the working directory.\n",
    "* `man COMMAND` to get help. Replace `COMMAND` with the name of a shell command.\n",
    "\n",
    "To learn more, I recommend Software Carpentry's [Unix Shell Notes][swc-shell].\n",
    "\n",
    "[swc-shell]: https://swcarpentry.github.io/shell-novice/"
   ]
  },
  {
   "cell_type": "markdown",
   "metadata": {},
   "source": [
    "### Configuring git\n",
    "\n",
    "The first time you use git, you need to set your name and email address so that you'll get credit for your work.\n",
    "\n",
    "Replace my name with yours, and run\n",
    "```sh\n",
    "git config --global user.name \"Nick Ulle\"\n",
    "```\n",
    "\n",
    "Then replace my email with yours, and run\n",
    "```sh\n",
    "git config --global user.email naulle@ucdavis.edu\n",
    "```\n",
    "\n",
    "You can check the settings any time by running these commands with the last value omitted. For instance:\n",
    "```sh\n",
    "git config --global user.name\n",
    "```"
   ]
  },
  {
   "cell_type": "markdown",
   "metadata": {},
   "source": [
    "### Clone and Pull\n",
    "\n",
    "Let's use git to download the class repo.\n",
    "\n",
    "When you want to download a git repo __for the first time__, use `git clone URL`. Replace `URL` with the web url of repo. For GitHub repos, the web url is always listed under the bright green \"Clone or Download\" button on the repo's front page.\n",
    "\n",
    "So to clone the class repo, run\n",
    "```sh\n",
    "git clone https://github.com/2019-winter-ucdavis-sta141b/notes.git\n",
    "```\n",
    "Now you have a _local_ copy of the repo, one that's on your computer. The copy on GitHub is _remote_, since it's not on your computer.\n",
    "\n",
    "When someone else owns the remote repo, or when you work on a remote repo with other people, they might make changes after you've cloned the repo. For instance, I might upload some new notes to the class repo. You can use `git pull` to check for and download changes from the remote repo to your local repo."
   ]
  },
  {
   "cell_type": "markdown",
   "metadata": {},
   "source": [
    "### Add, Commit, Push\n",
    "\n",
    "A typical git workflow is:\n",
    "\n",
    "1. Clone a repo from a server (like GitHub) with `git clone`. This downloads remote -> local.\n",
    "2. Make some changes to your local copy of the repo.\n",
    "3. Tell git to track your changes with `git add`.\n",
    "4. Tell git to save your changes with `git commit -m`.\n",
    "5. Push the changes on your computer back to the server with `git push`. This uploads local -> remote.\n",
    "6. Repeat 2-5 as many times as you like until finished.\n",
    "\n",
    "Let's learn the add, commit, and push commands.\n",
    "\n",
    "Git calls a record of changes a _commit_. A commit is similar to a snapshot or save point. Before you create a commit, you need to tell git which changes to record. Use `git add PATH` to tell git to record changes to a file. Replace `PATH` with the path to the file.\n",
    "\n",
    "Once you're done adding files, it's time to create the commit. Before you create the commit, optionally use `git status` to check that the changes you meant to add were added.\n",
    "\n",
    "If everything looks correct, use `git commit -m \"MESSAGE\"` to create a commit. Replace `MESSAGE` with a 1 sentence message explaining what's changed in the commit. The commit message is a reminder for you and anyone else using your repo, so make sure it's clear.\n",
    "\n",
    "You can make as many commits as you want before pushing them back to the server. When you are ready to push them back to the server, make sure you are connected to the internet and then use `git push`.\n",
    "\n",
    "There are lots of steps in this process, so there are lots of places where it can go wrong. __Pay attention to error messages__ and search online or ask on Piazza to get help!"
   ]
  }
 ],
 "metadata": {
  "kernelspec": {
   "display_name": "Python 3",
   "language": "python",
   "name": "python3"
  },
  "language_info": {
   "codemirror_mode": {
    "name": "ipython",
    "version": 3
   },
   "file_extension": ".py",
   "mimetype": "text/x-python",
   "name": "python",
   "nbconvert_exporter": "python",
   "pygments_lexer": "ipython3",
   "version": "3.7.1"
  }
 },
 "nbformat": 4,
 "nbformat_minor": 2
}
