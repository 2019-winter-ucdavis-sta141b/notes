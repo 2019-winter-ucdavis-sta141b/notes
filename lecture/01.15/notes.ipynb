{
 "cells": [
  {
   "cell_type": "markdown",
   "metadata": {},
   "source": [
    "# STA 141B Lecture 3\n",
    "\n",
    "The class website is <https://github.com/2019-winter-ucdavis-sta141b/notes>\n",
    "\n",
    "### Announcements\n",
    "\n",
    "* Do not use external packages for assignment 1.\n",
    "* Before or when you submit assignment 1, fill out the GitHub Username and Project Group Form. A link will be on Piazza later today.\n",
    "\n",
    "### Topics\n",
    "\n",
    "* git\n",
    "* Modules\n",
    "* Iterators\n",
    "* Comprehensions and Generators\n",
    "\n",
    "### References\n",
    "\n",
    "* [ProGit][], Ch. 1-2\n",
    "\n",
    "The [Git cheatsheet](https://services.github.com/on-demand/downloads/github-git-cheat-sheet.pdf) is also helpful.\n",
    "\n",
    "[PDSH]: https://jakevdp.github.io/PythonDataScienceHandbook/\n",
    "[ProGit]: https://git-scm.com/book/"
   ]
  },
  {
   "cell_type": "markdown",
   "metadata": {},
   "source": [
    "## More about Jupyter\n",
    "\n",
    "Jupyter breaks sections of the notebook into _cells_. You can choose the type of cell in the `Cell -> Cell Type` menu. Use \"Code\" for cells that contain code and \"Markdown\" for cells that contain text or images.\n",
    "\n",
    "Code sells are set up to run Python code. When you open a Jupyter notebook, Jupyter runs a Python session called a _kernel_ in the background. Each time you run a code cell, the code is sent to the kernel, and then the results are printed in the notebook. The kernel maintains state between cells, so code you run in one cell can affect code you run in another cell.\n",
    "\n",
    "__Caution!__ The state of the kernel depends on the order you run cells in, not the order cells appear in the notebook.\n",
    "\n",
    "You can stop or restart the kernel using the `Kernel` menu. This is mostly useful when you want to cancel a computation.\n",
    "\n",
    "Markdown cells allow you to input text and format it using the Markdown language. You can learn more about Markdown [here](https://github.com/adam-p/markdown-here/wiki/Markdown-Cheatsheet)."
   ]
  },
  {
   "cell_type": "markdown",
   "metadata": {},
   "source": [
    "* This\n",
    "* is\n",
    "* a\n",
    "* list\n",
    "\n",
    "**This is bold**\n",
    "\n",
    "$\\int$\n",
    "\n",
    "$$ $$"
   ]
  },
  {
   "cell_type": "code",
   "execution_count": 3,
   "metadata": {},
   "outputs": [],
   "source": [
    "x = 3"
   ]
  },
  {
   "cell_type": "code",
   "execution_count": 4,
   "metadata": {},
   "outputs": [
    {
     "data": {
      "text/plain": [
       "3"
      ]
     },
     "execution_count": 4,
     "metadata": {},
     "output_type": "execute_result"
    }
   ],
   "source": [
    "x"
   ]
  },
  {
   "cell_type": "code",
   "execution_count": 5,
   "metadata": {},
   "outputs": [
    {
     "ename": "NameError",
     "evalue": "name 'y' is not defined",
     "output_type": "error",
     "traceback": [
      "\u001b[0;31m---------------------------------------------------------------------------\u001b[0m",
      "\u001b[0;31mNameError\u001b[0m                                 Traceback (most recent call last)",
      "\u001b[0;32m<ipython-input-5-9063a9f0e032>\u001b[0m in \u001b[0;36m<module>\u001b[0;34m\u001b[0m\n\u001b[0;32m----> 1\u001b[0;31m \u001b[0my\u001b[0m\u001b[0;34m\u001b[0m\u001b[0;34m\u001b[0m\u001b[0m\n\u001b[0m",
      "\u001b[0;31mNameError\u001b[0m: name 'y' is not defined"
     ]
    }
   ],
   "source": [
    "y"
   ]
  },
  {
   "cell_type": "code",
   "execution_count": null,
   "metadata": {},
   "outputs": [],
   "source": [
    "y = 3"
   ]
  },
  {
   "cell_type": "markdown",
   "metadata": {},
   "source": [
    "## Git\n",
    "\n",
    "[git](http://git-scm.com/) is a distributed version control system. Let's break that down:\n",
    "\n",
    "* _Distributed_ means git can share files across multiple computers.\n",
    "* A _version control system_ is a tool to keep track of different versions or drafts of files.\n",
    "\n",
    "With git, you can\n",
    "\n",
    "* Get or send sets of files with a single command.\n",
    "* Back up your work to another computer or server.\n",
    "* Work collaboratively with others (git will help resolve editing conflicts).\n",
    "* Undo changes to files or entire directories.\n",
    "\n",
    "A collection of files tracked by git is called a _repository_ or _repo_. A repo looks like any other directory on your computer, but always contains a hidden `.git` directory to store git tracking info.\n",
    "\n",
    "You've already used a git repo -- the class website.\n",
    "\n",
    "### GitHub\n",
    "\n",
    "The class website is hosted on [GitHub][], an online service for backing up and sharing git repos. You'll need a free GitHub account in order to submit assignments for this class.\n",
    "\n",
    "[GitHub]: https://github.com/"
   ]
  },
  {
   "cell_type": "markdown",
   "metadata": {},
   "source": [
    "### The Shell\n",
    "\n",
    "We'll run git commands in the shell, a text-based program for interacting with computers. Git and the shell are not part of Python or Jupyter. To open a shell window:\n",
    "\n",
    "* On Windows, run \"Git Bash\"\n",
    "* On Mac OS, run \"Terminal\"\n",
    "* On Linux, run your favorite terminal emulator. Mine is `st`.\n",
    "\n",
    "You can use the shell to navigate and modify directories on your computer. Directories are like places, and the shell is always at one directory at a time, called the _working directory_. By default, when you run commands in the shell, they affect the working directory. \n",
    "\n",
    "The essential shell commands for navigation are:\n",
    "\n",
    "* `pwd` to print the working directory path.\n",
    "* `cd PATH` to change the working directory. Replace `PATH` with a path to a directory, or with `..` to go up one directory.\n",
    "* `ls` to list files and directories in the working directory.\n",
    "* `man COMMAND` to get help. Replace `COMMAND` with the name of a shell command.\n",
    "\n",
    "To learn more, I recommend Software Carpentry's [Unix Shell Notes][swc-shell].\n",
    "\n",
    "[swc-shell]: https://swcarpentry.github.io/shell-novice/"
   ]
  },
  {
   "cell_type": "markdown",
   "metadata": {},
   "source": [
    "### Configuring git\n",
    "\n",
    "The first time you use git, you need to set your name and email address so that you'll get credit for your work.\n",
    "\n",
    "Replace my name with yours, and run\n",
    "```sh\n",
    "git config --global user.name \"Nick Ulle\"\n",
    "```\n",
    "\n",
    "Then replace my email with yours, and run\n",
    "```sh\n",
    "git config --global user.email naulle@ucdavis.edu\n",
    "```\n",
    "\n",
    "You can check the settings any time by running these commands with the last value omitted. For instance:\n",
    "```sh\n",
    "git config --global user.name\n",
    "```"
   ]
  },
  {
   "cell_type": "markdown",
   "metadata": {},
   "source": [
    "### Clone and Pull\n",
    "\n",
    "Let's use git to download the class repo.\n",
    "\n",
    "When you want to download a git repo __for the first time__, use `git clone URL`. Replace `URL` with the web url of repo. For GitHub repos, the web url is always listed under the bright green \"Clone or Download\" button on the repo's front page.\n",
    "\n",
    "So to clone the class repo, run\n",
    "```sh\n",
    "git clone https://github.com/2019-winter-ucdavis-sta141b/notes.git\n",
    "```\n",
    "Now you have a _local_ copy of the repo, one that's on your computer. The copy on GitHub is _remote_, since it's not on your computer.\n",
    "\n",
    "When someone else owns the remote repo, or when you work on a remote repo with other people, they might make changes after you've cloned the repo. For instance, I might upload some new notes to the class repo. You can use `git pull` to check for and download changes from the remote repo to your local repo."
   ]
  },
  {
   "cell_type": "markdown",
   "metadata": {},
   "source": [
    "### Add, Commit, Push\n",
    "\n",
    "A typical git workflow is:\n",
    "\n",
    "1. Clone a repo from a server (like GitHub) with `git clone`. This downloads remote -> local.\n",
    "2. Make some changes to your local copy of the repo.\n",
    "3. Tell git to track your changes with `git add`.\n",
    "4. Tell git to save your changes with `git commit -m`.\n",
    "5. Push the changes on your computer back to the server with `git push`. This uploads local -> remote.\n",
    "6. Repeat 2-5 as many times as you like until finished.\n",
    "\n",
    "Let's learn the add, commit, and push commands.\n",
    "\n",
    "Git calls a record of changes a _commit_. A commit is similar to a snapshot or save point. Before you create a commit, you need to tell git which changes to record. Use `git add PATH` to tell git to record changes to a file. Replace `PATH` with the path to the file.\n",
    "\n",
    "Once you're done adding files, it's time to create the commit. Before you create the commit, optionally use `git status` to check that the changes you meant to add were added.\n",
    "\n",
    "If everything looks correct, use `git commit -m \"MESSAGE\"` to create a commit. Replace `MESSAGE` with a 1 sentence message explaining what's changed in the commit. The commit message is a reminder for you and anyone else using your repo, so make sure it's clear.\n",
    "\n",
    "You can make as many commits as you want before pushing them back to the server. When you are ready to push them back to the server, make sure you are connected to the internet and then use `git push`.\n",
    "\n",
    "There are lots of steps in this process, so there are lots of places where it can go wrong. __Pay attention to error messages__ and search online or ask on Piazza to get help!"
   ]
  },
  {
   "cell_type": "markdown",
   "metadata": {},
   "source": [
    "### Merge Conflicts\n",
    "\n",
    "When you work on a GitHub repository with other people, they might change a file, commit the changes, and then _push_ the commit to GitHub. Your local copy of the file won't change unless you _pull_ the new commit from GitHub. In other words, your local repository can easily get out of sync with the remote repository on GitHub. If you change your local copy of the file and commit the changes, you create a _conflict_. If you try to push the conflicting commit to GitHub, you'll see an error message:\n",
    "```\n",
    "git push\n",
    "\n",
    "To github.com:USERNAME/REPOSITORY.git\n",
    " ! [rejected]        master -> master (fetch first)\n",
    "error: failed to push some refs to 'git@github.com:USERNAME/REPOSITORY.git'\n",
    "hint: Updates were rejected because the remote contains work that you do\n",
    "hint: not have locally. This is usually caused by another repository pushing\n",
    "hint: to the same ref. You may want to first integrate the remote changes\n",
    "hint: (e.g., 'git pull ...') before pushing again.\n",
    "hint: See the 'Note about fast-forwards' in 'git push --help' for details.\n",
    "```\n",
    "When you see an error, __don't panic!__ The error message hints that you should try pulling commits from GitHub before pushing your commit. If you pull commits from GitHub, you might see another error message:\n",
    "```\n",
    "git pull\n",
    "\n",
    "remote: Counting objects: 3, done.\n",
    "remote: Total 3 (delta 0), reused 0 (delta 0), pack-reused 0\n",
    "Unpacking objects: 100% (3/3), done.\n",
    "From github.com:USERNAME/REPOSITORY\n",
    "   6fe289c..48e44d3  master     -> origin/master\n",
    "Auto-merging README.md\n",
    "CONFLICT (content): Merge conflict in README.md\n",
    "Automatic merge failed; fix conflicts and then commit the result.\n",
    "```\n",
    "This is okay! Git tried to automatically fix the conflict by _merging_ your commit with the other person's commit, but couldn't figure out how because both commits changed the same file (`README.md` in the example). An automatic merge will only succeed if the commits being merged changed different files. Otherwise, it's up to you to resolve the conflict manually. If you open the file causing the conflict in a text editor, you'll see something like this:\n",
    "```\n",
    "# Our README.md\n",
    "\n",
    "<<<<<<< HEAD\n",
    "Here are the changes you made.\n",
    "=======\n",
    "Here are the changes the other person made.\n",
    ">>>>>>> 48e44d3a60af614f3a0da794a1701d040221d40f\n",
    "\n",
    "Here's some text that was added to the file in an earlier commit.\n",
    "```\n",
    "Git automatically marked which parts of the file conflict. Changes from your commit are shown between `<<<<<<<` and `=======`. Changes from the other person's commit are shown between `=======` and `>>>>>>>`. All you need to do is edit the file to look the way you want. If you wanted to keep your changes and the other person's changes (the polite thing to do), you could edit the file to look like this:\n",
    "```\n",
    "# Our README.md\n",
    "\n",
    "Here are the changes you made.\n",
    "\n",
    "Here are the changes the other person made.\n",
    "\n",
    "Here's some text that was added to the file in an earlier commit.\n",
    "```\n",
    "When you're done editing, save and then commit the file. This is called a _merge commit_. Git will automatically provide a commit message indicating that you merged your commit with the other person's commit:\n",
    "```\n",
    "[master 9594c15] Merge branch 'master' of github.com:USERNAME/REPOSITORY\n",
    "```\n",
    "Finally, you can push your commit along with the merge commit to GitHub:\n",
    "```\n",
    "git push\n",
    "\n",
    "Counting objects: 6, done.\n",
    "Delta compression using up to 4 threads.\n",
    "Compressing objects: 100% (2/2), done.\n",
    "Writing objects: 100% (6/6), 602 bytes | 0 bytes/s, done.\n",
    "Total 6 (delta 0), reused 0 (delta 0)\n",
    "To github.com:USERNAME/REPOSITORY.git\n",
    "   48e44d3..9594c15  master -> master\n",
    "```\n",
    "Note that if you pull and git asks you to merge a file, but you'd like to undo the pull and make more changes before merging, you can use the command `git merge --abort`. Git will remind you about \"unmerged paths\" in the `git status` message when it's waiting for you to merge a file:\n",
    "```\n",
    "git status\n",
    "\n",
    "On branch master\n",
    "Your branch and 'origin/master' have diverged,\n",
    "and have 1 and 1 different commits each, respectively.\n",
    "  (use \"git pull\" to merge the remote branch into yours)\n",
    "You have unmerged paths.\n",
    "  (fix conflicts and run \"git commit\")\n",
    "  (use \"git merge --abort\" to abort the merge)\n",
    "\n",
    "Unmerged paths:\n",
    "  (use \"git add <file>...\" to mark resolution)\n",
    "\n",
    "        both modified:   README.md\n",
    "\n",
    "no changes added to commit (use \"git add\" and/or \"git commit -a\")\n",
    "```"
   ]
  }
 ],
 "metadata": {
  "kernelspec": {
   "display_name": "Python 3",
   "language": "python",
   "name": "python3"
  },
  "language_info": {
   "codemirror_mode": {
    "name": "ipython",
    "version": 3
   },
   "file_extension": ".py",
   "mimetype": "text/x-python",
   "name": "python",
   "nbconvert_exporter": "python",
   "pygments_lexer": "ipython3",
   "version": "3.7.1"
  }
 },
 "nbformat": 4,
 "nbformat_minor": 2
}
