{
 "cells": [
  {
   "cell_type": "markdown",
   "metadata": {},
   "source": [
    "# STA 141B Lecture 18\n",
    "\n",
    "The class website is <https://github.com/2019-winter-ucdavis-sta141b/notes>\n",
    "\n",
    "### Announcements\n",
    "\n",
    "\n",
    "### Topics\n",
    "\n",
    "* Interactive visualizations\n",
    "* End-of-quarter summary\n",
    "\n",
    "### Datasets\n",
    "\n",
    "* The Gapminder Dataset (included in this repository)\n",
    "* The [Yolo County Restaurants Dataset](http://anson.ucdavis.edu/~nulle/yolo_food.feather)\n",
    "\n",
    "### References\n",
    "\n",
    "* [The Best Stats You've Ever Seen (Gapminder)](https://www.youtube.com/watch?v=hVimVzgtD6w&t=338s)\n",
    "* JavaScript (for web visualizations)\n",
    "    + [Learn X in Y Minutes, X = JavaScript][js-intro] -- a brief intro\n",
    "    + [MDN JavaScript Guide][js-guide] -- a detailed guide\n",
    "    + [MDN Learning Materials][web-intro] -- more information about web development\n",
    "\n",
    "[PDSH]: https://jakevdp.github.io/PythonDataScienceHandbook/\n",
    "[ProGit]: https://git-scm.com/book/\n",
    "[nlpp]: https://www.nltk.org/book/\n",
    "[atap]: https://search.library.ucdavis.edu/primo-explore/fulldisplay?docid=01UCD_ALMA51320822340003126&context=L&vid=01UCD_V1&search_scope=everything_scope&tab=default_tab&lang=en_US\n",
    "[js-intro]: https://learnxinyminutes.com/docs/javascript/\n",
    "[js-guide]: https://developer.mozilla.org/en-US/docs/Web/JavaScript/Guide\n",
    "[web-intro]: https://developer.mozilla.org/en-US/docs/Learn"
   ]
  },
  {
   "cell_type": "code",
   "execution_count": null,
   "metadata": {},
   "outputs": [],
   "source": [
    "import bokeh.io       # conda install bokeh\n",
    "import folium         # conda install -c conda-forge folium\n",
    "# For feather files:  # conda install -c conda-forge pyarrow\n",
    "\n",
    "# DATA SCIENCE TOOLKIT\n",
    "import matplotlib.pyplot as plt\n",
    "import numpy as np\n",
    "import pandas as pd\n",
    "import seaborn as sns\n",
    "\n",
    "%matplotlib inline"
   ]
  },
  {
   "cell_type": "code",
   "execution_count": null,
   "metadata": {},
   "outputs": [],
   "source": [
    "bokeh.io.output_notebook()"
   ]
  },
  {
   "cell_type": "markdown",
   "metadata": {},
   "source": [
    "# Custom Interactive Visualizations\n",
    "\n",
    "In order to make a visualization interactive, you need to run some code when the user clicks on a widget. The code can run _client-side_ on the user's machine, or _server-side_ on your server.\n",
    "\n",
    "For client-side interactivity:\n",
    "\n",
    "* Your code must be written in JavaScript.\n",
    "* You can host your visualization on any web server. No special setup is needed.\n",
    "* Your visualization will use the user's CPU and memory.\n",
    "\n",
    "For server-side interactivity:\n",
    "\n",
    "* Your code can be written in any language the server supports. This may require special setup.\n",
    "* Your visualization will use the server's CPU and memory.\n",
    "* You can update the data in real-time.\n",
    "* You can save data submitted by the user.\n",
    "\n",
    "There are lots of server-side frameworks for Python. Two of the most popular are [Django][django] and [Flask][flask].\n",
    "\n",
    "[Panel][panel] and [Dash][dash] are relatively new server-side frameworks designed specifically for creating dashboards for data analytics. The purpose and functionality of these is similar to R's Shiny package.\n",
    "\n",
    "[Bokeh][bokeh] is unique because it provides both a client-side and a server-side API.\n",
    "\n",
    "[django]: https://www.djangoproject.com/\n",
    "[flask]: http://flask.pocoo.org/\n",
    "[panel]: https://panel.pyviz.org/\n",
    "[dash]: https://plot.ly/products/dash/\n",
    "[bokeh]: http://bokeh.pydata.org/"
   ]
  },
  {
   "cell_type": "markdown",
   "metadata": {},
   "source": [
    "## Client-side\n",
    "\n",
    "Let's use __bokeh__ to make a client-side interactive version of the Gapminder plot. The x-axis will still show fertility rate, and the y-axis will still show life expectancy. We'll use a slider widget to let the user control the year."
   ]
  },
  {
   "cell_type": "code",
   "execution_count": null,
   "metadata": {},
   "outputs": [],
   "source": [
    "gapminder = pd.read_csv(\"../data/gapminder/gapminder.csv\")\n",
    "gapminder.head()"
   ]
  },
  {
   "cell_type": "markdown",
   "metadata": {},
   "source": [
    "To create the plot, we need several tools from `bokeh.models`:\n",
    "\n",
    "* `widgets.Slider` creates a slider widget.\n",
    "* `CustomJS` adds custom JavaScript code to a plot.\n",
    "* `ColumnDataSource` creates a data source for a plot that can be manipulated from JavaScript code.\n",
    "* `CDSView` creates a \"view\" of a data source based on some kind of filter.\n",
    "* `GroupFilter` filters a data source based on a category.\n",
    "\n",
    "We can also use `bokeh.layouts` to organize our slider and plot on the page.\n",
    "\n",
    "We need to write some JavaScript code to make the visualization work. You can quickly learn the syntax and basic semantics of JavaScript (and many other languages) from [Learn X in Y Minutes, X = JavaScript](https://learnxinyminutes.com/docs/javascript/). See the references at the top of this notebook for more thorough, in-depth tutorials."
   ]
  },
  {
   "cell_type": "code",
   "execution_count": null,
   "metadata": {},
   "outputs": [],
   "source": [
    "import bokeh.layouts\n",
    "from bokeh.models import ColumnDataSource, CustomJS, CDSView, GroupFilter\n",
    "from bokeh.models.widgets import Slider\n",
    "from bokeh.plotting import figure, show\n",
    "\n",
    "# Set up the slider.\n",
    "start = gapminder[\"year\"].min()\n",
    "end = gapminder[\"year\"].max()\n",
    "slider = Slider(start = start, end = end, step = 1, value = start)\n",
    "\n",
    "# Set up figure.\n",
    "p = figure(title = str(start), width = 300, height = 300)\n",
    "p.xaxis.axis_label = \"Fertility Rate\"\n",
    "p.yaxis.axis_label = \"Life Expectancy\"\n",
    "\n",
    "# Set up data sources.\n",
    "gapminder[\"log_pop\"] = np.log1p(gapminder[\"population\"])\n",
    "\n",
    "# Add the plot.\n",
    "p.scatter(\"fertility_rate\", \"life_expectancy\", size = \"log_pop\", source = gapminder[gapminder[\"year\"] == start], fill_alpha = 0.2)\n",
    "\n",
    "# ------------------------------------------------------------\n",
    "# Set up the JavaScript callback.\n",
    "# Use cb_obj to refer to the caller widget from a JavaScript callback.\n",
    "callback = CustomJS(args = dict(), code = \"\"\"\n",
    "    // We'll finish this example on Thursday!\n",
    "    console.log(cb_obj.value);\n",
    "\"\"\")\n",
    "\n",
    "slider.js_on_change(\"value\", callback)\n",
    "\n",
    "# ------------------------------------------------------------\n",
    "\n",
    "# Finally, set up the layout and show everything.\n",
    "layout = bokeh.layouts.Column(slider, p)\n",
    "show(layout)"
   ]
  },
  {
   "cell_type": "markdown",
   "metadata": {},
   "source": [
    "## Server-side\n",
    "\n",
    "Now let's use __bokeh__ make a server-side interactive version of the Gapminder plot. You can use your own computer as a server to test the visualization.\n",
    "\n",
    "The core of a server-side visualization (or \"app\") is a script that controls what's displayed on the page.\n",
    "\n",
    "A code skeleton for our visualization is included in this repo, in the file `myapp.py`. Notice that most of the code is identical to what we wrote for the client-side visualization. The main difference is that now we can write our callback in Python instead of JavaScript."
   ]
  },
  {
   "cell_type": "markdown",
   "metadata": {},
   "source": [
    "### Running the App\n",
    "\n",
    "In order to see the visualization, we have to run a __bokeh__ server. You can start a __bokeh__ server for `myapp.py` in an Anaconda Prompt (or Terminal) with the command:\n",
    "\n",
    "```sh\n",
    "python -m bokeh serve --show myapp.py\n",
    "```\n",
    "\n",
    "Be careful to specify the path to `myapp.py` correctly relative to the working directory!"
   ]
  },
  {
   "cell_type": "markdown",
   "metadata": {},
   "source": [
    "# Maps\n",
    "\n",
    "The __folium__ package uses the Leaflet JavaScript library to make interactive maps.\n",
    "\n",
    "The function to create a map is `folium.Map()`. The function's parameters control the position, style, and initial zoom of the map.\n",
    "\n",
    "If you want to change the size of the map, you first need to create a `folium.Figure()`, and then add the map to the figure with `.add_child()`."
   ]
  },
  {
   "cell_type": "code",
   "execution_count": null,
   "metadata": {
    "scrolled": false
   },
   "outputs": [],
   "source": [
    "import folium\n",
    "\n",
    "# Optional: save the map to a standalone HTML file.\n",
    "# fig.save(\"MY_MAP.html\")"
   ]
  },
  {
   "cell_type": "markdown",
   "metadata": {},
   "source": [
    "The [Yolo County Restuarants Dataset](http://anson.ucdavis.edu/~nulle/yolo_food.feather) contains locations and health inspector scores for all restaurants in Yolo County, California.\n",
    "\n",
    "Let's use __folium__ to display the restaurants on a map."
   ]
  },
  {
   "cell_type": "code",
   "execution_count": null,
   "metadata": {},
   "outputs": [],
   "source": [
    "# In order to read the 'feather' format, you need the pyarrow package.\n",
    "#\n",
    "#     conda install pyarrow -c conda-forge\n",
    "#\n",
    "\n",
    "food = pd.read_feather(\"yolo_food.feather\")\n",
    "food.head()"
   ]
  },
  {
   "cell_type": "markdown",
   "metadata": {},
   "source": [
    "Unlike most of the plotting packages we used before, __folium__ does not automatically handle missing values. So in order to make our map, we first need to remove the missing values from our dataset."
   ]
  },
  {
   "cell_type": "code",
   "execution_count": null,
   "metadata": {},
   "outputs": [],
   "source": []
  },
  {
   "cell_type": "markdown",
   "metadata": {},
   "source": [
    "Now we can make the map. For each restaurant, we have to create a circle and add it to the map."
   ]
  },
  {
   "cell_type": "code",
   "execution_count": null,
   "metadata": {},
   "outputs": [],
   "source": []
  },
  {
   "cell_type": "markdown",
   "metadata": {},
   "source": [
    "Folium can also display boundaries stored in GeoJSON files. See [the documentation](https://python-visualization.github.io/folium/index.html) for more info.\n",
    "\n",
    "You can convert shapefiles to GeoJSON with the __geopandas__ package.\n"
   ]
  },
  {
   "cell_type": "markdown",
   "metadata": {},
   "source": [
    "# It's Week 9!\n",
    "\n",
    "Major topics from this class:\n",
    "\n",
    "* Scientific Python (Numpy, Pandas, Matplotlib)\n",
    "* Web APIs\n",
    "* Web Scraping\n",
    "* Text Mining\n",
    "* Databases\n",
    "\n",
    "Where can you go from here?\n",
    "\n",
    "* Learn...\n",
    "    * Applied statistics (STA 108, 135) to match your computing knowledge.\n",
    "    * A systems programming language (Java, C, C++, Rust) for performance-critical programming.\n",
    "    * JavaScript (and D3.js) to make interactive visualizations.\n",
    "    * Machine learning techniques (ECS 171).\n",
    "    * [How to implement a neural network](https://victorzhou.com/blog/intro-to-neural-networks/).\n",
    "\n",
    "\n",
    "* Get involved with the UC Davis [Data Science Initiative](http://dsi.ucdavis.edu/).\n",
    "\n",
    "\n",
    "* Get involved with an open-source project.\n",
    "\n",
    "\n",
    "* Start reading and learning from [Hacker News](https://news.ycombinator.com/)."
   ]
  }
 ],
 "metadata": {
  "kernelspec": {
   "display_name": "Python 3",
   "language": "python",
   "name": "python3"
  },
  "language_info": {
   "codemirror_mode": {
    "name": "ipython",
    "version": 3
   },
   "file_extension": ".py",
   "mimetype": "text/x-python",
   "name": "python",
   "nbconvert_exporter": "python",
   "pygments_lexer": "ipython3",
   "version": "3.7.1"
  }
 },
 "nbformat": 4,
 "nbformat_minor": 2
}
