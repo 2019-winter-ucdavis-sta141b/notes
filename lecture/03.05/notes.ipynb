{
 "cells": [
  {
   "cell_type": "markdown",
   "metadata": {},
   "source": [
    "# STA 141B Lecture 17\n",
    "\n",
    "The class website is <https://github.com/2019-winter-ucdavis-sta141b/notes>\n",
    "\n",
    "### Announcements\n",
    "\n",
    "\n",
    "### Topics\n",
    "\n",
    "* Interactive visualizations\n",
    "\n",
    "### Datasets\n",
    "\n",
    "* The Gapminder Dataset (included in this repository)\n",
    "* The [Yolo County Restaurants Dataset](http://anson.ucdavis.edu/~nulle/yolo_food.feather)\n",
    "\n",
    "### References\n",
    "\n",
    "* [The Best Stats You've Ever Seen (Gapminder)](https://www.youtube.com/watch?v=hVimVzgtD6w&t=338s)\n",
    "* JavaScript (for web visualizations)\n",
    "    + [Learn X in Y Minutes, X = JavaScript][js-intro] -- a brief intro\n",
    "    + [MDN JavaScript Guide][js-guide] -- a detailed guide\n",
    "    + [MDN Learning Materials][web-intro] -- more information about web development\n",
    "\n",
    "[PDSH]: https://jakevdp.github.io/PythonDataScienceHandbook/\n",
    "[ProGit]: https://git-scm.com/book/\n",
    "[nlpp]: https://www.nltk.org/book/\n",
    "[atap]: https://search.library.ucdavis.edu/primo-explore/fulldisplay?docid=01UCD_ALMA51320822340003126&context=L&vid=01UCD_V1&search_scope=everything_scope&tab=default_tab&lang=en_US\n",
    "[js-intro]: https://learnxinyminutes.com/docs/javascript/\n",
    "[js-guide]: https://developer.mozilla.org/en-US/docs/Web/JavaScript/Guide\n",
    "[web-intro]: https://developer.mozilla.org/en-US/docs/Learn"
   ]
  },
  {
   "cell_type": "code",
   "execution_count": null,
   "metadata": {},
   "outputs": [],
   "source": [
    "# NEW PACKAGES\n",
    "import bokeh.io       # conda install bokeh\n",
    "import imageio        # conda install -c conda-forge imageio\n",
    "import folium         # conda install -c conda-forge folium\n",
    "# For feather files:  # conda install -c conda-forge pyarrow\n",
    "\n",
    "# DATA SCIENCE TOOLKIT\n",
    "import matplotlib.pyplot as plt\n",
    "import numpy as np\n",
    "import pandas as pd\n",
    "import seaborn as sns\n",
    "\n",
    "%matplotlib inline"
   ]
  },
  {
   "cell_type": "markdown",
   "metadata": {},
   "source": [
    "# Animated Visualizations\n",
    "\n",
    "__matplotlib__ can also make animated videos. The `matplotlib.animation` submodule ([docs](https://matplotlib.org/api/animation_api.html)) provides support for animation.\n",
    "\n",
    "There are examples online:\n",
    "\n",
    "* [Drawing animated GIFs with matplotlib](https://eli.thegreenplace.net/2016/drawing-animated-gifs-with-matplotlib/)\n",
    "* [How to Create Animated Graphs in Python](https://towardsdatascience.com/how-to-create-animated-graphs-in-python-bb619cc2dec1)\n",
    "* [Animated histogram](https://matplotlib.org/gallery/animation/animated_histogram.html)\n",
    "\n",
    "## Flipbook Strategy\n",
    "\n",
    "There's another simple strategy for making animated visualizations. The strategy is the same as an old-fashioned pen-and-paper flipbook: create lots of still images and flip through them quickly.\n",
    "\n",
    "A good thing about this strategy is that it works with any package that can make static visualizations. The tradeoff is that you have to write code to create the images -- but usually this isn't too hard.\n",
    "\n",
    "To use this strategy, you'll need a Python package that can save animated images. Let's look at an example using the __imageio__ package to save a GIF image. We'll use the Gapminder Dataset, which contains statistics for countries from 1800 to 2015. This dataset is based on data from the [Gapminder Project](https://www.gapminder.org/)."
   ]
  },
  {
   "cell_type": "code",
   "execution_count": null,
   "metadata": {},
   "outputs": [],
   "source": [
    "gapminder = pd.read_csv(\"../data/gapminder/gapminder.csv\")\n",
    "gapminder.head()"
   ]
  },
  {
   "cell_type": "code",
   "execution_count": null,
   "metadata": {},
   "outputs": [],
   "source": [
    "import imageio    # conda install -c conda-forge imageio\n",
    "\n",
    "def render_frame():\n",
    "    \"\"\"Render a single frame (plot) in an animated visualization.\n",
    "    \n",
    "    Adapted from: https://ndres.me/post/matplotlib-animated-gifs-easily/\n",
    "    \"\"\"\n",
    "    # Create a matplotlib figure to plot into.\n",
    "    fig = plt.figure(figsize = (10, 5))\n",
    "    \n",
    "    # -------------------- Visualization Code\n",
    "\n",
    "    \n",
    "    # -------------------- End Visualization Code\n",
    "\n",
    "    # Draw the figure and then convert it to a Numpy array.\n",
    "    fig.canvas.draw()\n",
    "    image = np.frombuffer(fig.canvas.tostring_rgb(), dtype = \"uint8\")\n",
    "    image = image.reshape(fig.canvas.get_width_height()[::-1] + (3,))\n",
    "    \n",
    "    # Close the matplotlib figure (we're done with it)\n",
    "    plt.close()\n",
    "    return image\n",
    "\n",
    "plots = []\n",
    "\n",
    "# Save a list of images as a GIF file.\n",
    "imageio.mimsave(\"gapminder.gif\", plots, fps = 3)"
   ]
  },
  {
   "cell_type": "markdown",
   "metadata": {},
   "source": [
    "# Web Visualizations\n",
    "\n",
    "Web browsers are ubiquitous and support interactivity via JavaScript, so the web is an excellent platform for visualizations. Web visualizations are powered by a few important JavaScript libraries:\n",
    "\n",
    "*   __[D3.js][]__: Short for Data-Driven Documents, D3 allows you to bind data\n",
    "    to HTML tags. In other words, you can use data to control the structure and\n",
    "    style of a web page.\n",
    "\n",
    "\n",
    "*   __[Vega][]__ & __[Vega Lite][]__: A visualization grammar (the same idea as\n",
    "    ggplot) built on top of D3. You write a description of what you want in\n",
    "    JSON, and Vega produces a D3 visualization. Vega Lite adds support for\n",
    "    common statistical graphics.\n",
    "\n",
    "\n",
    "*   __[three.js][]__: A 3-dimensional graphics library.\n",
    "\n",
    "\n",
    "*   __[Leaflet][]__: An interactive maps library.\n",
    "\n",
    "There are many more JavaScript libraries, but the ones listed here are the most popular. They also have the best support from Python packages. Packages for creating web visualizations from Python include:\n",
    "\n",
    "Package     | JS Library    | Description\n",
    "----------  | ------------- | -----------\n",
    "[mpld3][]   | [D3.js][]     | Matplotlib-like interface to D3\n",
    "[bqplot][]  | [D3.js][]     | Bloomberg News' interface to D3\n",
    "[plotly][]  | [D3.js][]     | Unified interface for interactive visualization across multiple languages\n",
    "[altair][]  | [Vega Lite][] | Declarative interface to Vega & Vega Lite\n",
    "[bokeh][]   | [BokehJS][]   | Unified interface for interactive visualization across multiple languages\n",
    "[hvPlot][]  | [BokehJS][]   | Pandas-like interface to Bokeh\n",
    "[Toyplot][] | -             | Interactive visualizations for Python\n",
    "[folium][]  | [Leaflet][]   | Interface to Leaflet\n",
    "\n",
    "Also worth mentioning is the [pygal](http://www.pygal.org/en/stable/) package, which produces SVG plots that can be viewed in a web browser but do not require any JavaScript library.\n",
    "\n",
    "[D3.js]: https://d3js.org/\n",
    "[Vega]: https://vega.github.io/vega/\n",
    "[Vega Lite]: https://vega.github.io/vega-lite/\n",
    "[three.js]: https://threejs.org/\n",
    "[BokehJS]: http://bokeh.pydata.org/en/latest/docs/dev_guide/bokehjs.html\n",
    "[Leaflet]: http://leafletjs.com/\n",
    "\n",
    "[mpld3]: http://mpld3.github.io/\n",
    "[altair]: https://altair-viz.github.io/\n",
    "[plotly]: https://plot.ly/python/\n",
    "[bokeh]: http://bokeh.pydata.org/\n",
    "[folium]: https://github.com/python-visualization/folium\n",
    "[hvPlot]: https://hvplot.pyviz.org/\n",
    "[bqplot]: https://github.com/bloomberg/bqplot\n",
    "[Toyplot]: https://toyplot.readthedocs.io/en/stable/"
   ]
  },
  {
   "cell_type": "markdown",
   "metadata": {},
   "source": [
    "## Basic Interactivity\n",
    "\n",
    "Let's start by looking at Bokeh. We'll make a scatter plot with the simplest kind of interactivity: a pan tool and a zoom tool.\n",
    "\n",
    "To display Bokeh plots in a Jupyter notebook, first you must call the setup function `output_notebook()`. You don't have to do this if you're going to save your plots to HTML instead."
   ]
  },
  {
   "cell_type": "code",
   "execution_count": null,
   "metadata": {},
   "outputs": [],
   "source": [
    "bokeh.io.output_notebook()"
   ]
  },
  {
   "cell_type": "markdown",
   "metadata": {},
   "source": [
    "Now we can make a plot. Bokeh's plotting functions work with data frames in [tidy](http://vita.had.co.nz/papers/tidy-data.pdf) form.\n",
    "\n",
    "The starting point is `bokeh.plotting.figure`, which creates a figure. We also need `bokeh.plotting.show` to display the figure."
   ]
  },
  {
   "cell_type": "code",
   "execution_count": null,
   "metadata": {},
   "outputs": [],
   "source": [
    "from bokeh.plotting import figure, show\n",
    "\n",
    "\n",
    "# Optional: save the plot to a standalone HTML file.\n",
    "#bokeh.io.output_file(\"MY_PLOT.html\")"
   ]
  },
  {
   "cell_type": "markdown",
   "metadata": {},
   "source": [
    "Bokeh is a relatively low-level plotting package. It does not provide built-in functions for many basic statistical plots."
   ]
  },
  {
   "cell_type": "markdown",
   "metadata": {},
   "source": [
    "## Intermission: Maps\n",
    "\n",
    "The __folium__ package uses the Leaflet JavaScript library to make interactive maps.\n",
    "\n",
    "The function to create a map is `folium.Map()`. The function's parameters control the position, style, and initial zoom of the map.\n",
    "\n",
    "If you want to change the size of the map, you first need to create a `folium.Figure()`, and then add the map to the figure with `.add_child()`."
   ]
  },
  {
   "cell_type": "code",
   "execution_count": null,
   "metadata": {
    "scrolled": false
   },
   "outputs": [],
   "source": [
    "import folium\n",
    "\n",
    "\n",
    "# Optional: save the map to a standalone HTML file.\n",
    "# fig.save(\"MY_MAP.html\")"
   ]
  },
  {
   "cell_type": "markdown",
   "metadata": {},
   "source": [
    "The [Yolo County Restuarants Dataset](http://anson.ucdavis.edu/~nulle/yolo_food.feather) contains locations and health inspector scores for all restaurants in Yolo County, California.\n",
    "\n",
    "Let's use __folium__ to display the restaurants on a map."
   ]
  },
  {
   "cell_type": "code",
   "execution_count": null,
   "metadata": {},
   "outputs": [],
   "source": [
    "# In order to read the 'feather' format, you need the pyarrow package.\n",
    "#\n",
    "#     conda install pyarrow -c conda-forge\n",
    "#\n",
    "\n",
    "food = pd.read_feather(\"yolo_food.feather\")\n",
    "food.head()"
   ]
  },
  {
   "cell_type": "markdown",
   "metadata": {},
   "source": [
    "Unlike most of the plotting packages we used before, __folium__ does not automatically handle missing values. So in order to make our map, we first need to remove the missing values from our dataset."
   ]
  },
  {
   "cell_type": "code",
   "execution_count": null,
   "metadata": {},
   "outputs": [],
   "source": [
    "food = food[food.lat.notna() & food.lng.notna()]"
   ]
  },
  {
   "cell_type": "markdown",
   "metadata": {},
   "source": [
    "Now we can make the map. For each restaurant, we have to create a circle and add it to the map."
   ]
  },
  {
   "cell_type": "code",
   "execution_count": null,
   "metadata": {},
   "outputs": [],
   "source": [
    "m = folium.Map(location = [38.54, -121.74], zoom_start = 11)\n",
    "\n"
   ]
  },
  {
   "cell_type": "markdown",
   "metadata": {},
   "source": [
    "Folium can also display boundaries stored in GeoJSON files. See [the documentation](https://python-visualization.github.io/folium/index.html) for more info.\n",
    "\n",
    "You can convert shapefiles to GeoJSON with the __geopandas__ package.\n"
   ]
  },
  {
   "cell_type": "markdown",
   "metadata": {},
   "source": [
    "# Custom Interactive Visualizations\n",
    "\n",
    "In order to make a visualization interactive, you need to run some code when the user clicks on a widget. The code can run _client-side_ on the user's machine, or _server-side_ on your server.\n",
    "\n",
    "For client-side interactivity:\n",
    "\n",
    "* Your code must be written in JavaScript.\n",
    "* You can host your visualization on any web server. No special setup is needed.\n",
    "* Your visualization will use the user's CPU and memory.\n",
    "\n",
    "For server-side interactivity:\n",
    "\n",
    "* Your code can be written in any language the server supports. This may require special setup.\n",
    "* Your visualization will use the server's CPU and memory.\n",
    "* You can update the data in real-time.\n",
    "* You can save data submitted by the user.\n",
    "\n",
    "There are lots of server-side frameworks for Python. Two of the most popular are [Django][django] and [Flask][flask].\n",
    "\n",
    "[Panel][panel] and [Dash][dash] are relatively new server-side frameworks designed specifically for creating dashboards for data analytics. The purpose and functionality of these is similar to R's Shiny package.\n",
    "\n",
    "[Bokeh][bokeh] is unique because it provides both a client-side and a server-side API.\n",
    "\n",
    "[django]: https://www.djangoproject.com/\n",
    "[flask]: http://flask.pocoo.org/\n",
    "[panel]: https://panel.pyviz.org/\n",
    "[dash]: https://plot.ly/products/dash/\n",
    "[bokeh]: http://bokeh.pydata.org/"
   ]
  },
  {
   "cell_type": "markdown",
   "metadata": {},
   "source": [
    "## Client-side\n",
    "\n",
    "Let's use __bokeh__ to make a client-side interactive version of the Gapminder plot. The x-axis will still show fertility rate, and the y-axis will still show life expectancy. We'll use a slider widget to let the user control the year."
   ]
  },
  {
   "cell_type": "code",
   "execution_count": null,
   "metadata": {
    "scrolled": true
   },
   "outputs": [],
   "source": [
    "gapminder.head()"
   ]
  },
  {
   "cell_type": "markdown",
   "metadata": {},
   "source": [
    "To create the plot, we need several tools from `bokeh.models`:\n",
    "\n",
    "* `widgets.Slider` creates a slider widget.\n",
    "* `CustomJS` adds custom JavaScript code to a plot.\n",
    "* `ColumnDataSource` creates a data source for a plot that can be manipulated from JavaScript code.\n",
    "* `CDSView` creates a \"view\" of a data source based on some kind of filter.\n",
    "* `GroupFilter` filters a data source based on a category.\n",
    "\n",
    "We can also use `bokeh.layouts` to organize our slider and plot on the page.\n",
    "\n",
    "We need to write some JavaScript code to make the visualization work. You can quickly learn the syntax and basic semantics of JavaScript (and many other languages) from [Learn X in Y Minutes, X = JavaScript](https://learnxinyminutes.com/docs/javascript/). See the references at the top of this notebook for more thorough, in-depth tutorials."
   ]
  },
  {
   "cell_type": "code",
   "execution_count": null,
   "metadata": {},
   "outputs": [],
   "source": [
    "import bokeh.layouts\n",
    "from bokeh.models import ColumnDataSource, CustomJS, CDSView, GroupFilter\n",
    "from bokeh.models.widgets import Slider\n",
    "from bokeh.plotting import figure, show\n",
    "\n",
    "# Set up the slider.\n",
    "\n",
    "\n",
    "# Set up figure.\n",
    "p = figure(title = \"1954\", width = 300, height = 300)\n",
    "p.xaxis.axis_label = \"Fertility Rate\"\n",
    "p.yaxis.axis_label = \"Life Expectancy\"\n",
    "\n",
    "# Set up data sources.\n",
    "gapminder[\"log_pop\"] = np.log1p(gapminder[\"population\"])\n",
    "\n",
    "# Add the plot.\n",
    "p.scatter(\"fertility_rate\", \"life_expectancy\", size = \"log_pop\", source = gapminder[gapminder[\"year\"] == 1954], fill_alpha = 0.2)\n",
    "\n",
    "# ------------------------------------------------------------\n",
    "# Set up the JavaScript callback.\n",
    "# Use cb_obj to refer to the caller widget from a JavaScript callback.\n",
    "\n",
    "\n",
    "# ------------------------------------------------------------\n",
    "\n",
    "# Finally, set up the layout and show everything.\n",
    "show(p)"
   ]
  },
  {
   "cell_type": "markdown",
   "metadata": {},
   "source": [
    "## Server-side\n",
    "\n",
    "Now let's use __bokeh__ make a server-side interactive version of the Gapminder plot. You can use your own computer as a server to test the visualization.\n",
    "\n",
    "The core of a server-side visualization (or \"app\") is a script that controls what's displayed on the page.\n",
    "\n",
    "A code skeleton for our visualization is included in this repo, in the file `myapp.py`. Notice that most of the code is identical to what we wrote for the client-side visualization. The main difference is that now we can write our callback in Python instead of JavaScript."
   ]
  },
  {
   "cell_type": "markdown",
   "metadata": {},
   "source": [
    "### Running the App\n",
    "\n",
    "In order to see the visualization, we have to run a __bokeh__ server. You can start a __bokeh__ server for `myapp.py` in an Anaconda Prompt (or Terminal) with the command:\n",
    "\n",
    "```sh\n",
    "python -m bokeh serve --show myapp.py\n",
    "```\n",
    "\n",
    "Be careful to specify the path to `myapp.py` correctly relative to the working directory!"
   ]
  }
 ],
 "metadata": {
  "kernelspec": {
   "display_name": "Python 3",
   "language": "python",
   "name": "python3"
  },
  "language_info": {
   "codemirror_mode": {
    "name": "ipython",
    "version": 3
   },
   "file_extension": ".py",
   "mimetype": "text/x-python",
   "name": "python",
   "nbconvert_exporter": "python",
   "pygments_lexer": "ipython3",
   "version": "3.7.1"
  }
 },
 "nbformat": 4,
 "nbformat_minor": 2
}
