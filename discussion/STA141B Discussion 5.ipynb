{
 "cells": [
  {
   "cell_type": "markdown",
   "metadata": {},
   "source": [
    "# Discussion5"
   ]
  },
  {
   "cell_type": "markdown",
   "metadata": {},
   "source": [
    "### HTML, XML  and JSON (from Nick)"
   ]
  },
  {
   "cell_type": "raw",
   "metadata": {},
   "source": [
    "HTML and XML are called \"markup languages\" because they're used to mark text with extra information. With HTML, that extra information is the formatting (italics, bold, font size, color, etc) and structure (tables, lists, etc) of a web page. With XML, that extra information can be anything -- that's why it's called eXtensible markup language.\n",
    "\n",
    "HTML and XML have nearly identical syntax. They use tags written with angle brackets, as in <table>, to begin a mark. Tags usually come in pairs. The ending or closing tag always has a / before the name, so continuing the example, there's also a </table> tag. There's a specific set of tag names for HTML, but for XML most of the tag names are up to the user.\n",
    "\n",
    "In terms of syntax, HTML is a subset of XML. So any XML parser can also parse HTML. For instance, lxml supports both. Sometimes people build parsers specialized for HTML because HTML is less strict -- modern web browsers will display a page correctly even if some tags are missing or mismatched. These specialized parsers try to do the same kind of error correction, and thus only work with HTML; html5lib is an example.\n",
    "\n",
    "The main purpose of the requests package is to provide functions for HTTP. Since HTTP can be used to share any kind of file, the package can download HTML or XML data just like it can download JSON data. However, requests doesn't have a built-in parser for HTML and XML, which is why we'll need lxml or a similar package.\n",
    "JSON is usually easier to work with than XML, because JSON can be parsed into dictionaries and lists. XML is older and so there are more tools and technologies available for working with XML."
   ]
  },
  {
   "cell_type": "code",
   "execution_count": 2,
   "metadata": {},
   "outputs": [],
   "source": [
    "import numpy as np\n",
    "import pandas as pd\n",
    "import requests"
   ]
  },
  {
   "cell_type": "markdown",
   "metadata": {},
   "source": [
    "## Example1: Github Jobs again"
   ]
  },
  {
   "cell_type": "code",
   "execution_count": 177,
   "metadata": {},
   "outputs": [],
   "source": [
    "url='https://jobs.github.com/positions?description=python&location=new+york'"
   ]
  },
  {
   "cell_type": "code",
   "execution_count": 178,
   "metadata": {},
   "outputs": [],
   "source": [
    "res=requests.get(url)"
   ]
  },
  {
   "cell_type": "code",
   "execution_count": 179,
   "metadata": {},
   "outputs": [
    {
     "data": {
      "text/plain": [
       "200"
      ]
     },
     "execution_count": 179,
     "metadata": {},
     "output_type": "execute_result"
    }
   ],
   "source": [
    "res.status_code"
   ]
  },
  {
   "cell_type": "code",
   "execution_count": 189,
   "metadata": {
    "scrolled": true
   },
   "outputs": [
    {
     "data": {
      "text/plain": [
       "'\\n<!DOCTYPE html>\\n<html>\\n  <head>\\n    <title>\\n      Job Listings &mdash;\\n      GitHub Jobs\\n    </title>\\n\\n    <meta name=\"csrf-param\" content=\"authenticity_token\" />\\n<meta name=\"csrf-token\" content=\"kwMzc/l7sQGC+JyQ0pgd89kmuSPTxc0smDrPnOQEuKnQ65nOwkFfeS2+t9MZkyBJmKjBaoSsJZIKBMV5Wo+OLA==\" />\\n    <meta name=\"csp-nonce\" content=\"WyCCaGXx100b//i0m3E8fA==\" />\\n\\n\\n    <link rel=\"stylesheet\" media=\"all\" href=\"/assets/application-8a0cea4b3c1077a7417cbdcfe673a88324c7ba0eebeed02e897c67742f3632d7.css\" />\\n    <script src=\"/assets/application-5401ee2776c139ee29485890cb53ebf70c80548481072f4460c24424d23972e0.js\"></script>\\n    \\n\\n    \\n  <script nonce=\"WyCCaGXx100b//i0m3E8fA==\">\\n//<![CDATA[\\n\\n    var _gaq = _gaq || [];\\n    _gaq.push([\\'_setAccount\\', \\'UA-3769691-9\\']);\\n    _gaq.push([\\'_trackPageview\\']);\\n\\n    (function() {\\n      var ga = document.createElement(\\'script\\'); ga.type = \\'text/javascript\\'; ga.async = true;\\n      ga.src = (\\'https:\\' == document.location.protocol ? \\'https://ssl\\' : \\'http://www\\') + \\'.google-analytics.com/ga.js\\';\\n      var s = document.getElementsByTagName(\\'script\\')[0]; s.parentNode.insertBefore(ga, s);\\n    })();\\n\\n//]]>\\n</script>\\n  </head>\\n\\n  <body>\\n\\n    <div class=\"non-footer\">\\n      <div id=\"header\">\\n        <div id=\"wrap\">\\n          <h2 id=\"logo\">\\n            <a href=\"/\">GitHub Jobs</a>\\n          </h2>\\n\\n            <ul id=\"gnav\">\\n              <li><a href=\"/positions\">All jobs</a></li>\\n              <li><a href=\"/post\">Post a job</a></li>\\n              <li><a href=\"/faq\">How it works</a></li>\\n            </ul>\\n        </div>\\n      </div>\\n\\n      <div id=\"wrap\">\\n\\n        \\n  \\n<div id=\"search\" class=\"clearfix\">\\n\\n\\t<form class=\"positions\" action=\"/positions\" accept-charset=\"UTF-8\" method=\"get\"><input name=\"utf8\" type=\"hidden\" value=\"&#x2713;\" />\\n\\n\\t\\t<div class=\"bucket description\">\\n\\t\\t\\t<h3>Job Description</h3>\\n\\n\\t\\t\\t<div class=\"field\">\\n        <input type=\"text\" name=\"description\" id=\"description_field\" value=\"python\" placeholder=\"Filter by title, benefits, companies, expertise\" autocomplete=\"off\" />\\n\\t\\t\\t</div>\\n\\t\\t</div>\\n\\n\\t\\t<div class=\"bucket location\">\\n\\t\\t\\t<h3>Location</h3>\\n\\n\\t\\t\\t<div class=\"field\">\\n        <input type=\"text\" name=\"location\" id=\"location_field\" value=\"new york\" placeholder=\"Filter by city, state, zip code or country\" autocomplete=\"off\" />\\n\\t\\t\\t</div>\\n\\t\\t</div>\\n\\n\\t\\t<div class=\"bucket fulltime\">\\n\\t\\t\\t<label class=\"simplefield\">\\n        <input type=\"checkbox\" name=\"full_time\" id=\"full_time_field\" value=\"on\" />\\n\\t\\t\\t\\tFull Time Only\\n\\t\\t\\t</label>\\n\\t\\t</div>\\n\\n\\t\\t<button type=\"submit\">Search</button>\\n\\n</form>\\n</div>\\n\\n\\n<div id=\"page\">\\n  <div class=\"inner\">\\n\\n      <h1>\\n        Showing\\n          5\\n        jobs\\n        \\n      </h1>\\n\\n    <div class=\"columns generic\">\\n      <div class=\"column main\">\\n        <section>\\n          <table class=\"positionlist\">\\n\\t<tbody>\\n\\n\\t\\t\\t<tr class=\"job\">\\n\\t\\t\\t\\t<td class=\"title\">\\n\\t\\t\\t\\t\\t<h4><a href=\"https://jobs.github.com/positions/1ac24d6f-f751-4619-90b0-6485109b23f7\">Web Developer</a></h4>\\n\\t\\t\\t\\t\\t<p class=\"source\">\\n\\t\\t\\t\\t\\t\\t<a class=\"company\" href=\"https://jobs.github.com/companies/simons-foundation\">Simons Foundation</a>\\n\\t\\t\\t\\t\\t\\t–\\n            <strong class=\"fulltime\">Full Time</strong></p>\\n\\t\\t\\t\\t</td>\\n\\n\\t\\t\\t\\t<td class=\"meta\">\\n          <span class=\"location\">New York, NY</span>\\n          <span class=\"when relatize relatized\">25 days ago</span>\\n\\t\\t\\t\\t</td>\\n\\t\\t\\t</tr>\\n\\t\\t\\t<tr class=\"job\">\\n\\t\\t\\t\\t<td class=\"title\">\\n\\t\\t\\t\\t\\t<h4><a href=\"https://jobs.github.com/positions/8fcee23a-aaae-4108-aada-501056778245\">Lead Data Engineer</a></h4>\\n\\t\\t\\t\\t\\t<p class=\"source\">\\n\\t\\t\\t\\t\\t\\t<a class=\"company\" href=\"https://jobs.github.com/companies/crowdtwist\">CrowdTwist</a>\\n\\t\\t\\t\\t\\t\\t–\\n            <strong class=\"fulltime\">Full Time</strong></p>\\n\\t\\t\\t\\t</td>\\n\\n\\t\\t\\t\\t<td class=\"meta\">\\n          <span class=\"location\">New York, NY, US</span>\\n          <span class=\"when relatize relatized\">2 months ago</span>\\n\\t\\t\\t\\t</td>\\n\\t\\t\\t</tr>\\n\\t\\t\\t<tr class=\"job\">\\n\\t\\t\\t\\t<td class=\"title\">\\n\\t\\t\\t\\t\\t<h4><a href=\"https://jobs.github.com/positions/cd535970-ec11-11e8-89ae-2e904411ec0e\">Cybersecurity Firm Seeks Senior Developer</a></h4>\\n\\t\\t\\t\\t\\t<p class=\"source\">\\n\\t\\t\\t\\t\\t\\t<a class=\"company\" href=\"https://jobs.github.com/companies/aon-cyber-solutions\">Aon Cyber Solutions</a>\\n\\t\\t\\t\\t\\t\\t–\\n            <strong class=\"fulltime\">Full Time</strong></p>\\n\\t\\t\\t\\t</td>\\n\\n\\t\\t\\t\\t<td class=\"meta\">\\n          <span class=\"location\">NY or LA</span>\\n          <span class=\"when relatize relatized\">3 months ago</span>\\n\\t\\t\\t\\t</td>\\n\\t\\t\\t</tr>\\n\\t\\t\\t<tr class=\"job\">\\n\\t\\t\\t\\t<td class=\"title\">\\n\\t\\t\\t\\t\\t<h4><a href=\"https://jobs.github.com/positions/4cd29974-e48b-11e8-8478-fb9810f86b79\">Software engineer (back end)</a></h4>\\n\\t\\t\\t\\t\\t<p class=\"source\">\\n\\t\\t\\t\\t\\t\\t<a class=\"company\" href=\"https://jobs.github.com/companies/sesame\">Sesame</a>\\n\\t\\t\\t\\t\\t\\t–\\n            <strong class=\"fulltime\">Full Time</strong></p>\\n\\t\\t\\t\\t</td>\\n\\n\\t\\t\\t\\t<td class=\"meta\">\\n          <span class=\"location\">New York; Berlin</span>\\n          <span class=\"when relatize relatized\">3 months ago</span>\\n\\t\\t\\t\\t</td>\\n\\t\\t\\t</tr>\\n\\t\\t\\t<tr class=\"job\">\\n\\t\\t\\t\\t<td class=\"title\">\\n\\t\\t\\t\\t\\t<h4><a href=\"https://jobs.github.com/positions/dc428b94-e42e-11e8-91e2-23879ca9e8b0\">Technology Solutions Developer</a></h4>\\n\\t\\t\\t\\t\\t<p class=\"source\">\\n\\t\\t\\t\\t\\t\\t<a class=\"company\" href=\"https://jobs.github.com/companies/new-york-university\">New York University</a>\\n\\t\\t\\t\\t\\t\\t–\\n            <strong class=\"fulltime\">Full Time</strong></p>\\n\\t\\t\\t\\t</td>\\n\\n\\t\\t\\t\\t<td class=\"meta\">\\n          <span class=\"location\">New York, New York 10001</span>\\n          <span class=\"when relatize relatized\">3 months ago</span>\\n\\t\\t\\t\\t</td>\\n\\t\\t\\t</tr>\\n\\n    \\n\\n\\t</tbody>\\n</table>\\n\\n\\n        </section>\\n      </div>\\n\\n      <div class=\"column sidebar\">\\n\\n        <a class=\"feed\" href=\"/positions.atom?description=python&amp;location=new+york\">Subscribe to Atom Feed</a>\\n        <a class=\"tweet\" href=\"https://twitter.com/GitHubJobs\">Follow GitHub Jobs on Twitter</a>\\n\\n        <div class=\"module\">\\n  <div class=\"inner\">\\n    <h2>Subscribe to email updates</h2>\\n\\n    <p>Subscribe and we’ll send you a summary once a week if new jobs are posted to this list.</p>\\n\\n    <p>\\n      <a class=\"button js-open-modal\" href=\"#\" rel=\"subscription-modal\">Subscribe to updates</a>\\n    </p>\\n  </div>\\n</div>\\n\\n<div id=\"subscription-modal\" class=\"content popup d-none\">\\n  <form class=\"js-replace-form\" id=\"new_subscription\" data-replace-with=\"subscription-success\" action=\"/subscriptions\" accept-charset=\"UTF-8\" data-remote=\"true\" method=\"post\"><input name=\"utf8\" type=\"hidden\" value=\"&#x2713;\" />\\n    <h2>Subscribe by Email</h2>\\n\\n    <p>We promise not to spam or share your email.</p>\\n\\n    <div class=\"field\">\\n      <input class=\"fullon\" placeholder=\"email\" type=\"text\" name=\"subscription[email]\" id=\"subscription_email\" />\\n    </div>\\n    <input type=\"hidden\" value=\"python\" name=\"subscription[description]\" id=\"subscription_description\" />\\n    <input type=\"hidden\" value=\"new york\" name=\"subscription[location]\" id=\"subscription_location\" />\\n    <input type=\"hidden\" name=\"subscription[full_time]\" id=\"subscription_full_time\" />\\n\\n    <br/>\\n\\n    <button name=\"button\" type=\"submit\" class=\"button\">Subscribe</button>\\n</form>\\n  <a href=\"#\" class=\"js-close-modal close\">\\n    <img src=\"/images/facebox/closelabel.png\" class=\"close_image\" title=\"close\">\\n  </a>\\n</div>\\n\\n<div class=\"d-none\" id=\"subscription-success\">\\n  <h2>Subscribed!</h2>\\n\\n  <p>Expect an email with new listings soon!</p>\\n\\n  <a href=\"#\" class=\"js-close-modal button\">Okay</a>\\n</div>\\n\\n      </div>\\n    </div>\\n\\n  </div>\\n</div>\\n\\n\\n      </div>\\n    </div>\\n\\n    <div id=\"footer\">\\n      <div class=\"inner\">\\n        <ul class=\"github-nav\">\\n          <li><a href=\"https://github.com/blog\" class=\"blog\">The GitHub Blog</a></li>\\n          <li><a href=\"https://github.com/contact\">Contact</a></li>\\n            <li><a href=\"/api\">API</a></li>\\n        </ul>\\n\\n        <p class=\"copyline\">\\n          © 2019 GitHub Inc. All rights reserved.\\n        </p>\\n\\n        <a href=\"https://github.com\">\\n          <img width=\"24\" height=\"24\" class=\"invertocat\" src=\"/images/layout/invertocat.png\" />\\n        </a>\\n\\n        <!-- Environment: production -->\\n      </div>\\n    </div>\\n\\n    <div id=\"facebox\" class=\"popup d-none\">\\n      <div id=\"facebox_overlay\" class=\"js-close-modal facebox_overlayBG\"></div>\\n      <div class=\"js-modal-contents\"></div>\\n    </div>\\n  </body>\\n</html>\\n'"
      ]
     },
     "execution_count": 189,
     "metadata": {},
     "output_type": "execute_result"
    }
   ],
   "source": [
    "res.text"
   ]
  },
  {
   "cell_type": "code",
   "execution_count": 3,
   "metadata": {},
   "outputs": [],
   "source": [
    "import lxml.html as lx"
   ]
  },
  {
   "cell_type": "code",
   "execution_count": 180,
   "metadata": {},
   "outputs": [
    {
     "data": {
      "text/plain": [
       "<Element html at 0x124a90318>"
      ]
     },
     "execution_count": 180,
     "metadata": {},
     "output_type": "execute_result"
    }
   ],
   "source": [
    "html = lx.fromstring(res.text)\n",
    "html"
   ]
  },
  {
   "cell_type": "code",
   "execution_count": 192,
   "metadata": {},
   "outputs": [
    {
     "data": {
      "text/plain": [
       "[<Element head at 0x10cb64bd8>]"
      ]
     },
     "execution_count": 192,
     "metadata": {},
     "output_type": "execute_result"
    }
   ],
   "source": [
    "html.xpath(\"/html/head\")"
   ]
  },
  {
   "cell_type": "code",
   "execution_count": 193,
   "metadata": {},
   "outputs": [
    {
     "data": {
      "text/plain": [
       "[]"
      ]
     },
     "execution_count": 193,
     "metadata": {},
     "output_type": "execute_result"
    }
   ],
   "source": [
    "html.xpath(\"/head\")"
   ]
  },
  {
   "cell_type": "code",
   "execution_count": 194,
   "metadata": {},
   "outputs": [
    {
     "data": {
      "text/plain": [
       "[<Element head at 0x10cb64bd8>]"
      ]
     },
     "execution_count": 194,
     "metadata": {},
     "output_type": "execute_result"
    }
   ],
   "source": [
    "html.xpath(\"//head\")"
   ]
  },
  {
   "cell_type": "code",
   "execution_count": 195,
   "metadata": {},
   "outputs": [
    {
     "data": {
      "text/plain": [
       "\"\\n    \\n      Job Listings —\\n      GitHub Jobs\\n    \\n\\n    \\n\\n    \\n\\n\\n    \\n    \\n    \\n\\n    \\n  \\n//<![CDATA[\\n\\n    var _gaq = _gaq || [];\\n    _gaq.push(['_setAccount', 'UA-3769691-9']);\\n    _gaq.push(['_trackPageview']);\\n\\n    (function() {\\n      var ga = document.createElement('script'); ga.type = 'text/javascript'; ga.async = true;\\n      ga.src = ('https:' == document.location.protocol ? 'https://ssl' : 'http://www') + '.google-analytics.com/ga.js';\\n      var s = document.getElementsByTagName('script')[0]; s.parentNode.insertBefore(ga, s);\\n    })();\\n\\n//]]>\\n\\n  \""
      ]
     },
     "execution_count": 195,
     "metadata": {},
     "output_type": "execute_result"
    }
   ],
   "source": [
    "html.xpath(\"/html/head\")[0].text_content()"
   ]
  },
  {
   "cell_type": "code",
   "execution_count": 196,
   "metadata": {},
   "outputs": [
    {
     "data": {
      "text/plain": [
       "[<Element title at 0x10bf25a48>,\n",
       " <Element meta at 0x10bf25e58>,\n",
       " <Element meta at 0x10bf259f8>,\n",
       " <Element meta at 0x10a0dadb8>,\n",
       " <Element link at 0x10a0da098>,\n",
       " <Element script at 0x10a0dad68>,\n",
       " <Element script at 0x10a0da048>]"
      ]
     },
     "execution_count": 196,
     "metadata": {},
     "output_type": "execute_result"
    }
   ],
   "source": [
    "html.xpath(\"/html/head\")[0].getchildren()"
   ]
  },
  {
   "cell_type": "code",
   "execution_count": 197,
   "metadata": {},
   "outputs": [
    {
     "data": {
      "text/plain": [
       "[<Element p at 0x10bf25ae8>,\n",
       " <Element p at 0x10a0da138>,\n",
       " <Element p at 0x10a0da278>,\n",
       " <Element p at 0x10a0da188>,\n",
       " <Element p at 0x10a0da1d8>,\n",
       " <Element p at 0x10a0daf98>,\n",
       " <Element p at 0x10a0da598>,\n",
       " <Element p at 0x10a0da908>,\n",
       " <Element p at 0x10a0dae08>,\n",
       " <Element p at 0x10cd757c8>]"
      ]
     },
     "execution_count": 197,
     "metadata": {},
     "output_type": "execute_result"
    }
   ],
   "source": [
    "html.xpath(\"/html//p\")"
   ]
  },
  {
   "cell_type": "code",
   "execution_count": 198,
   "metadata": {},
   "outputs": [
    {
     "data": {
      "text/plain": [
       "'\\n\\t\\t\\t\\t\\t\\tSimons Foundation\\n\\t\\t\\t\\t\\t\\t–\\n            Full Time'"
      ]
     },
     "execution_count": 198,
     "metadata": {},
     "output_type": "execute_result"
    }
   ],
   "source": [
    "html.xpath(\"/html//p\")[0].text_content()"
   ]
  },
  {
   "cell_type": "code",
   "execution_count": 199,
   "metadata": {},
   "outputs": [
    {
     "data": {
      "text/plain": [
       "'\\n\\t\\t\\t\\t\\t\\tCrowdTwist\\n\\t\\t\\t\\t\\t\\t–\\n            Full Time'"
      ]
     },
     "execution_count": 199,
     "metadata": {},
     "output_type": "execute_result"
    }
   ],
   "source": [
    "html.xpath(\"/html//p\")[1].text_content()"
   ]
  },
  {
   "cell_type": "code",
   "execution_count": 200,
   "metadata": {},
   "outputs": [
    {
     "data": {
      "text/plain": [
       "['\\n\\t\\t\\t\\t\\t\\tSimons Foundation\\n\\t\\t\\t\\t\\t\\t–\\n            Full Time',\n",
       " '\\n\\t\\t\\t\\t\\t\\tCrowdTwist\\n\\t\\t\\t\\t\\t\\t–\\n            Full Time',\n",
       " '\\n\\t\\t\\t\\t\\t\\tAon Cyber Solutions\\n\\t\\t\\t\\t\\t\\t–\\n            Full Time',\n",
       " '\\n\\t\\t\\t\\t\\t\\tSesame\\n\\t\\t\\t\\t\\t\\t–\\n            Full Time',\n",
       " '\\n\\t\\t\\t\\t\\t\\tNew York University\\n\\t\\t\\t\\t\\t\\t–\\n            Full Time',\n",
       " 'Subscribe and we’ll send you a summary once a week if new jobs are posted to this list.',\n",
       " '\\n      Subscribe to updates\\n    ',\n",
       " 'We promise not to spam or share your email.',\n",
       " 'Expect an email with new listings soon!',\n",
       " '\\n          © 2019 GitHub Inc. All rights reserved.\\n        ']"
      ]
     },
     "execution_count": 200,
     "metadata": {},
     "output_type": "execute_result"
    }
   ],
   "source": [
    "[x.text_content() for x in html.xpath(\"/html//p\") ]"
   ]
  },
  {
   "cell_type": "code",
   "execution_count": 203,
   "metadata": {},
   "outputs": [
    {
     "data": {
      "text/plain": [
       "[<Element a at 0x103a1a6d8>, <Element strong at 0x106d24688>]"
      ]
     },
     "execution_count": 203,
     "metadata": {},
     "output_type": "execute_result"
    }
   ],
   "source": [
    "html.xpath(\"/html//p\")[0].getchildren()"
   ]
  },
  {
   "cell_type": "code",
   "execution_count": 226,
   "metadata": {},
   "outputs": [
    {
     "data": {
      "text/plain": [
       "'a'"
      ]
     },
     "execution_count": 226,
     "metadata": {},
     "output_type": "execute_result"
    }
   ],
   "source": [
    "html.xpath(\"/html//p\")[0].getchildren()[0].tag"
   ]
  },
  {
   "cell_type": "code",
   "execution_count": 204,
   "metadata": {},
   "outputs": [
    {
     "data": {
      "text/plain": [
       "{'class': 'company', 'href': 'https://jobs.github.com/companies/simons-foundation'}"
      ]
     },
     "execution_count": 204,
     "metadata": {},
     "output_type": "execute_result"
    }
   ],
   "source": [
    "html.xpath(\"/html//p\")[0].getchildren()[0].attrib"
   ]
  },
  {
   "cell_type": "code",
   "execution_count": 205,
   "metadata": {},
   "outputs": [
    {
     "data": {
      "text/plain": [
       "'https://jobs.github.com/companies/simons-foundation'"
      ]
     },
     "execution_count": 205,
     "metadata": {},
     "output_type": "execute_result"
    }
   ],
   "source": [
    "html.xpath(\"/html//p\")[0].getchildren()[0].attrib['href']"
   ]
  },
  {
   "cell_type": "code",
   "execution_count": 206,
   "metadata": {},
   "outputs": [
    {
     "data": {
      "text/plain": [
       "[<Element a at 0x101987e08>,\n",
       " <Element a at 0x10a2ff228>,\n",
       " <Element a at 0x10a2ff688>,\n",
       " <Element a at 0x10a3ebb38>,\n",
       " <Element a at 0x10a3ebef8>,\n",
       " <Element a at 0x103a1a6d8>,\n",
       " <Element a at 0x10a3ebcc8>,\n",
       " <Element a at 0x109b26908>,\n",
       " <Element a at 0x109ee7a98>,\n",
       " <Element a at 0x109ee79f8>,\n",
       " <Element a at 0x109ee7c78>,\n",
       " <Element a at 0x10a44e138>,\n",
       " <Element a at 0x109ebeef8>,\n",
       " <Element a at 0x10a9ecb88>,\n",
       " <Element a at 0x10ba544f8>,\n",
       " <Element a at 0x10a53ae58>,\n",
       " <Element a at 0x10a53a818>,\n",
       " <Element a at 0x10a53ac78>,\n",
       " <Element a at 0x10a53aa98>,\n",
       " <Element a at 0x10b4dfef8>,\n",
       " <Element a at 0x10a3ed4a8>,\n",
       " <Element a at 0x106d8f1d8>,\n",
       " <Element a at 0x106d8f638>]"
      ]
     },
     "execution_count": 206,
     "metadata": {},
     "output_type": "execute_result"
    }
   ],
   "source": [
    "html.xpath(\"//a\")"
   ]
  },
  {
   "cell_type": "code",
   "execution_count": 188,
   "metadata": {},
   "outputs": [
    {
     "data": {
      "text/plain": [
       "['Web Developer',\n",
       " 'Lead Data Engineer',\n",
       " 'Cybersecurity Firm Seeks Senior Developer',\n",
       " 'Software engineer (back end)',\n",
       " 'Technology Solutions Developer']"
      ]
     },
     "execution_count": 188,
     "metadata": {},
     "output_type": "execute_result"
    }
   ],
   "source": [
    "[ x.text_content() for x in html.xpath(\"//h4//a\") ]"
   ]
  },
  {
   "cell_type": "code",
   "execution_count": 212,
   "metadata": {},
   "outputs": [
    {
     "data": {
      "text/plain": [
       "['https://jobs.github.com/companies/simons-foundation',\n",
       " 'https://jobs.github.com/companies/crowdtwist',\n",
       " 'https://jobs.github.com/companies/aon-cyber-solutions',\n",
       " 'https://jobs.github.com/companies/sesame',\n",
       " 'https://jobs.github.com/companies/new-york-university']"
      ]
     },
     "execution_count": 212,
     "metadata": {},
     "output_type": "execute_result"
    }
   ],
   "source": [
    "[ x.attrib['href'] for x in html.xpath(\"//a[@class='company']\") ]"
   ]
  },
  {
   "cell_type": "markdown",
   "metadata": {},
   "source": [
    "## Example2: Hacker News"
   ]
  },
  {
   "cell_type": "code",
   "execution_count": 4,
   "metadata": {},
   "outputs": [],
   "source": [
    "# Step 1: download\n",
    "url2 = \"https://news.ycombinator.com/\"\n",
    "response2 = requests.get(url2)\n",
    "response2.raise_for_status()\n",
    "doc2 = response2.text"
   ]
  },
  {
   "cell_type": "code",
   "execution_count": 5,
   "metadata": {},
   "outputs": [
    {
     "data": {
      "text/plain": [
       "'<html op=\"news\"><head><meta name=\"referrer\" content=\"origin\"><meta name=\"viewport\" content=\"width=device-width, initial-scale=1.0\"><link rel=\"stylesheet\" type=\"text/css\" href=\"news.css?aDwk0nXb7vx8URj4gBYI\">\\n            <link rel=\"shortcut icon\" href=\"favicon.ico\">\\n          <link rel=\"alternate\" type=\"application/rss+xml\" title=\"RSS\" href=\"rss\">\\n        <title>Hacker News</title></head><body><center><table id=\"hnmain\" border=\"0\" cellpadding=\"0\" cellspacing=\"0\" width=\"85%\" bgcolor=\"#f6f6ef\">\\n        <tr><td bgcolor=\"#ff6600\"><table border=\"0\" cellpadding=\"0\" cellspacing=\"0\" width=\"100%\" style=\"padding:2px\"><tr><td style=\"width:18px;padding-right:4px\"><a href=\"https://news.ycombinator.com\"><img src=\"y18.gif\" width=\"18\" height=\"18\" style=\"border:1px white solid;\"></a></td>\\n                  <td style=\"line-height:12pt; height:10px;\"><span class=\"pagetop\"><b class=\"hnname\"><a href=\"news\">Hacker News</a></b>\\n              <a href=\"newest\">new</a> | <a href=\"newcomments\">comments</a> | <a href=\"ask\">ask</a> | <a href=\"show\">show</a> | <a href=\"jobs\">jobs</a> | <a href=\"submit\">submit</a>            </span></td><td style=\"text-align:right;padding-right:4px;\"><span class=\"pagetop\">\\n                              <a href=\"login?goto=news\">login</a>\\n                          </span></td>\\n              </tr></table></td></tr>\\n<tr id=\"pagespace\" title=\"\" style=\"height:10px\"></tr><tr><td><table border=\"0\" cellpadding=\"0\" cellspacing=\"0\" class=\"itemlist\">\\n              <tr class=\\'athing\\' id=\\'19087558\\'>\\n      <td align=\"right\" valign=\"top\" class=\"title\"><span class=\"rank\">1.</span></td>      <td valign=\"top\" class=\"votelinks\"><center><a id=\\'up_19087558\\' href=\\'vote?id=19087558&amp;how=up&amp;goto=news\\'><div class=\\'votearrow\\' title=\\'upvote\\'></div></a></center></td><td class=\"title\"><a href=\"https://techcrunch.com/2019/02/05/raiseit/\" class=\"storylink\">Reddit is raising a huge round near a $3B valuation</a><span class=\"sitebit comhead\"> (<a href=\"from?site=techcrunch.com\"><span class=\"sitestr\">techcrunch.com</span></a>)</span></td></tr><tr><td colspan=\"2\"></td><td class=\"subtext\">\\n        <span class=\"score\" id=\"score_19087558\">312 points</span> by <a href=\"user?id=e1ven\" class=\"hnuser\">e1ven</a> <span class=\"age\"><a href=\"item?id=19087558\">3 hours ago</a></span> <span id=\"unv_19087558\"></span> | <a href=\"hide?id=19087558&amp;goto=news\">hide</a> | <a href=\"item?id=19087558\">455&nbsp;comments</a>              </td></tr>\\n      <tr class=\"spacer\" style=\"height:5px\"></tr>\\n                <tr class=\\'athing\\' id=\\'19085534\\'>\\n      <td align=\"right\" valign=\"top\" class=\"title\"><span class=\"rank\">2.</span></td>      <td valign=\"top\" class=\"votelinks\"><center><a id=\\'up_19085534\\' href=\\'vote?id=19085534&amp;how=up&amp;goto=news\\'><div class=\\'votearrow\\' title=\\'upvote\\'></div></a></center></td><td class=\"title\"><a href=\"https://http3-explained.haxx.se/en/\" class=\"storylink\">HTTP/3 explained</a><span class=\"sitebit comhead\"> (<a href=\"from?site=haxx.se\"><span class=\"sitestr\">haxx.se</span></a>)</span></td></tr><tr><td colspan=\"2\"></td><td class=\"subtext\">\\n        <span class=\"score\" id=\"score_19085534\">411 points</span> by <a href=\"user?id=signa11\" class=\"hnuser\">signa11</a> <span class=\"age\"><a href=\"item?id=19085534\">6 hours ago</a></span> <span id=\"unv_19085534\"></span> | <a href=\"hide?id=19085534&amp;goto=news\">hide</a> | <a href=\"item?id=19085534\">147&nbsp;comments</a>              </td></tr>\\n      <tr class=\"spacer\" style=\"height:5px\"></tr>\\n                <tr class=\\'athing\\' id=\\'19087418\\'>\\n      <td align=\"right\" valign=\"top\" class=\"title\"><span class=\"rank\">3.</span></td>      <td valign=\"top\" class=\"votelinks\"><center><a id=\\'up_19087418\\' href=\\'vote?id=19087418&amp;how=up&amp;goto=news\\'><div class=\\'votearrow\\' title=\\'upvote\\'></div></a></center></td><td class=\"title\"><a href=\"item?id=19087418\" class=\"storylink\">Ask HN: What books changed the way you think about almost everything?</a></td></tr><tr><td colspan=\"2\"></td><td class=\"subtext\">\\n        <span class=\"score\" id=\"score_19087418\">538 points</span> by <a href=\"user?id=anderspitman\" class=\"hnuser\">anderspitman</a> <span class=\"age\"><a href=\"item?id=19087418\">3 hours ago</a></span> <span id=\"unv_19087418\"></span> | <a href=\"hide?id=19087418&amp;goto=news\">hide</a> | <a href=\"item?id=19087418\">442&nbsp;comments</a>              </td></tr>\\n      <tr class=\"spacer\" style=\"height:5px\"></tr>\\n                <tr class=\\'athing\\' id=\\'19089739\\'>\\n      <td align=\"right\" valign=\"top\" class=\"title\"><span class=\"rank\">4.</span></td>      <td valign=\"top\" class=\"votelinks\"><center><a id=\\'up_19089739\\' href=\\'vote?id=19089739&amp;how=up&amp;goto=news\\'><div class=\\'votearrow\\' title=\\'upvote\\'></div></a></center></td><td class=\"title\"><a href=\"https://www.secjuice.com/security-researcher-assaulted-ice-atrient/\" class=\"storylink\" rel=\"nofollow\">Security Researcher Assaulted Following Vulnerability Disclosure</a><span class=\"sitebit comhead\"> (<a href=\"from?site=secjuice.com\"><span class=\"sitestr\">secjuice.com</span></a>)</span></td></tr><tr><td colspan=\"2\"></td><td class=\"subtext\">\\n        <span class=\"score\" id=\"score_19089739\">20 points</span> by <a href=\"user?id=wglb\" class=\"hnuser\">wglb</a> <span class=\"age\"><a href=\"item?id=19089739\">23 minutes ago</a></span> <span id=\"unv_19089739\"></span> | <a href=\"hide?id=19089739&amp;goto=news\">hide</a> | <a href=\"item?id=19089739\">discuss</a>              </td></tr>\\n      <tr class=\"spacer\" style=\"height:5px\"></tr>\\n                <tr class=\\'athing\\' id=\\'19084769\\'>\\n      <td align=\"right\" valign=\"top\" class=\"title\"><span class=\"rank\">5.</span></td>      <td valign=\"top\" class=\"votelinks\"><center><a id=\\'up_19084769\\' href=\\'vote?id=19084769&amp;how=up&amp;goto=news\\'><div class=\\'votearrow\\' title=\\'upvote\\'></div></a></center></td><td class=\"title\"><a href=\"http://previous.alternative-system.com/\" class=\"storylink\">Previous: NeXT computer hardware emulator</a><span class=\"sitebit comhead\"> (<a href=\"from?site=alternative-system.com\"><span class=\"sitestr\">alternative-system.com</span></a>)</span></td></tr><tr><td colspan=\"2\"></td><td class=\"subtext\">\\n        <span class=\"score\" id=\"score_19084769\">38 points</span> by <a href=\"user?id=ingve\" class=\"hnuser\">ingve</a> <span class=\"age\"><a href=\"item?id=19084769\">2 hours ago</a></span> <span id=\"unv_19084769\"></span> | <a href=\"hide?id=19084769&amp;goto=news\">hide</a> | <a href=\"item?id=19084769\">1&nbsp;comment</a>              </td></tr>\\n      <tr class=\"spacer\" style=\"height:5px\"></tr>\\n                <tr class=\\'athing\\' id=\\'19087505\\'>\\n      <td align=\"right\" valign=\"top\" class=\"title\"><span class=\"rank\">6.</span></td>      <td valign=\"top\" class=\"votelinks\"><center><a id=\\'up_19087505\\' href=\\'vote?id=19087505&amp;how=up&amp;goto=news\\'><div class=\\'votearrow\\' title=\\'upvote\\'></div></a></center></td><td class=\"title\"><a href=\"https://www.buzzfeednews.com/article/josephbernstein/tomi-masters-down-the-rabbit-hole-i-go\" class=\"storylink\">How A Young Woman Followed Two Hackers\\' Lies to Her Death</a><span class=\"sitebit comhead\"> (<a href=\"from?site=buzzfeednews.com\"><span class=\"sitestr\">buzzfeednews.com</span></a>)</span></td></tr><tr><td colspan=\"2\"></td><td class=\"subtext\">\\n        <span class=\"score\" id=\"score_19087505\">115 points</span> by <a href=\"user?id=jbegley\" class=\"hnuser\">jbegley</a> <span class=\"age\"><a href=\"item?id=19087505\">3 hours ago</a></span> <span id=\"unv_19087505\"></span> | <a href=\"hide?id=19087505&amp;goto=news\">hide</a> | <a href=\"item?id=19087505\">21&nbsp;comments</a>              </td></tr>\\n      <tr class=\"spacer\" style=\"height:5px\"></tr>\\n                <tr class=\\'athing\\' id=\\'19089417\\'>\\n      <td align=\"right\" valign=\"top\" class=\"title\"><span class=\"rank\">7.</span></td>      <td valign=\"top\" class=\"votelinks\"><center><a id=\\'up_19089417\\' href=\\'vote?id=19089417&amp;how=up&amp;goto=news\\'><div class=\\'votearrow\\' title=\\'upvote\\'></div></a></center></td><td class=\"title\"><a href=\"https://bitbucket.org/multicoreware/x265/src/46b84ff665fd301e384328972d3d1312a8c74599/doc/reST/releasenotes.rst?at=default&amp;fileviewer=file-view-default\" class=\"storylink\">X265 3.0 released</a><span class=\"sitebit comhead\"> (<a href=\"from?site=bitbucket.org\"><span class=\"sitestr\">bitbucket.org</span></a>)</span></td></tr><tr><td colspan=\"2\"></td><td class=\"subtext\">\\n        <span class=\"score\" id=\"score_19089417\">25 points</span> by <a href=\"user?id=htfy96\" class=\"hnuser\">htfy96</a> <span class=\"age\"><a href=\"item?id=19089417\">53 minutes ago</a></span> <span id=\"unv_19089417\"></span> | <a href=\"hide?id=19089417&amp;goto=news\">hide</a> | <a href=\"item?id=19089417\">2&nbsp;comments</a>              </td></tr>\\n      <tr class=\"spacer\" style=\"height:5px\"></tr>\\n                <tr class=\\'athing\\' id=\\'19089898\\'>\\n      <td align=\"right\" valign=\"top\" class=\"title\"><span class=\"rank\">8.</span></td>      <td valign=\"top\" class=\"votelinks\"><center><a id=\\'up_19089898\\' href=\\'vote?id=19089898&amp;how=up&amp;goto=news\\'><div class=\\'votearrow\\' title=\\'upvote\\'></div></a></center></td><td class=\"title\"><a href=\"https://techcrunch.com/2019/02/05/showing-the-power-of-startup-womens-health-brands-pg-buys-this-is-l/\" class=\"storylink\" rel=\"nofollow\">Showing the power of startup women’s health brands, P&G buys This is L (YC S15)</a><span class=\"sitebit comhead\"> (<a href=\"from?site=techcrunch.com\"><span class=\"sitestr\">techcrunch.com</span></a>)</span></td></tr><tr><td colspan=\"2\"></td><td class=\"subtext\">\\n        <span class=\"score\" id=\"score_19089898\">4 points</span> by <a href=\"user?id=pb\" class=\"hnuser\">pb</a> <span class=\"age\"><a href=\"item?id=19089898\">2 minutes ago</a></span> <span id=\"unv_19089898\"></span> | <a href=\"hide?id=19089898&amp;goto=news\">hide</a> | <a href=\"item?id=19089898\">discuss</a>              </td></tr>\\n      <tr class=\"spacer\" style=\"height:5px\"></tr>\\n                <tr class=\\'athing\\' id=\\'19085244\\'>\\n      <td align=\"right\" valign=\"top\" class=\"title\"><span class=\"rank\">9.</span></td>      <td valign=\"top\" class=\"votelinks\"><center><a id=\\'up_19085244\\' href=\\'vote?id=19085244&amp;how=up&amp;goto=news\\'><div class=\\'votearrow\\' title=\\'upvote\\'></div></a></center></td><td class=\"title\"><a href=\"https://believermag.com/small-world/\" class=\"storylink\">Small World: The Tiny House Trend</a><span class=\"sitebit comhead\"> (<a href=\"from?site=believermag.com\"><span class=\"sitestr\">believermag.com</span></a>)</span></td></tr><tr><td colspan=\"2\"></td><td class=\"subtext\">\\n        <span class=\"score\" id=\"score_19085244\">124 points</span> by <a href=\"user?id=magda_wang\" class=\"hnuser\">magda_wang</a> <span class=\"age\"><a href=\"item?id=19085244\">7 hours ago</a></span> <span id=\"unv_19085244\"></span> | <a href=\"hide?id=19085244&amp;goto=news\">hide</a> | <a href=\"item?id=19085244\">245&nbsp;comments</a>              </td></tr>\\n      <tr class=\"spacer\" style=\"height:5px\"></tr>\\n                <tr class=\\'athing\\' id=\\'19089624\\'>\\n      <td align=\"right\" valign=\"top\" class=\"title\"><span class=\"rank\">10.</span></td>      <td></td><td class=\"title\"><a href=\"item?id=19089624\" class=\"storylink\">Retool hiring in SF for engineering, developer relations, customer support, etc.</a></td></tr><tr><td colspan=\"2\"></td><td class=\"subtext\">\\n        <span class=\"age\"><a href=\"item?id=19089624\">33 minutes ago</a></span> | <a href=\"hide?id=19089624&amp;goto=news\">hide</a>      </td></tr>\\n      <tr class=\"spacer\" style=\"height:5px\"></tr>\\n                <tr class=\\'athing\\' id=\\'19087096\\'>\\n      <td align=\"right\" valign=\"top\" class=\"title\"><span class=\"rank\">11.</span></td>      <td valign=\"top\" class=\"votelinks\"><center><a id=\\'up_19087096\\' href=\\'vote?id=19087096&amp;how=up&amp;goto=news\\'><div class=\\'votearrow\\' title=\\'upvote\\'></div></a></center></td><td class=\"title\"><a href=\"https://ai.googleblog.com/2019/02/real-time-continuous-transcription-with.html\" class=\"storylink\">Real-time Continuous Transcription with Live Transcribe</a><span class=\"sitebit comhead\"> (<a href=\"from?site=googleblog.com\"><span class=\"sitestr\">googleblog.com</span></a>)</span></td></tr><tr><td colspan=\"2\"></td><td class=\"subtext\">\\n        <span class=\"score\" id=\"score_19087096\">80 points</span> by <a href=\"user?id=iron0013\" class=\"hnuser\">iron0013</a> <span class=\"age\"><a href=\"item?id=19087096\">4 hours ago</a></span> <span id=\"unv_19087096\"></span> | <a href=\"hide?id=19087096&amp;goto=news\">hide</a> | <a href=\"item?id=19087096\">23&nbsp;comments</a>              </td></tr>\\n      <tr class=\"spacer\" style=\"height:5px\"></tr>\\n                <tr class=\\'athing\\' id=\\'19086893\\'>\\n      <td align=\"right\" valign=\"top\" class=\"title\"><span class=\"rank\">12.</span></td>      <td valign=\"top\" class=\"votelinks\"><center><a id=\\'up_19086893\\' href=\\'vote?id=19086893&amp;how=up&amp;goto=news\\'><div class=\\'votearrow\\' title=\\'upvote\\'></div></a></center></td><td class=\"title\"><a href=\"https://arxiv.org/abs/1902.00506\" class=\"storylink\">The Hanabi Challenge: A New Frontier for AI Research</a><span class=\"sitebit comhead\"> (<a href=\"from?site=arxiv.org\"><span class=\"sitestr\">arxiv.org</span></a>)</span></td></tr><tr><td colspan=\"2\"></td><td class=\"subtext\">\\n        <span class=\"score\" id=\"score_19086893\">55 points</span> by <a href=\"user?id=iron0013\" class=\"hnuser\">iron0013</a> <span class=\"age\"><a href=\"item?id=19086893\">4 hours ago</a></span> <span id=\"unv_19086893\"></span> | <a href=\"hide?id=19086893&amp;goto=news\">hide</a> | <a href=\"item?id=19086893\">28&nbsp;comments</a>              </td></tr>\\n      <tr class=\"spacer\" style=\"height:5px\"></tr>\\n                <tr class=\\'athing\\' id=\\'19085530\\'>\\n      <td align=\"right\" valign=\"top\" class=\"title\"><span class=\"rank\">13.</span></td>      <td valign=\"top\" class=\"votelinks\"><center><a id=\\'up_19085530\\' href=\\'vote?id=19085530&amp;how=up&amp;goto=news\\'><div class=\\'votearrow\\' title=\\'upvote\\'></div></a></center></td><td class=\"title\"><a href=\"https://guide.michelin.com/sg/dining-out/what-is-ike-jime/news\" class=\"storylink\">Ike Jime, the Japanese Slaughter Method for Tastier Fish</a><span class=\"sitebit comhead\"> (<a href=\"from?site=michelin.com\"><span class=\"sitestr\">michelin.com</span></a>)</span></td></tr><tr><td colspan=\"2\"></td><td class=\"subtext\">\\n        <span class=\"score\" id=\"score_19085530\">139 points</span> by <a href=\"user?id=vezycash\" class=\"hnuser\">vezycash</a> <span class=\"age\"><a href=\"item?id=19085530\">6 hours ago</a></span> <span id=\"unv_19085530\"></span> | <a href=\"hide?id=19085530&amp;goto=news\">hide</a> | <a href=\"item?id=19085530\">113&nbsp;comments</a>              </td></tr>\\n      <tr class=\"spacer\" style=\"height:5px\"></tr>\\n                <tr class=\\'athing\\' id=\\'19089543\\'>\\n      <td align=\"right\" valign=\"top\" class=\"title\"><span class=\"rank\">14.</span></td>      <td valign=\"top\" class=\"votelinks\"><center><a id=\\'up_19089543\\' href=\\'vote?id=19089543&amp;how=up&amp;goto=news\\'><div class=\\'votearrow\\' title=\\'upvote\\'></div></a></center></td><td class=\"title\"><a href=\"https://www.scientificamerican.com/article/reading-paper-screens/\" class=\"storylink\" rel=\"nofollow\">The Science of Paper versus Screens (2013)</a><span class=\"sitebit comhead\"> (<a href=\"from?site=scientificamerican.com\"><span class=\"sitestr\">scientificamerican.com</span></a>)</span></td></tr><tr><td colspan=\"2\"></td><td class=\"subtext\">\\n        <span class=\"score\" id=\"score_19089543\">5 points</span> by <a href=\"user?id=kawera\" class=\"hnuser\">kawera</a> <span class=\"age\"><a href=\"item?id=19089543\">40 minutes ago</a></span> <span id=\"unv_19089543\"></span> | <a href=\"hide?id=19089543&amp;goto=news\">hide</a> | <a href=\"item?id=19089543\">discuss</a>              </td></tr>\\n      <tr class=\"spacer\" style=\"height:5px\"></tr>\\n                <tr class=\\'athing\\' id=\\'19086148\\'>\\n      <td align=\"right\" valign=\"top\" class=\"title\"><span class=\"rank\">15.</span></td>      <td valign=\"top\" class=\"votelinks\"><center><a id=\\'up_19086148\\' href=\\'vote?id=19086148&amp;how=up&amp;goto=news\\'><div class=\\'votearrow\\' title=\\'upvote\\'></div></a></center></td><td class=\"title\"><a href=\"https://github.com/vietnguyen91/QuickDraw\" class=\"storylink\">Show HN: My Implementation of \"Quick, Draw\", a Game Developed by Google</a><span class=\"sitebit comhead\"> (<a href=\"from?site=github.com\"><span class=\"sitestr\">github.com</span></a>)</span></td></tr><tr><td colspan=\"2\"></td><td class=\"subtext\">\\n        <span class=\"score\" id=\"score_19086148\">71 points</span> by <a href=\"user?id=1991viet\" class=\"hnuser\">1991viet</a> <span class=\"age\"><a href=\"item?id=19086148\">5 hours ago</a></span> <span id=\"unv_19086148\"></span> | <a href=\"hide?id=19086148&amp;goto=news\">hide</a> | <a href=\"item?id=19086148\">11&nbsp;comments</a>              </td></tr>\\n      <tr class=\"spacer\" style=\"height:5px\"></tr>\\n                <tr class=\\'athing\\' id=\\'19084059\\'>\\n      <td align=\"right\" valign=\"top\" class=\"title\"><span class=\"rank\">16.</span></td>      <td valign=\"top\" class=\"votelinks\"><center><a id=\\'up_19084059\\' href=\\'vote?id=19084059&amp;how=up&amp;goto=news\\'><div class=\\'votearrow\\' title=\\'upvote\\'></div></a></center></td><td class=\"title\"><a href=\"https://users.cs.duke.edu/~ola/bubble/bubble.html\" class=\"storylink\">Bubble Sort: An Archaeological Algorithmic Analysis</a><span class=\"sitebit comhead\"> (<a href=\"from?site=duke.edu\"><span class=\"sitestr\">duke.edu</span></a>)</span></td></tr><tr><td colspan=\"2\"></td><td class=\"subtext\">\\n        <span class=\"score\" id=\"score_19084059\">31 points</span> by <a href=\"user?id=DyslexicAtheist\" class=\"hnuser\">DyslexicAtheist</a> <span class=\"age\"><a href=\"item?id=19084059\">3 hours ago</a></span> <span id=\"unv_19084059\"></span> | <a href=\"hide?id=19084059&amp;goto=news\">hide</a> | <a href=\"item?id=19084059\">3&nbsp;comments</a>              </td></tr>\\n      <tr class=\"spacer\" style=\"height:5px\"></tr>\\n                <tr class=\\'athing\\' id=\\'19089745\\'>\\n      <td align=\"right\" valign=\"top\" class=\"title\"><span class=\"rank\">17.</span></td>      <td valign=\"top\" class=\"votelinks\"><center><a id=\\'up_19089745\\' href=\\'vote?id=19089745&amp;how=up&amp;goto=news\\'><div class=\\'votearrow\\' title=\\'upvote\\'></div></a></center></td><td class=\"title\"><a href=\"https://write.as/text/wasted-creativity-in-the-gnu-linux-distribution-diversity\" class=\"storylink\" rel=\"nofollow\">Wasted Creativity in the GNU/Linux Distribution Diversity</a><span class=\"sitebit comhead\"> (<a href=\"from?site=write.as\"><span class=\"sitestr\">write.as</span></a>)</span></td></tr><tr><td colspan=\"2\"></td><td class=\"subtext\">\\n        <span class=\"score\" id=\"score_19089745\">3 points</span> by <a href=\"user?id=gnuarch\" class=\"hnuser\">gnuarch</a> <span class=\"age\"><a href=\"item?id=19089745\">22 minutes ago</a></span> <span id=\"unv_19089745\"></span> | <a href=\"hide?id=19089745&amp;goto=news\">hide</a> | <a href=\"item?id=19089745\">discuss</a>              </td></tr>\\n      <tr class=\"spacer\" style=\"height:5px\"></tr>\\n                <tr class=\\'athing\\' id=\\'19084773\\'>\\n      <td align=\"right\" valign=\"top\" class=\"title\"><span class=\"rank\">18.</span></td>      <td valign=\"top\" class=\"votelinks\"><center><a id=\\'up_19084773\\' href=\\'vote?id=19084773&amp;how=up&amp;goto=news\\'><div class=\\'votearrow\\' title=\\'upvote\\'></div></a></center></td><td class=\"title\"><a href=\"http://fabiensanglard.net/floating_point_visually_explained/index.php\" class=\"storylink\">Floating Point Visually Explained (2017)</a><span class=\"sitebit comhead\"> (<a href=\"from?site=fabiensanglard.net\"><span class=\"sitestr\">fabiensanglard.net</span></a>)</span></td></tr><tr><td colspan=\"2\"></td><td class=\"subtext\">\\n        <span class=\"score\" id=\"score_19084773\">111 points</span> by <a href=\"user?id=mercer\" class=\"hnuser\">mercer</a> <span class=\"age\"><a href=\"item?id=19084773\">8 hours ago</a></span> <span id=\"unv_19084773\"></span> | <a href=\"hide?id=19084773&amp;goto=news\">hide</a> | <a href=\"item?id=19084773\">7&nbsp;comments</a>              </td></tr>\\n      <tr class=\"spacer\" style=\"height:5px\"></tr>\\n                <tr class=\\'athing\\' id=\\'19083479\\'>\\n      <td align=\"right\" valign=\"top\" class=\"title\"><span class=\"rank\">19.</span></td>      <td valign=\"top\" class=\"votelinks\"><center><a id=\\'up_19083479\\' href=\\'vote?id=19083479&amp;how=up&amp;goto=news\\'><div class=\\'votearrow\\' title=\\'upvote\\'></div></a></center></td><td class=\"title\"><a href=\"https://lectures.quantecon.org/\" class=\"storylink\">Lectures in Quantitative Economics as Python and Julia Notebooks</a><span class=\"sitebit comhead\"> (<a href=\"from?site=quantecon.org\"><span class=\"sitestr\">quantecon.org</span></a>)</span></td></tr><tr><td colspan=\"2\"></td><td class=\"subtext\">\\n        <span class=\"score\" id=\"score_19083479\">297 points</span> by <a href=\"user?id=westurner\" class=\"hnuser\">westurner</a> <span class=\"age\"><a href=\"item?id=19083479\">14 hours ago</a></span> <span id=\"unv_19083479\"></span> | <a href=\"hide?id=19083479&amp;goto=news\">hide</a> | <a href=\"item?id=19083479\">35&nbsp;comments</a>              </td></tr>\\n      <tr class=\"spacer\" style=\"height:5px\"></tr>\\n                <tr class=\\'athing\\' id=\\'19084880\\'>\\n      <td align=\"right\" valign=\"top\" class=\"title\"><span class=\"rank\">20.</span></td>      <td valign=\"top\" class=\"votelinks\"><center><a id=\\'up_19084880\\' href=\\'vote?id=19084880&amp;how=up&amp;goto=news\\'><div class=\\'votearrow\\' title=\\'upvote\\'></div></a></center></td><td class=\"title\"><a href=\"https://en.wikipedia.org/wiki/Tarrare\" class=\"storylink\">Tarrare</a><span class=\"sitebit comhead\"> (<a href=\"from?site=wikipedia.org\"><span class=\"sitestr\">wikipedia.org</span></a>)</span></td></tr><tr><td colspan=\"2\"></td><td class=\"subtext\">\\n        <span class=\"score\" id=\"score_19084880\">193 points</span> by <a href=\"user?id=aaaaaaaaaaab\" class=\"hnuser\">aaaaaaaaaaab</a> <span class=\"age\"><a href=\"item?id=19084880\">8 hours ago</a></span> <span id=\"unv_19084880\"></span> | <a href=\"hide?id=19084880&amp;goto=news\">hide</a> | <a href=\"item?id=19084880\">42&nbsp;comments</a>              </td></tr>\\n      <tr class=\"spacer\" style=\"height:5px\"></tr>\\n                <tr class=\\'athing\\' id=\\'19088350\\'>\\n      <td align=\"right\" valign=\"top\" class=\"title\"><span class=\"rank\">21.</span></td>      <td valign=\"top\" class=\"votelinks\"><center><a id=\\'up_19088350\\' href=\\'vote?id=19088350&amp;how=up&amp;goto=news\\'><div class=\\'votearrow\\' title=\\'upvote\\'></div></a></center></td><td class=\"title\"><a href=\"https://swift.org/blog/swift-5-exclusivity/\" class=\"storylink\">Swift 5 Exclusivity Enforcement</a><span class=\"sitebit comhead\"> (<a href=\"from?site=swift.org\"><span class=\"sitestr\">swift.org</span></a>)</span></td></tr><tr><td colspan=\"2\"></td><td class=\"subtext\">\\n        <span class=\"score\" id=\"score_19088350\">19 points</span> by <a href=\"user?id=return_0e\" class=\"hnuser\">return_0e</a> <span class=\"age\"><a href=\"item?id=19088350\">2 hours ago</a></span> <span id=\"unv_19088350\"></span> | <a href=\"hide?id=19088350&amp;goto=news\">hide</a> | <a href=\"item?id=19088350\">discuss</a>              </td></tr>\\n      <tr class=\"spacer\" style=\"height:5px\"></tr>\\n                <tr class=\\'athing\\' id=\\'19084190\\'>\\n      <td align=\"right\" valign=\"top\" class=\"title\"><span class=\"rank\">22.</span></td>      <td valign=\"top\" class=\"votelinks\"><center><a id=\\'up_19084190\\' href=\\'vote?id=19084190&amp;how=up&amp;goto=news\\'><div class=\\'votearrow\\' title=\\'upvote\\'></div></a></center></td><td class=\"title\"><a href=\"https://lilianweng.github.io/lil-log/2018/01/23/the-multi-armed-bandit-problem-and-its-solutions.html\" class=\"storylink\">The Multi-Armed Bandit Problem and Its Solutions (2018)</a><span class=\"sitebit comhead\"> (<a href=\"from?site=lilianweng.github.io\"><span class=\"sitestr\">lilianweng.github.io</span></a>)</span></td></tr><tr><td colspan=\"2\"></td><td class=\"subtext\">\\n        <span class=\"score\" id=\"score_19084190\">62 points</span> by <a href=\"user?id=headalgorithm\" class=\"hnuser\">headalgorithm</a> <span class=\"age\"><a href=\"item?id=19084190\">7 hours ago</a></span> <span id=\"unv_19084190\"></span> | <a href=\"hide?id=19084190&amp;goto=news\">hide</a> | <a href=\"item?id=19084190\">17&nbsp;comments</a>              </td></tr>\\n      <tr class=\"spacer\" style=\"height:5px\"></tr>\\n                <tr class=\\'athing\\' id=\\'19085520\\'>\\n      <td align=\"right\" valign=\"top\" class=\"title\"><span class=\"rank\">23.</span></td>      <td valign=\"top\" class=\"votelinks\"><center><a id=\\'up_19085520\\' href=\\'vote?id=19085520&amp;how=up&amp;goto=news\\'><div class=\\'votearrow\\' title=\\'upvote\\'></div></a></center></td><td class=\"title\"><a href=\"https://www.quantamagazine.org/priyamvada-natarajan-maps-the-invisible-universe-20190204/\" class=\"storylink\">An Astrophysicist Who Maps the Universe’s Terra Incognita</a><span class=\"sitebit comhead\"> (<a href=\"from?site=quantamagazine.org\"><span class=\"sitestr\">quantamagazine.org</span></a>)</span></td></tr><tr><td colspan=\"2\"></td><td class=\"subtext\">\\n        <span class=\"score\" id=\"score_19085520\">55 points</span> by <a href=\"user?id=gotocake\" class=\"hnuser\">gotocake</a> <span class=\"age\"><a href=\"item?id=19085520\">6 hours ago</a></span> <span id=\"unv_19085520\"></span> | <a href=\"hide?id=19085520&amp;goto=news\">hide</a> | <a href=\"item?id=19085520\">3&nbsp;comments</a>              </td></tr>\\n      <tr class=\"spacer\" style=\"height:5px\"></tr>\\n                <tr class=\\'athing\\' id=\\'19086211\\'>\\n      <td align=\"right\" valign=\"top\" class=\"title\"><span class=\"rank\">24.</span></td>      <td valign=\"top\" class=\"votelinks\"><center><a id=\\'up_19086211\\' href=\\'vote?id=19086211&amp;how=up&amp;goto=news\\'><div class=\\'votearrow\\' title=\\'upvote\\'></div></a></center></td><td class=\"title\"><a href=\"https://www.anandtech.com/show/13912/the-apple-iphone-xr-review-brilliant-battery-life\" class=\"storylink\">The Apple iPhone XR Review</a><span class=\"sitebit comhead\"> (<a href=\"from?site=anandtech.com\"><span class=\"sitestr\">anandtech.com</span></a>)</span></td></tr><tr><td colspan=\"2\"></td><td class=\"subtext\">\\n        <span class=\"score\" id=\"score_19086211\">37 points</span> by <a href=\"user?id=gok\" class=\"hnuser\">gok</a> <span class=\"age\"><a href=\"item?id=19086211\">5 hours ago</a></span> <span id=\"unv_19086211\"></span> | <a href=\"hide?id=19086211&amp;goto=news\">hide</a> | <a href=\"item?id=19086211\">48&nbsp;comments</a>              </td></tr>\\n      <tr class=\"spacer\" style=\"height:5px\"></tr>\\n                <tr class=\\'athing\\' id=\\'19084260\\'>\\n      <td align=\"right\" valign=\"top\" class=\"title\"><span class=\"rank\">25.</span></td>      <td valign=\"top\" class=\"votelinks\"><center><a id=\\'up_19084260\\' href=\\'vote?id=19084260&amp;how=up&amp;goto=news\\'><div class=\\'votearrow\\' title=\\'upvote\\'></div></a></center></td><td class=\"title\"><a href=\"https://www.nytimes.com/2019/02/05/business/media/artificial-intelligence-journalism-robots.html\" class=\"storylink\">Journalism generated by machine is on the rise</a><span class=\"sitebit comhead\"> (<a href=\"from?site=nytimes.com\"><span class=\"sitestr\">nytimes.com</span></a>)</span></td></tr><tr><td colspan=\"2\"></td><td class=\"subtext\">\\n        <span class=\"score\" id=\"score_19084260\">93 points</span> by <a href=\"user?id=pseudolus\" class=\"hnuser\">pseudolus</a> <span class=\"age\"><a href=\"item?id=19084260\">10 hours ago</a></span> <span id=\"unv_19084260\"></span> | <a href=\"hide?id=19084260&amp;goto=news\">hide</a> | <a href=\"item?id=19084260\">41&nbsp;comments</a>              </td></tr>\\n      <tr class=\"spacer\" style=\"height:5px\"></tr>\\n                <tr class=\\'athing\\' id=\\'19087087\\'>\\n      <td align=\"right\" valign=\"top\" class=\"title\"><span class=\"rank\">26.</span></td>      <td valign=\"top\" class=\"votelinks\"><center><a id=\\'up_19087087\\' href=\\'vote?id=19087087&amp;how=up&amp;goto=news\\'><div class=\\'votearrow\\' title=\\'upvote\\'></div></a></center></td><td class=\"title\"><a href=\"http://bostonreview.net/books-ideas/nathan-robinson-forensic-pseudoscience-criminal-justice\" class=\"storylink\">Forensic Pseudoscience (2015)</a><span class=\"sitebit comhead\"> (<a href=\"from?site=bostonreview.net\"><span class=\"sitestr\">bostonreview.net</span></a>)</span></td></tr><tr><td colspan=\"2\"></td><td class=\"subtext\">\\n        <span class=\"score\" id=\"score_19087087\">35 points</span> by <a href=\"user?id=huihuiilly\" class=\"hnuser\">huihuiilly</a> <span class=\"age\"><a href=\"item?id=19087087\">4 hours ago</a></span> <span id=\"unv_19087087\"></span> | <a href=\"hide?id=19087087&amp;goto=news\">hide</a> | <a href=\"item?id=19087087\">19&nbsp;comments</a>              </td></tr>\\n      <tr class=\"spacer\" style=\"height:5px\"></tr>\\n                <tr class=\\'athing\\' id=\\'19079788\\'>\\n      <td align=\"right\" valign=\"top\" class=\"title\"><span class=\"rank\">27.</span></td>      <td valign=\"top\" class=\"votelinks\"><center><a id=\\'up_19079788\\' href=\\'vote?id=19079788&amp;how=up&amp;goto=news\\'><div class=\\'votearrow\\' title=\\'upvote\\'></div></a></center></td><td class=\"title\"><a href=\"https://www.newyorker.com/magazine/2019/02/11/roomful-of-teeth-is-revolutionizing-choral-music\" class=\"storylink\">Roomful of Teeth Is Revolutionizing Choral Music</a><span class=\"sitebit comhead\"> (<a href=\"from?site=newyorker.com\"><span class=\"sitestr\">newyorker.com</span></a>)</span></td></tr><tr><td colspan=\"2\"></td><td class=\"subtext\">\\n        <span class=\"score\" id=\"score_19079788\">30 points</span> by <a href=\"user?id=seventyhorses\" class=\"hnuser\">seventyhorses</a> <span class=\"age\"><a href=\"item?id=19079788\">4 hours ago</a></span> <span id=\"unv_19079788\"></span> | <a href=\"hide?id=19079788&amp;goto=news\">hide</a> | <a href=\"item?id=19079788\">7&nbsp;comments</a>              </td></tr>\\n      <tr class=\"spacer\" style=\"height:5px\"></tr>\\n                <tr class=\\'athing\\' id=\\'19084752\\'>\\n      <td align=\"right\" valign=\"top\" class=\"title\"><span class=\"rank\">28.</span></td>      <td valign=\"top\" class=\"votelinks\"><center><a id=\\'up_19084752\\' href=\\'vote?id=19084752&amp;how=up&amp;goto=news\\'><div class=\\'votearrow\\' title=\\'upvote\\'></div></a></center></td><td class=\"title\"><a href=\"https://vuvuzela.io/getstarted\" class=\"storylink\">Vuvuzela: Metadata-private messaging</a><span class=\"sitebit comhead\"> (<a href=\"from?site=vuvuzela.io\"><span class=\"sitestr\">vuvuzela.io</span></a>)</span></td></tr><tr><td colspan=\"2\"></td><td class=\"subtext\">\\n        <span class=\"score\" id=\"score_19084752\">61 points</span> by <a href=\"user?id=MrXOR\" class=\"hnuser\">MrXOR</a> <span class=\"age\"><a href=\"item?id=19084752\">8 hours ago</a></span> <span id=\"unv_19084752\"></span> | <a href=\"hide?id=19084752&amp;goto=news\">hide</a> | <a href=\"item?id=19084752\">13&nbsp;comments</a>              </td></tr>\\n      <tr class=\"spacer\" style=\"height:5px\"></tr>\\n                <tr class=\\'athing\\' id=\\'19087150\\'>\\n      <td align=\"right\" valign=\"top\" class=\"title\"><span class=\"rank\">29.</span></td>      <td valign=\"top\" class=\"votelinks\"><center><a id=\\'up_19087150\\' href=\\'vote?id=19087150&amp;how=up&amp;goto=news\\'><div class=\\'votearrow\\' title=\\'upvote\\'></div></a></center></td><td class=\"title\"><a href=\"https://translate.google.com/translate?sl=auto&amp;tl=en&amp;u=https%3A%2F%2Fwww.nettavisen.no%2Fnyheter%2F100-spioner-skal-overvake-alle-sms-er-og-e-poster-som-gar-inn-og-ut-av-norge%2F3423589246.html\" class=\"storylink\">“100 spies” will monitor all SMS and email that goes in and out of Norway</a><span class=\"sitebit comhead\"> (<a href=\"from?site=translate.google.com\"><span class=\"sitestr\">translate.google.com</span></a>)</span></td></tr><tr><td colspan=\"2\"></td><td class=\"subtext\">\\n        <span class=\"score\" id=\"score_19087150\">86 points</span> by <a href=\"user?id=DyslexicAtheist\" class=\"hnuser\">DyslexicAtheist</a> <span class=\"age\"><a href=\"item?id=19087150\">4 hours ago</a></span> <span id=\"unv_19087150\"></span> | <a href=\"hide?id=19087150&amp;goto=news\">hide</a> | <a href=\"item?id=19087150\">31&nbsp;comments</a>              </td></tr>\\n      <tr class=\"spacer\" style=\"height:5px\"></tr>\\n                <tr class=\\'athing\\' id=\\'19083275\\'>\\n      <td align=\"right\" valign=\"top\" class=\"title\"><span class=\"rank\">30.</span></td>      <td valign=\"top\" class=\"votelinks\"><center><a id=\\'up_19083275\\' href=\\'vote?id=19083275&amp;how=up&amp;goto=news\\'><div class=\\'votearrow\\' title=\\'upvote\\'></div></a></center></td><td class=\"title\"><a href=\"https://www.neh.gov/article/ursula-k-le-guin-was-creator-worlds\" class=\"storylink\">Ursula K. Le Guin Was a Creator of Worlds</a><span class=\"sitebit comhead\"> (<a href=\"from?site=neh.gov\"><span class=\"sitestr\">neh.gov</span></a>)</span></td></tr><tr><td colspan=\"2\"></td><td class=\"subtext\">\\n        <span class=\"score\" id=\"score_19083275\">182 points</span> by <a href=\"user?id=samclemens\" class=\"hnuser\">samclemens</a> <span class=\"age\"><a href=\"item?id=19083275\">15 hours ago</a></span> <span id=\"unv_19083275\"></span> | <a href=\"hide?id=19083275&amp;goto=news\">hide</a> | <a href=\"item?id=19083275\">55&nbsp;comments</a>              </td></tr>\\n      <tr class=\"spacer\" style=\"height:5px\"></tr>\\n            <tr class=\"morespace\" style=\"height:10px\"></tr><tr><td colspan=\"2\"></td><td class=\"title\"><a href=\"news?p=2\" class=\"morelink\" rel=\"nofollow\">More</a></td></tr>\\n  </table>\\n</td></tr>\\n<tr><td><img src=\"s.gif\" height=\"10\" width=\"0\"><table width=\"100%\" cellspacing=\"0\" cellpadding=\"1\"><tr><td bgcolor=\"#ff6600\"></td></tr></table><br><center><a href=\"https://www.ycombinator.com/apply/\">\\n        Applications are open for YC Summer 2019\\n      </a></center><br><center><span class=\"yclinks\"><a href=\"newsguidelines.html\">Guidelines</a>\\n        | <a href=\"newsfaq.html\">FAQ</a>\\n        | <a href=\"mailto:hn@ycombinator.com\">Support</a>\\n        | <a href=\"https://github.com/HackerNews/API\">API</a>\\n        | <a href=\"security.html\">Security</a>\\n        | <a href=\"lists\">Lists</a>\\n        | <a href=\"bookmarklet.html\" rel=\"nofollow\">Bookmarklet</a>\\n        | <a href=\"http://www.ycombinator.com/legal/\">Legal</a>\\n        | <a href=\"http://www.ycombinator.com/apply/\">Apply to YC</a>\\n        | <a href=\"mailto:hn@ycombinator.com\">Contact</a></span><br><br><form method=\"get\" action=\"//hn.algolia.com/\">Search:\\n          <input type=\"text\" name=\"q\" value=\"\" size=\"17\" autocorrect=\"off\" spellcheck=\"false\" autocapitalize=\"off\" autocomplete=\"false\"></form>\\n            </center></td></tr>\\n      </table></center></body><script type=\\'text/javascript\\' src=\\'hn.js?aDwk0nXb7vx8URj4gBYI\\'></script>\\n  </html>\\n'"
      ]
     },
     "execution_count": 5,
     "metadata": {},
     "output_type": "execute_result"
    }
   ],
   "source": [
    "doc2"
   ]
  },
  {
   "cell_type": "code",
   "execution_count": 6,
   "metadata": {},
   "outputs": [],
   "source": [
    "# Step 2: parse\n",
    "html2 = lx.fromstring(doc2, base_url = url2)\n",
    "html2.make_links_absolute()"
   ]
  },
  {
   "cell_type": "code",
   "execution_count": 7,
   "metadata": {},
   "outputs": [
    {
     "data": {
      "text/plain": [
       "['Reddit is raising a huge round near a $3B valuation',\n",
       " 'HTTP/3 explained',\n",
       " 'Ask HN: What books changed the way you think about almost everything?',\n",
       " 'Security Researcher Assaulted Following Vulnerability Disclosure',\n",
       " 'Previous: NeXT computer hardware emulator',\n",
       " \"How A Young Woman Followed Two Hackers' Lies to Her Death\",\n",
       " 'X265 3.0 released',\n",
       " 'Showing the power of startup women’s health brands, P&G buys This is L (YC S15)',\n",
       " 'Small World: The Tiny House Trend',\n",
       " 'Retool hiring in SF for engineering, developer relations, customer support, etc.',\n",
       " 'Real-time Continuous Transcription with Live Transcribe',\n",
       " 'The Hanabi Challenge: A New Frontier for AI Research',\n",
       " 'Ike Jime, the Japanese Slaughter Method for Tastier Fish',\n",
       " 'The Science of Paper versus Screens (2013)',\n",
       " 'Show HN: My Implementation of \"Quick, Draw\", a Game Developed by Google',\n",
       " 'Bubble Sort: An Archaeological Algorithmic Analysis',\n",
       " 'Wasted Creativity in the GNU/Linux Distribution Diversity',\n",
       " 'Floating Point Visually Explained (2017)',\n",
       " 'Lectures in Quantitative Economics as Python and Julia Notebooks',\n",
       " 'Tarrare',\n",
       " 'Swift 5 Exclusivity Enforcement',\n",
       " 'The Multi-Armed Bandit Problem and Its Solutions (2018)',\n",
       " 'An Astrophysicist Who Maps the Universe’s Terra Incognita',\n",
       " 'The Apple iPhone XR Review',\n",
       " 'Journalism generated by machine is on the rise',\n",
       " 'Forensic Pseudoscience (2015)',\n",
       " 'Roomful of Teeth Is Revolutionizing Choral Music',\n",
       " 'Vuvuzela: Metadata-private messaging',\n",
       " '“100 spies” will monitor all SMS and email that goes in and out of Norway',\n",
       " 'Ursula K. Le Guin Was a Creator of Worlds']"
      ]
     },
     "execution_count": 7,
     "metadata": {},
     "output_type": "execute_result"
    }
   ],
   "source": [
    "html2.xpath(\"//a[@class = 'storylink']/text()\") # equivalent to .text_content()"
   ]
  },
  {
   "cell_type": "code",
   "execution_count": 8,
   "metadata": {},
   "outputs": [
    {
     "data": {
      "text/plain": [
       "['Reddit is raising a huge round near a $3B valuation',\n",
       " 'HTTP/3 explained',\n",
       " 'Ask HN: What books changed the way you think about almost everything?',\n",
       " 'Security Researcher Assaulted Following Vulnerability Disclosure',\n",
       " 'Previous: NeXT computer hardware emulator',\n",
       " \"How A Young Woman Followed Two Hackers' Lies to Her Death\",\n",
       " 'X265 3.0 released',\n",
       " 'Showing the power of startup women’s health brands, P&G buys This is L (YC S15)',\n",
       " 'Small World: The Tiny House Trend',\n",
       " 'Retool hiring in SF for engineering, developer relations, customer support, etc.',\n",
       " 'Real-time Continuous Transcription with Live Transcribe',\n",
       " 'The Hanabi Challenge: A New Frontier for AI Research',\n",
       " 'Ike Jime, the Japanese Slaughter Method for Tastier Fish',\n",
       " 'The Science of Paper versus Screens (2013)',\n",
       " 'Show HN: My Implementation of \"Quick, Draw\", a Game Developed by Google',\n",
       " 'Bubble Sort: An Archaeological Algorithmic Analysis',\n",
       " 'Wasted Creativity in the GNU/Linux Distribution Diversity',\n",
       " 'Floating Point Visually Explained (2017)',\n",
       " 'Lectures in Quantitative Economics as Python and Julia Notebooks',\n",
       " 'Tarrare',\n",
       " 'Swift 5 Exclusivity Enforcement',\n",
       " 'The Multi-Armed Bandit Problem and Its Solutions (2018)',\n",
       " 'An Astrophysicist Who Maps the Universe’s Terra Incognita',\n",
       " 'The Apple iPhone XR Review',\n",
       " 'Journalism generated by machine is on the rise',\n",
       " 'Forensic Pseudoscience (2015)',\n",
       " 'Roomful of Teeth Is Revolutionizing Choral Music',\n",
       " 'Vuvuzela: Metadata-private messaging',\n",
       " '“100 spies” will monitor all SMS and email that goes in and out of Norway',\n",
       " 'Ursula K. Le Guin Was a Creator of Worlds']"
      ]
     },
     "execution_count": 8,
     "metadata": {},
     "output_type": "execute_result"
    }
   ],
   "source": [
    "links = html2.xpath(\"//a[@class = 'storylink']\")\n",
    "titles = [x.text_content() for x in links]\n",
    "titles"
   ]
  },
  {
   "cell_type": "code",
   "execution_count": 9,
   "metadata": {},
   "outputs": [
    {
     "data": {
      "text/plain": [
       "['storylink',\n",
       " 'hnuser',\n",
       " 'storylink',\n",
       " 'hnuser',\n",
       " 'storylink',\n",
       " 'hnuser',\n",
       " 'storylink',\n",
       " 'hnuser',\n",
       " 'storylink',\n",
       " 'hnuser',\n",
       " 'storylink',\n",
       " 'hnuser',\n",
       " 'storylink',\n",
       " 'hnuser',\n",
       " 'storylink',\n",
       " 'hnuser',\n",
       " 'storylink',\n",
       " 'hnuser',\n",
       " 'storylink',\n",
       " 'storylink',\n",
       " 'hnuser',\n",
       " 'storylink',\n",
       " 'hnuser',\n",
       " 'storylink',\n",
       " 'hnuser',\n",
       " 'storylink',\n",
       " 'hnuser',\n",
       " 'storylink',\n",
       " 'hnuser',\n",
       " 'storylink',\n",
       " 'hnuser',\n",
       " 'storylink',\n",
       " 'hnuser',\n",
       " 'storylink',\n",
       " 'hnuser',\n",
       " 'storylink',\n",
       " 'hnuser',\n",
       " 'storylink',\n",
       " 'hnuser',\n",
       " 'storylink',\n",
       " 'hnuser',\n",
       " 'storylink',\n",
       " 'hnuser',\n",
       " 'storylink',\n",
       " 'hnuser',\n",
       " 'storylink',\n",
       " 'hnuser',\n",
       " 'storylink',\n",
       " 'hnuser',\n",
       " 'storylink',\n",
       " 'hnuser',\n",
       " 'storylink',\n",
       " 'hnuser',\n",
       " 'storylink',\n",
       " 'hnuser',\n",
       " 'storylink',\n",
       " 'hnuser',\n",
       " 'storylink',\n",
       " 'hnuser',\n",
       " 'morelink']"
      ]
     },
     "execution_count": 9,
     "metadata": {},
     "output_type": "execute_result"
    }
   ],
   "source": [
    "html2.xpath(\"//a/@class\")"
   ]
  },
  {
   "cell_type": "code",
   "execution_count": 10,
   "metadata": {},
   "outputs": [
    {
     "data": {
      "text/plain": [
       "storylink    30\n",
       "hnuser       29\n",
       "morelink      1\n",
       "dtype: int64"
      ]
     },
     "execution_count": 10,
     "metadata": {},
     "output_type": "execute_result"
    }
   ],
   "source": [
    "pd.Series(html2.xpath(\"//a/@class\")).value_counts()"
   ]
  },
  {
   "cell_type": "code",
   "execution_count": 47,
   "metadata": {},
   "outputs": [
    {
     "data": {
      "text/plain": [
       "['https://techcrunch.com/2019/02/05/raiseit/',\n",
       " 'https://http3-explained.haxx.se/en/',\n",
       " 'item?id=19087418',\n",
       " 'https://www.secjuice.com/security-researcher-assaulted-ice-atrient/',\n",
       " 'http://previous.alternative-system.com/',\n",
       " 'https://www.buzzfeednews.com/article/josephbernstein/tomi-masters-down-the-rabbit-hole-i-go',\n",
       " 'https://bitbucket.org/multicoreware/x265/src/46b84ff665fd301e384328972d3d1312a8c74599/doc/reST/releasenotes.rst?at=default&fileviewer=file-view-default',\n",
       " 'https://techcrunch.com/2019/02/05/showing-the-power-of-startup-womens-health-brands-pg-buys-this-is-l/',\n",
       " 'https://believermag.com/small-world/',\n",
       " 'item?id=19089624',\n",
       " 'https://arxiv.org/abs/1902.00506',\n",
       " 'https://ai.googleblog.com/2019/02/real-time-continuous-transcription-with.html',\n",
       " 'https://guide.michelin.com/sg/dining-out/what-is-ike-jime/news',\n",
       " 'https://www.scientificamerican.com/article/reading-paper-screens/',\n",
       " 'https://github.com/vietnguyen91/QuickDraw',\n",
       " 'https://users.cs.duke.edu/~ola/bubble/bubble.html',\n",
       " 'https://write.as/text/wasted-creativity-in-the-gnu-linux-distribution-diversity',\n",
       " 'http://fabiensanglard.net/floating_point_visually_explained/index.php',\n",
       " 'https://lectures.quantecon.org/',\n",
       " 'https://en.wikipedia.org/wiki/Tarrare',\n",
       " 'https://swift.org/blog/swift-5-exclusivity/',\n",
       " 'https://www.anandtech.com/show/13912/the-apple-iphone-xr-review-brilliant-battery-life',\n",
       " 'https://lilianweng.github.io/lil-log/2018/01/23/the-multi-armed-bandit-problem-and-its-solutions.html',\n",
       " 'https://www.quantamagazine.org/priyamvada-natarajan-maps-the-invisible-universe-20190204/',\n",
       " 'https://www.nytimes.com/2019/02/05/business/media/artificial-intelligence-journalism-robots.html',\n",
       " 'http://bostonreview.net/books-ideas/nathan-robinson-forensic-pseudoscience-criminal-justice',\n",
       " 'https://translate.google.com/translate?sl=auto&tl=en&u=https%3A%2F%2Fwww.nettavisen.no%2Fnyheter%2F100-spioner-skal-overvake-alle-sms-er-og-e-poster-som-gar-inn-og-ut-av-norge%2F3423589246.html',\n",
       " 'https://www.newyorker.com/magazine/2019/02/11/roomful-of-teeth-is-revolutionizing-choral-music',\n",
       " 'https://vuvuzela.io/getstarted',\n",
       " 'https://www.neh.gov/article/ursula-k-le-guin-was-creator-worlds']"
      ]
     },
     "execution_count": 47,
     "metadata": {},
     "output_type": "execute_result"
    }
   ],
   "source": [
    "hrefs=html2.xpath(\"//a[@class = 'storylink']/@href\")\n",
    "hrefs"
   ]
  },
  {
   "cell_type": "code",
   "execution_count": 12,
   "metadata": {},
   "outputs": [
    {
     "data": {
      "text/plain": [
       "['455\\xa0comments',\n",
       " '147\\xa0comments',\n",
       " '442\\xa0comments',\n",
       " 'discuss',\n",
       " '1\\xa0comment',\n",
       " '21\\xa0comments',\n",
       " '2\\xa0comments',\n",
       " 'discuss',\n",
       " '245\\xa0comments',\n",
       " 'hide',\n",
       " '23\\xa0comments',\n",
       " '28\\xa0comments',\n",
       " '113\\xa0comments',\n",
       " 'discuss',\n",
       " '11\\xa0comments',\n",
       " '3\\xa0comments',\n",
       " 'discuss',\n",
       " '7\\xa0comments',\n",
       " '35\\xa0comments',\n",
       " '42\\xa0comments',\n",
       " 'discuss',\n",
       " '17\\xa0comments',\n",
       " '3\\xa0comments',\n",
       " '48\\xa0comments',\n",
       " '41\\xa0comments',\n",
       " '19\\xa0comments',\n",
       " '7\\xa0comments',\n",
       " '13\\xa0comments',\n",
       " '31\\xa0comments',\n",
       " '55\\xa0comments']"
      ]
     },
     "execution_count": 12,
     "metadata": {},
     "output_type": "execute_result"
    }
   ],
   "source": [
    "sublinks = html2.xpath(\"//td[@class = 'subtext']/a[last()]\")\n",
    "comments = [x.text_content() for x in sublinks]\n",
    "comments"
   ]
  },
  {
   "cell_type": "code",
   "execution_count": 51,
   "metadata": {},
   "outputs": [
    {
     "data": {
      "text/html": [
       "<div>\n",
       "<style scoped>\n",
       "    .dataframe tbody tr th:only-of-type {\n",
       "        vertical-align: middle;\n",
       "    }\n",
       "\n",
       "    .dataframe tbody tr th {\n",
       "        vertical-align: top;\n",
       "    }\n",
       "\n",
       "    .dataframe thead th {\n",
       "        text-align: right;\n",
       "    }\n",
       "</style>\n",
       "<table border=\"1\" class=\"dataframe\">\n",
       "  <thead>\n",
       "    <tr style=\"text-align: right;\">\n",
       "      <th></th>\n",
       "      <th>titles</th>\n",
       "      <th>comments</th>\n",
       "      <th>url</th>\n",
       "    </tr>\n",
       "  </thead>\n",
       "  <tbody>\n",
       "    <tr>\n",
       "      <th>0</th>\n",
       "      <td>Reddit is raising a huge round near a $3B valu...</td>\n",
       "      <td>455 comments</td>\n",
       "      <td>https://techcrunch.com/2019/02/05/raiseit/</td>\n",
       "    </tr>\n",
       "    <tr>\n",
       "      <th>1</th>\n",
       "      <td>HTTP/3 explained</td>\n",
       "      <td>147 comments</td>\n",
       "      <td>https://http3-explained.haxx.se/en/</td>\n",
       "    </tr>\n",
       "    <tr>\n",
       "      <th>2</th>\n",
       "      <td>Ask HN: What books changed the way you think a...</td>\n",
       "      <td>442 comments</td>\n",
       "      <td>item?id=19087418</td>\n",
       "    </tr>\n",
       "    <tr>\n",
       "      <th>3</th>\n",
       "      <td>Security Researcher Assaulted Following Vulner...</td>\n",
       "      <td>discuss</td>\n",
       "      <td>https://www.secjuice.com/security-researcher-a...</td>\n",
       "    </tr>\n",
       "    <tr>\n",
       "      <th>4</th>\n",
       "      <td>Previous: NeXT computer hardware emulator</td>\n",
       "      <td>1 comment</td>\n",
       "      <td>http://previous.alternative-system.com/</td>\n",
       "    </tr>\n",
       "    <tr>\n",
       "      <th>5</th>\n",
       "      <td>How A Young Woman Followed Two Hackers' Lies t...</td>\n",
       "      <td>21 comments</td>\n",
       "      <td>https://www.buzzfeednews.com/article/josephber...</td>\n",
       "    </tr>\n",
       "    <tr>\n",
       "      <th>6</th>\n",
       "      <td>X265 3.0 released</td>\n",
       "      <td>2 comments</td>\n",
       "      <td>https://bitbucket.org/multicoreware/x265/src/4...</td>\n",
       "    </tr>\n",
       "    <tr>\n",
       "      <th>7</th>\n",
       "      <td>Showing the power of startup women’s health br...</td>\n",
       "      <td>discuss</td>\n",
       "      <td>https://techcrunch.com/2019/02/05/showing-the-...</td>\n",
       "    </tr>\n",
       "    <tr>\n",
       "      <th>8</th>\n",
       "      <td>Small World: The Tiny House Trend</td>\n",
       "      <td>245 comments</td>\n",
       "      <td>https://believermag.com/small-world/</td>\n",
       "    </tr>\n",
       "    <tr>\n",
       "      <th>9</th>\n",
       "      <td>Retool hiring in SF for engineering, developer...</td>\n",
       "      <td>hide</td>\n",
       "      <td>item?id=19089624</td>\n",
       "    </tr>\n",
       "    <tr>\n",
       "      <th>10</th>\n",
       "      <td>Real-time Continuous Transcription with Live T...</td>\n",
       "      <td>23 comments</td>\n",
       "      <td>https://arxiv.org/abs/1902.00506</td>\n",
       "    </tr>\n",
       "    <tr>\n",
       "      <th>11</th>\n",
       "      <td>The Hanabi Challenge: A New Frontier for AI Re...</td>\n",
       "      <td>28 comments</td>\n",
       "      <td>https://ai.googleblog.com/2019/02/real-time-co...</td>\n",
       "    </tr>\n",
       "    <tr>\n",
       "      <th>12</th>\n",
       "      <td>Ike Jime, the Japanese Slaughter Method for Ta...</td>\n",
       "      <td>113 comments</td>\n",
       "      <td>https://guide.michelin.com/sg/dining-out/what-...</td>\n",
       "    </tr>\n",
       "    <tr>\n",
       "      <th>13</th>\n",
       "      <td>The Science of Paper versus Screens (2013)</td>\n",
       "      <td>discuss</td>\n",
       "      <td>https://www.scientificamerican.com/article/rea...</td>\n",
       "    </tr>\n",
       "    <tr>\n",
       "      <th>14</th>\n",
       "      <td>Show HN: My Implementation of \"Quick, Draw\", a...</td>\n",
       "      <td>11 comments</td>\n",
       "      <td>https://github.com/vietnguyen91/QuickDraw</td>\n",
       "    </tr>\n",
       "    <tr>\n",
       "      <th>15</th>\n",
       "      <td>Bubble Sort: An Archaeological Algorithmic Ana...</td>\n",
       "      <td>3 comments</td>\n",
       "      <td>https://users.cs.duke.edu/~ola/bubble/bubble.html</td>\n",
       "    </tr>\n",
       "    <tr>\n",
       "      <th>16</th>\n",
       "      <td>Wasted Creativity in the GNU/Linux Distributio...</td>\n",
       "      <td>discuss</td>\n",
       "      <td>https://write.as/text/wasted-creativity-in-the...</td>\n",
       "    </tr>\n",
       "    <tr>\n",
       "      <th>17</th>\n",
       "      <td>Floating Point Visually Explained (2017)</td>\n",
       "      <td>7 comments</td>\n",
       "      <td>http://fabiensanglard.net/floating_point_visua...</td>\n",
       "    </tr>\n",
       "    <tr>\n",
       "      <th>18</th>\n",
       "      <td>Lectures in Quantitative Economics as Python a...</td>\n",
       "      <td>35 comments</td>\n",
       "      <td>https://lectures.quantecon.org/</td>\n",
       "    </tr>\n",
       "    <tr>\n",
       "      <th>19</th>\n",
       "      <td>Tarrare</td>\n",
       "      <td>42 comments</td>\n",
       "      <td>https://en.wikipedia.org/wiki/Tarrare</td>\n",
       "    </tr>\n",
       "    <tr>\n",
       "      <th>20</th>\n",
       "      <td>Swift 5 Exclusivity Enforcement</td>\n",
       "      <td>discuss</td>\n",
       "      <td>https://swift.org/blog/swift-5-exclusivity/</td>\n",
       "    </tr>\n",
       "    <tr>\n",
       "      <th>21</th>\n",
       "      <td>The Multi-Armed Bandit Problem and Its Solutio...</td>\n",
       "      <td>17 comments</td>\n",
       "      <td>https://www.anandtech.com/show/13912/the-apple...</td>\n",
       "    </tr>\n",
       "    <tr>\n",
       "      <th>22</th>\n",
       "      <td>An Astrophysicist Who Maps the Universe’s Terr...</td>\n",
       "      <td>3 comments</td>\n",
       "      <td>https://lilianweng.github.io/lil-log/2018/01/2...</td>\n",
       "    </tr>\n",
       "    <tr>\n",
       "      <th>23</th>\n",
       "      <td>The Apple iPhone XR Review</td>\n",
       "      <td>48 comments</td>\n",
       "      <td>https://www.quantamagazine.org/priyamvada-nata...</td>\n",
       "    </tr>\n",
       "    <tr>\n",
       "      <th>24</th>\n",
       "      <td>Journalism generated by machine is on the rise</td>\n",
       "      <td>41 comments</td>\n",
       "      <td>https://www.nytimes.com/2019/02/05/business/me...</td>\n",
       "    </tr>\n",
       "    <tr>\n",
       "      <th>25</th>\n",
       "      <td>Forensic Pseudoscience (2015)</td>\n",
       "      <td>19 comments</td>\n",
       "      <td>http://bostonreview.net/books-ideas/nathan-rob...</td>\n",
       "    </tr>\n",
       "    <tr>\n",
       "      <th>26</th>\n",
       "      <td>Roomful of Teeth Is Revolutionizing Choral Music</td>\n",
       "      <td>7 comments</td>\n",
       "      <td>https://translate.google.com/translate?sl=auto...</td>\n",
       "    </tr>\n",
       "    <tr>\n",
       "      <th>27</th>\n",
       "      <td>Vuvuzela: Metadata-private messaging</td>\n",
       "      <td>13 comments</td>\n",
       "      <td>https://www.newyorker.com/magazine/2019/02/11/...</td>\n",
       "    </tr>\n",
       "    <tr>\n",
       "      <th>28</th>\n",
       "      <td>“100 spies” will monitor all SMS and email tha...</td>\n",
       "      <td>31 comments</td>\n",
       "      <td>https://vuvuzela.io/getstarted</td>\n",
       "    </tr>\n",
       "    <tr>\n",
       "      <th>29</th>\n",
       "      <td>Ursula K. Le Guin Was a Creator of Worlds</td>\n",
       "      <td>55 comments</td>\n",
       "      <td>https://www.neh.gov/article/ursula-k-le-guin-w...</td>\n",
       "    </tr>\n",
       "  </tbody>\n",
       "</table>\n",
       "</div>"
      ],
      "text/plain": [
       "                                               titles      comments  \\\n",
       "0   Reddit is raising a huge round near a $3B valu...  455 comments   \n",
       "1                                    HTTP/3 explained  147 comments   \n",
       "2   Ask HN: What books changed the way you think a...  442 comments   \n",
       "3   Security Researcher Assaulted Following Vulner...       discuss   \n",
       "4           Previous: NeXT computer hardware emulator     1 comment   \n",
       "5   How A Young Woman Followed Two Hackers' Lies t...   21 comments   \n",
       "6                                   X265 3.0 released    2 comments   \n",
       "7   Showing the power of startup women’s health br...       discuss   \n",
       "8                   Small World: The Tiny House Trend  245 comments   \n",
       "9   Retool hiring in SF for engineering, developer...          hide   \n",
       "10  Real-time Continuous Transcription with Live T...   23 comments   \n",
       "11  The Hanabi Challenge: A New Frontier for AI Re...   28 comments   \n",
       "12  Ike Jime, the Japanese Slaughter Method for Ta...  113 comments   \n",
       "13         The Science of Paper versus Screens (2013)       discuss   \n",
       "14  Show HN: My Implementation of \"Quick, Draw\", a...   11 comments   \n",
       "15  Bubble Sort: An Archaeological Algorithmic Ana...    3 comments   \n",
       "16  Wasted Creativity in the GNU/Linux Distributio...       discuss   \n",
       "17           Floating Point Visually Explained (2017)    7 comments   \n",
       "18  Lectures in Quantitative Economics as Python a...   35 comments   \n",
       "19                                            Tarrare   42 comments   \n",
       "20                    Swift 5 Exclusivity Enforcement       discuss   \n",
       "21  The Multi-Armed Bandit Problem and Its Solutio...   17 comments   \n",
       "22  An Astrophysicist Who Maps the Universe’s Terr...    3 comments   \n",
       "23                         The Apple iPhone XR Review   48 comments   \n",
       "24     Journalism generated by machine is on the rise   41 comments   \n",
       "25                      Forensic Pseudoscience (2015)   19 comments   \n",
       "26   Roomful of Teeth Is Revolutionizing Choral Music    7 comments   \n",
       "27               Vuvuzela: Metadata-private messaging   13 comments   \n",
       "28  “100 spies” will monitor all SMS and email tha...   31 comments   \n",
       "29          Ursula K. Le Guin Was a Creator of Worlds   55 comments   \n",
       "\n",
       "                                                  url  \n",
       "0          https://techcrunch.com/2019/02/05/raiseit/  \n",
       "1                 https://http3-explained.haxx.se/en/  \n",
       "2                                    item?id=19087418  \n",
       "3   https://www.secjuice.com/security-researcher-a...  \n",
       "4             http://previous.alternative-system.com/  \n",
       "5   https://www.buzzfeednews.com/article/josephber...  \n",
       "6   https://bitbucket.org/multicoreware/x265/src/4...  \n",
       "7   https://techcrunch.com/2019/02/05/showing-the-...  \n",
       "8                https://believermag.com/small-world/  \n",
       "9                                    item?id=19089624  \n",
       "10                   https://arxiv.org/abs/1902.00506  \n",
       "11  https://ai.googleblog.com/2019/02/real-time-co...  \n",
       "12  https://guide.michelin.com/sg/dining-out/what-...  \n",
       "13  https://www.scientificamerican.com/article/rea...  \n",
       "14          https://github.com/vietnguyen91/QuickDraw  \n",
       "15  https://users.cs.duke.edu/~ola/bubble/bubble.html  \n",
       "16  https://write.as/text/wasted-creativity-in-the...  \n",
       "17  http://fabiensanglard.net/floating_point_visua...  \n",
       "18                    https://lectures.quantecon.org/  \n",
       "19              https://en.wikipedia.org/wiki/Tarrare  \n",
       "20        https://swift.org/blog/swift-5-exclusivity/  \n",
       "21  https://www.anandtech.com/show/13912/the-apple...  \n",
       "22  https://lilianweng.github.io/lil-log/2018/01/2...  \n",
       "23  https://www.quantamagazine.org/priyamvada-nata...  \n",
       "24  https://www.nytimes.com/2019/02/05/business/me...  \n",
       "25  http://bostonreview.net/books-ideas/nathan-rob...  \n",
       "26  https://translate.google.com/translate?sl=auto...  \n",
       "27  https://www.newyorker.com/magazine/2019/02/11/...  \n",
       "28                     https://vuvuzela.io/getstarted  \n",
       "29  https://www.neh.gov/article/ursula-k-le-guin-w...  "
      ]
     },
     "execution_count": 51,
     "metadata": {},
     "output_type": "execute_result"
    }
   ],
   "source": [
    "# Step 3: clean\n",
    "result = pd.DataFrame({\"titles\": titles, \"comments\": comments,\"url\":hrefs})\n",
    "result"
   ]
  },
  {
   "cell_type": "code",
   "execution_count": 49,
   "metadata": {},
   "outputs": [
    {
     "data": {
      "text/plain": [
       "0         455\n",
       "1         147\n",
       "2         442\n",
       "3     discuss\n",
       "4           1\n",
       "5          21\n",
       "6           2\n",
       "7     discuss\n",
       "8         245\n",
       "9        hide\n",
       "10         23\n",
       "11         28\n",
       "12        113\n",
       "13    discuss\n",
       "14         11\n",
       "15          3\n",
       "16    discuss\n",
       "17          7\n",
       "18         35\n",
       "19         42\n",
       "20    discuss\n",
       "21         17\n",
       "22          3\n",
       "23         48\n",
       "24         41\n",
       "25         19\n",
       "26          7\n",
       "27         13\n",
       "28         31\n",
       "29         55\n",
       "Name: comments, dtype: object"
      ]
     },
     "execution_count": 49,
     "metadata": {},
     "output_type": "execute_result"
    }
   ],
   "source": [
    "result.comments.str.split().str[0]"
   ]
  },
  {
   "cell_type": "code",
   "execution_count": 53,
   "metadata": {},
   "outputs": [
    {
     "data": {
      "text/html": [
       "<div>\n",
       "<style scoped>\n",
       "    .dataframe tbody tr th:only-of-type {\n",
       "        vertical-align: middle;\n",
       "    }\n",
       "\n",
       "    .dataframe tbody tr th {\n",
       "        vertical-align: top;\n",
       "    }\n",
       "\n",
       "    .dataframe thead th {\n",
       "        text-align: right;\n",
       "    }\n",
       "</style>\n",
       "<table border=\"1\" class=\"dataframe\">\n",
       "  <thead>\n",
       "    <tr style=\"text-align: right;\">\n",
       "      <th></th>\n",
       "      <th>titles</th>\n",
       "      <th>comments</th>\n",
       "      <th>url</th>\n",
       "      <th>comment_count</th>\n",
       "    </tr>\n",
       "  </thead>\n",
       "  <tbody>\n",
       "    <tr>\n",
       "      <th>0</th>\n",
       "      <td>Reddit is raising a huge round near a $3B valu...</td>\n",
       "      <td>455 comments</td>\n",
       "      <td>https://techcrunch.com/2019/02/05/raiseit/</td>\n",
       "      <td>455</td>\n",
       "    </tr>\n",
       "    <tr>\n",
       "      <th>1</th>\n",
       "      <td>HTTP/3 explained</td>\n",
       "      <td>147 comments</td>\n",
       "      <td>https://http3-explained.haxx.se/en/</td>\n",
       "      <td>147</td>\n",
       "    </tr>\n",
       "    <tr>\n",
       "      <th>2</th>\n",
       "      <td>Ask HN: What books changed the way you think a...</td>\n",
       "      <td>442 comments</td>\n",
       "      <td>item?id=19087418</td>\n",
       "      <td>442</td>\n",
       "    </tr>\n",
       "    <tr>\n",
       "      <th>3</th>\n",
       "      <td>Security Researcher Assaulted Following Vulner...</td>\n",
       "      <td>discuss</td>\n",
       "      <td>https://www.secjuice.com/security-researcher-a...</td>\n",
       "      <td>discuss</td>\n",
       "    </tr>\n",
       "    <tr>\n",
       "      <th>4</th>\n",
       "      <td>Previous: NeXT computer hardware emulator</td>\n",
       "      <td>1 comment</td>\n",
       "      <td>http://previous.alternative-system.com/</td>\n",
       "      <td>1</td>\n",
       "    </tr>\n",
       "  </tbody>\n",
       "</table>\n",
       "</div>"
      ],
      "text/plain": [
       "                                              titles      comments  \\\n",
       "0  Reddit is raising a huge round near a $3B valu...  455 comments   \n",
       "1                                   HTTP/3 explained  147 comments   \n",
       "2  Ask HN: What books changed the way you think a...  442 comments   \n",
       "3  Security Researcher Assaulted Following Vulner...       discuss   \n",
       "4          Previous: NeXT computer hardware emulator     1 comment   \n",
       "\n",
       "                                                 url comment_count  \n",
       "0         https://techcrunch.com/2019/02/05/raiseit/           455  \n",
       "1                https://http3-explained.haxx.se/en/           147  \n",
       "2                                   item?id=19087418           442  \n",
       "3  https://www.secjuice.com/security-researcher-a...       discuss  \n",
       "4            http://previous.alternative-system.com/             1  "
      ]
     },
     "execution_count": 53,
     "metadata": {},
     "output_type": "execute_result"
    }
   ],
   "source": [
    "result[\"comment_count\"] = result.comments.str.split().str.get(0)\n",
    "result.head()"
   ]
  },
  {
   "cell_type": "code",
   "execution_count": 54,
   "metadata": {},
   "outputs": [
    {
     "data": {
      "text/html": [
       "<div>\n",
       "<style scoped>\n",
       "    .dataframe tbody tr th:only-of-type {\n",
       "        vertical-align: middle;\n",
       "    }\n",
       "\n",
       "    .dataframe tbody tr th {\n",
       "        vertical-align: top;\n",
       "    }\n",
       "\n",
       "    .dataframe thead th {\n",
       "        text-align: right;\n",
       "    }\n",
       "</style>\n",
       "<table border=\"1\" class=\"dataframe\">\n",
       "  <thead>\n",
       "    <tr style=\"text-align: right;\">\n",
       "      <th></th>\n",
       "      <th>titles</th>\n",
       "      <th>comments</th>\n",
       "      <th>url</th>\n",
       "      <th>comment_count</th>\n",
       "    </tr>\n",
       "  </thead>\n",
       "  <tbody>\n",
       "    <tr>\n",
       "      <th>0</th>\n",
       "      <td>Reddit is raising a huge round near a $3B valu...</td>\n",
       "      <td>455 comments</td>\n",
       "      <td>https://techcrunch.com/2019/02/05/raiseit/</td>\n",
       "      <td>455.0</td>\n",
       "    </tr>\n",
       "    <tr>\n",
       "      <th>1</th>\n",
       "      <td>HTTP/3 explained</td>\n",
       "      <td>147 comments</td>\n",
       "      <td>https://http3-explained.haxx.se/en/</td>\n",
       "      <td>147.0</td>\n",
       "    </tr>\n",
       "    <tr>\n",
       "      <th>2</th>\n",
       "      <td>Ask HN: What books changed the way you think a...</td>\n",
       "      <td>442 comments</td>\n",
       "      <td>item?id=19087418</td>\n",
       "      <td>442.0</td>\n",
       "    </tr>\n",
       "    <tr>\n",
       "      <th>3</th>\n",
       "      <td>Security Researcher Assaulted Following Vulner...</td>\n",
       "      <td>discuss</td>\n",
       "      <td>https://www.secjuice.com/security-researcher-a...</td>\n",
       "      <td>NaN</td>\n",
       "    </tr>\n",
       "    <tr>\n",
       "      <th>4</th>\n",
       "      <td>Previous: NeXT computer hardware emulator</td>\n",
       "      <td>1 comment</td>\n",
       "      <td>http://previous.alternative-system.com/</td>\n",
       "      <td>1.0</td>\n",
       "    </tr>\n",
       "  </tbody>\n",
       "</table>\n",
       "</div>"
      ],
      "text/plain": [
       "                                              titles      comments  \\\n",
       "0  Reddit is raising a huge round near a $3B valu...  455 comments   \n",
       "1                                   HTTP/3 explained  147 comments   \n",
       "2  Ask HN: What books changed the way you think a...  442 comments   \n",
       "3  Security Researcher Assaulted Following Vulner...       discuss   \n",
       "4          Previous: NeXT computer hardware emulator     1 comment   \n",
       "\n",
       "                                                 url  comment_count  \n",
       "0         https://techcrunch.com/2019/02/05/raiseit/          455.0  \n",
       "1                https://http3-explained.haxx.se/en/          147.0  \n",
       "2                                   item?id=19087418          442.0  \n",
       "3  https://www.secjuice.com/security-researcher-a...            NaN  \n",
       "4            http://previous.alternative-system.com/            1.0  "
      ]
     },
     "execution_count": 54,
     "metadata": {},
     "output_type": "execute_result"
    }
   ],
   "source": [
    "result[\"comment_count\"] = pd.to_numeric(result.comment_count, errors = \"coerce\")\n",
    "result.head()"
   ]
  },
  {
   "cell_type": "code",
   "execution_count": 46,
   "metadata": {},
   "outputs": [],
   "source": [
    "pd.to_numeric?"
   ]
  },
  {
   "cell_type": "markdown",
   "metadata": {},
   "source": [
    "### How many paragraphs in the article?"
   ]
  },
  {
   "cell_type": "code",
   "execution_count": 39,
   "metadata": {
    "scrolled": false
   },
   "outputs": [],
   "source": [
    "url3='https://www.theregister.co.uk/2017/11/06/coreos_kubernetes_v_world/'"
   ]
  },
  {
   "cell_type": "code",
   "execution_count": 42,
   "metadata": {},
   "outputs": [
    {
     "data": {
      "text/plain": [
       "'<!doctype html>\\n<html lang=\"en\">\\n<head>\\n    <meta content=\"text/html; charset=utf-8\" http-equiv=\"Content-Type\">\\n    \\n    <title>\\'Lambda and serverless is one of the worst forms of proprietary lock-in we\\'ve ever seen in the history of humanity\\' • The Register</title>\\n    \\n    <meta name=\"viewport\" content=\"initial-scale=1.0, width=device-width\"/>\\n    <meta property=\"og:image\" content=\"https://regmedia.co.uk/2016/06/29/handcuffs.jpg\"/>\\n    <meta property=\"og:type\" content=\"article\" />\\n    <meta property=\"og:url\" content=\"https://www.theregister.co.uk/2017/11/06/coreos_kubernetes_v_world/\" />\\n    <meta property=\"og:title\" content=\"\\'Lambda and serverless is one of the worst forms of proprietary lock-in we\\'ve ever seen in the history of humanity\\'\" />\\n    <meta property=\"og:description\" content=\"CoreOS on AWS, Kubernetes, and more\" />\\n    <meta name=\"twitter:card\" content=\"summary_large_image\">\\n    <meta name=\"twitter:site\" content=\"@TheRegister\">\\n    <meta name=\"news_keywords\" content=\"Amazon, Devops, Kubernetes, Serverless\">\\n<script type=\"application/ld+json\">\\n{\\n\"@context\":\"http://schema.org\",\\n\"@type\":\"NewsArticle\",\\n\"mainEntityOfPage\":{\"@type\":\"WebPage\",\"@id\":\"https://www.theregister.co.uk/2017/11/06/coreos_kubernetes_v_world/\"},\\n\"headline\":\"\\'Lambda and serverless is one of the worst forms of proprietary lock-in we\\'ve ever seen in the history of humanity\\'\",\\n\"datePublished\":\"2017-11-06T07:03:07Z\",\\n\"dateModified\":\"2018-01-26T12:02:21Z\",\\n\"image\":{\"@type\":\"ImageObject\",\"url\":\"https://regmedia.co.uk/2016/06/29/handcuffs.jpg\",\"width\":\"650\",\"height\":\"419\"},\\n\"author\":{\"@type\":\"Person\",\"name\":\"Thomas Claburn\"},\\n\"publisher\":{\"@type\":\"Organization\",\"name\":\"The Register\",\"url\":\"https://www.theregister.co.uk/\",\"logo\":{\"@type\":\"ImageObject\",\"url\":\"https://www.theregister.co.uk/Design/graphics/icons/reg_logo.png\",\"width\":330,\"height\":60}}\\n}\\n</script>\\n    <script>\\n      var RegZoot = {  };\\n      var RegPageType = \\'Story\\';\\n    </script>\\n    <link rel=\"canonical\" href=\"https://www.theregister.co.uk/2017/11/06/coreos_kubernetes_v_world/\"><link rel=\"amphtml\" href=\"https://www.theregister.co.uk/AMP/2017/11/06/coreos_kubernetes_v_world/\"><script>\\n        var RegArticle={id:192356,pf:0,af:0,bms:0,cat:\\'news\\',ec:[],kw:[[\\'amazon\\',\\'Amazon\\'],[\\'devops\\',\\'Devops\\'],[\\'coreos\\',\\'Coreos\\'],[\\'kubernetes\\',\\'Kubernetes\\'],[\\'serverless\\',\\'Serverless\\']],short_url:\\'http://reg.cx/2y35\\',cp:0,noads:[],author:\\'Thomas Claburn\\',vid:0}\\n    </script>\\n    <link rel=stylesheet href=\"https://fonts.googleapis.com/css?family=Arimo:400%7CArimo:700\">\\n<link rel=stylesheet type=\"text/css\" href=\"/css_picker/default/091f7be74220b67a905c996bfe65527b521d4a75/design.css\">\\n\\n    <style>\\n        #sec-devops, #m-sec-devops,\\n        #sub-sec-none a {\\n          font-weight: bold;\\n        }\\n    </style>\\n    \\n    <link rel=alternate type=\"application/atom+xml\" href=\"/headlines.atom\" title=\"The Register: whole site\">\\n    <link rel=alternate type=\"application/atom+xml\" href=\"/devops/headlines.atom\" title=\"The Register: DevOps section\">\\n\\n    \\n    <script src=\"/design_picker/d02a9f419de6b36a34122113bc14f55a6c009599/javascript/_.js\"></script>\\n    <script async src=\"//www.googletagservices.com/tag/js/gpt.js\"></script>\\n    <script src=\"https://nir.regmedia.co.uk/?g=vk&amp;g=c&amp;g=sa&amp;s=c/devo.front&amp;s=vk/amazon&amp;s=vk/devops&amp;s=vk/coreos&amp;s=vk/kubernetes&amp;s=vk/serverless\"></script>\\n    <script>\\n        Reg__adct = \\'s-async\\';\\n        var googletag = googletag || {};\\n        googletag.cmd = googletag.cmd || [];\\n        googletag.cmd.push(function() {\\n            init_gpt(\\'reg_devops/front\\');\\n        });\\n    </script>\\n\\n    <link rel=search href=\"https://search.theregister.co.uk/\">\\n    <link rel=search type=\"application/opensearchdescription+xml\" title=\"El Reg Search\" href=\"/Design/page/search.osd\">\\n    <link rel=\"apple-touch-icon\" sizes=\"180x180\" href=\"/design_picker/4ee431b84ac2d23c13376f753522acd7ecbb9b47/graphics/favicons/apple-touch-icon.png\">\\n<link rel=\"icon\" type=\"image/png\" sizes=\"16x16\" href=\"/design_picker/4ee431b84ac2d23c13376f753522acd7ecbb9b47/graphics/favicons/favicon-16x16.png\">\\n<link rel=\"icon\" type=\"image/png\" sizes=\"32x32\" href=\"/design_picker/4ee431b84ac2d23c13376f753522acd7ecbb9b47/graphics/favicons/favicon-32x32.png\">\\n<link rel=\"manifest\" href=\"/design_picker/6e3385376d6492f20e9eb3afd7c84900985f2128/graphics/favicons/site.webmanifest\">\\n<link rel=\"mask-icon\" href=\"/design_picker/4ee431b84ac2d23c13376f753522acd7ecbb9b47/graphics/favicons/safari-pinned-tab.svg\" color=\"#ff0000\">\\n<link rel=\"SHORTCUT ICON\" href=\"/design_picker/4ee431b84ac2d23c13376f753522acd7ecbb9b47/graphics/favicons/favicon.ico\">\\n<meta name=\"msapplication-TileColor\" content=\"#ff0000\">\\n<meta name=\"msapplication-config\" content=\"/design_picker/4ee431b84ac2d23c13376f753522acd7ecbb9b47/graphics/favicons/browserconfig.xml\">\\n<meta name=\"theme-color\" content=\"#ff0000\">\\n\\n\\n</head>\\n<body class=\"DYNX\" data-pagetype=\\'Story\\' data-pagenum=0>\\n<div id=page>\\n    <div id=topbar class=\"alt_colour dcl\">\\n        <div class=login></div>\\n        <ul>\\n            <li><a href=\"https://serverlesscomputing.london/\" target=_blank title=\"The Serverless Computing Conference London\">Serverless</a></li>\\n            <li><a href=\"http://www.mcubed.london/\" target=_blank title=\"Minds Mastering Machines - The ML and AI Conference\">M³</a></li>\\n            <li><a href=\"https://continuouslifecycle.london\" target=_blank title=\"Continuous Lifecycle London 2018\">CLL</a></li>\\n            <li><a href=\"https://whitepapers.theregister.co.uk/events/list\" title=\"Webcasts and Events from The Register\">Events</a></li>\\n            <li><a href=\"https://whitepapers.theregister.co.uk/\" title=\"Whitepapers and tech resources from The Register\">Whitepapers</a></li>\\n            <li><a href=\"https://www.nextplatform.com/\" title=\"High-end computing in-depth\">The Next Platform</a></li>\\n        </ul>\\n    </div>\\n        <div id=ad-kite class=adu>\\n        <script>\\n            show_gpt(\\'ad-kite\\');\\n        </script>\\n    </div>\\n\\n    <div id=masthead>\\n        <a href=\"https://www.theregister.co.uk/\" id=logo>\\n            <img src=\"/design_picker/d2e337b97204af4aa34dda04c4e5d56d954b216f/graphics/icons/reg_logo.svg\" width=330 height=63 alt=\"The Register® — Biting the hand that feeds IT\">\\n        </a>\\n        <div id=follow_btns_top>\\n            <a class=tweet_link href=\"https://twitter.com/intent/user?screen_name=theregister\" title=\"Follow us on twitter\" target=_blank>\\n                <img width=\"18\" height=\"18\" alt=\"Twitter\" src=\"/design_picker/d2e337b97204af4aa34dda04c4e5d56d954b216f/graphics/icon/twitter.svg\">\\n            </a>\\n            <a href=\"https://www.facebook.com/VultureCentral\" title=\"Like us on Facebook\" target=_blank class=fbook>\\n                <img width=\"18\" height=\"18\" alt=\"Facebook\" src=\"/design_picker/d2e337b97204af4aa34dda04c4e5d56d954b216f/graphics/icon/facebook.svg\">\\n            </a>\\n            <a href=\"https://google.com/+theregister\" title=\"Follow us on Google+\" target=_blank class=gplus>\\n                <img width=\"18\" height=\"18\" alt=\"G+\" src=\"/design_picker/d2e337b97204af4aa34dda04c4e5d56d954b216f/graphics/icon/google_plus.svg\">\\n            </a>\\n            <a href=\"https://www.linkedin.com/company/the-register\" title=\"Follow us on LinkedIn\" target=_blank class=linkin>\\n                <img width=\"18\" height=\"18\" alt=\"LinkedIn\" src=\"/design_picker/d2e337b97204af4aa34dda04c4e5d56d954b216f/graphics/icon/linkedin.svg\">\\n            </a>\\n        </div>\\n    </div>\\n        <div id=site_nav class=static>\\n        <nav id=top_nav class=dcl>\\n            <a href=\"https://www.theregister.co.uk/\" class=nav_vulture data-name=\"Home\">\\n                <img width=\"21\" height=\"17\" alt=\"Home\" src=\"/design_picker/d2e337b97204af4aa34dda04c4e5d56d954b216f/graphics/icon/vulture.svg\" class=black_vulture>\\n                <img width=\"21\" height=\"17\" alt=\"Home\" src=\"/design_picker/d2e337b97204af4aa34dda04c4e5d56d954b216f/graphics/icon/vulture_white.svg\" class=white_vulture>\\n            </a>\\n            <a href=\"/data_centre/\" id=sec-data-centre data-nav=\".data_cent_nav\" data-name=\"Data Centre\">Data Centre</a>\\n            <a href=\"/software/\" id=sec-software data-nav=\".software_nav\" data-name=\"Software\">Software</a>\\n            <a href=\"/security/\" id=sec-security data-nav=\".sec_nav\" data-name=\"Security\">Security</a>\\n            <a href=\"/devops/\" id=sec-devops data-nav=\".devops_nav\" data-name=\"DevOps\">DevOps</a>\\n            <a href=\"/business/\" id=sec-business data-nav=\".bus_nav\" data-name=\"Business\">Business</a>\\n            <a href=\"/personal_tech/\" id=sec-personal_tech data-nav=\".pers_nav\" data-name=\"Personal Tech\">Personal Tech</a>\\n            <a href=\"/science/\" id=sec-science data-nav=\".sci_nav\" data-name=\"Science\">Science</a>\\n            <a href=\"/emergent_tech/\" id=sec-emergent-tech data-nav=\".emer_nav\" data-name=\"Emergent Tech\">Emergent Tech</a>\\n            <a href=\"/bootnotes/\" id=sec-bootnotes data-nav=\".bootnotes_nav\" data-name=\"Bootnotes\">Bootnotes</a>\\n            <a href=\"/lectures/\" id=sec-lectures data-nav=\".lectures_nav\" data-name=\"Lectures\">Lectures</a>\\n            <a href=\"https://search.theregister.co.uk/\" class=nav_search data-name=\"Search\">\\n                <img class=\"black_search_icon\" width=\"18\" height=\"18\" alt=\"search\" src=\"/design_picker/d2e337b97204af4aa34dda04c4e5d56d954b216f/graphics/icons/search.svg\">\\n            </a>\\n        </nav>\\n        <form id=search_form action=\"https://search.theregister.co.uk/\" method=GET>\\n            <input type=text name=q id=q placeholder=\"Search site\">\\n            <img class=\"white_search_icon\" width=\"18\" height=\"18\" alt=\"search\" src=\"/design_picker/d2e337b97204af4aa34dda04c4e5d56d954b216f/graphics/icons/search_white.svg\">\\n        </form>\\n        <div id=nav_pop>\\n            <div class=data_cent_nav>\\n                <ul class=\"sub_nav alt_colour dcl\">\\n                    <li id=sub-sec-servers><a href=\"/data_centre/servers/\" data-name=\"Servers\" title=\"Enterprise server news, analysis and opinion\">Servers</a></li>\\n                    <li id=sub-sec-hpc><a href=\"/data_centre/hpc/\" data-name=\"HPC\" title=\"High Performance Computing news, analysis and opinion\">HPC</a></li>\\n                    <li id=sub-sec-cloud><a href=\"/data_centre/cloud/\" data-name=\"Cloud\" title=\"Cloud news, analysis and opinion\">Cloud</a></li>\\n                    <li id=sub-sec-storage><a href=\"/data_centre/storage/\" data-name=\"Storage\" title=\"Enterprise Storage news, analysis and opinion\">Storage</a></li>\\n                    <li id=sub-sec-networks><a href=\"/data_centre/networks/\" data-name=\"Networks\" title=\"Networks news, analysis and opinion\">Networks</a></li>\\n                    <li id=sub-sec-virtualization><a href=\"/data_centre/virtualization/\" data-name=\"Virtualisation\" title=\"Virtualization news, analysis and opinion\">Virtualization</a></li>\\n                    <li id=sub-sec-bofh><a href=\"/data_centre/bofh/\" data-name=\"Bofh\" title=\"The Home of the Mighty BOFH\">BOFH</a></li>\\n                </ul>\\n                <div class=story_row>\\n                    <a class=\"story_link\" href=\"https://www.theregister.co.uk/2019/02/05/databricks_series_e_250m/\"><img src=\"https://regmedia.co.uk/2016/04/14/dl.gif\" alt=\"\" width=198 height=131 data-delay_url=\"https://regmedia.co.uk/2017/10/19/shutterstock_moneystack.jpg\"><h5>Investors dump $250m on analytics biz like a ton of Databricks</h5></a>\\n                    <a class=\"story_link\" href=\"https://www.theregister.co.uk/2019/02/05/ukfast/\"><img src=\"https://regmedia.co.uk/2016/04/14/dl.gif\" alt=\"\" width=198 height=131 data-delay_url=\"https://regmedia.co.uk/2019/02/05/shutterstock_cloud_uk.jpg\"><h5>Brit bit barn UKFast opens up API to devs: Have at it, they\\'re just a phone call away</h5></a>\\n                    <a class=\"story_link\" href=\"https://www.theregister.co.uk/2019/02/05/nearline_disk_drive_demand_drop_knocks_seagate_off_course/\"><img src=\"https://regmedia.co.uk/2016/04/14/dl.gif\" alt=\"\" width=198 height=131 data-delay_url=\"https://regmedia.co.uk/2015/03/11/picard.jpg\"><h5>Nearline disk drive demand dip dropkicks Seagate: How deep is the trough, how deep is the trough?</h5></a>\\n                    <a class=\"story_link\" href=\"https://www.theregister.co.uk/2019/02/05/gsm_gateway_judicial_review_home_office/\"><img src=\"https://regmedia.co.uk/2016/04/14/dl.gif\" alt=\"\" width=198 height=131 data-delay_url=\"https://regmedia.co.uk/2019/02/05/simcardseurope.jpg\"><h5>Cheap call? Hardly. GSM gateway judicial review to settle whether UK Home Sec can legally push comms watchdog around</h5></a>\\n                </div>\\n            </div>\\n            <div class=software_nav>\\n                <div class=sub_nav></div>\\n                <div class=story_row>\\n                    <a class=\"story_link\" href=\"https://www.theregister.co.uk/2019/02/05/mattermost_funding/\"><img src=\"https://regmedia.co.uk/2016/04/14/dl.gif\" alt=\"\" width=198 height=131 data-delay_url=\"https://regmedia.co.uk/2018/01/19/businessthrowingmoney.jpg\"><h5>What matters most to open-source chat plat Mattermost? To shove this fresh $20m into security, privacy</h5></a>\\n                    <a class=\"story_link\" href=\"https://www.theregister.co.uk/2019/02/04/microsoft_windows_update_woes/\"><img src=\"https://regmedia.co.uk/2016/04/14/dl.gif\" alt=\"\" width=198 height=131 data-delay_url=\"https://regmedia.co.uk/2017/08/11/lock_shutterstock.jpg\"><h5>Windows Defender update: So secure, it wouldn\\'t let Secure-Boot Windows PCs, er, boot</h5></a>\\n                    <a class=\"story_link\" href=\"https://www.theregister.co.uk/2019/02/04/microsoft_roundup/\"><img src=\"https://regmedia.co.uk/2016/04/14/dl.gif\" alt=\"\" width=198 height=131 data-delay_url=\"https://regmedia.co.uk/2015/03/03/kangaroo_teaser.jpg\"><h5>What\\'s that, Skippy? You want a taste of Windows 10 19H2? Oops, too late</h5></a>\\n                    <a class=\"story_link\" href=\"https://www.theregister.co.uk/2019/02/01/using_whatsapp_for_your_business_comms_its_either_that_or_reinstall_lotus_notes/\"><img src=\"https://regmedia.co.uk/2016/04/14/dl.gif\" alt=\"\" width=198 height=131 data-delay_url=\"https://regmedia.co.uk/2018/10/01/shutterstock_beach_bottle.jpg\"><h5>Using WhatsApp for your business comms? It\\'s either that or reinstall Lotus Notes</h5></a>\\n                </div>\\n            </div>\\n            <div class=sec_nav>\\n                <div class=sub_nav></div>\\n                <div class=story_row>\\n                    <a class=\"story_link\" href=\"https://www.theregister.co.uk/2019/02/05/google_leaked_passwords_chrome_extension/\"><img src=\"https://regmedia.co.uk/2016/04/14/dl.gif\" alt=\"\" width=198 height=131 data-delay_url=\"https://regmedia.co.uk/2015/12/24/all_your_base.jpg\"><h5>Google: All your leaked passwords are belong to us – here\\'s a Chrome extension to find them</h5></a>\\n                    <a class=\"story_link\" href=\"https://www.theregister.co.uk/2019/02/05/live_broadcast_carbon_black/\"><img src=\"https://regmedia.co.uk/2016/04/14/dl.gif\" alt=\"\" width=198 height=131 data-delay_url=\"https://regmedia.co.uk/2017/01/19/cybercrime_cyber_criminal.jpg\"><h5>Webcast: Arm yourself before you go threat hunting in 2019</h5></a>\\n                    <a class=\"story_link\" href=\"https://www.theregister.co.uk/2019/02/05/rdp_check_point_vulnerabilities/\"><img src=\"https://regmedia.co.uk/2016/04/14/dl.gif\" alt=\"\" width=198 height=131 data-delay_url=\"https://regmedia.co.uk/2019/02/05/shutterstock_rdp.jpg\"><h5>RIP, RDP... nearly: Security house Check Point punches holes in remote desktop tools</h5></a>\\n                    <a class=\"story_link\" href=\"https://www.theregister.co.uk/2019/02/05/tnmoc_original_ww2_colossus_decrypts/\"><img src=\"https://regmedia.co.uk/2016/04/14/dl.gif\" alt=\"\" width=198 height=131 data-delay_url=\"https://regmedia.co.uk/2017/10/04/tnmoc_block_h_colossus.jpg\"><h5>Original WWII German message decrypts to go on display at National Museum of Computing</h5></a>\\n                </div>\\n            </div>\\n            <div class=devops_nav>\\n                <div class=sub_nav></div>\\n                <div class=story_row>\\n                    <a class=\"story_link\" href=\"https://www.theregister.co.uk/2019/01/30/looking_to_give_your_software_development_and_deployment_wings/\"><img src=\"https://regmedia.co.uk/2016/04/14/dl.gif\" alt=\"\" width=198 height=131 data-delay_url=\"https://regmedia.co.uk/2018/05/16/mike_roberts_cl_london.jpg\"><h5>Looking to give wings to your software development and deployment?</h5></a>\\n                    <a class=\"story_link\" href=\"https://www.theregister.co.uk/2019/01/29/javascript_programming_survey/\"><img src=\"https://regmedia.co.uk/2016/04/14/dl.gif\" alt=\"\" width=198 height=131 data-delay_url=\"https://regmedia.co.uk/2016/10/17/javascript_photo_via_shutterstock.jpg\"><h5>You like JavaScript! You really like it! Scripting lingo tops dev survey of programming languages</h5></a>\\n                    <a class=\"story_link\" href=\"https://www.theregister.co.uk/2019/01/24/serverless_computing_london_call_for_papers_is_open_now/\"><img src=\"https://regmedia.co.uk/2016/04/14/dl.gif\" alt=\"\" width=198 height=131 data-delay_url=\"https://regmedia.co.uk/2019/01/23/serverless_london_index.jpg\"><h5>Serverless Computing London Call for Papers is open NOW</h5></a>\\n                    <a class=\"story_link\" href=\"https://www.theregister.co.uk/2019/01/18/atlassian_barges_into_the_billion_dollar_club_with_a_cheery_gday/\"><img src=\"https://regmedia.co.uk/2016/04/14/dl.gif\" alt=\"\" width=198 height=131 data-delay_url=\"https://regmedia.co.uk/2016/02/01/shutterstock_business_joy.jpg\"><h5>Atlassian barges into the billion dollar club with a cheery G\\'Day!</h5></a>\\n                </div>\\n            </div>\\n            <div class=bus_nav>\\n                <ul class=\"sub_nav alt_colour dcl\">\\n                    <li id=sub-sec-policy><a href=\"/business/policy/\" data-name=\"Policy\" title=\"Policy News, analysis and opinion\">Policy</a></li>\\n                    <li id=sub-sec-channel><a href=\"/business/channel/\" data-name=\"The Channel\" title=\"The Channel news, analysis and opinion\">The Channel</a></li>\\n                </ul>\\n                <div class=story_row>\\n                    <a class=\"story_link\" href=\"https://www.theregister.co.uk/2019/02/05/apple_france_back_taxes_settlement/\"><img src=\"https://regmedia.co.uk/2016/04/14/dl.gif\" alt=\"\" width=198 height=131 data-delay_url=\"https://regmedia.co.uk/2019/02/05/shutterstock_wink_wink.jpg\"><h5>Apple solemnly agrees to pay France $570m in back taxes, turns to camera, gives us a wink</h5></a>\\n                    <a class=\"story_link\" href=\"https://www.theregister.co.uk/2019/02/05/article_13_eu_drafts/\"><img src=\"https://regmedia.co.uk/2016/04/14/dl.gif\" alt=\"\" width=198 height=131 data-delay_url=\"https://regmedia.co.uk/2016/11/28/pupperts_9837498634.jpg\"><h5><i>El Reg</i> eyes up Article 13 draft leak: Will new Euro law give Silicon Valley more power? Some lawyers think so</h5></a>\\n                    <a class=\"story_link\" href=\"https://www.theregister.co.uk/2019/02/05/mass_surveillance_european_human_rights/\"><img src=\"https://regmedia.co.uk/2016/04/14/dl.gif\" alt=\"\" width=198 height=131 data-delay_url=\"https://regmedia.co.uk/2017/03/28/web_snoop_shutterstock.jpg\"><h5>Civil liberties groups take another swing at Brit snooping regime in Euro human rights court</h5></a>\\n                    <a class=\"story_link\" href=\"https://www.theregister.co.uk/2019/02/05/uk_government_data_ethics_centre/\"><img src=\"https://regmedia.co.uk/2016/04/14/dl.gif\" alt=\"\" width=198 height=131 data-delay_url=\"https://regmedia.co.uk/2015/07/09/alogorithm_876456456.jpg\"><h5>Er, good luck: UK.gov\\'s data ethics centre has £2.5m to review biased algos, microtargeting</h5></a>\\n                </div>\\n            </div>\\n            <div class=pers_nav>\\n                <div class=sub_nav></div>\\n                <div class=story_row>\\n                    <a class=\"story_link\" href=\"https://www.theregister.co.uk/2019/02/05/retro_computers_ltd_wound_up_private_planet/\"><img src=\"https://regmedia.co.uk/2016/04/14/dl.gif\" alt=\"\" width=198 height=131 data-delay_url=\"https://regmedia.co.uk/2019/02/04/janko_mrsic_flogel.jpg\"><h5>Is this a wind-up? Planet Computers boss calls time on ZX Spectrum reboot firm</h5></a>\\n                    <a class=\"story_link\" href=\"https://www.theregister.co.uk/2019/02/01/apple_qualcomm_germany_patent_battle_latest/\"><img src=\"https://regmedia.co.uk/2016/04/14/dl.gif\" alt=\"\" width=198 height=131 data-delay_url=\"https://regmedia.co.uk/2017/09/18/victorious-tired.jpg\"><h5>Siri, how do you wipe that smug smile from Qualcomm\\'s face? Apple wins patent skirmish with chip nemesis</h5></a>\\n                    <a class=\"story_link\" href=\"https://www.theregister.co.uk/2019/01/30/iphone_price_cuts_are_coming_teases_apple_ceo_tim_cook/\"><img src=\"https://regmedia.co.uk/2016/04/14/dl.gif\" alt=\"\" width=198 height=131 data-delay_url=\"https://regmedia.co.uk/2018/11/21/shutterstock_snow_shovels.jpg\"><h5>iPhone price cuts are coming, teases Apple CEO. *Bring-bring* Hello, Apple UK? It\\'s <i>El Reg</i>. You free to chat?</h5></a>\\n                    <a class=\"story_link\" href=\"https://www.theregister.co.uk/2019/01/30/pc_shipments_slip_idc/\"><img src=\"https://regmedia.co.uk/2016/04/14/dl.gif\" alt=\"\" width=198 height=131 data-delay_url=\"https://regmedia.co.uk/2018/08/20/hikerfreefall.jpg\"><h5>Even Windows 10 can\\'t save the PC market as chip shortages, Brexit uncertainties bite</h5></a>\\n                </div>\\n            </div>\\n            <div class=sci_nav>\\n                <ul class=\"sub_nav alt_colour dcl\">\\n                    <li id=sub-sec-geek><a href=\"/science/geeks_guide/\" data-name=\"Geeks Guide\" title=\"Geek\\'s Guide to Britain\">Geek\\'s Guide</a></li>\\n                </ul>\\n                <div class=story_row>\\n                    <a class=\"story_link\" href=\"https://www.theregister.co.uk/2019/02/05/space_roundup/\"><img src=\"https://regmedia.co.uk/2016/04/14/dl.gif\" alt=\"\" width=198 height=131 data-delay_url=\"https://regmedia.co.uk/2017/06/05/muldoon_jurassic_park_2015-01-28.jpg\"><h5>Clever girl: SpaceX\\'s Mars-bound Raptor engine looks like it works just fine</h5></a>\\n                    <a class=\"story_link\" href=\"https://www.theregister.co.uk/2019/02/05/insight_protective_dome/\"><img src=\"https://regmedia.co.uk/2016/04/14/dl.gif\" alt=\"\" width=198 height=131 data-delay_url=\"https://regmedia.co.uk/2019/02/05/seis_dome.jpg\"><h5>NASA pops titanium tea cosy over Martian InSight probe instrument</h5></a>\\n                    <a class=\"story_link\" href=\"https://www.theregister.co.uk/2019/02/01/spacex_raptor_powerplant_tesla_cfo/\"><img src=\"https://regmedia.co.uk/2016/04/14/dl.gif\" alt=\"\" width=198 height=131 data-delay_url=\"https://regmedia.co.uk/2015/08/03/ejector_seat_action.jpg\"><h5>Musk shows off the latest power plant for Starship, replaces Tesla CFO with a millennial</h5></a>\\n                    <a class=\"story_link\" href=\"https://www.theregister.co.uk/2019/02/01/curiosity_mars_gravity/\"><img src=\"https://regmedia.co.uk/2016/04/14/dl.gif\" alt=\"\" width=198 height=131 data-delay_url=\"https://regmedia.co.uk/2015/08/20/curiosity_bucksin_selfie.jpg\"><h5>Are you aware of the gravity of the situation on Mars? Why yes, say boffins: We rejigged Curiosity to measure it</h5></a>\\n                </div>\\n            </div>\\n            <div class=emer_nav>\\n                <ul class=\"sub_nav alt_colour dcl\">\\n                    <li id=sub-sec-artificial-intelligence><a href=\"/emergent_tech/artificial_intelligence/\" data-name=\"Artificial Intelligence\" title=\"Artificial Intelligence\">Artificial Intelligence</a></li>\\n                    <li id=sub-sec-internet-of-things><a href=\"/emergent_tech/internet_of_things/\" data-name=\"Internet of Things\" title=\"Internet of Things\">Internet of Things</a></li>\\n                </ul>\\n                <div class=story_row>\\n                    <a class=\"story_link\" href=\"https://www.theregister.co.uk/2019/02/05/cryptocoin_exchange_legal_ruling_quadrigacx/\"><img src=\"https://regmedia.co.uk/2016/04/14/dl.gif\" alt=\"\" width=198 height=131 data-delay_url=\"https://regmedia.co.uk/2017/01/09/shutterstock_vault_bank_door.jpg\"><h5>Crypto exchange in court: It owes $190m to netizens after founder dies without telling anyone vault passwords</h5></a>\\n                    <a class=\"story_link\" href=\"https://www.theregister.co.uk/2019/02/05/cops_told_to_scrap_algorithms_for_policing_work/\"><img src=\"https://regmedia.co.uk/2016/04/14/dl.gif\" alt=\"\" width=198 height=131 data-delay_url=\"https://regmedia.co.uk/2019/02/04/shutterstock_keyboard_cops.jpg\"><h5>British cops told to scrap \\'discriminatory\\' algorithms in policing</h5></a>\\n                    <a class=\"story_link\" href=\"https://www.theregister.co.uk/2019/02/05/ai_human_trafficking/\"><img src=\"https://regmedia.co.uk/2016/04/14/dl.gif\" alt=\"\" width=198 height=131 data-delay_url=\"https://regmedia.co.uk/2019/02/04/hotel_human_trafficking.jpg\"><h5>How AI can help halt human sex trafficking – by identifying victims\\' hotel rooms from pics</h5></a>\\n                    <a class=\"story_link\" href=\"https://www.theregister.co.uk/2019/02/04/honeywell_remote_service_down/\"><img src=\"https://regmedia.co.uk/2016/04/14/dl.gif\" alt=\"\" width=198 height=131 data-delay_url=\"https://regmedia.co.uk/2019/02/04/cold_shutterstock.jpg\"><h5>Amid polar vortex... Honeywell gets frosty reception after remote smart thermostat tech freezes up for a week</h5></a>\\n                </div>\\n            </div>\\n            <div class=bootnotes_nav>\\n                <ul class=\"sub_nav alt_colour dcl\">\\n                    <li id=sub-sec-stob><a href=\"/bootnotes/stob/\" data-name=\"Verity Stob\" title=\"Verity Stob\">Verity Stob</a></li>\\n                </ul>\\n                <div class=story_row>\\n                    <a class=\"story_link\" href=\"https://www.theregister.co.uk/2019/02/04/toilet_seat_heart_rate/\"><img src=\"https://regmedia.co.uk/2016/04/14/dl.gif\" alt=\"\" width=198 height=131 data-delay_url=\"https://regmedia.co.uk/2016/10/19/shutterstock_toilet_tablet.jpg\"><h5>Techies tinker with toilet-topper to turn it into ticker-tracker</h5></a>\\n                    <a class=\"story_link\" href=\"https://www.theregister.co.uk/2019/02/01/pigeon_hell_lincoln/\"><img src=\"https://regmedia.co.uk/2016/04/14/dl.gif\" alt=\"\" width=198 height=131 data-delay_url=\"https://regmedia.co.uk/2019/02/01/evilpigeon.jpg\"><h5>Ca-caw-caw: Pigeon poops on tot\\'s face as tempers fray at siege of Lincoln flats</h5></a>\\n                    <a class=\"story_link\" href=\"https://www.theregister.co.uk/2019/01/29/edible_clothes/\"><img src=\"https://regmedia.co.uk/2016/04/14/dl.gif\" alt=\"\" width=198 height=131 data-delay_url=\"https://regmedia.co.uk/2016/09/06/shutterstock_fridge.jpg\"><h5>Worried about Brexit food shortages? North Korean haute couture has just the thing</h5></a>\\n                    <a class=\"story_link\" href=\"https://www.theregister.co.uk/2019/01/29/moose_canada_norway/\"><img src=\"https://regmedia.co.uk/2016/04/14/dl.gif\" alt=\"\" width=198 height=131 data-delay_url=\"https://regmedia.co.uk/2015/05/26/moose.jpg\"><h5>Canadians moot methods to embiggen moose monument and make Mac great again</h5></a>\\n                </div>\\n            </div>\\n        </div>\\n    </div>\\n\\n\\n        <div id=site_nav_mobile class=static>\\n        <div id=mobile_menu_toggle>\\n            <span></span>\\n            <span></span>\\n            <span></span>\\n        </div>\\n        <nav id=top_nav_mobile class=dcl>\\n        <form id=search_form_mobile action=\"https://search.theregister.co.uk/\" method=GET>\\n            <img class=\"white_search_icon\" width=\"18\" height=\"18\" alt=\"search\" src=\"/design_picker/c00f80f04b0eaf0123d821f6c9488fc1cb55fd0a/graphics/icons/search.svg\">\\n            <input type=text name=q id=mobile_q placeholder=\"Search site\">\\n        </form>\\n<a href=\"/data_centre/\" id=m-sec-data-centre data-nav=\".data_cent_nav\" data-name=\"Data Centre\">Data Centre</a>\\n<a href=\"/software/\" id=m-sec-software data-nav=\".software_nav\" data-name=\"Software\">Software</a>\\n<a href=\"/security/\" id=m-sec-security data-nav=\".sec_nav\" data-name=\"Security\">Security</a>\\n<a href=\"/devops/\" id=m-sec-devops data-nav=\".devops_nav\" data-name=\"DevOps\">DevOps</a>\\n<a href=\"/business/\" id=m-sec-business data-nav=\".bus_nav\" data-name=\"Business\">Business</a>\\n<a href=\"/personal_tech/\" id=m-sec-personal_tech data-nav=\".pers_nav\" data-name=\"Personal Tech\">Personal Tech</a>\\n<a href=\"/science/\" id=m-sec-science data-nav=\".sci_nav\" data-name=\"Science\">Science</a>\\n<a href=\"/emergent_tech/\" id=m-sec-emergent-tech data-nav=\".emer_nav\" data-name=\"Emergent Tech\">Emergent Tech</a>\\n<a href=\"/bootnotes/\" id=m-sec-bootnotes data-nav=\".bootnotes_nav\" data-name=\"Bootnotes\">Bootnotes</a>\\n<div id=\"m-sub-sec-bofh\"><a href=\"/data_centre/bofh/\" data-name=\"Bofh\" title=\"The Home of the Mighty BOFH\">BOFH</a></div>\\n<a href=\"/lectures/\" id=m-sec-lectures data-nav=\".lectures_nav\" data-name=\"Lectures\">Lectures</a>\\n        </nav>\\n    </div>\\n    <div id=page_overlay_side></div>\\n\\n    \\n    <div id=ad-condor class=adu>\\n        <script>\\n            show_gpt(\\'ad-condor\\');\\n        </script>\\n        <noscript>\\n            <a href=\"https://pubads.g.doubleclick.net/gampad/jump?iu=/6978/reg_devops/front&amp;sz=300x250&amp;tile=2&amp;c=2XFoGxMCoyKcAABGp30YAAAA-&amp;t=ct%3Dns%26unitnum%3D2%26raptor%3Dcondor%26pos%3Dtop%26test%3D0\" target=\"_blank\">\\n                <img src=\"https://pubads.g.doubleclick.net/gampad/ad?iu=/6978/reg_devops/front&amp;sz=300x250&amp;tile=2&amp;c=2XFoGxMCoyKcAABGp30YAAAA-&amp;t=ct%3Dns%26unitnum%3D2%26raptor%3Dcondor%26pos%3Dtop%26test%3D0\" alt=\"\">\\n            </a>\\n        </noscript>\\n    </div>\\n\\n\\n\\n\\n\\n\\n    <div id=main-col>\\n        \\n        \\n        <div id=\"crumb_trail\">\\n            \\n            <a href=\"/devops/\" class=\"dcl sub_sec\">\\n                <h4>DevOps</h4>\\n            </a>\\n                    </div>\\n        <div id=\"article\"  data-cat=\\'news\\'>\\n\\n            <div class=\"article_head\">\\n                <h1>\\'Lambda and serverless is one of the worst forms of proprietary lock-in we\\'ve ever seen in the history of humanity\\'</h1>\\n                \\n                <h2>CoreOS on AWS, Kubernetes, and more</h2>\\n                \\n\\n                \\n                <div class=\"byline_and_share\">\\n                    <div class=\"byline\">\\n                        \\n                            By <a href=\"/Author/Thomas-Claburn\" title=\"Read more by this author\" class=\"alt_colour dcl\">Thomas Claburn in San Francisco</a>\\n                        \\n                        <span class=\"dateline\">\\n                            6&nbsp;Nov&nbsp;2017&nbsp;at&nbsp;07:03\\n                        </span>\\n                        \\n                        \\n                        <script>tweet_btn()</script>\\n                    </div>\\n                    <div class=\"comments_share\">\\n                        \\n                            <a href=\"https://forums.theregister.co.uk/forum/all/2017/11/06/coreos_kubernetes_v_world/\" class=\"reg_comments\">                                    <span class=\"count\">59</span>\\n                                    <img width=\"17\" height=\"15\" src=\"/design_picker/029b461aa66d73b1e8cb351f99212507d4da660c/graphics/icon/rect_comment_bubble_white.svg\" alt=\"Reg comments\">                            </a>                        <a href=\"#\" class=\"share_toggle\">SHARE <span>&#9660;</span></a>\\n                    </div>\\n                </div>\\n                \\n    <div class=\"social_btns top_article alt_colour dcl\">\\n        <a href=\"https://www.reddit.com/submit?url=https://www.theregister.co.uk/2017/11/06/coreos_kubernetes_v_world/&title=%27Lambda%20and%20serverless%20is%20one%20of%20the%20worst%20forms%20of%20proprietary%20lock-in%20we%27ve%20ever%20seen%20in%20the%20history%20of%20humanity%27\" target=_blank class=reddit_btn>\\n            <div class=circ>\\n                <img width=18 height=18 src=\"/design_picker/d2e337b97204af4aa34dda04c4e5d56d954b216f/graphics/icon/reddit.svg\" alt=\"reddit\">\\n            </div>\\n        </a>\\n        <a href=\"https://twitter.com/share?text=%27Lambda%20and%20serverless%20is%20one%20of%20the%20worst%20forms%20of%20proprietary%20lock-in%20we%27ve%20ever%20seen%20in%20the%20history%20of%20humanity%27&amp;url=https://www.theregister.co.uk/2017/11/06/coreos_kubernetes_v_world/&amp;via=theregister\" class=twit>\\n            <div class=circ>\\n                <img width=18 height=18 src=\"/design_picker/d2e337b97204af4aa34dda04c4e5d56d954b216f/graphics/icon/twitter.svg\" alt=\"Twitter\">\\n            </div>\\n        </a>\\n        <div class=faceb>\\n            <div class=circ>\\n                <img width=18 height=18 src=\"/design_picker/d2e337b97204af4aa34dda04c4e5d56d954b216f/graphics/icon/facebook.svg\" alt=\"Facebook\">\\n            </div>\\n        </div>\\n        <a href=\"https://www.linkedin.com/shareArticle?mini=true&amp;url=https://www.theregister.co.uk/2017/11/06/coreos_kubernetes_v_world/&amp;title=%27Lambda%20and%20serverless%20is%20one%20of%20the%20worst%20forms%20of%20proprietary%20lock-in%20we%27ve%20ever%20seen%20in%20the%20history%20of%20humanity%27&amp;summary=CoreOS%20on%20AWS%2C%20Kubernetes%2C%20and%20more\" class=linkedin_social>\\n            <div class=circ>\\n                <img width=18 height=18 src=\"/design_picker/d2e337b97204af4aa34dda04c4e5d56d954b216f/graphics/icon/linkedin_alt.svg\" alt=\"linkedin\">\\n            </div>\\n        </a>\\n    </div>\\n\\n                \\n\\n                            <img src=\"https://regmedia.co.uk/2016/06/29/handcuffs.jpg?x=442&amp;y=293&amp;crop=1\" alt=\"A man in handcuffs\" width=442 height=293 class=\"article_img\">\\n            </div>\\n            <div id=\"body\">\\n                \\n                <p><strong class=\"trailer\">Interview</strong> Toward the end of this month, CoreOS CEO Alex Polvi expects Amazon will introduce a managed Kubernetes service at its AWS re:Invent event.</p>\\n                <p>If so – CoreOS CTO Brandon Philips cites some Kubernetes bug reports from Amazon as evidence – it will be an admission of what most people focused on software containers already know: that Kubernetes has become the industry standard for container orchestration.</p>\\n                <p>After Docker\\'s announcement last month that it will support Kubernetes in its enterprise product, Amazon is the largest major cloud vendor that hasn\\'t yet made a serious commitment to the Google-spawned <a target=\"_blank\" rel=\"nofollow\" href=\"https://kubernetes.io/docs/tutorials/kubernetes-basics/\">open-source project</a>. It did however tip its hand by joining the Cloud Native Computing Foundation, which oversees Kubernetes, in August.</p>\\n                <p>\"Kubernetes has clearly won the space,\" said Polvi during lunch with <i>The Register</i> and other tech press at its San Francisco, California, headquarters.</p>\\n                <p>Polvi and Philips anticipate a Kubernetes colonization race, as enterprise vendors scramble to create the management layer for running containerized IT infrastructure.</p>\\n                <p>CoreOS is already on its way, with its <a target=\"_blank\" href=\"https://www.theregister.co.uk/2017/03/23/coreos_tectonic_now_on_azure_openstack/\">Tectonic</a> enterprise Kubernetes platform. So is Red Hat, with OpenShift. Google has GKE. Microsoft has AKS. IBM is offering its Bluemix, er, Cloud Container Service. Pivotal has PKS. Oracle has teamed with CoreOS. Cloud Foundry has Cloud Foundry Container Runtime. Cisco too has thrown its hat into the ring through a Google partnership. And the list goes on.</p>\\n                <p>\"What Kubernetes really solves is how do you run a ton of different applications with a consistent model,\" said Polvi. \"That consistency is what allows a company with 20,000 applications to have a small operations team running it all. Essentially you have software running these applications instead of humans doing it.\"</p>\\n                <p>For experienced IT professionals, the emerging Kubernetes frenzy may evoke a sense of deja vu. \"We\\'re doing a redo of everything that happened in VMs,\" said Philips. \"So it\\'s things like monitoring and management, identity and integration with identity services, security, and lifecycle management.\"</p>\\n                <p>Polvi said the plan for CoreOS is to offer a path toward more automated IT operations on Kubernetes. The upstart already provides the means to automate open source Prometheus monitoring software for container clusters, and it will soon be doing so with other open-source projects like Vault, which does secrets management.</p>\\n                <p>CoreOS is laying the foundation for any business to do this, with its own software, the chief exec added.</p>\\n                <h3 class=\"crosshead\">\\n  <span>Automated</span>\\n</h3>\\n                <p>\"Overall, our whole thesis as a company been bringing automated operations forward,\" said Polvi. \"We think that automated operations, which is really about simplifying operations, is the key to security, to making the cloud-side of the web more robust.\"</p>\\n                <p>The traditional cloud service provider, said Polvi, provides hosting and operations. CoreOS, he added, wants to just provide the operations, because the hosting is a commodity.</p>\\n                <div class=\"promo_article\"><img src=\"https://regmedia.co.uk/2016/12/06/docker_logo.jpg?x=174&amp;y=115&amp;crop=1\" alt=\"Docker logo\"/>\\n<h2 title=\"Blue bit-box hawker submits to rival code flocker shocker\">Kubernetes has won. Docker Enterprise Edition will support rival container-wrangling tech</h2>\\n<a href=\"https://www.theregister.co.uk/2017/10/17/docker_ee_kubernetes_support/\"><span>READ MORE</span></a></div>\\n                <p>Essentially, he\\'s focused on selling software that runs other software. What software might need such automation? Enterprise applications for scaling, failure recovery, secrets management, provisioning, deprovisioning, installation, and monitoring – the sort of code that fills out the container orchestration layer.</p>\\n                <p>\"When the value of the software we\\'re selling you is the automated operations instead of the functionality of the code itself, like the traditional proprietary IP side of things, it means we\\'re aligned with open source,\" Polvi said. \"It means we can take upstream Prometheus and we want that to be as big and popular as possible, so that drives more demand for our code that runs your code.\"</p>\\n                <p>Polvi said the closest equivalent to this model is the Rackspace Managed Cloud, where that provider would go into a customer\\'s data center to run it.</p>\\n                <p>\"It\\'s like that except it\\'s built in pure software,\" he explained. \"The closest equivalent is like the autopilot in a self-driving car. Traditional IT operations is: you buy the car and you hire a driver. That\\'s your ops person. Then there\\'s cloud, where you hire their car and their driver. It\\'s like a chauffeur service. You just sit in the back and don\\'t have to do anything. We\\'re actually proposing a self-driving model, where you buy the car and you push a button and it drives itself around.\"</p>\\n                <h3 class=\"crosshead\">\\n  <span>Cannibalized by containers</span>\\n</h3>\\n                <p>That may sound a bit like automation offered by the likes of configuration management toolmakers Puppet and Chef, but Polvi and Philips see those tools operating at a lower level: deploying apps. And containerization, they contend, is replacing that.</p>\\n                <p>\"In the past, people hooked up Puppet or Chef to the CI/CD pipelines of their app and now they\\'re hooking up the Kubernetes APIs for the CI/CD pipelines to deploy a new version or for testing,\" said Philips.</p>\\n                <p>Polvi described Puppet and Chef as languages to tell a computer how to run infrastructure. They have advantages for some operations teams and there\\'s no reason people can\\'t keep using them, he said. \"But I think those companies need to keep a close eye on this [container-focused] world because a lot of the functionality is being replaced,\" he added.</p>\\n                <p>That\\'s a better state of affair that the platform-as-a-service (PaaS) market. \"I think PaaS is dead,\" said Polvi. \"That\\'s why you see OpenShift and Cloud Foundry and everyone pivoting to Kubernetes. What\\'s going to happen is PaaS will be reborn as serverless on the other side of the Kubernetes transition.\"</p>\\n                <p>Polvi subsequently walked back the death declaration, and suggested PaaS is evolving. He sees Kubernetes and container vendors building services atop the Kubernetes layer, and PaaS adopting serverless architecture.</p>\\n                <div class=\"sidebar\">\\n\\n<p><b>Serverless computing</b>, for those who have managed to escape the hype thus far, works like this: rather than spin up virtual or physical machines, install a web server on them and develop an application that sits on top talking to clients via your API, and then manage and patch all those layers, you simply go <b>serverless</b>. In that case, someone, <a target=\"_blank\" href=\"https://www.theregister.co.uk/2016/07/11/the_next_big_thing_after_containers_amazon_cto_talks_up_serverless_computing/\">like AWS</a>, takes care of all the fiddly stuff of deploying and maintaining the infrastructure, leaving you to write the application logic on top. However, in doing so, your software is hardwired into the provider\\'s interfaces, so that your code can receive and service requests and events from clients and mobile apps that connect in.</p>\\n</div>\\n                <p>\"Serverless is going on its own right now but the enterprise application of serverless will happen in the post-Kubernetes deployment phase of things,\" he said.</p>\\n                <p>The problem with PaaS, as Polvi put it, is that it\\'s too restrictive and not broad enough. \"It was never the entire way the company did business,\" he said. \"Kubernetes fixes that.\"</p>\\n                <p>That doesn\\'t mean Polvi is a fan. \"Lambda and serverless is one of the worst forms of proprietary lock-in that we\\'ve ever seen in the history of humanity,\" said Polvi, only partly in jest, referring to the most widely used serverless offering, AWS Lambda. \"It\\'s seriously as bad as it gets.\"</p>\\n                <p>He elaborated: \"It\\'s code that tied not just to hardware – which we\\'ve seen before – but to a data center, you can\\'t even get the hardware yourself. And that hardware is now custom fabbed for the cloud providers with dark fiber that runs all around the world, just for them. So literally the application you write will never get the performance or responsiveness or the ability to be ported somewhere else without having the deployment footprint of Amazon.\"</p>\\n                <p>That, Polvi says, is why the open-source community has to provide alternatives.</p>\\n                <p>\"We\\'ve heard from our customers, if you cross $100,000 a month on AWS, they\\'ll negotiate your bill down,\" said Polvi. \"If you cross a million a month, they\\'ll no longer negotiate with you because they know you\\'re so locked that you\\'re not going anywhere. That\\'s the level where we\\'re trying to provide some relief.\"</p>\\n                <p>With a grin, Polvi said: \"We haven\\'t really used this in our messaging but we could make the argument \\'put us down and your ROI is your ability to negotiate down your Amazon bill later.\\'\" ®</p>\\n                            </div>\\n\\n            \\n            <div id=article_body_btm>\\n                <div id=\"tips_or_corrections\">\\n                    <a href=\"mailto:corrections@theregister.co.uk?subject=%5Bcorrection%5D%20%27Lambda%20and%20serverless%20is%20one%20of%20the%20worst%20forms%20of%20proprietary%20lock-in%20we%27ve%20ever%20seen%20in%20the%20history%20of%20humanity%27&amp;body=re:%20http%3A%2F%2Fwww.theregister.co.uk/2017/11/06/coreos_kubernetes_v_world/\"\\n                        title=\"Spotted an error or have a tip? Let us know.\">\\n                        Tips and corrections\\n                    </a>\\n                </div>\\n                \\n                <div class=\"comments \">\\n                    <a class=\"reg_btn count\" title=\"View comments on this article\" href=\"https://forums.theregister.co.uk/forum/all/2017/11/06/coreos_kubernetes_v_world/\">\\n                        <span>59</span>\\n                        Comments\\n                    </a>\\n                </div>\\n            \\n            </div>\\n                    </div>\\n\\n        <div id=tags>\\n            <ul>\\n                <li>\\n                    <strong>MORE</strong>\\n                </li>\\n                <li>\\n                    <a href=\"/Tag/amazon\">Amazon</a>\\n                </li>\\n                <li>\\n                    <a href=\"/Tag/devops\">Devops</a>\\n                </li>\\n                <li>\\n                    <a href=\"/Tag/kubernetes\">Kubernetes</a>\\n                </li>\\n                <li>\\n                    <a href=\"/Tag/serverless\">Serverless</a>\\n                </li>\\n            </ul>\\n        </div>\\n\\n\\n        \\n    <div class=\"social_btns bot_article alt_colour dcl\">\\n        <a href=\"https://www.reddit.com/submit?url=https://www.theregister.co.uk/2017/11/06/coreos_kubernetes_v_world/&title=%27Lambda%20and%20serverless%20is%20one%20of%20the%20worst%20forms%20of%20proprietary%20lock-in%20we%27ve%20ever%20seen%20in%20the%20history%20of%20humanity%27\" target=_blank class=reddit_btn>\\n            <div class=circ>\\n                <img width=18 height=18 src=\"/design_picker/d2e337b97204af4aa34dda04c4e5d56d954b216f/graphics/icon/reddit.svg\" alt=\"reddit\">\\n            </div>\\n        </a>\\n        <a href=\"https://twitter.com/share?text=%27Lambda%20and%20serverless%20is%20one%20of%20the%20worst%20forms%20of%20proprietary%20lock-in%20we%27ve%20ever%20seen%20in%20the%20history%20of%20humanity%27&amp;url=https://www.theregister.co.uk/2017/11/06/coreos_kubernetes_v_world/&amp;via=theregister\" class=twit>\\n            <div class=circ>\\n                <img width=18 height=18 src=\"/design_picker/d2e337b97204af4aa34dda04c4e5d56d954b216f/graphics/icon/twitter.svg\" alt=\"Twitter\">\\n            </div>\\n        </a>\\n        <div class=faceb>\\n            <div class=circ>\\n                <img width=18 height=18 src=\"/design_picker/d2e337b97204af4aa34dda04c4e5d56d954b216f/graphics/icon/facebook.svg\" alt=\"Facebook\">\\n            </div>\\n        </div>\\n        <a href=\"https://www.linkedin.com/shareArticle?mini=true&amp;url=https://www.theregister.co.uk/2017/11/06/coreos_kubernetes_v_world/&amp;title=%27Lambda%20and%20serverless%20is%20one%20of%20the%20worst%20forms%20of%20proprietary%20lock-in%20we%27ve%20ever%20seen%20in%20the%20history%20of%20humanity%27&amp;summary=CoreOS%20on%20AWS%2C%20Kubernetes%2C%20and%20more\" class=linkedin_social>\\n            <div class=circ>\\n                <img width=18 height=18 src=\"/design_picker/d2e337b97204af4aa34dda04c4e5d56d954b216f/graphics/icon/linkedin_alt.svg\" alt=\"linkedin\">\\n            </div>\\n        </a>\\n    </div>\\n\\n\\n        \\n            <script type=\"text/javascript\">show_article_signup_ml();</script>\\n        \\n\\n    </div>\\n\\n    <div id=right-col>\\n                            <div id=ad-eagle class=adu>\\n                        <script>\\n                            show_gpt(\\'ad-eagle\\');\\n                        </script>\\n                        <noscript>\\n                            <a href=\"https://pubads.g.doubleclick.net/gampad/jump?iu=/6978/reg_devops/front&amp;sz=300x250%7C300x252%7C300x600&amp;tile=3&amp;c=33XFoGxMCoyKcAABGp30YAAAA-&amp;t=ct%3Dns%26unitnum%3D3%26raptor%3Deagle%26pos%3Dtop%26test%3D0\" target=\"_blank\">\\n                                <img src=\"https://pubads.g.doubleclick.net/gampad/ad?iu=/6978/reg_devops/front&amp;sz=300x250%7C300x252%7C300x600&amp;tile=3&amp;c=33XFoGxMCoyKcAABGp30YAAAA-&amp;t=ct%3Dns%26unitnum%3D3%26raptor%3Deagle%26pos%3Dtop%26test%3D0\" alt=\"\">\\n                            </a>\\n                        </noscript>\\n                    </div>\\n\\n<div id=hot>\\n    <h3>Most read</h3>\\n    <ol>\\n        <li>\\n            <a href=\"https://www.theregister.co.uk/2019/02/04/who-me/\">\\n                            <img src=\"https://regmedia.co.uk/2019/01/30/shutterstock_men_on_keyboard.jpg?x=88&amp;y=58&amp;crop=1\" alt=\"Figures of workers have a coffee break on a keyboard\" width=88 height=58>\\n                <h4>Sysadmin\\'s three-line \\'annoyance-buster\\' busts painstakingly crafted, crucial policy\\n                </h4>\\n            </a>\\n        </li>\\n        <li>\\n            <a href=\"https://www.theregister.co.uk/2019/02/04/microsoft_windows_update_woes/\">\\n                            <img src=\"https://regmedia.co.uk/2017/08/11/lock_shutterstock.jpg?x=88&amp;y=58&amp;crop=1\" alt=\"lock\" width=88 height=58>\\n                <h4>Windows Defender update: So secure, it wouldn\\'t let Secure-Boot Windows PCs, er, boot\\n                </h4>\\n            </a>\\n        </li>\\n        <li>\\n            <a href=\"https://www.theregister.co.uk/2019/02/04/mindgeek_ageid_security_privacy_assessment/\">\\n                            <img src=\"https://regmedia.co.uk/2016/09/30/shutterstock_sexy.jpg?x=88&amp;y=58&amp;crop=1\" alt=\"\" width=88 height=58>\\n                <h4><i>El Reg</i> talks to PornHub sister biz AgeID –\\xa0and an indie pornographer – about age verification\\n                </h4>\\n            </a>\\n        </li>\\n        <li>\\n            <a href=\"https://www.theregister.co.uk/2019/02/04/european_commission_security_risks_kids_smartwatch/\">\\n                            <img src=\"https://regmedia.co.uk/2018/11/15/kid_shutterstock.jpg?x=88&amp;y=58&amp;crop=1\" alt=\"kid\" width=88 height=58>\\n                <h4>European Commission orders mass recall of creepy, leaky child-tracking smartwatch\\n                </h4>\\n            </a>\\n        </li>\\n        <li>\\n            <a href=\"https://www.theregister.co.uk/2019/02/04/apache_openoffice_no_patch/\">\\n                            <img src=\"https://regmedia.co.uk/2015/08/19/oovslibre.jpg?x=88&amp;y=58&amp;crop=1\" alt=\"OpenOffice and LibreOffice share a common ancestry\" width=88 height=58>\\n                <h4>LibreOffice patches malicious code-execution bug, Apache OpenOffice – wait for it, wait for it – doesn\\'t\\n                </h4>\\n            </a>\\n        </li>\\n    </ol>\\n</div>\\n        <div id=ad-falcon class=adu>\\n            <script>\\n                show_gpt(\\'ad-falcon\\');\\n            </script>\\n            <noscript>\\n                <a href=\"https://pubads.g.doubleclick.net/gampad/jump?iu=/6978/reg_devops/front&amp;sz=300x100%7C300x250%7C300x251&amp;tile=4&amp;c=44XFoGxMCoyKcAABGp30YAAAA-&amp;t=ct%3Dns%26unitnum%3D4%26raptor%3Dfalcon%26pos%3Dmid%26test%3D0\" target=\"_blank\">\\n                    <img src=\"https://pubads.g.doubleclick.net/gampad/ad?iu=/6978/reg_devops/front&amp;sz=300x100%7C300x250%7C300x251&amp;tile=4&amp;c=44XFoGxMCoyKcAABGp30YAAAA-&amp;t=ct%3Dns%26unitnum%3D426raptor%3Dfalcon%26pos%3Dmid%26test%3D0\" alt=\"\">\\n                </a>\\n            </noscript>\\n        </div>\\n\\n\\n    </div><hr id=story_section_break>\\n    <div id=boot>\\n        \\n        <div id=ad-hawk class=adu>\\n            <script>show_gpt(\\'ad-hawk\\');</script>\\n            <noscript>\\n                <a href=\"https://pubads.g.doubleclick.net/gampad/jump?iu=/6978/reg_devops/front&amp;sz=300x250%7C300x50&amp;tile=6&amp;c=66XFoGxMCoyKcAABGp30YAAAA-&amp;t=ct%3Dns%26unitnum%3D6%26raptor%3Dhawk%26pos%3Dbtm%26test%3D0\" target=\"_blank\">\\n                    <img src=\"https://pubads.g.doubleclick.net/gampad/ad?iu=/6978/reg_devops/front&amp;sz=300x250%7C300x50&amp;tile=6&amp;c=66XFoGxMCoyKcAABGp30YAAAA-&amp;t=ct%3Dns%26unitnum%3D6%26raptor%3Dhawk%26pos%3Dbtm%26test%3D0\" alt=\"\">\\n                </a>\\n            </noscript>\\n        </div>\\n\\n    </div>\\n<div id=story-bot-col>\\n    \\n        <hr>\\n        <div class=\"OUTBRAIN\" data-src=\"https://www.theregister.co.uk/2017/11/06/coreos_kubernetes_v_world/\" data-widget-id=\"GS_1\" data-ob-template=\"Theregister_201806030243\"></div>\\n        <script type=\"text/javascript\" async=\"async\" src=\"//widgets.outbrain.com/outbrain.js\"></script>\\n        <hr>\\n    \\n\\n    \\n        <div id=whitepapers>\\n            <h3>\\n                <a href=\"https://whitepapers.theregister.co.uk/\" class=dcl>Whitepapers</a>\\n            </h3>\\n\\n            <a class=story href=\"https://whitepapers.theregister.co.uk/paper/view/6429/remedying-the-email-security-gaps-in-microsoft-office-365?td=s-uu\">\\n                <img src=\"/design_picker/4ee431b84ac2d23c13376f753522acd7ecbb9b47/graphics/icon/whitepaper_book.png\" alt=\"PDF Icon\" width=55 height=55>\\n                <h4>Remedying the Email Security Gaps in Microsoft Office 365</h4>\\n                <div class=standfirst>\\n                    If you have made the move to Microsoft Office 365™ or imminently plan to, you are in good company.\\n                </div>\\n            </a>\\n\\n            <a class=story href=\"https://whitepapers.theregister.co.uk/paper/view/7081/451-research-addressing-the-changing-role-of-unstructured-data-with-object-storage?td=s-uu\">\\n                <img src=\"/design_picker/4ee431b84ac2d23c13376f753522acd7ecbb9b47/graphics/icon/whitepaper_book.png\" alt=\"PDF Icon\" width=55 height=55>\\n                <h4>451 Research: Addressing the Changing Role of Unstructured Data With Object Storage</h4>\\n                <div class=standfirst>\\n                    We believe that unstructured data management remains one of the largest challenges for IT going forward.\\n                </div>\\n            </a>\\n\\n            <a class=story href=\"https://whitepapers.theregister.co.uk/paper/view/7067/data-pipeline-for-enterprise-ai?td=s-uu\">\\n                <img src=\"/design_picker/4ee431b84ac2d23c13376f753522acd7ecbb9b47/graphics/icon/whitepaper_book.png\" alt=\"PDF Icon\" width=55 height=55>\\n                <h4>Data Pipeline for Enterprise AI</h4>\\n                <div class=standfirst>\\n                    Throughput bottlenecks, architecture and integration issues, from resiliency, security and governance are just a few of the pesky challenges that get in the way of ensuring that AI’s data needs are met.\\n                </div>\\n            </a>\\n\\n            <a class=story href=\"https://whitepapers.theregister.co.uk/paper/view/7093/ensuring-compliance-through-email-certificates?td=s-uu\">\\n                <img src=\"/design_picker/4ee431b84ac2d23c13376f753522acd7ecbb9b47/graphics/icon/whitepaper_book.png\" alt=\"PDF Icon\" width=55 height=55>\\n                <h4>Ensuring Compliance Through Email Certificates</h4>\\n                <div class=standfirst>\\n                    Email is a must. But email is a vulnerability. Learn how to improve the security profile of your email communications.\\n                </div>\\n            </a>\\n        </div>\\n\\n        <div id=\"read_more_on\">\\n            <h3>More from The Register</h3>\\n            <div class=stories><div class=\"story\">\\n                    <a href=\"/2018/10/25/amazon_domain_kindles/\">\\n                        <div class=\"story_grid_img\">\\n                            <img src=\"https://regmedia.co.uk/2018/10/25/shutterstock_amazon_rainforest_selfie.jpg?x=198&amp;y=131&amp;crop=1\" alt=\"Someone taking a selfie in the Amazon rainforest\" width=198 height=131>\\n                        </div>\\n                        <div class=title_standfirst>\\n                            <h4>Amazon tried to entice Latin American officials with $5m in Kindles, AWS credits for .amazon</h4>\\n                            <div class=standfirst>\\n                                Brazil, Peru snub cheap gifts, refuse to unblock dot-word\\n                            </div>\\n                        </div>\\n                    </a>\\n                </div><div class=\"story\">\\n                    <a href=\"/2018/09/14/aws_buys_aws_dot_com/\">\\n                        <div class=\"story_grid_img\">\\n                            <img src=\"https://regmedia.co.uk/2018/03/23/cloud_shutterstock.jpg?x=198&amp;y=131&amp;crop=1\" alt=\"cloud\" width=198 height=131>\\n                        </div>\\n                        <div class=title_standfirst>\\n                            <h4>Automated Weather Source didn\\'t see this cloud coming: Amazon snatches up AWS.com</h4>\\n                            <div class=standfirst>\\n                                Uh, we\\'ll be having that domain\\n                            </div>\\n                        </div>\\n                    </a>\\n                </div><div class=\"story\">\\n                    <a href=\"/2018/11/28/happy_ending_amazon_poses_as_massage_parlour_to_stealth_test_secret_new_wireless_network/\">\\n                        <div class=\"story_grid_img\">\\n                            <img src=\"https://regmedia.co.uk/2018/01/17/massage.jpg?x=198&amp;y=131&amp;crop=1\" alt=\"\" width=198 height=131>\\n                        </div>\\n                        <div class=title_standfirst>\\n                            <h4>\\'Massage parlour\\' location looks like Amazon stealth-testing secret new wireless network</h4>\\n                            <div class=standfirst>\\n                                Happy ending? Nope. Big seller, small cells &#8211; report\\n                            </div>\\n                        </div>\\n                    </a>\\n                </div><div class=\"story\">\\n                    <a href=\"/2018/12/10/amazon_foie_gras_ban_fine/\">\\n                        <div class=\"story_grid_img\">\\n                            <img src=\"https://regmedia.co.uk/2015/06/18/ducks_3789464365456453562322.jpg?x=198&amp;y=131&amp;crop=1\" alt=\"\" width=198 height=131>\\n                        </div>\\n                        <div class=title_standfirst>\\n                            <h4>Have a gander at this: Amazon agrees not to act as Silicon Valley\\'s foie gras dealer</h4>\\n                            <div class=standfirst>\\n                                Online marketplace coughs up $100k for selling force-fed birds\\' livers despite ban\\n                            </div>\\n                        </div>\\n                    </a>\\n                </div><div class=\"story\">\\n                    <a href=\"/2018/09/26/amazon_alexa_outage_down/\">\\n                        <div class=\"story_grid_img\">\\n                            <img src=\"https://regmedia.co.uk/2016/03/03/alexa.jpg?x=198&amp;y=131&amp;crop=1\" alt=\"\" width=198 height=131>\\n                        </div>\\n                        <div class=title_standfirst>\\n                            <h4>Amazon Alexa outage: Voice-activated devices are down in UK and beyond</h4>\\n                            <div class=standfirst>\\n                                That sound ... yes, that lack of sound ... it\\'s here\\n                            </div>\\n                        </div>\\n                    </a>\\n                </div><div class=\"story\">\\n                    <a href=\"/2018/09/20/euro_commish_amazon_data/\">\\n                        <div class=\"story_grid_img\">\\n                            <img src=\"https://regmedia.co.uk/2015/08/24/vestager_648.jpg?x=198&amp;y=131&amp;crop=1\" alt=\"vestager_648\" width=198 height=131>\\n                        </div>\\n                        <div class=title_standfirst>\\n                            <h4>EU watchdog sniffing around Amazon\\'s merchant data collection</h4>\\n                            <div class=standfirst>\\n                                Not yet an investigation, Margrethe Vestager says\\n                            </div>\\n                        </div>\\n                    </a>\\n                </div><div class=\"story\">\\n                    <a href=\"/2018/10/15/amazon_business_canalys_forum/\">\\n                        <div class=\"story_grid_img\">\\n                            <img src=\"https://regmedia.co.uk/2016/03/18/shutterstock_devil_dog.jpg?x=198&amp;y=131&amp;crop=1\" alt=\" French bulldog puppy wears plastic devil horns and cute expression. Photo by Shutterstock\" width=198 height=131>\\n                        </div>\\n                        <div class=title_standfirst>\\n                            <h4>The march of Amazon Business has resellers quaking in their booties</h4>\\n                            <div class=standfirst>\\n                                <span class=trailer>Canalys Channels Forum 2018</span>\\n                                \\'To team up with Amazon is like to team up with the devil\\'\\n                            </div>\\n                        </div>\\n                    </a>\\n                </div><div class=\"story\">\\n                    <a href=\"/2018/11/21/amazon_weed_uk_sellers/\">\\n                        <div class=\"story_grid_img\">\\n                            <img src=\"https://regmedia.co.uk/2018/11/20/weed.jpg?x=198&amp;y=131&amp;crop=1\" alt=\"Cannabis buds \" width=198 height=131>\\n                        </div>\\n                        <div class=title_standfirst>\\n                            <h4>Well that\\'s just spliffing: UK Amazon merchants peddling Mary Jane</h4>\\n                            <div class=standfirst>\\n                                Hey, Bezos wanted to create the everything store...\\n                            </div>\\n                        </div>\\n                    </a>\\n                </div>\\n            </div>\\n        </div>\\n        \\n<div id=sponlinks>\\n<h3>Sponsored links</h3>\\n<ul>\\n        <li><a href=\"https://account.theregister.co.uk/register/?product=thereg_daily_newsletter\"><strong>Get The Register\\'s Headlines in your inbox daily - quick signup!</strong></a></li>\\n</ul>\\n</div>\\n\\n            <div id=ad-owl class=adu>\\n            <script>\\n                show_gpt(\\'ad-owl\\');\\n            </script>\\n            <noscript>\\n                <a href=\"https://pubads.g.doubleclick.net/gampad/jump?iu=/6978/reg_devops/front&amp;sz=300x250%7C300x50&amp;tile=5&amp;c=55XFoGxMCoyKcAABGp30YAAAA-&amp;t=ct%3Dns%26unitnum%3D5%26raptor%3Dowl%26pos%3Dbtm%26test%3D0\" target=\"_blank\">\\n                    <img src=\"https://pubads.g.doubleclick.net/gampad/ad?iu=/6978/reg_devops/front&amp;sz=300x250%7C300x50&amp;tile=5&amp;c=55XFoGxMCoyKcAABGp30YAAAA-&amp;t=ct%3Dns%26unitnum%3D5%26raptor%3Dowl%26pos%3Dbtm%26test%3D0\" alt=\"\">\\n                </a>\\n            </noscript>\\n        </div>\\n\\n\\n</div>\\n\\n<script>facebook_sdk();</script>    <div id=footer><div class=foot_wrapper>\\n\\n        <div class=\"left_block\">\\n            <div class=\"foot_list alt_colour dcl\">\\n                <h4>About us<img width=\"7\" alt=\"\" src=\"/design_picker/d2e337b97204af4aa34dda04c4e5d56d954b216f/graphics/icon/footer_mob_nav_arrow_black.svg\" class=\"expand_arrow\"></h4>\\n                <ul>\\n                    <li><a href=\"https://www.theregister.co.uk/Profile/about_the_register/\">Who we are</a></li>\\n                    <li><a href=\"https://www.theregister.co.uk/about/company/website/\">Under the hood</a></li>\\n                    <li><a href=\"https://www.theregister.co.uk/about/company/contact/\">Contact us</a></li>\\n                    <li><a target=_blank href=\"https://situationpublishing.com/home/contact-us/\">Advertise with us</a></li>\\n                </ul>\\n            </div>\\n\\n            <div class=\"foot_list more_us alt_colour dcl\">\\n                <h4>More content<img width=\"7\" alt=\"\" src=\"/design_picker/d2e337b97204af4aa34dda04c4e5d56d954b216f/graphics/icon/footer_mob_nav_arrow_black.svg\" class=\"expand_arrow\"></h4>\\n                <ul>\\n                    <li><a href=\"https://www.theregister.co.uk/Week/\">Week’s headlines</a></li>\\n                    <li><a href=\"https://www.theregister.co.uk/Popular/\">Top 20 stories</a></li>\\n                    <li><a href=\"https://account.theregister.co.uk/alert/?create=1\">Alerts</a></li>\\n                    <li><a href=\"https://whitepapers.theregister.co.uk/\">Whitepapers</a></li>\\n                </ul>\\n            </div>\\n\\n            <div class=\"foot_list what_else alt_colour dcl\">\\n                <h4>Situation Publishing<img width=\"7\" alt=\"\" src=\"/design_picker/d2e337b97204af4aa34dda04c4e5d56d954b216f/graphics/icon/footer_mob_nav_arrow_black.svg\" class=\"expand_arrow\"></h4>\\n                <ul>\\n                    <li><a href=\"https://www.nextplatform.com/\">The Next Platform</a></li>\\n                    <li><a href=\"https://continuouslifecycle.london/\">Continuous Lifecycle London</a></li>\\n                    <li><a href=\"http://www.mcubed.london/\">M-cubed</a></li>\\n                    <li><a href=\"https://whitepapers.theregister.co.uk/events/list\">Webinars</a></li>\\n                </ul>\\n            </div>\\n\\n            <span class=\"foot_delim\"></span>\\n\\n            <div class=\"reg_foot\">\\n                <a href=\"https://situationpublishing.com/\" id=\"sitpub_logo\">\\n                    <img width=\"132\" height=\"51\" alt=\"Situation Publishing\" src=\"/design_picker/d2e337b97204af4aa34dda04c4e5d56d954b216f/graphics/icon/sitpub_footer.svg\">\\n                </a>\\n                <p class=\"foot_desc\"><strong>The Register</strong> - Independent news and views for the tech community. Part of Situation Publishing</p>\\n            </div>\\n        </div>\\n\\n        <div class=\"right_block\">\\n            <div class=\"newsletter_signup alt_colour dcl\">\\n                <h4>Sign up to our Newsletters</h4>\\n                <p>Join our daily or weekly newsletters, subscribe to a specific section or set <a href=\"https://account.theregister.co.uk/alert/?create=1\">News alerts</a></p>\\n                <a class=\"subscribe_newsletter_button\" href=\"https://account.theregister.co.uk/register/?product=thereg_daily_newsletter\">Subscribe<img width=\"7\" alt=\"\" src=\"/design_picker/d2e337b97204af4aa34dda04c4e5d56d954b216f/graphics/icon/footer_mob_nav_arrow_white.svg\"></a>\\n            </div>\\n\\n            <div class=\"social alt_colour dcl\">\\n                <div id=follow_btns>\\n                    <a id=\"follow_us_twitter\" href=\"https://twitter.com/intent/user?screen_name=theregister\" title=\"Follow us on twitter\" target=_blank class=twit>\\n                        <div class=\"circ\">\\n                            <img width=\"18\" height=\"18\" alt=\"Twitter\" src=\"/design_picker/d2e337b97204af4aa34dda04c4e5d56d954b216f/graphics/icon/twitter.svg\">\\n                        </div>\\n                    </a>\\n                    <a href=\"https://www.facebook.com/VultureCentral\" title=\"Like us on Facebook\" target=_blank class=fbook>\\n                        <div class=\"circ\">\\n                            <img width=\"18\" height=\"18\" alt=\"Facebook\" src=\"/design_picker/d2e337b97204af4aa34dda04c4e5d56d954b216f/graphics/icon/facebook.svg\">\\n                        </div>\\n                    </a>\\n                    <a href=\"https://www.linkedin.com/company/the-register\" title=\"Follow us on LinkedIn\" target=\"_blank\" class=\"linkin\">\\n                        <div class=\"circ\">\\n                            <img width=\"18\" height=\"18\" alt=\"LinkedIn\" src=\"/design_picker/d2e337b97204af4aa34dda04c4e5d56d954b216f/graphics/icon/linkedin_white.svg\">\\n                        </div>\\n                    </a>\\n                    <a href=\"https://www.theregister.co.uk/Design/page/feeds.html\" title=\"Follow our RSS\" target=_blank class=rss_feed>\\n                        <div class=\"circ\">\\n                            <img width=\"18\" height=\"18\" alt=\"feeds\" src=\"/design_picker/d2e337b97204af4aa34dda04c4e5d56d954b216f/graphics/icon/rss.svg\">\\n                        </div>\\n                    </a>\\n                </div>\\n            </div>\\n        </div>\\n        <noscript><img src=\"/Design/graphics/std/transparent_pixel.png\" alt=\"no-js\"></noscript>\\n\\n    </div></div>\\n\\n    <div id=foot_btm>\\n        <p>Biting the hand that feeds IT © 1998–2019</p>\\n        <div class=foot_btm_links>\\n            <a href=\"https://www.theregister.co.uk/Profile/cookies/\">Cookies</a>\\n            <a href=\"https://www.theregister.co.uk/about/company/privacy/\">Privacy</a>\\n            <a href=\"https://www.theregister.co.uk/Profile/terms_and_conditions_of_use/\">Ts&amp;Cs</a>\\n        </div>\\n    </div>\\n\\n    <div id=end_scripts>\\n        <script>\\n            (function(i,s,o,g,r,a,m){i[\\'GoogleAnalyticsObject\\']=r;i[r]=i[r]||function(){\\n            (i[r].q=i[r].q||[]).push(arguments)},i[r].l=1*new Date();a=s.createElement(o),\\n            m=s.getElementsByTagName(o)[0];a.async=1;a.src=g;m.parentNode.insertBefore(a,m)\\n            })(window,document,\\'script\\',\\'//www.google-analytics.com/analytics.js\\',\\'ga\\');\\n\\n            ga(\\'create\\', \\'UA-33330076-1\\', \\'theregister.co.uk\\', { \\'allowLinker\\': true });\\n            ga(\\'require\\', \\'linker\\');\\n            ga(\\'linker:autoLink\\', [\\'channelregister.co.uk\\']);\\n            ga(\\'require\\', \\'displayfeatures\\');\\n            ga(\\'set\\', \\'dimension2\\', (typeof RegArticle != \\'undefined\\') ? RegArticle.author : \\'\\');\\n            ga(\\'set\\', \\'dimension3\\', (typeof RegSection != \\'undefined\\') ? RegSection : \\'\\');\\n            ga(\\'set\\', \\'dimension4\\', (typeof RegArticle != \\'undefined\\' ? (RegArticle.pf ? \\'p\\' : (RegArticle.cp ? \\'c\\' : \\'a\\')) : \\'i\\'));\\n            ga(\\'set\\', \\'dimension5\\', (typeof RegArticle != \\'undefined\\') ? RegArticle.cat : \\'\\');\\n            ga(\\'set\\', \\'dimension6\\', (typeof RegArticle != \\'undefined\\') ? RegArticle.ads : \\'\\');\\n            ga(\\'send\\', \\'pageview\\');\\n        </script>\\n\\n<script>!function(a,e,d,m,t){a.adm={};a.adm.pixid=137060;var o=e.getElementsByTagName(\"head\")[0],c=e.createElement(\"script\");a.adm.json=\"https://ps.l.admedo.com/e7b7041f-8d65-4024-9168-fd38b9a62669.json\",a.adm.pixurl=\"https://pool.admedo.com\",c.src=\"https://pj.l.admedo.com/admtracker.lib.min.js\",c.async=!0,o.appendChild(c)}(window,document);</script>\\n<noscript><img height=\"1\" width=\"1\" alt=\"\" src=\"https://pool.admedo.com/pixel?id=137060&t=img\"></noscript>\\n\\n\\n        <script>\\n            $(function() { set_bucket_group(834) });\\n        </script>\\n        <div id=\"fb-root\"></div>\\n    </div></div>\\n</body>\\n</html>\\n\\n'"
      ]
     },
     "execution_count": 42,
     "metadata": {},
     "output_type": "execute_result"
    }
   ],
   "source": [
    "requests.get(url3).text"
   ]
  },
  {
   "cell_type": "code",
   "execution_count": 25,
   "metadata": {},
   "outputs": [
    {
     "data": {
      "text/plain": [
       "29"
      ]
     },
     "execution_count": 25,
     "metadata": {},
     "output_type": "execute_result"
    }
   ],
   "source": [
    "html_story=lx.fromstring( requests.get( url3 ).text )\n",
    "len(html_story.xpath(\"//div[@id='body']//p\"))   # No. of paragraphs"
   ]
  },
  {
   "cell_type": "markdown",
   "metadata": {},
   "source": [
    "### Comments:\n",
    "I try to write a for loop to iterate the URLs in the website lists but I fails.\n",
    "It is because that the links on Hacker News might point to many different kinds of files (including XML and PDF format), not just regular HTML pages.\n",
    "\n",
    "That said, counting the number of words in each article is also not very practical, since you'd need to write a different scraper for each individual page. Even if we limit to HTML pages only, we still have to write a custom scraper for each page. This is part of what makes web scraping challenging and why web scraping is always a last resort for data extraction.\n"
   ]
  },
  {
   "cell_type": "markdown",
   "metadata": {},
   "source": [
    "### Count the number of words in the comments page for each article. \n",
    "\n",
    "The comment pages all follow the same format, so you can write a function that counts words on one page, and then use a loop."
   ]
  },
  {
   "cell_type": "code",
   "execution_count": 65,
   "metadata": {},
   "outputs": [],
   "source": [
    "sublinks = html2.xpath(\"//td[@class = 'subtext']/a[last()]\")\n",
    "subhrefs=[ \"https://news.ycombinator.com/\"+x.attrib['href'] for x in sublinks] "
   ]
  },
  {
   "cell_type": "code",
   "execution_count": 66,
   "metadata": {},
   "outputs": [
    {
     "data": {
      "text/plain": [
       "['https://news.ycombinator.com/item?id=19087558',\n",
       " 'https://news.ycombinator.com/item?id=19085534',\n",
       " 'https://news.ycombinator.com/item?id=19087418',\n",
       " 'https://news.ycombinator.com/item?id=19089739',\n",
       " 'https://news.ycombinator.com/item?id=19084769',\n",
       " 'https://news.ycombinator.com/item?id=19087505',\n",
       " 'https://news.ycombinator.com/item?id=19089417',\n",
       " 'https://news.ycombinator.com/item?id=19089898',\n",
       " 'https://news.ycombinator.com/item?id=19085244',\n",
       " 'https://news.ycombinator.com/hide?id=19089624&goto=news%3Fp%3D1',\n",
       " 'https://news.ycombinator.com/item?id=19086893',\n",
       " 'https://news.ycombinator.com/item?id=19087096',\n",
       " 'https://news.ycombinator.com/item?id=19085530',\n",
       " 'https://news.ycombinator.com/item?id=19089543',\n",
       " 'https://news.ycombinator.com/item?id=19086148',\n",
       " 'https://news.ycombinator.com/item?id=19084059',\n",
       " 'https://news.ycombinator.com/item?id=19089745',\n",
       " 'https://news.ycombinator.com/item?id=19084773',\n",
       " 'https://news.ycombinator.com/item?id=19083479',\n",
       " 'https://news.ycombinator.com/item?id=19084880',\n",
       " 'https://news.ycombinator.com/item?id=19088350',\n",
       " 'https://news.ycombinator.com/item?id=19086211',\n",
       " 'https://news.ycombinator.com/item?id=19084190',\n",
       " 'https://news.ycombinator.com/item?id=19085520',\n",
       " 'https://news.ycombinator.com/item?id=19084260',\n",
       " 'https://news.ycombinator.com/item?id=19087087',\n",
       " 'https://news.ycombinator.com/item?id=19087150',\n",
       " 'https://news.ycombinator.com/item?id=19079788',\n",
       " 'https://news.ycombinator.com/item?id=19084752',\n",
       " 'https://news.ycombinator.com/item?id=19083275']"
      ]
     },
     "execution_count": 66,
     "metadata": {},
     "output_type": "execute_result"
    }
   ],
   "source": [
    "subhrefs"
   ]
  },
  {
   "cell_type": "code",
   "execution_count": 67,
   "metadata": {},
   "outputs": [],
   "source": [
    "response = requests.get(subhrefs[0])\n",
    "response.raise_for_status()\n",
    "html4=lx.fromstring(response.text)"
   ]
  },
  {
   "cell_type": "code",
   "execution_count": 79,
   "metadata": {},
   "outputs": [
    {
     "data": {
      "text/plain": [
       "\"I've been a fan of Reddit for a very long time (as the amount of data science work I've done with their data can attest to), but lately it seems like the incentives between Reddit as a business and Reddit as a community leader are not aligned, and that is a problem.The increasing amount of dark patterns Reddit has been employing lately is concerning. (recent example: Reddit now gates content in mobile Safari to push users to the app: https://twitter.com/minimaxir/status/1086002848926593025 )That said, it seems like the really bad dark patterns I reported 7 months ago (https://news.ycombinator.com/item?id=17446841) no longer appear to be in place.\""
      ]
     },
     "execution_count": 79,
     "metadata": {},
     "output_type": "execute_result"
    }
   ],
   "source": [
    "commtext=html4.xpath(\"//span[@class='commtext c00']\")\n",
    "commtext[0].text_content()"
   ]
  },
  {
   "cell_type": "code",
   "execution_count": 95,
   "metadata": {},
   "outputs": [
    {
     "data": {
      "text/plain": [
       "0    [I, ve, been, a, fan, of, Reddit, for, a, very...\n",
       "dtype: object"
      ]
     },
     "execution_count": 95,
     "metadata": {},
     "output_type": "execute_result"
    }
   ],
   "source": [
    "pd.Series(commtext[0].text_content()).str.split(\"[,.'() ]\")"
   ]
  },
  {
   "cell_type": "code",
   "execution_count": 108,
   "metadata": {},
   "outputs": [
    {
     "data": {
      "text/plain": [
       "0      I've been a fan of Reddit for a very long time...\n",
       "1      It amazes me the kind of sheer incompetency th...\n",
       "2      They've totally broken \"quarantined\" subreddit...\n",
       "3      Yeah the horde of edgelords in WPD totally isn...\n",
       "4      A lot of subs are full of edgelords. The sub w...\n",
       "5      You're definitely right about this, the fact t...\n",
       "6      A lot of subreddits had that happen to them. I...\n",
       "7      They're not stopping those people from speakin...\n",
       "8      Perhaps interestingly, this is exactly what pe...\n",
       "9      Can you elaborate? I assumed that quarantining...\n",
       "10     To somewhat further your point, take a look at...\n",
       "11     Posts and comments are all contents. Offensive...\n",
       "12                       Dare I ask what an edgelord is?\n",
       "13     Urban dictionary definition - https://www.urba...\n",
       "14     It's when you behave online like you are 15 ye...\n",
       "15     Imagine someone who makes an edgy joke, then i...\n",
       "16     It's the difference between making jokes that ...\n",
       "17     Then surely you just don't subscribe to that s...\n",
       "18             Which has nothing to do with the content.\n",
       "19     That's cause to my knowledge you can't downvot...\n",
       "20     You are right +1 . Meditating on immortality m...\n",
       "21     I find this sort of slightly gloating incredul...\n",
       "22     Reddit is a top 20 globally ranked site that d...\n",
       "23     > I am not judging the individuals that work a...\n",
       "24     Point taken, agreed, my choice of words was wa...\n",
       "25     #visits isn't what matters when judging compet...\n",
       "26     The site is literally down for me right now. S...\n",
       "27     It's hard to understand, as a programmer, how ...\n",
       "28     If nothing else, I think your conclusion that ...\n",
       "29     Yeah, you're right - that's an unfair characte...\n",
       "                             ...                        \n",
       "211    So what?  That demographic self-selects to be ...\n",
       "212       Allow me to send a request parameter “?stfu=Y”\n",
       "213    The sad part is that it's not better in the ap...\n",
       "214    You emailed me about this so I'll reply here:I...\n",
       "215    You do realize that reddit owns Notabug, Inc, ...\n",
       "216                    notabug.io isn't owned by Reddit.\n",
       "217    I'm aware of that, I'm just saying they own th...\n",
       "218                 They own Notabug Inc, not notabug.io\n",
       "219    The UI is based on some open source repo by Re...\n",
       "220      Yeah, it's based on the old open source reddit.\n",
       "221    I hate how comments pop-in out of order. It's ...\n",
       "222    I actually hate Reddit these days. I've never ...\n",
       "223    > What incentive do I have to sign up?Arguably...\n",
       "224    Yes we all know the logged in experience is te...\n",
       "225    Uh, you know you can make multiple accounts an...\n",
       "226    I'm specifically talking about Reddit mobile o...\n",
       "227    It's an intellectual freedom that has no prece...\n",
       "228    There are many amazing new possibilities broug...\n",
       "229    That is one usage pattern.The alternatives are...\n",
       "230    Don't work for them, but I've had a similar ex...\n",
       "231    Reddit.com/r/askhistorians+mycology+savagegard...\n",
       "232    old.reddit.com/r/askhistorians+mycology+savage...\n",
       "233    OFF-TOPIC question: how did you first time fin...\n",
       "234    I mean you can search?If it is a common word o...\n",
       "235    Signing up for an account is cool. But we are ...\n",
       "236    Fine, show it for the front page. What is the ...\n",
       "237     > I've never really been into their various c...\n",
       "238    As a long time reddit user I actually find the...\n",
       "239         At least you don't need an email to sign up.\n",
       "240    I somehow naturally managed to stay away from ...\n",
       "Length: 241, dtype: object"
      ]
     },
     "execution_count": 108,
     "metadata": {},
     "output_type": "execute_result"
    }
   ],
   "source": [
    "commtext_series=pd.Series([ x.text_content() for x in commtext])\n",
    "commtext_series"
   ]
  },
  {
   "cell_type": "code",
   "execution_count": 114,
   "metadata": {},
   "outputs": [
    {
     "data": {
      "text/plain": [
       "0      120\n",
       "1      348\n",
       "2      118\n",
       "3       37\n",
       "4       26\n",
       "5       91\n",
       "6       24\n",
       "7       42\n",
       "8       14\n",
       "9       40\n",
       "10      55\n",
       "11      49\n",
       "12       7\n",
       "13      24\n",
       "14      78\n",
       "15      25\n",
       "16      19\n",
       "17      36\n",
       "18       9\n",
       "19      31\n",
       "20      15\n",
       "21     111\n",
       "22     164\n",
       "23      89\n",
       "24      18\n",
       "25      35\n",
       "26      82\n",
       "27      47\n",
       "28     227\n",
       "29      51\n",
       "      ... \n",
       "211     28\n",
       "212      8\n",
       "213     17\n",
       "214     87\n",
       "215     11\n",
       "216      8\n",
       "217     29\n",
       "218      8\n",
       "219     12\n",
       "220     12\n",
       "221     13\n",
       "222    165\n",
       "223    107\n",
       "224    125\n",
       "225     31\n",
       "226     74\n",
       "227     79\n",
       "228     34\n",
       "229    111\n",
       "230    167\n",
       "231      8\n",
       "232      3\n",
       "233     10\n",
       "234     59\n",
       "235     17\n",
       "236     57\n",
       "237     22\n",
       "238     82\n",
       "239     12\n",
       "240     30\n",
       "Length: 241, dtype: int64"
      ]
     },
     "execution_count": 114,
     "metadata": {},
     "output_type": "execute_result"
    }
   ],
   "source": [
    "commtext_series.str.split(\"[,.'() ]\").apply(len)"
   ]
  },
  {
   "cell_type": "code",
   "execution_count": 125,
   "metadata": {},
   "outputs": [],
   "source": [
    "def length_commtext(i): # length of each comment in the i-th article\n",
    "    response = requests.get(subhrefs[i])\n",
    "    response.raise_for_status()\n",
    "    html4=lx.fromstring(response.text)\n",
    "    commtext=html4.xpath(\"//span[@class='commtext c00']\")\n",
    "    commtext_series=pd.Series([ x.text_content() for x in commtext])\n",
    "    return commtext_series.str.split(\"[,.'() ]\").apply(len)"
   ]
  },
  {
   "cell_type": "code",
   "execution_count": 126,
   "metadata": {},
   "outputs": [
    {
     "data": {
      "text/plain": [
       "0      175\n",
       "1      238\n",
       "2       36\n",
       "3      108\n",
       "4       17\n",
       "5       95\n",
       "6       11\n",
       "7       61\n",
       "8       33\n",
       "9       22\n",
       "10      71\n",
       "11      26\n",
       "12      40\n",
       "13      18\n",
       "14      41\n",
       "15      18\n",
       "16      19\n",
       "17      65\n",
       "18      56\n",
       "19      13\n",
       "20     219\n",
       "21     152\n",
       "22      22\n",
       "23     279\n",
       "24      31\n",
       "25      33\n",
       "26      53\n",
       "27      45\n",
       "28      69\n",
       "29      88\n",
       "      ... \n",
       "117     36\n",
       "118     37\n",
       "119     20\n",
       "120     68\n",
       "121     25\n",
       "122     43\n",
       "123     62\n",
       "124     11\n",
       "125     28\n",
       "126      5\n",
       "127     23\n",
       "128     17\n",
       "129     27\n",
       "130     16\n",
       "131      9\n",
       "132     21\n",
       "133     32\n",
       "134     23\n",
       "135     15\n",
       "136     20\n",
       "137     36\n",
       "138     54\n",
       "139    173\n",
       "140     55\n",
       "141     28\n",
       "142      8\n",
       "143     33\n",
       "144     30\n",
       "145     15\n",
       "146     98\n",
       "Length: 147, dtype: int64"
      ]
     },
     "execution_count": 126,
     "metadata": {},
     "output_type": "execute_result"
    }
   ],
   "source": [
    "length_commtext(1)#.describe()"
   ]
  },
  {
   "cell_type": "code",
   "execution_count": 132,
   "metadata": {},
   "outputs": [],
   "source": [
    "import matplotlib.pyplot as plt"
   ]
  },
  {
   "cell_type": "code",
   "execution_count": 189,
   "metadata": {},
   "outputs": [],
   "source": [
    "i=2"
   ]
  },
  {
   "cell_type": "code",
   "execution_count": 190,
   "metadata": {},
   "outputs": [
    {
     "data": {
      "image/png": "[encoded data removed]",
      "text/plain": [
       "<Figure size 432x288 with 1 Axes>"
      ]
     },
     "metadata": {
      "needs_background": "light"
     },
     "output_type": "display_data"
    }
   ],
   "source": [
    "length_commtext(i).plot.hist(grid=True, bins=20, rwidth=0.9,color='#607c8e')\n",
    "plt.title('distribution of the length of commtexts in Article{0}'.format(i))\n",
    "plt.xlabel('Counts')\n",
    "plt.ylabel('frequency')\n",
    "plt.grid(axis='y', alpha=0.75)"
   ]
  },
  {
   "cell_type": "code",
   "execution_count": null,
   "metadata": {},
   "outputs": [],
   "source": []
  },
  {
   "cell_type": "markdown",
   "metadata": {},
   "source": [
    "## Time and Date in Pandas"
   ]
  },
  {
   "cell_type": "code",
   "execution_count": 158,
   "metadata": {},
   "outputs": [
    {
     "data": {
      "text/plain": [
       "Timestamp('2015-07-04 00:00:00')"
      ]
     },
     "execution_count": 158,
     "metadata": {},
     "output_type": "execute_result"
    }
   ],
   "source": [
    "date = pd.to_datetime(\"4th of July, 2015\")\n",
    "date"
   ]
  },
  {
   "cell_type": "code",
   "execution_count": 160,
   "metadata": {},
   "outputs": [
    {
     "data": {
      "text/plain": [
       "'Saturday'"
      ]
     },
     "execution_count": 160,
     "metadata": {},
     "output_type": "execute_result"
    }
   ],
   "source": [
    "date.strftime('%A')"
   ]
  },
  {
   "cell_type": "code",
   "execution_count": 156,
   "metadata": {},
   "outputs": [
    {
     "data": {
      "text/plain": [
       "TimedeltaIndex([ '0 days',  '1 days',  '2 days',  '3 days',  '4 days',\n",
       "                 '5 days',  '6 days',  '7 days',  '8 days',  '9 days',\n",
       "                '10 days', '11 days'],\n",
       "               dtype='timedelta64[ns]', freq=None)"
      ]
     },
     "execution_count": 156,
     "metadata": {},
     "output_type": "execute_result"
    }
   ],
   "source": [
    "pd.to_timedelta(np.arange(12), 'D')"
   ]
  },
  {
   "cell_type": "code",
   "execution_count": 161,
   "metadata": {},
   "outputs": [
    {
     "data": {
      "text/plain": [
       "DatetimeIndex(['2015-07-04', '2015-07-05', '2015-07-06', '2015-07-07',\n",
       "               '2015-07-08', '2015-07-09', '2015-07-10', '2015-07-11',\n",
       "               '2015-07-12', '2015-07-13', '2015-07-14', '2015-07-15'],\n",
       "              dtype='datetime64[ns]', freq=None)"
      ]
     },
     "execution_count": 161,
     "metadata": {},
     "output_type": "execute_result"
    }
   ],
   "source": [
    "date + pd.to_timedelta(np.arange(12), 'D')"
   ]
  },
  {
   "cell_type": "code",
   "execution_count": 162,
   "metadata": {},
   "outputs": [
    {
     "data": {
      "text/plain": [
       "2014-07-04    0\n",
       "2014-08-04    1\n",
       "2015-07-04    2\n",
       "2015-08-04    3\n",
       "dtype: int64"
      ]
     },
     "execution_count": 162,
     "metadata": {},
     "output_type": "execute_result"
    }
   ],
   "source": [
    "index = pd.DatetimeIndex(['2014-07-04', '2014-08-04',\n",
    "                          '2015-07-04', '2015-08-04'])\n",
    "data = pd.Series([0, 1, 2, 3], index=index)\n",
    "data"
   ]
  },
  {
   "cell_type": "code",
   "execution_count": 163,
   "metadata": {},
   "outputs": [
    {
     "data": {
      "text/plain": [
       "2014-07-04    0\n",
       "2014-08-04    1\n",
       "2015-07-04    2\n",
       "dtype: int64"
      ]
     },
     "execution_count": 163,
     "metadata": {},
     "output_type": "execute_result"
    }
   ],
   "source": [
    "data['2014-07-04':'2015-07-04']"
   ]
  },
  {
   "cell_type": "code",
   "execution_count": 164,
   "metadata": {},
   "outputs": [
    {
     "data": {
      "text/plain": [
       "2015-07-04    2\n",
       "2015-08-04    3\n",
       "dtype: int64"
      ]
     },
     "execution_count": 164,
     "metadata": {},
     "output_type": "execute_result"
    }
   ],
   "source": [
    "data['2015']"
   ]
  },
  {
   "cell_type": "code",
   "execution_count": 168,
   "metadata": {},
   "outputs": [
    {
     "data": {
      "text/plain": [
       "DatetimeIndex(['2015-07-01', '2015-07-04', '2015-07-06', '2015-07-07',\n",
       "               '2015-07-08'],\n",
       "              dtype='datetime64[ns]', freq=None)"
      ]
     },
     "execution_count": 168,
     "metadata": {},
     "output_type": "execute_result"
    }
   ],
   "source": [
    "Date=pd.to_datetime(['July 1st 2015', '4th of July, 2015',\n",
    "                       '2015-Jul-6', '07-07-2015', '20150708'])\n",
    "Date"
   ]
  },
  {
   "cell_type": "code",
   "execution_count": 169,
   "metadata": {},
   "outputs": [
    {
     "data": {
      "text/plain": [
       "TimedeltaIndex(['0 days', '3 days', '5 days', '6 days', '7 days'], dtype='timedelta64[ns]', freq=None)"
      ]
     },
     "execution_count": 169,
     "metadata": {},
     "output_type": "execute_result"
    }
   ],
   "source": [
    "Date-Date[0]"
   ]
  },
  {
   "cell_type": "code",
   "execution_count": 170,
   "metadata": {},
   "outputs": [
    {
     "data": {
      "text/plain": [
       "DatetimeIndex(['2015-07-03', '2015-07-04', '2015-07-05', '2015-07-06',\n",
       "               '2015-07-07', '2015-07-08', '2015-07-09', '2015-07-10'],\n",
       "              dtype='datetime64[ns]', freq='D')"
      ]
     },
     "execution_count": 170,
     "metadata": {},
     "output_type": "execute_result"
    }
   ],
   "source": [
    "pd.date_range('2015-07-03', '2015-07-10')"
   ]
  },
  {
   "cell_type": "code",
   "execution_count": 171,
   "metadata": {},
   "outputs": [
    {
     "data": {
      "text/plain": [
       "DatetimeIndex(['2015-07-03', '2015-07-04', '2015-07-05', '2015-07-06',\n",
       "               '2015-07-07', '2015-07-08', '2015-07-09', '2015-07-10'],\n",
       "              dtype='datetime64[ns]', freq='D')"
      ]
     },
     "execution_count": 171,
     "metadata": {},
     "output_type": "execute_result"
    }
   ],
   "source": [
    "pd.date_range('2015-07-03', periods=8)"
   ]
  },
  {
   "cell_type": "code",
   "execution_count": 172,
   "metadata": {},
   "outputs": [
    {
     "data": {
      "text/plain": [
       "DatetimeIndex(['2015-07-03 00:00:00', '2015-07-03 01:00:00',\n",
       "               '2015-07-03 02:00:00', '2015-07-03 03:00:00',\n",
       "               '2015-07-03 04:00:00', '2015-07-03 05:00:00',\n",
       "               '2015-07-03 06:00:00', '2015-07-03 07:00:00'],\n",
       "              dtype='datetime64[ns]', freq='H')"
      ]
     },
     "execution_count": 172,
     "metadata": {},
     "output_type": "execute_result"
    }
   ],
   "source": [
    "pd.date_range('2015-07-03', periods=8, freq='H')   # a range of hourly timestamps"
   ]
  },
  {
   "cell_type": "code",
   "execution_count": 173,
   "metadata": {},
   "outputs": [
    {
     "data": {
      "text/plain": [
       "TimedeltaIndex(['00:00:00', '01:00:00', '02:00:00', '03:00:00', '04:00:00',\n",
       "                '05:00:00', '06:00:00', '07:00:00', '08:00:00', '09:00:00'],\n",
       "               dtype='timedelta64[ns]', freq='H')"
      ]
     },
     "execution_count": 173,
     "metadata": {},
     "output_type": "execute_result"
    }
   ],
   "source": [
    "pd.timedelta_range(0, periods=10, freq='H')"
   ]
  },
  {
   "cell_type": "code",
   "execution_count": 174,
   "metadata": {},
   "outputs": [
    {
     "data": {
      "text/plain": [
       "TimedeltaIndex(['00:00:00', '02:30:00', '05:00:00', '07:30:00', '10:00:00',\n",
       "                '12:30:00', '15:00:00', '17:30:00', '20:00:00'],\n",
       "               dtype='timedelta64[ns]', freq='150T')"
      ]
     },
     "execution_count": 174,
     "metadata": {},
     "output_type": "execute_result"
    }
   ],
   "source": [
    "pd.timedelta_range(0, periods=9, freq=\"2H30T\")"
   ]
  },
  {
   "cell_type": "code",
   "execution_count": null,
   "metadata": {},
   "outputs": [],
   "source": []
  }
 ],
 "metadata": {
  "kernelspec": {
   "display_name": "Python 3",
   "language": "python",
   "name": "python3"
  },
  "language_info": {
   "codemirror_mode": {
    "name": "ipython",
    "version": 3
   },
   "file_extension": ".py",
   "mimetype": "text/x-python",
   "name": "python",
   "nbconvert_exporter": "python",
   "pygments_lexer": "ipython3",
   "version": "3.6.6"
  }
 },
 "nbformat": 4,
 "nbformat_minor": 2
}
